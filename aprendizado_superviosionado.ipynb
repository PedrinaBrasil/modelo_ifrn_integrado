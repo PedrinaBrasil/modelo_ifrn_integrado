{
 "cells": [
  {
   "cell_type": "code",
   "execution_count": 97,
   "metadata": {
    "collapsed": true
   },
   "outputs": [],
   "source": [
    "#import os pacotes utilizados\n",
    "import numpy as np\n",
    "import pandas as pd\n",
    "from sklearn.tree import DecisionTreeClassifier\n",
    "from sklearn.ensemble import RandomForestClassifier\n",
    "\n",
    "#exibindo todas as colunas\n",
    "pd.set_option('display.max_columns', None)"
   ]
  },
  {
   "cell_type": "code",
   "execution_count": 98,
   "metadata": {},
   "outputs": [
    {
     "name": "stdout",
     "output_type": "stream",
     "text": [
      "6395\n",
      "(6395, 34)\n"
     ]
    },
    {
     "data": {
      "text/html": [
       "<div>\n",
       "<style>\n",
       "    .dataframe thead tr:only-child th {\n",
       "        text-align: right;\n",
       "    }\n",
       "\n",
       "    .dataframe thead th {\n",
       "        text-align: left;\n",
       "    }\n",
       "\n",
       "    .dataframe tbody tr th {\n",
       "        vertical-align: top;\n",
       "    }\n",
       "</style>\n",
       "<table border=\"1\" class=\"dataframe\">\n",
       "  <thead>\n",
       "    <tr style=\"text-align: right;\">\n",
       "      <th></th>\n",
       "      <th>LnguaPortuguesaeLiteraturaI90H</th>\n",
       "      <th>LnguaPortuguesaeLiteraturaII90H</th>\n",
       "      <th>MatemticaI120H</th>\n",
       "      <th>MatemticaII90H</th>\n",
       "      <th>ano_letivo__ano</th>\n",
       "      <th>ano_letivo__ano_matricula_periodo</th>\n",
       "      <th>cep</th>\n",
       "      <th>classe</th>\n",
       "      <th>data</th>\n",
       "      <th>descricao</th>\n",
       "      <th>descricao_area_residencial</th>\n",
       "      <th>descricao_companhia_domiciliar</th>\n",
       "      <th>descricao_encaminhamento</th>\n",
       "      <th>descricao_historico</th>\n",
       "      <th>descricao_historico_disciplina</th>\n",
       "      <th>descricao_imovel</th>\n",
       "      <th>descricao_mae_escolaridade</th>\n",
       "      <th>descricao_pai_escolaridade</th>\n",
       "      <th>descricao_raca</th>\n",
       "      <th>descricao_responsavel_escolaridade</th>\n",
       "      <th>descricao_responsavel_financeiro</th>\n",
       "      <th>descricao_situacao_matricula_periodo</th>\n",
       "      <th>descricao_trabalho_responsavel</th>\n",
       "      <th>id</th>\n",
       "      <th>media_final</th>\n",
       "      <th>nome_escola_ensino_fundamental</th>\n",
       "      <th>percentual_frequencia</th>\n",
       "      <th>pessoa_fisica__nascimento_data</th>\n",
       "      <th>pessoa_fisica__sexo</th>\n",
       "      <th>professores</th>\n",
       "      <th>qnt_pc</th>\n",
       "      <th>qtd_pessoas_domicilio</th>\n",
       "      <th>renda_bruta_familiar</th>\n",
       "      <th>sigla</th>\n",
       "    </tr>\n",
       "  </thead>\n",
       "  <tbody>\n",
       "    <tr>\n",
       "      <th>0</th>\n",
       "      <td>86</td>\n",
       "      <td>-1</td>\n",
       "      <td>87</td>\n",
       "      <td>-1</td>\n",
       "      <td>2016</td>\n",
       "      <td>2016</td>\n",
       "      <td>59067-400</td>\n",
       "      <td>1</td>\n",
       "      <td>05/05/2017</td>\n",
       "      <td>Matriculado</td>\n",
       "      <td>Urbana</td>\n",
       "      <td>Pais</td>\n",
       "      <td>Diálogo com professor(a)</td>\n",
       "      <td>Técnico de Nível Médio em Edificações</td>\n",
       "      <td>Língua Portuguesa e Literatura I(90H)</td>\n",
       "      <td>Financiado</td>\n",
       "      <td>Pós graduação incompleto</td>\n",
       "      <td>Pós graduação completo</td>\n",
       "      <td>Parda</td>\n",
       "      <td>Pós graduação completo</td>\n",
       "      <td>Pai</td>\n",
       "      <td>Aprovado</td>\n",
       "      <td>Serviço público</td>\n",
       "      <td>496915657473</td>\n",
       "      <td>86</td>\n",
       "      <td>Complexo Educacional Contemporâneo</td>\n",
       "      <td>85.0</td>\n",
       "      <td>06/12/2001</td>\n",
       "      <td>M</td>\n",
       "      <td>[1521]</td>\n",
       "      <td>NaN</td>\n",
       "      <td>4</td>\n",
       "      <td>9000.0</td>\n",
       "      <td>CNAT</td>\n",
       "    </tr>\n",
       "    <tr>\n",
       "      <th>100002</th>\n",
       "      <td>69</td>\n",
       "      <td>-1</td>\n",
       "      <td>5</td>\n",
       "      <td>-1</td>\n",
       "      <td>2015</td>\n",
       "      <td>2016</td>\n",
       "      <td>59795-000</td>\n",
       "      <td>1</td>\n",
       "      <td>None</td>\n",
       "      <td>Matriculado</td>\n",
       "      <td>Urbana</td>\n",
       "      <td>Mãe</td>\n",
       "      <td>None</td>\n",
       "      <td>Técnico de Nivel Médio em Agropecuária, na For...</td>\n",
       "      <td>Língua Portuguesa e Literatura I(90H)</td>\n",
       "      <td>Alugado</td>\n",
       "      <td>Ensino fundamental incompleto</td>\n",
       "      <td>Ensino médio completo</td>\n",
       "      <td>Branca</td>\n",
       "      <td>Ensino médio completo</td>\n",
       "      <td>Pai</td>\n",
       "      <td>Dependência</td>\n",
       "      <td>Autônomo</td>\n",
       "      <td>458905053917</td>\n",
       "      <td>69</td>\n",
       "      <td>Escola Estadual António Francisco</td>\n",
       "      <td>92.0</td>\n",
       "      <td>16/12/1999</td>\n",
       "      <td>M</td>\n",
       "      <td>[2688, 3538, 1222]</td>\n",
       "      <td>0.0</td>\n",
       "      <td>3</td>\n",
       "      <td>500.0</td>\n",
       "      <td>AP</td>\n",
       "    </tr>\n",
       "    <tr>\n",
       "      <th>100021</th>\n",
       "      <td>83</td>\n",
       "      <td>-1</td>\n",
       "      <td>77</td>\n",
       "      <td>-1</td>\n",
       "      <td>2016</td>\n",
       "      <td>2016</td>\n",
       "      <td>59200-000</td>\n",
       "      <td>1</td>\n",
       "      <td>None</td>\n",
       "      <td>Matriculado</td>\n",
       "      <td>Urbana</td>\n",
       "      <td>Pais</td>\n",
       "      <td>None</td>\n",
       "      <td>Técnico de Nivel Médio Informática</td>\n",
       "      <td>Língua Portuguesa e Literatura I(90H)</td>\n",
       "      <td>Alugado</td>\n",
       "      <td>Ensino médio completo</td>\n",
       "      <td>Ensino médio incompleto</td>\n",
       "      <td>Branca</td>\n",
       "      <td>Ensino médio completo</td>\n",
       "      <td>Pai</td>\n",
       "      <td>Aprovado</td>\n",
       "      <td>Autônomo</td>\n",
       "      <td>496533683389</td>\n",
       "      <td>83</td>\n",
       "      <td>IESC</td>\n",
       "      <td>99.0</td>\n",
       "      <td>01/06/2000</td>\n",
       "      <td>F</td>\n",
       "      <td>[1592, 3388]</td>\n",
       "      <td>0.0</td>\n",
       "      <td>7</td>\n",
       "      <td>2500.0</td>\n",
       "      <td>SC</td>\n",
       "    </tr>\n",
       "  </tbody>\n",
       "</table>\n",
       "</div>"
      ],
      "text/plain": [
       "        LnguaPortuguesaeLiteraturaI90H  LnguaPortuguesaeLiteraturaII90H  \\\n",
       "0                                   86                               -1   \n",
       "100002                              69                               -1   \n",
       "100021                              83                               -1   \n",
       "\n",
       "        MatemticaI120H  MatemticaII90H  ano_letivo__ano  \\\n",
       "0                   87              -1             2016   \n",
       "100002               5              -1             2015   \n",
       "100021              77              -1             2016   \n",
       "\n",
       "        ano_letivo__ano_matricula_periodo        cep  classe        data  \\\n",
       "0                                    2016  59067-400       1  05/05/2017   \n",
       "100002                               2016  59795-000       1        None   \n",
       "100021                               2016  59200-000       1        None   \n",
       "\n",
       "          descricao descricao_area_residencial descricao_companhia_domiciliar  \\\n",
       "0       Matriculado                     Urbana                           Pais   \n",
       "100002  Matriculado                     Urbana                            Mãe   \n",
       "100021  Matriculado                     Urbana                           Pais   \n",
       "\n",
       "        descricao_encaminhamento  \\\n",
       "0       Diálogo com professor(a)   \n",
       "100002                      None   \n",
       "100021                      None   \n",
       "\n",
       "                                      descricao_historico  \\\n",
       "0                   Técnico de Nível Médio em Edificações   \n",
       "100002  Técnico de Nivel Médio em Agropecuária, na For...   \n",
       "100021                 Técnico de Nivel Médio Informática   \n",
       "\n",
       "               descricao_historico_disciplina descricao_imovel  \\\n",
       "0       Língua Portuguesa e Literatura I(90H)       Financiado   \n",
       "100002  Língua Portuguesa e Literatura I(90H)          Alugado   \n",
       "100021  Língua Portuguesa e Literatura I(90H)          Alugado   \n",
       "\n",
       "           descricao_mae_escolaridade descricao_pai_escolaridade  \\\n",
       "0            Pós graduação incompleto     Pós graduação completo   \n",
       "100002  Ensino fundamental incompleto      Ensino médio completo   \n",
       "100021          Ensino médio completo    Ensino médio incompleto   \n",
       "\n",
       "       descricao_raca descricao_responsavel_escolaridade  \\\n",
       "0               Parda             Pós graduação completo   \n",
       "100002         Branca              Ensino médio completo   \n",
       "100021         Branca              Ensino médio completo   \n",
       "\n",
       "       descricao_responsavel_financeiro descricao_situacao_matricula_periodo  \\\n",
       "0                                   Pai                             Aprovado   \n",
       "100002                              Pai                          Dependência   \n",
       "100021                              Pai                             Aprovado   \n",
       "\n",
       "       descricao_trabalho_responsavel            id  media_final  \\\n",
       "0                     Serviço público  496915657473           86   \n",
       "100002                       Autônomo  458905053917           69   \n",
       "100021                       Autônomo  496533683389           83   \n",
       "\n",
       "            nome_escola_ensino_fundamental  percentual_frequencia  \\\n",
       "0       Complexo Educacional Contemporâneo                   85.0   \n",
       "100002   Escola Estadual António Francisco                   92.0   \n",
       "100021                                IESC                   99.0   \n",
       "\n",
       "       pessoa_fisica__nascimento_data pessoa_fisica__sexo         professores  \\\n",
       "0                          06/12/2001                   M              [1521]   \n",
       "100002                     16/12/1999                   M  [2688, 3538, 1222]   \n",
       "100021                     01/06/2000                   F        [1592, 3388]   \n",
       "\n",
       "        qnt_pc  qtd_pessoas_domicilio  renda_bruta_familiar sigla  \n",
       "0          NaN                      4                9000.0  CNAT  \n",
       "100002     0.0                      3                 500.0    AP  \n",
       "100021     0.0                      7                2500.0    SC  "
      ]
     },
     "execution_count": 98,
     "metadata": {},
     "output_type": "execute_result"
    }
   ],
   "source": [
    "#importando base já tratada\n",
    "dados = pd.read_json('dados_notas_col.json')\n",
    "print(dados.id.nunique())\n",
    "print(dados.shape)\n",
    "dados.head(3)"
   ]
  },
  {
   "cell_type": "code",
   "execution_count": 99,
   "metadata": {
    "collapsed": true
   },
   "outputs": [],
   "source": [
    "#removendo colunas que explodem a quantidade de atributos quando binarizados\n",
    "del dados['descricao_historico_disciplina']\n",
    "del dados['professores']\n",
    "del dados['id']\n",
    "del dados['media_final']\n",
    "del dados['percentual_frequencia']\n",
    "del dados['nome_escola_ensino_fundamental']\n",
    "del dados['qnt_pc']\n",
    "\n",
    "#tentar colocar novamente\n",
    "del dados['cep']\n",
    "del dados['data']\n",
    "del dados['pessoa_fisica__nascimento_data']\n",
    "\n",
    "#descricao_encaminhamento colocar booleano\n",
    " \n",
    "#dados que fazem a indicação se o aluno foi evadido ou não\n",
    "del dados['descricao']\n",
    "del dados['descricao_situacao_matricula_periodo']"
   ]
  },
  {
   "cell_type": "code",
   "execution_count": 100,
   "metadata": {},
   "outputs": [
    {
     "data": {
      "text/plain": [
       "(6395, 21)"
      ]
     },
     "execution_count": 100,
     "metadata": {},
     "output_type": "execute_result"
    }
   ],
   "source": [
    "#configura os dados de entrada e saída\n",
    "y = dados.classe\n",
    "X = dados\n",
    "\n",
    "del X['classe']\n",
    "X.shape"
   ]
  },
  {
   "cell_type": "code",
   "execution_count": 101,
   "metadata": {},
   "outputs": [
    {
     "data": {
      "text/plain": [
       "<matplotlib.axes._subplots.AxesSubplot at 0x7fbe766e3128>"
      ]
     },
     "execution_count": 101,
     "metadata": {},
     "output_type": "execute_result"
    },
    {
     "name": "stderr",
     "output_type": "stream",
     "text": [
      "/home/ubuntu/anaconda3/lib/python3.6/site-packages/matplotlib/font_manager.py:1297: UserWarning: findfont: Font family ['sans-serif'] not found. Falling back to DejaVu Sans\n",
      "  (prop.get_family(), self.defaultFamily[fontext]))\n"
     ]
    },
    {
     "data": {
      "image/png": "[encoded data removed]",
      "text/plain": [
       "<matplotlib.figure.Figure at 0x7fbe7c281ef0>"
      ]
     },
     "metadata": {},
     "output_type": "display_data"
    }
   ],
   "source": [
    "#visualizacao de dados\n",
    "y.plot.hist()"
   ]
  },
  {
   "cell_type": "code",
   "execution_count": 102,
   "metadata": {},
   "outputs": [
    {
     "data": {
      "text/plain": [
       "(6395, 161)"
      ]
     },
     "execution_count": 102,
     "metadata": {},
     "output_type": "execute_result"
    }
   ],
   "source": [
    "#binazira os dados devido aos atributos categoricos \n",
    "dados_dummies = pd.get_dummies(X, drop_first=False)\n",
    "dados_dummies.shape"
   ]
  },
  {
   "cell_type": "code",
   "execution_count": 103,
   "metadata": {},
   "outputs": [],
   "source": [
    "#remove atributos inconistentes\n",
    "#dados_clean = dados_dummies.replace([np.inf, -np.inf], np.nan)\n",
    "#dados_clean = dados_clean.dropna(axis=1, how='all')\n",
    "#dados_clean.info()"
   ]
  },
  {
   "cell_type": "code",
   "execution_count": 88,
   "metadata": {
    "collapsed": true
   },
   "outputs": [],
   "source": [
    "#ESCALONAMENTO DE DADOS\n",
    "from sklearn.preprocessing import StandardScaler\n",
    "from sklearn.preprocessing import MinMaxScaler\n",
    "from sklearn.preprocessing import MaxAbsScaler\n",
    "from sklearn.preprocessing import RobustScaler\n",
    "\n",
    "#nao houve diferenças visivelmente\n",
    "\n",
    "#dados_clean = StandardScaler().fit_transform(dados_clean) \n",
    "#dados_clean = MinMaxScaler().fit_transform(dados_clean) \n",
    "#dados_clean = RobustScaler(quantile_range=(25, 75)).fit_transform(dados_clean) "
   ]
  },
  {
   "cell_type": "code",
   "execution_count": 114,
   "metadata": {},
   "outputs": [
    {
     "name": "stdout",
     "output_type": "stream",
     "text": [
      "{'max_features': 'sqrt', 'n_estimators': 700}\n",
      "RandomForestClassifier(bootstrap=True, class_weight=None, criterion='gini',\n",
      "            max_depth=None, max_features='sqrt', max_leaf_nodes=None,\n",
      "            min_impurity_split=1e-07, min_samples_leaf=1,\n",
      "            min_samples_split=2, min_weight_fraction_leaf=0.0,\n",
      "            n_estimators=700, n_jobs=-1, oob_score=True, random_state=None,\n",
      "            verbose=0, warm_start=False)\n"
     ]
    }
   ],
   "source": [
    "#SELECIONANDO MELHOR MODEL RF\n",
    "from sklearn.model_selection import GridSearchCV\n",
    "from sklearn.datasets import make_classification\n",
    "\n",
    "\"\"\"\n",
    "param_grid = [    {'n_estimators': [3, 10, 30], 'max_features': [2, 4, 6, 8]},    \n",
    "                  {'bootstrap': [False], 'n_estimators': [3, 10], 'max_features': [2, 3, 4]},  ]\n",
    "\n",
    "forest_reg = RandomForestClassifier()\n",
    "\n",
    "grid_search = GridSearchCV(forest_reg, param_grid, cv=5,                           \n",
    "                           scoring='neg_mean_squared_error')\n",
    "\"\"\"\n",
    "\n",
    "forest_reg = RandomForestClassifier(n_jobs=-1, max_features='sqrt' , n_estimators=50, oob_score=True) \n",
    "param_grid = { \n",
    "    'n_estimators': [200, 700],\n",
    "    'max_features': ['auto', 'sqrt', 'log2']\n",
    "}\n",
    "\n",
    "Xtrain, Xtest, ytrain, ytest = train_test_split(dados_clean, y, random_state=0)\n",
    "\n",
    "grid_search = GridSearchCV(estimator=forest_reg, param_grid=param_grid, cv = 5)\n",
    "grid_search.fit(Xtrain, ytrain)\n",
    "print(grid_search.best_params_)\n",
    "print(grid_search.best_estimator_)"
   ]
  },
  {
   "cell_type": "code",
   "execution_count": 115,
   "metadata": {},
   "outputs": [
    {
     "name": "stdout",
     "output_type": "stream",
     "text": [
      "nan {'max_features': 'auto', 'n_estimators': 200}\n",
      "nan {'max_features': 'auto', 'n_estimators': 700}\n",
      "nan {'max_features': 'sqrt', 'n_estimators': 200}\n",
      "nan {'max_features': 'sqrt', 'n_estimators': 700}\n",
      "nan {'max_features': 'log2', 'n_estimators': 200}\n",
      "nan {'max_features': 'log2', 'n_estimators': 700}\n"
     ]
    },
    {
     "name": "stderr",
     "output_type": "stream",
     "text": [
      "/home/ubuntu/anaconda3/lib/python3.6/site-packages/ipykernel_launcher.py:3: RuntimeWarning: invalid value encountered in sqrt\n",
      "  This is separate from the ipykernel package so we can avoid doing imports until\n"
     ]
    }
   ],
   "source": [
    "cvres = grid_search.cv_results_ \n",
    "for mean_score, params in zip(cvres[\"mean_test_score\"], cvres[\"params\"]): \n",
    "    print(np.sqrt(-mean_score), params) "
   ]
  },
  {
   "cell_type": "code",
   "execution_count": 116,
   "metadata": {},
   "outputs": [],
   "source": [
    "#RANDOM FOREST\n",
    "\"\"\"\n",
    "from sklearn.cross_validation import train_test_split\n",
    "\n",
    "#cria e treina o modelo\n",
    "Xtrain, Xtest, ytrain, ytest = train_test_split(dados_clean, y, random_state=0)\n",
    "model = RandomForestClassifier(n_estimators=30, random_state=42)\n",
    "model.fit(Xtrain, ytrain)\n",
    "ypred = model.predict(Xtest)\n",
    "\"\"\"\n",
    "\n",
    "model = grid_search.best_estimator_\n",
    "ypred = model.predict(Xtest)"
   ]
  },
  {
   "cell_type": "code",
   "execution_count": 117,
   "metadata": {},
   "outputs": [
    {
     "name": "stdout",
     "output_type": "stream",
     "text": [
      "0.942009440324\n",
      "0.981728742094\n",
      "0.942009440324\n",
      "0.981728742094\n",
      "0.961459050241\n"
     ]
    },
    {
     "name": "stderr",
     "output_type": "stream",
     "text": [
      "/home/ubuntu/anaconda3/lib/python3.6/site-packages/matplotlib/font_manager.py:1297: UserWarning: findfont: Font family ['sans-serif'] not found. Falling back to DejaVu Sans\n",
      "  (prop.get_family(), self.defaultFamily[fontext]))\n"
     ]
    },
    {
     "data": {
      "image/png": "[encoded data removed]",
      "text/plain": [
       "<matplotlib.figure.Figure at 0x7fbe76bd0e80>"
      ]
     },
     "metadata": {},
     "output_type": "display_data"
    }
   ],
   "source": [
    "#Evaluating\n",
    "import seaborn as sns; sns.set()\n",
    "import matplotlib.pyplot as plt\n",
    "%matplotlib inline\n",
    "\n",
    "from sklearn.metrics import confusion_matrix\n",
    "from sklearn.metrics import precision_score, recall_score \n",
    "from sklearn.metrics import precision_score, recall_score \n",
    "from sklearn.metrics import f1_score\n",
    "\n",
    "mat = confusion_matrix(ytest, ypred)\n",
    "sns.heatmap(mat.T, square=True, annot=True, fmt='d', cbar=False)\n",
    "plt.xlabel('true label')\n",
    "plt.ylabel('predicted label');\n",
    "\n",
    "#evaluating\n",
    "print(precision_score(ytest, ypred))\n",
    "print(recall_score(ytest, ypred))\n",
    "\n",
    "#evaluating\n",
    "print(precision_score(ytest, ypred))\n",
    "print(recall_score(ytest, ypred))\n",
    "print(f1_score(ytest, ypred))"
   ]
  },
  {
   "cell_type": "code",
   "execution_count": 118,
   "metadata": {},
   "outputs": [
    {
     "name": "stderr",
     "output_type": "stream",
     "text": [
      "/home/ubuntu/anaconda3/lib/python3.6/site-packages/matplotlib/font_manager.py:1297: UserWarning: findfont: Font family ['sans-serif'] not found. Falling back to DejaVu Sans\n",
      "  (prop.get_family(), self.defaultFamily[fontext]))\n"
     ]
    },
    {
     "data": {
      "image/png": "[encoded data removed]",
      "text/plain": [
       "<matplotlib.figure.Figure at 0x7fbe7c0f8208>"
      ]
     },
     "metadata": {},
     "output_type": "display_data"
    },
    {
     "name": "stdout",
     "output_type": "stream",
     "text": [
      "0.905625119785\n"
     ]
    }
   ],
   "source": [
    "#CURVA ROC\n",
    "%matplotlib inline\n",
    "from sklearn.metrics import roc_curve\n",
    "from sklearn.model_selection import cross_val_predict \n",
    "from sklearn.metrics import roc_auc_score\n",
    "\n",
    "y_probas_forest = cross_val_predict(model, Xtest, ytest, cv=3, method=\"predict_proba\") \n",
    "\n",
    "y_scores_forest = y_probas_forest[:, 1]   # score = proba of positive class \n",
    "fpr_forest, tpr_forest, thresholds_forest = roc_curve(ytest, y_scores_forest)\n",
    "\n",
    "def plot_roc_curve(fpr, tpr, label=None):    \n",
    "    plt.plot(fpr, tpr, linewidth=2, label=label)    \n",
    "    plt.plot([0, 1], [0, 1], 'k--')    \n",
    "    plt.axis([0, 1, 0, 1])   \n",
    "    plt.xlabel('False Positive Rate')    \n",
    "    plt.ylabel('True Positive Rate')\n",
    "\n",
    "plot_roc_curve(fpr_forest, tpr_forest) \n",
    "plt.show()\n",
    "print(roc_auc_score(ytest, y_scores_forest))"
   ]
  },
  {
   "cell_type": "code",
   "execution_count": 113,
   "metadata": {},
   "outputs": [
    {
     "name": "stdout",
     "output_type": "stream",
     "text": [
      "Feature ranking:\n",
      "1. feature 0 [LnguaPortuguesaeLiteraturaI90H] (0.171925)\n",
      "2. feature 2 [MatemticaI120H] (0.106393)\n",
      "3. feature 3 [MatemticaII90H] (0.051717)\n",
      "4. feature 7 [renda_bruta_familiar] (0.044407)\n",
      "5. feature 1 [LnguaPortuguesaeLiteraturaII90H] (0.039600)\n",
      "6. feature 4 [ano_letivo__ano] (0.027342)\n",
      "7. feature 6 [qtd_pessoas_domicilio] (0.026541)\n",
      "8. feature 5 [ano_letivo__ano_matricula_periodo] (0.026452)\n",
      "9. feature 10 [descricao_area_residencial_Não informado] (0.015297)\n",
      "10. feature 12 [descricao_area_residencial_Urbana] (0.011191)\n",
      "11. feature 101 [descricao_raca_Branca] (0.011050)\n",
      "12. feature 151 [sigla_MC] (0.010286)\n",
      "13. feature 124 [descricao_responsavel_financeiro_Pai] (0.009979)\n",
      "14. feature 104 [descricao_raca_Parda] (0.009900)\n",
      "15. feature 140 [pessoa_fisica__sexo_M] (0.009766)\n",
      "16. feature 18 [descricao_companhia_domiciliar_Pais] (0.009739)\n",
      "17. feature 139 [pessoa_fisica__sexo_F] (0.009626)\n",
      "18. feature 41 [descricao_historico_Técnico de Nivel Médio em Informática] (0.009290)\n",
      "19. feature 120 [descricao_responsavel_financeiro_Mãe] (0.008651)\n",
      "20. feature 130 [descricao_trabalho_responsavel_Empresa privada] (0.008460)\n",
      "21. feature 77 [descricao_imovel_Próprio] (0.008252)\n",
      "22. feature 80 [descricao_mae_escolaridade_Ensino fundamental incompleto] (0.008198)\n",
      "23. feature 91 [descricao_pai_escolaridade_Ensino fundamental incompleto] (0.008029)\n",
      "24. feature 128 [descricao_trabalho_responsavel_Autônomo] (0.007506)\n",
      "25. feature 92 [descricao_pai_escolaridade_Ensino médio completo] (0.007484)\n",
      "26. feature 136 [descricao_trabalho_responsavel_Serviço público] (0.007468)\n",
      "27. feature 81 [descricao_mae_escolaridade_Ensino médio completo] (0.007441)\n",
      "28. feature 14 [descricao_companhia_domiciliar_Mãe] (0.007327)\n",
      "29. feature 11 [descricao_area_residencial_Rural] (0.006505)\n",
      "30. feature 70 [descricao_historico_Técnico em Programação de Jogos Digitais] (0.006351)\n",
      "31. feature 71 [descricao_imovel_Alugado] (0.006335)\n",
      "32. feature 108 [descricao_responsavel_escolaridade_Ensino fundamental incompleto] (0.006202)\n",
      "33. feature 24 [descricao_encaminhamento_Diálogo com o(s) aluno(s)] (0.005921)\n",
      "34. feature 147 [sigla_CNAT] (0.005703)\n",
      "35. feature 134 [descricao_trabalho_responsavel_Não informado] (0.005427)\n",
      "36. feature 127 [descricao_trabalho_responsavel_Aposentado] (0.005405)\n",
      "37. feature 19 [descricao_companhia_domiciliar_Parente(s) ou amigo(s)] (0.005386)\n",
      "38. feature 66 [descricao_historico_Técnico de Nível Médio em Recursos Pesqueiros] (0.005294)\n",
      "39. feature 109 [descricao_responsavel_escolaridade_Ensino médio completo] (0.005190)\n",
      "40. feature 133 [descricao_trabalho_responsavel_Não está trabalhando] (0.005158)\n",
      "41. feature 87 [descricao_mae_escolaridade_Pós graduação completo] (0.005131)\n",
      "42. feature 145 [sigla_CM] (0.005111)\n",
      "43. feature 93 [descricao_pai_escolaridade_Ensino médio incompleto] (0.005049)\n",
      "44. feature 105 [descricao_raca_Preta] (0.004901)\n",
      "45. feature 82 [descricao_mae_escolaridade_Ensino médio incompleto] (0.004810)\n",
      "46. feature 149 [sigla_JC] (0.004750)\n",
      "47. feature 54 [descricao_historico_Técnico de Nível Médio em Informática] (0.004728)\n",
      "48. feature 159 [sigla_SPP] (0.004599)\n",
      "49. feature 37 [descricao_historico_Técnico de Nivel Médio Informática] (0.004472)\n",
      "50. feature 83 [descricao_mae_escolaridade_Ensino superior completo] (0.004470)\n",
      "51. feature 94 [descricao_pai_escolaridade_Ensino superior completo] (0.004454)\n",
      "52. feature 111 [descricao_responsavel_escolaridade_Ensino superior completo] (0.004320)\n",
      "53. feature 157 [sigla_SC] (0.004242)\n",
      "54. feature 90 [descricao_pai_escolaridade_Ensino fundamental completo] (0.004191)\n",
      "55. feature 138 [descricao_trabalho_responsavel_Trabalhador rural/Agricultor] (0.004181)\n",
      "56. feature 110 [descricao_responsavel_escolaridade_Ensino médio incompleto] (0.004157)\n",
      "57. feature 48 [descricao_historico_Técnico de Nível Médio em Edificações] (0.004026)\n",
      "58. feature 42 [descricao_historico_Técnico de Nível Médio em Administração] (0.004016)\n",
      "59. feature 153 [sigla_NC] (0.003937)\n",
      "60. feature 84 [descricao_mae_escolaridade_Ensino superior incompleto] (0.003808)\n",
      "61. feature 22 [descricao_encaminhamento_Contato telefônico com os pais ou responsáveis] (0.003795)\n",
      "62. feature 97 [descricao_pai_escolaridade_Não estudou] (0.003769)\n",
      "63. feature 115 [descricao_responsavel_escolaridade_Pós graduação completo] (0.003768)\n",
      "64. feature 160 [sigla_ZN] (0.003483)\n",
      "65. feature 142 [sigla_CA] (0.003439)\n",
      "66. feature 13 [descricao_companhia_domiciliar_Cônjuge] (0.003411)\n",
      "67. feature 106 [descricao_responsavel_escolaridade_Alfabetizado] (0.003306)\n",
      "68. feature 96 [descricao_pai_escolaridade_Não conhece] (0.003139)\n",
      "69. feature 50 [descricao_historico_Técnico de Nível Médio em Eletrotécnica] (0.003101)\n",
      "70. feature 79 [descricao_mae_escolaridade_Ensino fundamental completo] (0.003019)\n",
      "71. feature 154 [sigla_PAAS] (0.002986)\n",
      "72. feature 61 [descricao_historico_Técnico de Nível Médio em Meio Ambiente] (0.002958)\n",
      "73. feature 73 [descricao_imovel_Financiado] (0.002952)\n",
      "74. feature 86 [descricao_mae_escolaridade_Não estudou] (0.002947)\n",
      "75. feature 158 [sigla_SGA] (0.002916)\n",
      "76. feature 68 [descricao_historico_Técnico de Nível Médio em Têxtil] (0.002883)\n",
      "77. feature 89 [descricao_pai_escolaridade_Alfabetizado] (0.002881)\n",
      "78. feature 75 [descricao_imovel_Outro] (0.002866)\n",
      "79. feature 16 [descricao_companhia_domiciliar_Outros] (0.002829)\n",
      "80. feature 117 [descricao_responsavel_financeiro_Avô(ó)] (0.002818)\n",
      "81. feature 72 [descricao_imovel_Cedido ou Emprestado] (0.002802)\n",
      "82. feature 98 [descricao_pai_escolaridade_Pós graduação completo] (0.002728)\n",
      "83. feature 141 [sigla_AP] (0.002668)\n",
      "84. feature 114 [descricao_responsavel_escolaridade_Não estudou] (0.002634)\n",
      "85. feature 107 [descricao_responsavel_escolaridade_Ensino fundamental completo] (0.002592)\n",
      "86. feature 155 [sigla_PAR] (0.002484)\n",
      "87. feature 58 [descricao_historico_Técnico de Nível Médio em Manutenção e Suporte em Informática] (0.002439)\n",
      "88. feature 144 [sigla_CANG] (0.002359)\n",
      "89. feature 17 [descricao_companhia_domiciliar_Pai] (0.002294)\n",
      "90. feature 29 [descricao_encaminhamento_Orientação para cancelamento de matrícula​] (0.002244)\n",
      "91. feature 123 [descricao_responsavel_financeiro_Outros] (0.002149)\n",
      "92. feature 31 [descricao_encaminhamento_Orientação para transferência de Curso/Campus] (0.002146)\n",
      "93. feature 146 [sigla_CN] (0.002137)\n",
      "94. feature 150 [sigla_LAJ] (0.002123)\n",
      "95. feature 64 [descricao_historico_Técnico de Nível Médio em Química] (0.002076)\n",
      "96. feature 129 [descricao_trabalho_responsavel_Beneficiário ou Pensionista do INSS] (0.002067)\n",
      "97. feature 59 [descricao_historico_Técnico de Nível Médio em Mecatrônica] (0.002037)\n",
      "98. feature 51 [descricao_historico_Técnico de Nível Médio em Eletrônica] (0.001977)\n",
      "99. feature 112 [descricao_responsavel_escolaridade_Ensino superior incompleto] (0.001971)\n",
      "100. feature 78 [descricao_mae_escolaridade_Alfabetizado] (0.001951)\n",
      "101. feature 119 [descricao_responsavel_financeiro_Irmão(ã)] (0.001945)\n",
      "102. feature 55 [descricao_historico_Técnico de Nível Médio em Informática para Internet] (0.001898)\n",
      "103. feature 46 [descricao_historico_Técnico de Nível Médio em Comércio] (0.001869)\n",
      "104. feature 152 [sigla_MO] (0.001836)\n",
      "105. feature 49 [descricao_historico_Técnico de Nível Médio em Eletromecânica] (0.001828)\n",
      "106. feature 62 [descricao_historico_Técnico de Nível Médio em Mineração] (0.001818)\n",
      "107. feature 148 [sigla_IP] (0.001636)\n",
      "108. feature 38 [descricao_historico_Técnico de Nivel Médio em Agropecuária, na Forma Integrada] (0.001631)\n",
      "109. feature 25 [descricao_encaminhamento_Diálogo com pais ou responsáveis] (0.001612)\n",
      "110. feature 95 [descricao_pai_escolaridade_Ensino superior incompleto] (0.001609)\n",
      "111. feature 60 [descricao_historico_Técnico de Nível Médio em Mecânica] (0.001583)\n",
      "112. feature 40 [descricao_historico_Técnico de Nivel Médio em Equipamentos Biomédicos] (0.001574)\n",
      "113. feature 126 [descricao_responsavel_financeiro_Tio(a)] (0.001561)\n",
      "114. feature 47 [descricao_historico_Técnico de Nível Médio em Controle Ambiental] (0.001559)\n",
      "115. feature 143 [sigla_CAL] (0.001501)\n",
      "116. feature 65 [descricao_historico_Técnico de Nível Médio em Química, na Forma Integrado] (0.001412)\n",
      "117. feature 156 [sigla_PF] (0.001393)\n",
      "118. feature 100 [descricao_raca_Amarela] (0.001322)\n",
      "119. feature 45 [descricao_historico_Técnico de Nível Médio em Apicultura] (0.001298)\n",
      "120. feature 63 [descricao_historico_Técnico de Nível Médio em Multimídia] (0.001295)\n",
      "121. feature 137 [descricao_trabalho_responsavel_Trabalha com vínculo empregatício] (0.001279)\n",
      "122. feature 52 [descricao_historico_Técnico de Nível Médio em Eventos] (0.001256)\n",
      "123. feature 23 [descricao_encaminhamento_Diálogo com aluno(a) e professor(a)] (0.001138)\n",
      "124. feature 36 [descricao_encaminhamento_Solicitação de comparecimento dos pais ou responsáveis à escola] (0.001062)\n",
      "125. feature 118 [descricao_responsavel_financeiro_Cônjuge] (0.001021)\n",
      "126. feature 67 [descricao_historico_Técnico de Nível Médio em Refrigeração e Climatização] (0.001016)\n",
      "127. feature 44 [descricao_historico_Técnico de Nível Médio em Alimentos] (0.000990)\n",
      "128. feature 74 [descricao_imovel_Não informado] (0.000953)\n",
      "129. feature 88 [descricao_mae_escolaridade_Pós graduação incompleto] (0.000948)\n",
      "130. feature 57 [descricao_historico_Técnico de Nível Médio em Logística] (0.000885)\n",
      "131. feature 103 [descricao_raca_Não declarado] (0.000858)\n",
      "132. feature 99 [descricao_pai_escolaridade_Pós graduação incompleto] (0.000844)\n",
      "133. feature 135 [descricao_trabalho_responsavel_Pescador] (0.000844)\n",
      "134. feature 116 [descricao_responsavel_escolaridade_Pós graduação incompleto] (0.000745)\n",
      "135. feature 56 [descricao_historico_Técnico de Nível Médio em Lazer] (0.000716)\n",
      "136. feature 39 [descricao_historico_Técnico de Nivel Médio em Biocombustíveis] (0.000707)\n",
      "137. feature 69 [descricao_historico_Técnico de Nível Médio em Vestuário] (0.000616)\n",
      "138. feature 53 [descricao_historico_Técnico de Nível Médio em Geologia] (0.000499)\n",
      "139. feature 113 [descricao_responsavel_escolaridade_Não conhece] (0.000494)\n",
      "140. feature 26 [descricao_encaminhamento_Diálogo com professor(a)] (0.000469)\n",
      "141. feature 15 [descricao_companhia_domiciliar_Não informado] (0.000443)\n",
      "142. feature 122 [descricao_responsavel_financeiro_O próprio aluno] (0.000432)\n",
      "143. feature 34 [descricao_encaminhamento_Solicitação de atendimento da Psicologia] (0.000378)\n",
      "144. feature 125 [descricao_responsavel_financeiro_Parentes] (0.000326)\n",
      "145. feature 43 [descricao_historico_Técnico de Nível Médio em Agroecologia] (0.000277)\n",
      "146. feature 131 [descricao_trabalho_responsavel_Estágio ou bolsa] (0.000231)\n",
      "147. feature 27 [descricao_encaminhamento_Elaboração de rotina de estudos] (0.000210)\n",
      "148. feature 28 [descricao_encaminhamento_Envio de Telegrama ou e-mail aos pais ou responsáveis] (0.000206)\n",
      "149. feature 33 [descricao_encaminhamento_Solicitação de atendimento da Assistência Social] (0.000204)\n",
      "150. feature 132 [descricao_trabalho_responsavel_Nunca trabalhou] (0.000198)\n",
      "151. feature 21 [descricao_encaminhamento_Atendimento domiciliar] (0.000189)\n",
      "152. feature 85 [descricao_mae_escolaridade_Não conhece] (0.000179)\n",
      "153. feature 102 [descricao_raca_Indígena] (0.000152)\n",
      "154. feature 32 [descricao_encaminhamento_Solicitação de Aplicação/Registro de medida disciplinar] (0.000152)\n",
      "155. feature 121 [descricao_responsavel_financeiro_Não informado] (0.000149)\n",
      "156. feature 35 [descricao_encaminhamento_Solicitação de atendimento do Setor de saúde] (0.000033)\n",
      "157. feature 76 [descricao_imovel_Pensionato ou Alojamento] (0.000025)\n",
      "158. feature 20 [descricao_companhia_domiciliar_Sozinho(a)] (0.000004)\n",
      "159. feature 30 [descricao_encaminhamento_Orientação para trancamento compulsório de matrícula] (0.000000)\n",
      "160. feature 9 [descricao_area_residencial_Comunidade Quilombola] (0.000000)\n",
      "161. feature 8 [descricao_area_residencial_Comunidade Indígena] (0.000000)\n"
     ]
    },
    {
     "name": "stderr",
     "output_type": "stream",
     "text": [
      "/home/ubuntu/anaconda3/lib/python3.6/site-packages/matplotlib/font_manager.py:1297: UserWarning: findfont: Font family ['sans-serif'] not found. Falling back to DejaVu Sans\n",
      "  (prop.get_family(), self.defaultFamily[fontext]))\n"
     ]
    },
    {
     "data": {
      "image/png": "[encoded data removed]",
      "text/plain": [
       "<matplotlib.figure.Figure at 0x7fbe76f17320>"
      ]
     },
     "metadata": {},
     "output_type": "display_data"
    }
   ],
   "source": [
    "#FEATURES IMPORTANCE\n",
    "\"\"\"\n",
    "cont = 0\n",
    "for name, score in zip(dados_clean.columns, model.feature_importances_):     \n",
    "    print(name, score) \n",
    "    if cont > 10:\n",
    "        break\n",
    "    cont = cont + 1\n",
    "\"\"\"\n",
    "\n",
    "importances = model.feature_importances_\n",
    "std = np.std([tree.feature_importances_ for tree in model.estimators_], axis=0)\n",
    "indices = np.argsort(importances)[::-1]\n",
    "\n",
    "# Print the feature ranking\n",
    "print(\"Feature ranking:\")\n",
    "\n",
    "for f in range(Xtest.shape[1]):\n",
    "    print(\"%d. feature %d [%s] (%f)\" % (f + 1, indices[f], dados_clean.columns[indices[f]],importances[indices[f]]))\n",
    "\n",
    "# Plot the feature importances of the forest\n",
    "plt.figure()\n",
    "plt.title(\"Feature importances\")\n",
    "plt.bar(range(Xtest.shape[1]), importances[indices], color=\"r\", yerr=std[indices], align=\"center\")\n",
    "plt.xticks(range(Xtest.shape[1]), indices)\n",
    "plt.xlim([-1, Xtest.shape[1]])\n",
    "plt.show()"
   ]
  },
  {
   "cell_type": "code",
   "execution_count": 48,
   "metadata": {
    "collapsed": true
   },
   "outputs": [],
   "source": [
    "#DECISION TREE\n",
    "#Xtrain, Xtest, ytrain, ytest = train_test_split(dados_clean, y, random_state=0)\n",
    "tree_clf = DecisionTreeClassifier(max_depth=3) \n",
    "tree_clf.fit(Xtrain, ytrain)\n",
    "ypred = tree_clf.predict(Xtest)\n",
    "\n"
   ]
  },
  {
   "cell_type": "code",
   "execution_count": 49,
   "metadata": {},
   "outputs": [
    {
     "name": "stdout",
     "output_type": "stream",
     "text": [
      "0.915572232645\n",
      "0.947222222222\n",
      "0.958538299368\n",
      "0.952846664338\n"
     ]
    },
    {
     "name": "stderr",
     "output_type": "stream",
     "text": [
      "/home/ubuntu/anaconda3/lib/python3.6/site-packages/matplotlib/font_manager.py:1297: UserWarning: findfont: Font family ['sans-serif'] not found. Falling back to DejaVu Sans\n",
      "  (prop.get_family(), self.defaultFamily[fontext]))\n"
     ]
    },
    {
     "data": {
      "image/png": "[encoded data removed]",
      "text/plain": [
       "<matplotlib.figure.Figure at 0x7fbe7c0e6cc0>"
      ]
     },
     "metadata": {},
     "output_type": "display_data"
    }
   ],
   "source": [
    "#porcentagem de predicao correta\n",
    "n_correct = sum(ypred == ytest)    \n",
    "print(n_correct / len(ypred)) \n",
    "\n",
    "import seaborn as sns; sns.set()\n",
    "import matplotlib.pyplot as plt\n",
    "%matplotlib inline\n",
    "\n",
    "#evaluating\n",
    "from sklearn.metrics import confusion_matrix\n",
    "mat = confusion_matrix(ytest, ypred)\n",
    "sns.heatmap(mat.T, square=True, annot=True, fmt='d', cbar=False)\n",
    "plt.xlabel('true label')\n",
    "plt.ylabel('predicted label');\n",
    "\n",
    "#evaluating\n",
    "from sklearn.metrics import precision_score, recall_score \n",
    "from sklearn.metrics import f1_score\n",
    "\n",
    "print(precision_score(ytest, ypred))\n",
    "print(recall_score(ytest, ypred))\n",
    "print(f1_score(ytest, ypred))"
   ]
  },
  {
   "cell_type": "code",
   "execution_count": 50,
   "metadata": {},
   "outputs": [
    {
     "data": {
      "text/plain": [
       "0"
      ]
     },
     "execution_count": 50,
     "metadata": {},
     "output_type": "execute_result"
    }
   ],
   "source": [
    "from sklearn.tree import export_graphviz\n",
    "\n",
    "export_graphviz(tree_clf,\n",
    "                feature_names=dados_clean.columns,\n",
    "                filled=True,\n",
    "                rounded=True, \n",
    "                out_file='tree.dot')\n",
    "\n",
    "import os\n",
    "os.system('dot -Tpng tree.dot -o tree.png')"
   ]
  },
  {
   "cell_type": "code",
   "execution_count": 51,
   "metadata": {},
   "outputs": [
    {
     "name": "stderr",
     "output_type": "stream",
     "text": [
      "/home/ubuntu/anaconda3/lib/python3.6/site-packages/matplotlib/font_manager.py:1297: UserWarning: findfont: Font family ['sans-serif'] not found. Falling back to DejaVu Sans\n",
      "  (prop.get_family(), self.defaultFamily[fontext]))\n"
     ]
    },
    {
     "data": {
      "image/png": "[encoded data removed]",
      "text/plain": [
       "<matplotlib.figure.Figure at 0x7fbe7c2308d0>"
      ]
     },
     "metadata": {},
     "output_type": "display_data"
    },
    {
     "name": "stdout",
     "output_type": "stream",
     "text": [
      "0.828557225452\n"
     ]
    }
   ],
   "source": [
    "y_probas_tree = cross_val_predict(tree_clf, Xtest, ytest, cv=3, method=\"predict_proba\") \n",
    "\n",
    "y_scores_tree = y_probas_tree[:, 1]   # score = proba of positive class \n",
    "fpr_tree, tpr_tree, thresholds_tree = roc_curve(ytest, y_scores_tree)\n",
    "\n",
    "def plot_roc_curve(fpr, tpr, label=None):    \n",
    "    plt.plot(fpr, tpr, linewidth=2, label=label)    \n",
    "    plt.plot([0, 1], [0, 1], 'k--')    \n",
    "    plt.axis([0, 1, 0, 1])   \n",
    "    plt.xlabel('False Positive Rate')    \n",
    "    plt.ylabel('True Positive Rate')\n",
    "\n",
    "plot_roc_curve(fpr_tree, tpr_tree) \n",
    "plt.show()\n",
    "print(roc_auc_score(ytest, y_scores_tree))"
   ]
  },
  {
   "cell_type": "code",
   "execution_count": null,
   "metadata": {},
   "outputs": [],
   "source": []
  },
  {
   "cell_type": "code",
   "execution_count": 52,
   "metadata": {},
   "outputs": [
    {
     "name": "stderr",
     "output_type": "stream",
     "text": [
      "/home/ubuntu/anaconda3/lib/python3.6/site-packages/matplotlib/legend.py:326: UserWarning: Unrecognized location \"bottom right\". Falling back on \"best\"; valid locations are\n",
      "\tbest\n",
      "\tupper right\n",
      "\tupper left\n",
      "\tlower left\n",
      "\tlower right\n",
      "\tright\n",
      "\tcenter left\n",
      "\tcenter right\n",
      "\tlower center\n",
      "\tupper center\n",
      "\tcenter\n",
      "\n",
      "  six.iterkeys(self.codes))))\n",
      "/home/ubuntu/anaconda3/lib/python3.6/site-packages/matplotlib/font_manager.py:1297: UserWarning: findfont: Font family ['sans-serif'] not found. Falling back to DejaVu Sans\n",
      "  (prop.get_family(), self.defaultFamily[fontext]))\n"
     ]
    },
    {
     "data": {
      "image/png": "[encoded data removed]",
      "text/plain": [
       "<matplotlib.figure.Figure at 0x7fbe7c26ccc0>"
      ]
     },
     "metadata": {},
     "output_type": "display_data"
    }
   ],
   "source": [
    "#PLOTAR DUAS CURVAS ROC (DT e RF)\n",
    "plt.plot(fpr_tree, tpr_tree, \"b:\", label=\"DT\") \n",
    "plot_roc_curve(fpr_forest, tpr_forest, \"Random Forest\") \n",
    "plt.legend(loc=\"bottom right\") \n",
    "plt.show()"
   ]
  },
  {
   "cell_type": "code",
   "execution_count": null,
   "metadata": {
    "collapsed": true
   },
   "outputs": [],
   "source": []
  }
 ],
 "metadata": {
  "kernelspec": {
   "display_name": "Python 3",
   "language": "python",
   "name": "python3"
  },
  "language_info": {
   "codemirror_mode": {
    "name": "ipython",
    "version": 3
   },
   "file_extension": ".py",
   "mimetype": "text/x-python",
   "name": "python",
   "nbconvert_exporter": "python",
   "pygments_lexer": "ipython3",
   "version": "3.6.1"
  }
 },
 "nbformat": 4,
 "nbformat_minor": 2
}
