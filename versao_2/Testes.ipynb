{
 "cells": [
  {
   "cell_type": "code",
   "execution_count": null,
   "metadata": {
    "collapsed": true
   },
   "outputs": [],
   "source": [
    "#import os pacotes utilizados\n",
    "import numpy as np\n",
    "import pandas as pd\n",
    "import matplotlib.pyplot as plt\n",
    "import matplotlib\n",
    "import seaborn as sns; sns.set()\n",
    "import prince\n",
    "\n",
    "%matplotlib inline"
   ]
  },
  {
   "cell_type": "code",
   "execution_count": null,
   "metadata": {
    "collapsed": true
   },
   "outputs": [],
   "source": [
    "def calc_AC(tbl):\n",
    "    df = tbl\n",
    "    \n",
    "    s1 = np.array(df.sum(axis=0))\n",
    "    s2 = np.array(df.sum(axis=1))\n",
    "\n",
    "    #somas\n",
    "    #print(s1)\n",
    "    #print(s2)\n",
    "    \n",
    "    #quantidade esperada nao normalizada\n",
    "    mult_s = np.outer(s1[:, None], s2).T\n",
    "    #print(mult_s)\n",
    "    \n",
    "    total_geral = df.sum().sum()\n",
    "    #print(total_geral)    \n",
    "    \n",
    "    #quantidade esperada normalizada\n",
    "    cont_esperada = mult_s/total_geral\n",
    "    #print(cont_esperada)    \n",
    "    \n",
    "    #diferenca entre esperada e real\n",
    "    diferenca = cont_esperada - df\n",
    "    #print(diferenca)    \n",
    "    \n",
    "    #calculo qui-quadrado\n",
    "    q2 = (diferenca*diferenca)/cont_esperada\n",
    "    #print(q2)\n",
    "    \n",
    "    sinal = np.sign(diferenca) * -1\n",
    "    #print(sinal)\n",
    "    \n",
    "    q2_sinal = q2 * sinal\n",
    "    #print(q2_sinal)\n",
    "    \n",
    "    return q2_sinal"
   ]
  },
  {
   "cell_type": "code",
   "execution_count": null,
   "metadata": {
    "collapsed": true
   },
   "outputs": [],
   "source": [
    "d = {'A': [20, 40, 20], 'B': [20, 10, 10], 'C': [20, 40, 40]}\n",
    "df = pd.DataFrame(data=d)\n",
    "df.index = ['18-35', '36-55', '56>']\n",
    "df"
   ]
  },
  {
   "cell_type": "code",
   "execution_count": null,
   "metadata": {
    "collapsed": true
   },
   "outputs": [],
   "source": [
    "q2 = calc_AC(df)\n",
    "q2"
   ]
  },
  {
   "cell_type": "code",
   "execution_count": null,
   "metadata": {
    "collapsed": true
   },
   "outputs": [],
   "source": [
    "tbl = pd.crosstab(index = dados.descricao_mae_escolaridade, columns = dados.classe)\n",
    "q2 = calc_AC(tbl)\n",
    "q2"
   ]
  },
  {
   "cell_type": "code",
   "execution_count": null,
   "metadata": {
    "collapsed": true
   },
   "outputs": [],
   "source": [
    "sns.heatmap(q2)"
   ]
  }
 ],
 "metadata": {
  "kernelspec": {
   "display_name": "Python 3",
   "language": "python",
   "name": "python3"
  }
 },
 "nbformat": 4,
 "nbformat_minor": 2
}
