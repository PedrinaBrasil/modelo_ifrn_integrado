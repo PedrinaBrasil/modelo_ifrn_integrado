{
 "cells": [
  {
   "cell_type": "markdown",
   "metadata": {},
   "source": [
    "# Teste supervisionado com dados tunados"
   ]
  },
  {
   "cell_type": "code",
   "execution_count": 10,
   "metadata": {},
   "outputs": [],
   "source": [
    "#import os pacotes utilizados\n",
    "import numpy as np\n",
    "import pandas as pd\n",
    "import matplotlib.pyplot as plt\n",
    "import matplotlib\n",
    "\n",
    "#selecionando atributos \n",
    "from sklearn.feature_selection import RFECV\n",
    "\n",
    "#resample\n",
    "from sklearn.utils import resample\n",
    "\n",
    "#ESCALONAMENTO DE DADOS\n",
    "from sklearn.preprocessing import StandardScaler\n",
    "from sklearn.preprocessing import MinMaxScaler\n",
    "from sklearn.preprocessing import MaxAbsScaler\n",
    "from sklearn.preprocessing import RobustScaler\n",
    "\n",
    "#SELECIONANDO MELHOR MODELO\n",
    "from sklearn.model_selection import GridSearchCV\n",
    "from sklearn.ensemble import RandomForestClassifier\n",
    "from sklearn.tree import DecisionTreeClassifier\n",
    "from sklearn.datasets import make_classification\n",
    "from scipy.stats import randint as sp_randint\n",
    "from sklearn.cross_validation import train_test_split\n",
    "from sklearn.model_selection import cross_val_score\n",
    "\n",
    "#Evaluating\n",
    "import seaborn as sns; sns.set()\n",
    "\n",
    "from sklearn.metrics import confusion_matrix\n",
    "from sklearn.metrics import precision_score, recall_score \n",
    "from sklearn.metrics import precision_score, recall_score \n",
    "from sklearn.metrics import f1_score\n",
    "\n",
    "#EXPORTAR ARVORE\n",
    "from sklearn.tree import export_graphviz\n",
    "import os\n",
    "\n",
    "#CURVA ROC\n",
    "%matplotlib inline\n",
    "from sklearn.metrics import roc_curve\n",
    "from sklearn.model_selection import cross_val_predict \n",
    "from sklearn.metrics import roc_auc_score\n",
    "\n",
    "#REDUÇÃO DE DIMENSIONALIDADE\n",
    "from sklearn.decomposition import PCA\n",
    "\n",
    "#exibindo todas as colunas\n",
    "pd.set_option('display.max_columns', None)\n",
    "\n",
    "#definicao de funcoes que serao utilizadas\n",
    "# Utility function to report best scores\n",
    "def report(results, n_top=3):\n",
    "    for i in range(1, n_top + 1):\n",
    "        candidates = np.flatnonzero(results['rank_test_score'] == i)\n",
    "        for candidate in candidates:\n",
    "            print(\"Model with rank: {0}\".format(i))\n",
    "            print(\"Mean validation score: {0:.3f} (std: {1:.3f})\".format(\n",
    "                  results['mean_test_score'][candidate],\n",
    "                  results['std_test_score'][candidate]))\n",
    "            print(\"Parameters: {0}\".format(results['params'][candidate]))\n",
    "            print(\"\")\n",
    "            \n",
    "def plot_roc_curve(fpr, tpr, label=None):    \n",
    "    plt.plot(fpr, tpr, linewidth=2, label=label)    \n",
    "    plt.plot([0, 1], [0, 1], 'k--')    \n",
    "    plt.axis([0, 1, 0, 1])   \n",
    "    plt.xlabel('False Positive Rate')    \n",
    "    plt.ylabel('True Positive Rate')\n",
    "    \n",
    "#definindo score\n",
    "from sklearn.metrics import make_scorer\n",
    "from sklearn.metrics import cohen_kappa_score\n",
    "\n",
    "def score_evasao(y_true, y_pred): \n",
    "    tp = confusion_matrix(y_true, y_pred)[0, 0]\n",
    "    fn = confusion_matrix(y_true, y_pred)[0, 1]\n",
    "    \n",
    "    return tp/(tp+fn)\n",
    "   \n",
    "#SELECIONANDO MELHOR MODEL RF\n",
    "def make_RF(Xtrain, ytrain):\n",
    "    #cria a randomforest \n",
    "    #forest_clf = RandomForestClassifier(oob_score=True, n_jobs=-1) \n",
    "    forest_clf = RandomForestClassifier(n_jobs=-1) \n",
    "\n",
    "    param_grid_forest = {'max_depth': [3, 5, None],\n",
    "                  'max_features': ['auto', 'sqrt', 'log2'],\n",
    "                  'n_estimators': [10, 30, 60, 100, 200],\n",
    "                  'criterion': [\"gini\", \"entropy\"], \n",
    "                   #'class_weight': [{0:10, 1:.1}, 'balanced'] #foi utilizado quando os dados estavam desbalanceados\n",
    "                    }\n",
    "\n",
    "    \n",
    "    #utilizando o score definido de acordo com a evasao\n",
    "    #print(score_evasao(ytest, ypred_forest))\n",
    "    #se = make_scorer(score_evasao)\n",
    "\n",
    "    #seleciona o melhor modelo de acordo com os parâmetros\n",
    "    #grid_search_forest = GridSearchCV(estimator=forest_clf, param_grid=param_grid_forest, cv=10)    \n",
    "    #grid_search_forest = GridSearchCV(estimator=forest_clf, param_grid=param_grid_forest, scoring = 'f1')\n",
    "    #grid_search_forest = GridSearchCV(estimator=forest_clf, param_grid=param_grid_forest, scoring = 'roc_auc')\n",
    "    grid_search_forest = GridSearchCV(estimator=forest_clf, param_grid=param_grid_forest, scoring = 'accuracy', cv=10)\n",
    "    \n",
    "    #kappa_scorer = make_scorer(cohen_kappa_score)\n",
    "    #grid_search_forest = GridSearchCV(estimator=forest_clf, param_grid=param_grid_forest, scoring = kappa_scorer, cv=10)\n",
    "    \n",
    "    grid_search_forest.fit(Xtrain, ytrain)\n",
    "    print(grid_search_forest.best_params_)\n",
    "    print(grid_search_forest.best_estimator_)\n",
    "    \n",
    "    #mostra os 5 melhores modelos\n",
    "    report(grid_search_forest.cv_results_, 3)    \n",
    "    \n",
    "    return grid_search_forest.best_estimator_\n",
    "\n",
    "def evaluating(model, ytest, ypred, Xtest):\n",
    "    #Evaluating\n",
    "    mat = confusion_matrix(ytest, ypred)\n",
    "    sns.heatmap(mat.T, square=True, annot=True, fmt='d', cbar=False)\n",
    "    plt.xlabel('true label')\n",
    "    plt.ylabel('predicted label');\n",
    "    \n",
    "    s = mat[0][1]/(mat[0][0]+mat[0][1])\n",
    "    print(\"Valor de falso positivo:\"+str(s))\n",
    "    \n",
    "    #evaluating\n",
    "    print(\"Cálculo de índices de avaliação:\")\n",
    "    \n",
    "    print(\"Precisão: %f; Recall: %f, F1: %f\" % (precision_score(ytest, ypred), \n",
    "                                                recall_score(ytest, ypred), \n",
    "                                                f1_score(ytest, ypred) ))\n",
    "\n",
    "    #precisao\n",
    "    print('Precisão CV:')\n",
    "    scores = cross_val_score(model, Xtest, ytest, cv=10)\n",
    "    accuracy = np.mean(scores)\n",
    "    print(scores)\n",
    "    print(accuracy)\n",
    "\n",
    "    #CURVA ROC\n",
    "    fig = plt.figure()\n",
    "    y_probas = cross_val_predict(model, Xtest, ytest, cv=10, method=\"predict_proba\") \n",
    "\n",
    "    y_scores = y_probas[:, 1]   # score = proba of positive class \n",
    "    fpr, tpr, thresholds = roc_curve(ytest, y_scores)\n",
    "\n",
    "    plot_roc_curve(fpr, tpr) \n",
    "    plt.show()\n",
    "    print(roc_auc_score(ytest, y_scores))\n",
    "    \n",
    "def feature_ranking(Xtest, model):\n",
    "    #exibe os atributos mais importantes\n",
    "    importances = model.feature_importances_\n",
    "    std = np.std([tree.feature_importances_ for tree in model.estimators_], axis=0)\n",
    "    indices = np.argsort(importances)[::-1]\n",
    "\n",
    "    # Print the feature ranking\n",
    "    print(\"Feature ranking:\")\n",
    "\n",
    "    for f in range(Xtest.shape[1]):\n",
    "        print(\"%d. feature %d [%s] (%f)\" % (f + 1, indices[f], Xtest.columns[indices[f]], importances[indices[f]]))\n",
    "\n",
    "    # Plot the feature importances of the forest\n",
    "    plt.figure()\n",
    "    plt.title(\"Feature importances\")\n",
    "    plt.bar(range(Xtest.shape[1]), importances[indices], color=\"r\", yerr=std[indices], align=\"center\")\n",
    "    plt.xticks(range(Xtest.shape[1]), indices)\n",
    "    plt.xlim([-1, Xtest.shape[1]])\n",
    "    plt.show()    \n",
    "    \n",
    "def evaluating_2(model, ytest, ypred, X, y, Xtest):\n",
    "    #Evaluating\n",
    "    plt.figure()\n",
    "    mat = confusion_matrix(ytest, ypred)\n",
    "    sns.heatmap(mat.T, square=True, annot=True, fmt='d', cbar=False)\n",
    "    plt.xlabel('true label')\n",
    "    plt.ylabel('predicted label');\n",
    "    \n",
    "    s = mat[0][1]/(mat[0][0]+mat[0][1])\n",
    "    print(\"Valor de falso positivo:\"+str(s))\n",
    "    \n",
    "    #evaluating\n",
    "    print(precision_score(ytest, ypred))\n",
    "    print(recall_score(ytest, ypred))\n",
    "\n",
    "    #evaluating\n",
    "    print(precision_score(ytest, ypred))\n",
    "    print(recall_score(ytest, ypred))\n",
    "    print(f1_score(ytest, ypred))\n",
    "\n",
    "    #precisao\n",
    "    print('Precisao')\n",
    "    scores = cross_val_score(model, X, y, cv=10)\n",
    "    accuracy = np.mean(scores)\n",
    "    print(scores)\n",
    "    print(accuracy)\n",
    "\n",
    "#limpando os NaN devido ao RF\n",
    "def preparing_data(dados):\n",
    "    print(dados.shape)\n",
    "    dados = dados.dropna()\n",
    "    print(dados.shape)\n",
    "    \n",
    "    #configura os dados de entrada e saída\n",
    "    y = dados.classe\n",
    "    X = dados\n",
    "\n",
    "    del X['classe']\n",
    "    X.shape    \n",
    "    \n",
    "    #binazira os dados devido aos atributos categoricos \n",
    "    dados_dummies = pd.get_dummies(X, drop_first=True)\n",
    "    dados_dummies.shape\n",
    "\n",
    "    #remove atributos inconistentes\n",
    "    dados_clean = dados_dummies.replace([np.inf, -np.inf], np.nan)\n",
    "    dados_clean = dados_clean.dropna(axis=1, how='all')\n",
    "    print(dados_clean.info())\n",
    "    \n",
    "    return (dados_clean, y)"
   ]
  },
  {
   "cell_type": "code",
   "execution_count": 11,
   "metadata": {},
   "outputs": [
    {
     "data": {
      "text/html": [
       "<div>\n",
       "<style>\n",
       "    .dataframe thead tr:only-child th {\n",
       "        text-align: right;\n",
       "    }\n",
       "\n",
       "    .dataframe thead th {\n",
       "        text-align: left;\n",
       "    }\n",
       "\n",
       "    .dataframe tbody tr th {\n",
       "        vertical-align: top;\n",
       "    }\n",
       "</style>\n",
       "<table border=\"1\" class=\"dataframe\">\n",
       "  <thead>\n",
       "    <tr style=\"text-align: right;\">\n",
       "      <th></th>\n",
       "      <th>LnguaPortuguesaeLiteraturaI90H</th>\n",
       "      <th>LnguaPortuguesaeLiteraturaI90H_dependencia</th>\n",
       "      <th>LnguaPortuguesaeLiteraturaI90H_freq</th>\n",
       "      <th>MatemticaI120H</th>\n",
       "      <th>MatemticaI120H_dependencia</th>\n",
       "      <th>MatemticaI120H_freq</th>\n",
       "      <th>acompanhamento</th>\n",
       "      <th>aluno_exclusivo_rede_publica</th>\n",
       "      <th>artificial</th>\n",
       "      <th>classe</th>\n",
       "      <th>conceito</th>\n",
       "      <th>conceito_freq</th>\n",
       "      <th>descricao</th>\n",
       "      <th>descricao_area_residencial</th>\n",
       "      <th>descricao_companhia_domiciliar</th>\n",
       "      <th>descricao_estado_civil</th>\n",
       "      <th>descricao_historico</th>\n",
       "      <th>descricao_imovel</th>\n",
       "      <th>descricao_mae_escolaridade</th>\n",
       "      <th>descricao_pai_escolaridade</th>\n",
       "      <th>descricao_raca</th>\n",
       "      <th>descricao_responsavel_escolaridade</th>\n",
       "      <th>descricao_responsavel_financeiro</th>\n",
       "      <th>descricao_trabalho</th>\n",
       "      <th>id</th>\n",
       "      <th>idade</th>\n",
       "      <th>pessoa_fisica__sexo</th>\n",
       "      <th>possui_necessidade_especial</th>\n",
       "      <th>qnt_pc</th>\n",
       "      <th>qnt_salarios</th>\n",
       "      <th>qtd_pessoas_domicilio</th>\n",
       "      <th>sigla</th>\n",
       "      <th>tempo_entre_conclusao_ingresso</th>\n",
       "    </tr>\n",
       "  </thead>\n",
       "  <tbody>\n",
       "    <tr>\n",
       "      <th>0</th>\n",
       "      <td>68.0</td>\n",
       "      <td>0</td>\n",
       "      <td>100.0</td>\n",
       "      <td>66.0</td>\n",
       "      <td>0</td>\n",
       "      <td>100.0</td>\n",
       "      <td>0</td>\n",
       "      <td>False</td>\n",
       "      <td>0</td>\n",
       "      <td>1</td>\n",
       "      <td>B</td>\n",
       "      <td>A</td>\n",
       "      <td>Matriculado</td>\n",
       "      <td>Urbana</td>\n",
       "      <td>Mãe</td>\n",
       "      <td>Solteiro(a)</td>\n",
       "      <td>Técnico de Nivel Médio em Informática</td>\n",
       "      <td>Alugado</td>\n",
       "      <td>Ensino fundamental incompleto</td>\n",
       "      <td>Ensino fundamental incompleto</td>\n",
       "      <td>Branca</td>\n",
       "      <td>Ensino fundamental incompleto</td>\n",
       "      <td>Mãe</td>\n",
       "      <td>Não informado</td>\n",
       "      <td>457884597605</td>\n",
       "      <td>15</td>\n",
       "      <td>F</td>\n",
       "      <td>False</td>\n",
       "      <td>0</td>\n",
       "      <td>1</td>\n",
       "      <td>2</td>\n",
       "      <td>LAJ</td>\n",
       "      <td>1</td>\n",
       "    </tr>\n",
       "    <tr>\n",
       "      <th>1</th>\n",
       "      <td>73.0</td>\n",
       "      <td>1</td>\n",
       "      <td>100.0</td>\n",
       "      <td>36.0</td>\n",
       "      <td>1</td>\n",
       "      <td>91.0</td>\n",
       "      <td>0</td>\n",
       "      <td>False</td>\n",
       "      <td>1</td>\n",
       "      <td>0</td>\n",
       "      <td>R</td>\n",
       "      <td>R</td>\n",
       "      <td>Cancelado</td>\n",
       "      <td>Urbana</td>\n",
       "      <td>Mãe</td>\n",
       "      <td>Solteiro(a)</td>\n",
       "      <td>Técnico de Nível Médio em Meio Ambiente</td>\n",
       "      <td>Alugado</td>\n",
       "      <td>Ensino fundamental incompleto</td>\n",
       "      <td>Ensino fundamental incompleto</td>\n",
       "      <td>Parda</td>\n",
       "      <td>Ensino fundamental incompleto</td>\n",
       "      <td>Mãe</td>\n",
       "      <td>Não informado</td>\n",
       "      <td>458436647741</td>\n",
       "      <td>17</td>\n",
       "      <td>M</td>\n",
       "      <td>False</td>\n",
       "      <td>1</td>\n",
       "      <td>1</td>\n",
       "      <td>2</td>\n",
       "      <td>SPP</td>\n",
       "      <td>2</td>\n",
       "    </tr>\n",
       "  </tbody>\n",
       "</table>\n",
       "</div>"
      ],
      "text/plain": [
       "   LnguaPortuguesaeLiteraturaI90H  LnguaPortuguesaeLiteraturaI90H_dependencia  \\\n",
       "0                            68.0                                           0   \n",
       "1                            73.0                                           1   \n",
       "\n",
       "   LnguaPortuguesaeLiteraturaI90H_freq  MatemticaI120H  \\\n",
       "0                                100.0            66.0   \n",
       "1                                100.0            36.0   \n",
       "\n",
       "   MatemticaI120H_dependencia  MatemticaI120H_freq  acompanhamento  \\\n",
       "0                           0                100.0               0   \n",
       "1                           1                 91.0               0   \n",
       "\n",
       "   aluno_exclusivo_rede_publica  artificial  classe conceito conceito_freq  \\\n",
       "0                         False           0       1        B             A   \n",
       "1                         False           1       0        R             R   \n",
       "\n",
       "     descricao descricao_area_residencial descricao_companhia_domiciliar  \\\n",
       "0  Matriculado                     Urbana                            Mãe   \n",
       "1    Cancelado                     Urbana                            Mãe   \n",
       "\n",
       "  descricao_estado_civil                      descricao_historico  \\\n",
       "0            Solteiro(a)    Técnico de Nivel Médio em Informática   \n",
       "1            Solteiro(a)  Técnico de Nível Médio em Meio Ambiente   \n",
       "\n",
       "  descricao_imovel     descricao_mae_escolaridade  \\\n",
       "0          Alugado  Ensino fundamental incompleto   \n",
       "1          Alugado  Ensino fundamental incompleto   \n",
       "\n",
       "      descricao_pai_escolaridade descricao_raca  \\\n",
       "0  Ensino fundamental incompleto         Branca   \n",
       "1  Ensino fundamental incompleto          Parda   \n",
       "\n",
       "  descricao_responsavel_escolaridade descricao_responsavel_financeiro  \\\n",
       "0      Ensino fundamental incompleto                              Mãe   \n",
       "1      Ensino fundamental incompleto                              Mãe   \n",
       "\n",
       "  descricao_trabalho            id  idade pessoa_fisica__sexo  \\\n",
       "0      Não informado  457884597605     15                   F   \n",
       "1      Não informado  458436647741     17                   M   \n",
       "\n",
       "   possui_necessidade_especial  qnt_pc  qnt_salarios  qtd_pessoas_domicilio  \\\n",
       "0                        False       0             1                      2   \n",
       "1                        False       1             1                      2   \n",
       "\n",
       "  sigla  tempo_entre_conclusao_ingresso  \n",
       "0   LAJ                               1  \n",
       "1   SPP                               2  "
      ]
     },
     "execution_count": 11,
     "metadata": {},
     "output_type": "execute_result"
    }
   ],
   "source": [
    "dados_tunning = pd.read_json('dados/dados_workflow_ivan.json')\n",
    "\n",
    "dados_tunning.head(2)"
   ]
  },
  {
   "cell_type": "markdown",
   "metadata": {},
   "source": [
    "# Modelo 01: utilizando todos os dados\n",
    "\n",
    "no cenário abaixo foram utilizados todos os dados incluindo as notas as quais os valores NAN foram preenchidas com -1, a fim de não serem limpados. \n",
    "\n",
    "o resultado como visto foi bastante instatisfatório, uma vez que o falto positivo (prever que não evadiu, mas o aluno evadiu) tem um valor muito elevado, sendo o pior erro no problema. É interessante notar que os índices de avaliação tradicionais (precision, recall, f1) foram bons, o que parece contraditório. A explicação se deve ao fato das classes estarem bastante desbalanceadas. Para a seleção do modelo foi utilizado o médodo kappa_scorer o que conseguiu trazer a tona o problema do erro elevado de falso positivo  "
   ]
  },
  {
   "cell_type": "code",
   "execution_count": 12,
   "metadata": {
    "collapsed": true
   },
   "outputs": [],
   "source": [
    "dados = dados_tunning.copy()\n",
    "\n",
    "dados = dados[[\n",
    "       'LnguaPortuguesaeLiteraturaI90H',\n",
    "       'LnguaPortuguesaeLiteraturaI90H_dependencia',\n",
    "       'LnguaPortuguesaeLiteraturaI90H_freq', 'MatemticaI120H',\n",
    "       'MatemticaI120H_dependencia', 'MatemticaI120H_freq', 'acompanhamento',\n",
    "       'aluno_exclusivo_rede_publica', 'artificial', 'classe', 'conceito',\n",
    "       'conceito_freq', 'descricao_area_residencial',\n",
    "       'descricao_companhia_domiciliar', 'descricao_estado_civil',\n",
    "       'descricao_historico', 'descricao_imovel', 'descricao_mae_escolaridade',\n",
    "       'descricao_pai_escolaridade', 'descricao_raca',\n",
    "       'descricao_responsavel_escolaridade',\n",
    "       'descricao_responsavel_financeiro', 'descricao_trabalho', 'idade',\n",
    "       'pessoa_fisica__sexo', 'possui_necessidade_especial', 'qnt_pc',\n",
    "       'qnt_salarios', 'qtd_pessoas_domicilio', 'sigla',\n",
    "       'tempo_entre_conclusao_ingresso'    \n",
    "]]\n",
    "\n",
    "#convertendo os NaN das notas em -1 para usar o RF \n",
    "dados['LnguaPortuguesaeLiteraturaI90H'].fillna(-1, inplace=True)\n",
    "dados['LnguaPortuguesaeLiteraturaI90H_dependencia'].fillna(-1, inplace=True)\n",
    "dados['LnguaPortuguesaeLiteraturaI90H_freq'].fillna(-1, inplace=True)\n",
    "\n",
    "dados['MatemticaI120H'].fillna(-1, inplace=True)\n",
    "dados['MatemticaI120H_dependencia'].fillna(-1, inplace=True)\n",
    "dados['MatemticaI120H_freq'].fillna(-1, inplace=True)"
   ]
  },
  {
   "cell_type": "code",
   "execution_count": 13,
   "metadata": {},
   "outputs": [
    {
     "name": "stdout",
     "output_type": "stream",
     "text": [
      "(8908, 31)\n",
      "(8908, 31)\n",
      "<class 'pandas.core.frame.DataFrame'>\n",
      "Int64Index: 8908 entries, 0 to 998\n",
      "Columns: 151 entries, LnguaPortuguesaeLiteraturaI90H to sigla_ZN\n",
      "dtypes: bool(2), float64(4), int64(9), uint8(136)\n",
      "memory usage: 2.1 MB\n",
      "None\n"
     ]
    },
    {
     "data": {
      "text/plain": [
       "<matplotlib.axes._subplots.AxesSubplot at 0x7f1b58f65c88>"
      ]
     },
     "execution_count": 13,
     "metadata": {},
     "output_type": "execute_result"
    },
    {
     "name": "stderr",
     "output_type": "stream",
     "text": [
      "/home/ubuntu/anaconda3/lib/python3.6/site-packages/matplotlib/font_manager.py:1297: UserWarning: findfont: Font family ['sans-serif'] not found. Falling back to DejaVu Sans\n",
      "  (prop.get_family(), self.defaultFamily[fontext]))\n"
     ]
    },
    {
     "data": {
      "image/png": "[encoded data removed]",
      "text/plain": [
       "<matplotlib.figure.Figure at 0x7f1b594dd4a8>"
      ]
     },
     "metadata": {},
     "output_type": "display_data"
    }
   ],
   "source": [
    "X, y = preparing_data(dados)\n",
    "y.plot.hist()"
   ]
  },
  {
   "cell_type": "code",
   "execution_count": 14,
   "metadata": {
    "collapsed": true
   },
   "outputs": [],
   "source": [
    "#dividir os dados para treino e teste. default é 25% p teste\n",
    "Xtrain, Xtest, ytrain, ytest = train_test_split(X, y, random_state=0, stratify = y)"
   ]
  },
  {
   "cell_type": "code",
   "execution_count": 15,
   "metadata": {},
   "outputs": [
    {
     "name": "stdout",
     "output_type": "stream",
     "text": [
      "{'criterion': 'entropy', 'max_depth': None, 'max_features': 'sqrt', 'n_estimators': 100}\n",
      "RandomForestClassifier(bootstrap=True, class_weight=None, criterion='entropy',\n",
      "            max_depth=None, max_features='sqrt', max_leaf_nodes=None,\n",
      "            min_impurity_decrease=0.0, min_impurity_split=None,\n",
      "            min_samples_leaf=1, min_samples_split=2,\n",
      "            min_weight_fraction_leaf=0.0, n_estimators=100, n_jobs=-1,\n",
      "            oob_score=False, random_state=None, verbose=0,\n",
      "            warm_start=False)\n",
      "Model with rank: 1\n",
      "Mean validation score: 0.961 (std: 0.005)\n",
      "Parameters: {'criterion': 'entropy', 'max_depth': None, 'max_features': 'sqrt', 'n_estimators': 100}\n",
      "\n",
      "Model with rank: 2\n",
      "Mean validation score: 0.960 (std: 0.007)\n",
      "Parameters: {'criterion': 'gini', 'max_depth': None, 'max_features': 'auto', 'n_estimators': 60}\n",
      "\n",
      "Model with rank: 2\n",
      "Mean validation score: 0.960 (std: 0.005)\n",
      "Parameters: {'criterion': 'gini', 'max_depth': None, 'max_features': 'auto', 'n_estimators': 200}\n",
      "\n"
     ]
    }
   ],
   "source": [
    "#seleciona o melhor modelo\n",
    "model_forest_completo = make_RF(Xtrain, ytrain)\n",
    "ypred_forest = model_forest_completo.predict(Xtest)"
   ]
  },
  {
   "cell_type": "code",
   "execution_count": 16,
   "metadata": {},
   "outputs": [
    {
     "name": "stderr",
     "output_type": "stream",
     "text": [
      "/home/ubuntu/anaconda3/lib/python3.6/site-packages/matplotlib/font_manager.py:1297: UserWarning: findfont: Font family ['sans-serif'] not found. Falling back to DejaVu Sans\n",
      "  (prop.get_family(), self.defaultFamily[fontext]))\n"
     ]
    },
    {
     "name": "stdout",
     "output_type": "stream",
     "text": [
      "Valor de falso positivo:0.6258992805755396\n",
      "Cálculo de índices de avaliação:\n",
      "Precisão: 0.959834; Recall: 0.995690, F1: 0.977433\n",
      "Precisão CV:\n",
      "[0.95964126 0.96412556 0.95964126 0.93273543 0.95067265 0.96860987\n",
      " 0.94618834 0.94170404 0.95045045 0.95927602]\n",
      "0.9533044854200222\n"
     ]
    },
    {
     "name": "stderr",
     "output_type": "stream",
     "text": [
      "/home/ubuntu/anaconda3/lib/python3.6/site-packages/matplotlib/font_manager.py:1297: UserWarning: findfont: Font family ['sans-serif'] not found. Falling back to DejaVu Sans\n",
      "  (prop.get_family(), self.defaultFamily[fontext]))\n"
     ]
    },
    {
     "data": {
      "image/png": "[encoded data removed]",
      "text/plain": [
       "<matplotlib.figure.Figure at 0x7f1b5aa63278>"
      ]
     },
     "metadata": {},
     "output_type": "display_data"
    },
    {
     "data": {
      "image/png": "[encoded data removed]",
      "text/plain": [
       "<matplotlib.figure.Figure at 0x7f1b594dfc88>"
      ]
     },
     "metadata": {},
     "output_type": "display_data"
    },
    {
     "name": "stdout",
     "output_type": "stream",
     "text": [
      "0.9366145015022465\n",
      "Feature ranking:\n",
      "1. feature 3 [MatemticaI120H] (0.106248)\n",
      "2. feature 0 [LnguaPortuguesaeLiteraturaI90H] (0.103523)\n",
      "3. feature 17 [conceito_R] (0.059003)\n",
      "4. feature 15 [conceito_I] (0.049187)\n",
      "5. feature 2 [LnguaPortuguesaeLiteraturaI90H_freq] (0.041066)\n",
      "6. feature 5 [MatemticaI120H_freq] (0.040012)\n",
      "7. feature 9 [idade] (0.029504)\n",
      "8. feature 13 [qtd_pessoas_domicilio] (0.019448)\n",
      "9. feature 4 [MatemticaI120H_dependencia] (0.018846)\n",
      "10. feature 20 [conceito_freq_R] (0.017807)\n",
      "11. feature 33 [descricao_estado_civil_Divorciado(a)] (0.017774)\n",
      "12. feature 126 [descricao_trabalho_Não informado] (0.015846)\n",
      "13. feature 12 [qnt_salarios] (0.015706)\n",
      "14. feature 14 [tempo_entre_conclusao_ingresso] (0.015422)\n",
      "15. feature 1 [LnguaPortuguesaeLiteraturaI90H_dependencia] (0.014992)\n",
      "16. feature 35 [descricao_estado_civil_Solteiro(a)] (0.014239)\n",
      "17. feature 11 [qnt_pc] (0.013961)\n",
      "18. feature 23 [descricao_area_residencial_Não informado] (0.013843)\n",
      "19. feature 8 [artificial] (0.013685)\n",
      "20. feature 6 [acompanhamento] (0.011756)\n",
      "21. feature 141 [sigla_MC] (0.009239)\n",
      "22. feature 25 [descricao_area_residencial_Urbana] (0.008627)\n",
      "23. feature 96 [descricao_raca_Branca] (0.008522)\n",
      "24. feature 21 [conceito_freq_S] (0.008273)\n",
      "25. feature 19 [conceito_freq_I] (0.008084)\n",
      "26. feature 131 [pessoa_fisica__sexo_M] (0.008020)\n",
      "27. feature 99 [descricao_raca_Parda] (0.007693)\n",
      "28. feature 124 [descricao_trabalho_Nunca trabalhou] (0.007398)\n",
      "29. feature 75 [descricao_imovel_Próprio] (0.007333)\n",
      "30. feature 30 [descricao_companhia_domiciliar_Pais] (0.007094)\n",
      "31. feature 113 [descricao_responsavel_financeiro_Mãe] (0.006855)\n",
      "32. feature 137 [sigla_CNAT] (0.006683)\n",
      "33. feature 10 [possui_necessidade_especial] (0.006677)\n",
      "34. feature 77 [descricao_mae_escolaridade_Ensino fundamental incompleto] (0.006676)\n",
      "35. feature 117 [descricao_responsavel_financeiro_Pai] (0.006672)\n",
      "36. feature 16 [conceito_O] (0.006629)\n",
      "37. feature 40 [descricao_historico_Técnico de Nivel Médio em Informática] (0.006474)\n",
      "38. feature 87 [descricao_pai_escolaridade_Ensino fundamental incompleto] (0.006318)\n",
      "39. feature 78 [descricao_mae_escolaridade_Ensino médio completo] (0.006168)\n",
      "40. feature 88 [descricao_pai_escolaridade_Ensino médio completo] (0.005812)\n",
      "41. feature 132 [sigla_CA] (0.005683)\n",
      "42. feature 103 [descricao_responsavel_escolaridade_Ensino médio completo] (0.005678)\n",
      "43. feature 79 [descricao_mae_escolaridade_Ensino médio incompleto] (0.005510)\n",
      "44. feature 102 [descricao_responsavel_escolaridade_Ensino fundamental incompleto] (0.005419)\n",
      "45. feature 26 [descricao_companhia_domiciliar_Mãe] (0.005269)\n",
      "46. feature 7 [aluno_exclusivo_rede_publica] (0.005167)\n",
      "47. feature 65 [descricao_historico_Técnico de Nível Médio em Recursos Pesqueiros] (0.005161)\n",
      "48. feature 47 [descricao_historico_Técnico de Nível Médio em Edificações] (0.004947)\n",
      "49. feature 136 [sigla_CN] (0.004808)\n",
      "50. feature 125 [descricao_trabalho_Não está trabalhando] (0.004652)\n",
      "51. feature 49 [descricao_historico_Técnico de Nível Médio em Eletrotécnica] (0.004566)\n",
      "52. feature 143 [sigla_NC] (0.004399)\n",
      "53. feature 69 [descricao_historico_Técnico em Programação de Jogos Digitais] (0.004384)\n",
      "54. feature 135 [sigla_CM] (0.004311)\n",
      "55. feature 18 [conceito_S] (0.004184)\n",
      "56. feature 24 [descricao_area_residencial_Rural] (0.004061)\n",
      "57. feature 67 [descricao_historico_Técnico de Nível Médio em Têxtil] (0.003828)\n",
      "58. feature 53 [descricao_historico_Técnico de Nível Médio em Informática] (0.003821)\n",
      "59. feature 149 [sigla_SPP] (0.003804)\n",
      "60. feature 89 [descricao_pai_escolaridade_Ensino médio incompleto] (0.003728)\n",
      "61. feature 80 [descricao_mae_escolaridade_Ensino superior completo] (0.003644)\n",
      "62. feature 90 [descricao_pai_escolaridade_Ensino superior completo] (0.003616)\n",
      "63. feature 105 [descricao_responsavel_escolaridade_Ensino superior completo] (0.003573)\n",
      "64. feature 31 [descricao_companhia_domiciliar_Parente(s) ou amigo(s)] (0.003521)\n",
      "65. feature 104 [descricao_responsavel_escolaridade_Ensino médio incompleto] (0.003405)\n",
      "66. feature 147 [sigla_SC] (0.003341)\n",
      "67. feature 86 [descricao_pai_escolaridade_Ensino fundamental completo] (0.003326)\n",
      "68. feature 100 [descricao_raca_Preta] (0.003316)\n",
      "69. feature 41 [descricao_historico_Técnico de Nível Médio em Administração] (0.003001)\n",
      "70. feature 139 [sigla_JC] (0.002984)\n",
      "71. feature 28 [descricao_companhia_domiciliar_Outros] (0.002960)\n",
      "72. feature 84 [descricao_mae_escolaridade_Pós graduação completo] (0.002654)\n",
      "73. feature 71 [descricao_imovel_Financiado] (0.002610)\n",
      "74. feature 93 [descricao_pai_escolaridade_Não estudou] (0.002601)\n",
      "75. feature 140 [sigla_LAJ] (0.002532)\n",
      "76. feature 94 [descricao_pai_escolaridade_Pós graduação completo] (0.002500)\n",
      "77. feature 60 [descricao_historico_Técnico de Nível Médio em Meio Ambiente] (0.002500)\n",
      "78. feature 81 [descricao_mae_escolaridade_Ensino superior incompleto] (0.002488)\n",
      "79. feature 109 [descricao_responsavel_escolaridade_Pós graduação completo] (0.002458)\n",
      "80. feature 101 [descricao_responsavel_escolaridade_Ensino fundamental completo] (0.002441)\n",
      "81. feature 108 [descricao_responsavel_escolaridade_Não estudou] (0.002324)\n",
      "82. feature 120 [descricao_trabalho_Autônomo] (0.002315)\n",
      "83. feature 92 [descricao_pai_escolaridade_Não conhece] (0.002314)\n",
      "84. feature 37 [descricao_historico_Técnico de Nivel Médio em Agropecuária, na Forma Integrada] (0.002219)\n",
      "85. feature 29 [descricao_companhia_domiciliar_Pai] (0.002108)\n",
      "86. feature 122 [descricao_trabalho_Empresa privada] (0.002072)\n",
      "87. feature 59 [descricao_historico_Técnico de Nível Médio em Mecânica] (0.002014)\n",
      "88. feature 150 [sigla_ZN] (0.001982)\n",
      "89. feature 106 [descricao_responsavel_escolaridade_Ensino superior incompleto] (0.001890)\n",
      "90. feature 73 [descricao_imovel_Outro] (0.001881)\n",
      "91. feature 76 [descricao_mae_escolaridade_Ensino fundamental completo] (0.001790)\n",
      "92. feature 91 [descricao_pai_escolaridade_Ensino superior incompleto] (0.001768)\n",
      "93. feature 72 [descricao_imovel_Não informado] (0.001756)\n",
      "94. feature 70 [descricao_imovel_Cedido ou Emprestado] (0.001735)\n",
      "95. feature 111 [descricao_responsavel_financeiro_Cônjuge] (0.001721)\n",
      "96. feature 146 [sigla_PF] (0.001713)\n",
      "97. feature 62 [descricao_historico_Técnico de Nível Médio em Multimídia] (0.001638)\n",
      "98. feature 134 [sigla_CANG] (0.001614)\n",
      "99. feature 133 [sigla_CAL] (0.001552)\n",
      "100. feature 145 [sigla_PAR] (0.001547)\n",
      "101. feature 54 [descricao_historico_Técnico de Nível Médio em Informática para Internet] (0.001507)\n",
      "102. feature 142 [sigla_MO] (0.001439)\n",
      "103. feature 61 [descricao_historico_Técnico de Nível Médio em Mineração] (0.001428)\n",
      "104. feature 45 [descricao_historico_Técnico de Nível Médio em Comércio] (0.001378)\n",
      "105. feature 57 [descricao_historico_Técnico de Nível Médio em Manutenção e Suporte em Informática] (0.001374)\n",
      "106. feature 138 [sigla_IP] (0.001353)\n",
      "107. feature 148 [sigla_SGA] (0.001340)\n",
      "108. feature 44 [descricao_historico_Técnico de Nível Médio em Apicultura] (0.001325)\n",
      "109. feature 83 [descricao_mae_escolaridade_Não estudou] (0.001294)\n",
      "110. feature 68 [descricao_historico_Técnico de Nível Médio em Vestuário] (0.001290)\n",
      "111. feature 43 [descricao_historico_Técnico de Nível Médio em Alimentos] (0.001221)\n",
      "112. feature 144 [sigla_PAAS] (0.001206)\n",
      "113. feature 119 [descricao_responsavel_financeiro_Tio(a)] (0.001161)\n",
      "114. feature 50 [descricao_historico_Técnico de Nível Médio em Eletrônica] (0.001103)\n",
      "115. feature 64 [descricao_historico_Técnico de Nível Médio em Química, na Forma Integrado] (0.000984)\n",
      "116. feature 46 [descricao_historico_Técnico de Nível Médio em Controle Ambiental] (0.000970)\n",
      "117. feature 116 [descricao_responsavel_financeiro_Outros] (0.000969)\n",
      "118. feature 128 [descricao_trabalho_Serviço público] (0.000942)\n",
      "119. feature 63 [descricao_historico_Técnico de Nível Médio em Química] (0.000831)\n",
      "120. feature 51 [descricao_historico_Técnico de Nível Médio em Eventos] (0.000781)\n",
      "121. feature 39 [descricao_historico_Técnico de Nivel Médio em Equipamentos Biomédicos] (0.000672)\n",
      "122. feature 112 [descricao_responsavel_financeiro_Irmão(ã)] (0.000590)\n",
      "123. feature 130 [descricao_trabalho_Trabalhador rural/Agricultor] (0.000551)\n",
      "124. feature 58 [descricao_historico_Técnico de Nível Médio em Mecatrônica] (0.000511)\n",
      "125. feature 48 [descricao_historico_Técnico de Nível Médio em Eletromecânica] (0.000500)\n",
      "126. feature 118 [descricao_responsavel_financeiro_Parentes] (0.000439)\n",
      "127. feature 55 [descricao_historico_Técnico de Nível Médio em Lazer] (0.000423)\n",
      "128. feature 115 [descricao_responsavel_financeiro_O próprio aluno] (0.000414)\n",
      "129. feature 42 [descricao_historico_Técnico de Nível Médio em Agroecologia] (0.000410)\n",
      "130. feature 129 [descricao_trabalho_Trabalha com vínculo empregatício] (0.000402)\n",
      "131. feature 114 [descricao_responsavel_financeiro_Não informado] (0.000402)\n",
      "132. feature 85 [descricao_mae_escolaridade_Pós graduação incompleto] (0.000360)\n",
      "133. feature 110 [descricao_responsavel_escolaridade_Pós graduação incompleto] (0.000354)\n",
      "134. feature 56 [descricao_historico_Técnico de Nível Médio em Logística] (0.000340)\n",
      "135. feature 66 [descricao_historico_Técnico de Nível Médio em Refrigeração e Climatização] (0.000270)\n",
      "136. feature 121 [descricao_trabalho_Beneficiário ou Pensionista do INSS] (0.000254)\n",
      "137. feature 27 [descricao_companhia_domiciliar_Não informado] (0.000241)\n",
      "138. feature 52 [descricao_historico_Técnico de Nível Médio em Geologia] (0.000227)\n",
      "139. feature 38 [descricao_historico_Técnico de Nivel Médio em Biocombustíveis] (0.000226)\n",
      "140. feature 123 [descricao_trabalho_Estágio ou bolsa] (0.000187)\n",
      "141. feature 98 [descricao_raca_Não declarado] (0.000150)\n",
      "142. feature 97 [descricao_raca_Indígena] (0.000102)\n",
      "143. feature 34 [descricao_estado_civil_Não declarado] (0.000097)\n",
      "144. feature 95 [descricao_pai_escolaridade_Pós graduação incompleto] (0.000033)\n",
      "145. feature 36 [descricao_estado_civil_União Estável] (0.000010)\n",
      "146. feature 82 [descricao_mae_escolaridade_Não conhece] (0.000008)\n",
      "147. feature 107 [descricao_responsavel_escolaridade_Não conhece] (0.000008)\n",
      "148. feature 127 [descricao_trabalho_Pescador] (0.000003)\n",
      "149. feature 22 [descricao_area_residencial_Comunidade Quilombola] (0.000000)\n",
      "150. feature 32 [descricao_companhia_domiciliar_Sozinho(a)] (0.000000)\n",
      "151. feature 74 [descricao_imovel_Pensionato ou Alojamento] (0.000000)\n"
     ]
    },
    {
     "data": {
      "image/png": "[encoded data removed]",
      "text/plain": [
       "<matplotlib.figure.Figure at 0x7f1b5aa3b0f0>"
      ]
     },
     "metadata": {},
     "output_type": "display_data"
    }
   ],
   "source": [
    "#avaliacao do modelo\n",
    "evaluating(model_forest_completo, ytest, ypred_forest, Xtest)\n",
    "\n",
    "feature_ranking(Xtest, model_forest_completo)"
   ]
  },
  {
   "cell_type": "markdown",
   "metadata": {},
   "source": [
    "# Modelo 02: aumentando a quantidade de instâncias da classe de evasão\n",
    "\n",
    "para tentar resolver o problema da classe desbalanceada será acrescentada novas instâncias a base da classe 0, a partir da duplicação de instâncias já contidas na base. Foram removidos as instâncias com dados gerados de forma artificial e as instâncias com notas NAN "
   ]
  },
  {
   "cell_type": "code",
   "execution_count": 17,
   "metadata": {},
   "outputs": [
    {
     "data": {
      "text/plain": [
       "1    7369\n",
       "0     349\n",
       "Name: classe, dtype: int64"
      ]
     },
     "execution_count": 17,
     "metadata": {},
     "output_type": "execute_result"
    }
   ],
   "source": [
    "dados = dados_tunning.copy()\n",
    "\n",
    "dados = dados[[\n",
    "       'LnguaPortuguesaeLiteraturaI90H',\n",
    "       'LnguaPortuguesaeLiteraturaI90H_dependencia',\n",
    "       'LnguaPortuguesaeLiteraturaI90H_freq', 'MatemticaI120H',\n",
    "       'MatemticaI120H_dependencia', 'MatemticaI120H_freq', 'acompanhamento',\n",
    "       'aluno_exclusivo_rede_publica', 'artificial', 'classe', 'conceito',\n",
    "       'conceito_freq', 'descricao_area_residencial',\n",
    "       'descricao_companhia_domiciliar', 'descricao_estado_civil',\n",
    "       'descricao_historico', 'descricao_imovel', 'descricao_mae_escolaridade',\n",
    "       'descricao_pai_escolaridade', 'descricao_raca',\n",
    "       'descricao_responsavel_escolaridade',\n",
    "       'descricao_responsavel_financeiro', 'descricao_trabalho', 'idade',\n",
    "       'pessoa_fisica__sexo', 'possui_necessidade_especial', 'qnt_pc',\n",
    "       'qnt_salarios', 'qtd_pessoas_domicilio', 'sigla',\n",
    "       'tempo_entre_conclusao_ingresso'    \n",
    "]]\n",
    "\n",
    "dados = dados[dados.artificial == 0]\n",
    "dados.classe.value_counts()"
   ]
  },
  {
   "cell_type": "code",
   "execution_count": 18,
   "metadata": {
    "collapsed": true
   },
   "outputs": [],
   "source": [
    "Xtrain, Xtest, ytrain, ytest = train_test_split(dados, dados.classe, random_state=0, stratify = dados.classe)"
   ]
  },
  {
   "cell_type": "code",
   "execution_count": 19,
   "metadata": {},
   "outputs": [
    {
     "name": "stdout",
     "output_type": "stream",
     "text": [
      "1    5526\n",
      "0    5526\n",
      "Name: classe, dtype: int64\n"
     ]
    }
   ],
   "source": [
    "# separa as classes majoritária e minoritária \n",
    "df_majority = Xtrain[Xtrain.classe==1]\n",
    "df_minority = Xtrain[Xtrain.classe==0]\n",
    " \n",
    "# Upsample classe minoritária\n",
    "df_minority_upsampled = resample(df_minority, \n",
    "                                 replace=True,     # sample com reposição\n",
    "                                 n_samples=df_majority.shape[0],    # iguala a quantidade da classe majoritária\n",
    "                                 random_state=0) \n",
    " \n",
    "# junta as duas classes\n",
    "df_upsampled = pd.concat([df_majority, df_minority_upsampled])\n",
    " \n",
    "print(df_upsampled.classe.value_counts())\n",
    "#dados = "
   ]
  },
  {
   "cell_type": "code",
   "execution_count": 20,
   "metadata": {},
   "outputs": [
    {
     "name": "stdout",
     "output_type": "stream",
     "text": [
      "(11052, 31)\n",
      "(1930, 31)\n"
     ]
    }
   ],
   "source": [
    "print(df_upsampled.shape)\n",
    "print(Xtest.shape)"
   ]
  },
  {
   "cell_type": "code",
   "execution_count": 21,
   "metadata": {},
   "outputs": [
    {
     "name": "stdout",
     "output_type": "stream",
     "text": [
      "(11052, 31)\n",
      "(9585, 31)\n",
      "<class 'pandas.core.frame.DataFrame'>\n",
      "Int64Index: 9585 entries, 5781 to 6589\n",
      "Columns: 149 entries, LnguaPortuguesaeLiteraturaI90H to sigla_ZN\n",
      "dtypes: bool(2), float64(4), int64(9), uint8(134)\n",
      "memory usage: 2.3 MB\n",
      "None\n",
      "(1930, 31)\n",
      "(1497, 31)\n",
      "<class 'pandas.core.frame.DataFrame'>\n",
      "Int64Index: 1497 entries, 7727 to 5596\n",
      "Columns: 145 entries, LnguaPortuguesaeLiteraturaI90H to sigla_ZN\n",
      "dtypes: bool(2), float64(4), int64(9), uint8(130)\n",
      "memory usage: 356.7 KB\n",
      "None\n",
      "(9585, 149)\n",
      "(1497, 145)\n",
      "descricao_area_residencial_Comunidade Quilombola\n",
      "descricao_area_residencial_Não informado\n",
      "descricao_imovel_Pensionato ou Alojamento\n",
      "descricao_trabalho_Pescador\n",
      "(9585, 145)\n",
      "(1497, 145)\n"
     ]
    }
   ],
   "source": [
    "Xtrain, ytrain = preparing_data(df_upsampled)\n",
    "Xtest2, ytest  = preparing_data(Xtest)\n",
    "\n",
    "#ocorreu um problema que havia atributos q havia no treino, mas nao havia no teste devido a binarizacao dos elementos categoricos\n",
    "#abaixo é consertado esse problema removendo os atributos que nao estao em comuns\n",
    "print(Xtrain.shape)\n",
    "print(Xtest2.shape)\n",
    "\n",
    "res = np.setdiff1d(Xtrain.columns, Xtest2.columns)\n",
    "for c in res:\n",
    "    print(c)\n",
    "    del Xtrain[c]\n",
    "\n",
    "print(Xtrain.shape)\n",
    "print(Xtest2.shape)    \n",
    "    \n",
    "#dividir os dados para treino e teste. default é 25% p teste\n",
    "#Xtrain, Xtest, ytrain, ytest = train_test_split(X, y, random_state=0, stratify = y)"
   ]
  },
  {
   "cell_type": "code",
   "execution_count": 22,
   "metadata": {},
   "outputs": [
    {
     "name": "stdout",
     "output_type": "stream",
     "text": [
      "{'criterion': 'gini', 'max_depth': None, 'max_features': 'log2', 'n_estimators': 200}\n",
      "RandomForestClassifier(bootstrap=True, class_weight=None, criterion='gini',\n",
      "            max_depth=None, max_features='log2', max_leaf_nodes=None,\n",
      "            min_impurity_decrease=0.0, min_impurity_split=None,\n",
      "            min_samples_leaf=1, min_samples_split=2,\n",
      "            min_weight_fraction_leaf=0.0, n_estimators=200, n_jobs=-1,\n",
      "            oob_score=False, random_state=None, verbose=0,\n",
      "            warm_start=False)\n",
      "Model with rank: 1\n",
      "Mean validation score: 0.996 (std: 0.002)\n",
      "Parameters: {'criterion': 'gini', 'max_depth': None, 'max_features': 'log2', 'n_estimators': 200}\n",
      "\n",
      "Model with rank: 2\n",
      "Mean validation score: 0.996 (std: 0.001)\n",
      "Parameters: {'criterion': 'entropy', 'max_depth': None, 'max_features': 'log2', 'n_estimators': 200}\n",
      "\n",
      "Model with rank: 3\n",
      "Mean validation score: 0.996 (std: 0.002)\n",
      "Parameters: {'criterion': 'gini', 'max_depth': None, 'max_features': 'log2', 'n_estimators': 60}\n",
      "\n"
     ]
    }
   ],
   "source": [
    "#seleciona o melhor modelo\n",
    "model_forest_up = make_RF(Xtrain, ytrain)"
   ]
  },
  {
   "cell_type": "code",
   "execution_count": 23,
   "metadata": {},
   "outputs": [
    {
     "name": "stderr",
     "output_type": "stream",
     "text": [
      "/home/ubuntu/anaconda3/lib/python3.6/site-packages/matplotlib/font_manager.py:1297: UserWarning: findfont: Font family ['sans-serif'] not found. Falling back to DejaVu Sans\n",
      "  (prop.get_family(), self.defaultFamily[fontext]))\n"
     ]
    },
    {
     "name": "stdout",
     "output_type": "stream",
     "text": [
      "Valor de falso positivo:0.5764705882352941\n",
      "Cálculo de índices de avaliação:\n",
      "Precisão: 0.966323; Recall: 0.995751, F1: 0.980816\n",
      "Precisão CV:\n",
      "[0.95364238 0.97350993 0.95333333 0.94666667 0.95333333 0.94630872\n",
      " 0.94630872 0.96644295 0.93959732 0.94630872]\n",
      "0.9525452094167146\n"
     ]
    },
    {
     "name": "stderr",
     "output_type": "stream",
     "text": [
      "/home/ubuntu/anaconda3/lib/python3.6/site-packages/matplotlib/font_manager.py:1297: UserWarning: findfont: Font family ['sans-serif'] not found. Falling back to DejaVu Sans\n",
      "  (prop.get_family(), self.defaultFamily[fontext]))\n"
     ]
    },
    {
     "data": {
      "image/png": "[encoded data removed]",
      "text/plain": [
       "<matplotlib.figure.Figure at 0x7f1b594f27f0>"
      ]
     },
     "metadata": {},
     "output_type": "display_data"
    },
    {
     "data": {
      "image/png": "[encoded data removed]",
      "text/plain": [
       "<matplotlib.figure.Figure at 0x7f1b5aa85a20>"
      ]
     },
     "metadata": {},
     "output_type": "display_data"
    },
    {
     "name": "stdout",
     "output_type": "stream",
     "text": [
      "0.9161181469755041\n",
      "Feature ranking:\n",
      "1. feature 3 [MatemticaI120H] (0.152173)\n",
      "2. feature 0 [LnguaPortuguesaeLiteraturaI90H] (0.145203)\n",
      "3. feature 17 [conceito_R] (0.082508)\n",
      "4. feature 5 [MatemticaI120H_freq] (0.054931)\n",
      "5. feature 15 [conceito_I] (0.046823)\n",
      "6. feature 2 [LnguaPortuguesaeLiteraturaI90H_freq] (0.037374)\n",
      "7. feature 9 [idade] (0.032216)\n",
      "8. feature 13 [qtd_pessoas_domicilio] (0.017919)\n",
      "9. feature 11 [qnt_pc] (0.016116)\n",
      "10. feature 12 [qnt_salarios] (0.015865)\n",
      "11. feature 16 [conceito_O] (0.015150)\n",
      "12. feature 1 [LnguaPortuguesaeLiteraturaI90H_dependencia] (0.014371)\n",
      "13. feature 14 [tempo_entre_conclusao_ingresso] (0.013376)\n",
      "14. feature 4 [MatemticaI120H_dependencia] (0.012594)\n",
      "15. feature 19 [conceito_freq_R] (0.012046)\n",
      "16. feature 6 [acompanhamento] (0.011263)\n",
      "17. feature 10 [possui_necessidade_especial] (0.008902)\n",
      "18. feature 7 [aluno_exclusivo_rede_publica] (0.007211)\n",
      "19. feature 125 [pessoa_fisica__sexo_M] (0.007141)\n",
      "20. feature 131 [sigla_CNAT] (0.006713)\n",
      "21. feature 26 [descricao_companhia_domiciliar_Pais] (0.006655)\n",
      "22. feature 94 [descricao_raca_Parda] (0.006629)\n",
      "23. feature 73 [descricao_mae_escolaridade_Ensino médio completo] (0.006562)\n",
      "24. feature 70 [descricao_imovel_Próprio] (0.006226)\n",
      "25. feature 83 [descricao_pai_escolaridade_Ensino médio completo] (0.006209)\n",
      "26. feature 119 [descricao_trabalho_Nunca trabalhou] (0.006000)\n",
      "27. feature 91 [descricao_raca_Branca] (0.005998)\n",
      "28. feature 112 [descricao_responsavel_financeiro_Pai] (0.005982)\n",
      "29. feature 43 [descricao_historico_Técnico de Nível Médio em Edificações] (0.005902)\n",
      "30. feature 98 [descricao_responsavel_escolaridade_Ensino médio completo] (0.005777)\n",
      "31. feature 22 [descricao_companhia_domiciliar_Mãe] (0.005712)\n",
      "32. feature 108 [descricao_responsavel_financeiro_Mãe] (0.005652)\n",
      "33. feature 36 [descricao_historico_Técnico de Nivel Médio em Informática] (0.005641)\n",
      "34. feature 82 [descricao_pai_escolaridade_Ensino fundamental incompleto] (0.005523)\n",
      "35. feature 135 [sigla_MC] (0.005285)\n",
      "36. feature 27 [descricao_companhia_domiciliar_Parente(s) ou amigo(s)] (0.005237)\n",
      "37. feature 72 [descricao_mae_escolaridade_Ensino fundamental incompleto] (0.004984)\n",
      "38. feature 21 [descricao_area_residencial_Urbana] (0.004977)\n",
      "39. feature 45 [descricao_historico_Técnico de Nível Médio em Eletrotécnica] (0.004956)\n",
      "40. feature 120 [descricao_trabalho_Não está trabalhando] (0.004920)\n",
      "41. feature 97 [descricao_responsavel_escolaridade_Ensino fundamental incompleto] (0.004873)\n",
      "42. feature 61 [descricao_historico_Técnico de Nível Médio em Recursos Pesqueiros] (0.004511)\n",
      "43. feature 74 [descricao_mae_escolaridade_Ensino médio incompleto] (0.004359)\n",
      "44. feature 84 [descricao_pai_escolaridade_Ensino médio incompleto] (0.004352)\n",
      "45. feature 20 [descricao_area_residencial_Rural] (0.004227)\n",
      "46. feature 126 [sigla_CA] (0.003879)\n",
      "47. feature 76 [descricao_mae_escolaridade_Ensino superior incompleto] (0.003851)\n",
      "48. feature 37 [descricao_historico_Técnico de Nível Médio em Administração] (0.003817)\n",
      "49. feature 95 [descricao_raca_Preta] (0.003610)\n",
      "50. feature 99 [descricao_responsavel_escolaridade_Ensino médio incompleto] (0.003413)\n",
      "51. feature 81 [descricao_pai_escolaridade_Ensino fundamental completo] (0.003409)\n",
      "52. feature 67 [descricao_imovel_Financiado] (0.003294)\n",
      "53. feature 75 [descricao_mae_escolaridade_Ensino superior completo] (0.003273)\n",
      "54. feature 100 [descricao_responsavel_escolaridade_Ensino superior completo] (0.003196)\n",
      "55. feature 130 [sigla_CN] (0.003174)\n",
      "56. feature 85 [descricao_pai_escolaridade_Ensino superior completo] (0.003149)\n",
      "57. feature 139 [sigla_PAR] (0.003004)\n",
      "58. feature 133 [sigla_JC] (0.002964)\n",
      "59. feature 101 [descricao_responsavel_escolaridade_Ensino superior incompleto] (0.002915)\n",
      "60. feature 144 [sigla_ZN] (0.002869)\n",
      "61. feature 24 [descricao_companhia_domiciliar_Outros] (0.002799)\n",
      "62. feature 143 [sigla_SPP] (0.002667)\n",
      "63. feature 141 [sigla_SC] (0.002633)\n",
      "64. feature 134 [sigla_LAJ] (0.002613)\n",
      "65. feature 49 [descricao_historico_Técnico de Nível Médio em Informática] (0.002607)\n",
      "66. feature 115 [descricao_trabalho_Autônomo] (0.002478)\n",
      "67. feature 96 [descricao_responsavel_escolaridade_Ensino fundamental completo] (0.002475)\n",
      "68. feature 18 [conceito_freq_I] (0.002474)\n",
      "69. feature 25 [descricao_companhia_domiciliar_Pai] (0.002437)\n",
      "70. feature 88 [descricao_pai_escolaridade_Não estudou] (0.002411)\n",
      "71. feature 65 [descricao_historico_Técnico em Programação de Jogos Digitais] (0.002355)\n",
      "72. feature 71 [descricao_mae_escolaridade_Ensino fundamental completo] (0.002271)\n",
      "73. feature 142 [sigla_SGA] (0.002244)\n",
      "74. feature 50 [descricao_historico_Técnico de Nível Médio em Informática para Internet] (0.002243)\n",
      "75. feature 79 [descricao_mae_escolaridade_Pós graduação completo] (0.002237)\n",
      "76. feature 55 [descricao_historico_Técnico de Nível Médio em Mecânica] (0.002231)\n",
      "77. feature 104 [descricao_responsavel_escolaridade_Pós graduação completo] (0.002179)\n",
      "78. feature 132 [sigla_IP] (0.002142)\n",
      "79. feature 137 [sigla_NC] (0.002137)\n",
      "80. feature 42 [descricao_historico_Técnico de Nível Médio em Controle Ambiental] (0.002091)\n",
      "81. feature 129 [sigla_CM] (0.002074)\n",
      "82. feature 39 [descricao_historico_Técnico de Nível Médio em Alimentos] (0.002060)\n",
      "83. feature 121 [descricao_trabalho_Não informado] (0.002040)\n",
      "84. feature 128 [sigla_CANG] (0.002039)\n",
      "85. feature 53 [descricao_historico_Técnico de Nível Médio em Manutenção e Suporte em Informática] (0.002035)\n",
      "86. feature 103 [descricao_responsavel_escolaridade_Não estudou] (0.002031)\n",
      "87. feature 33 [descricao_historico_Técnico de Nivel Médio em Agropecuária, na Forma Integrada] (0.001966)\n",
      "88. feature 56 [descricao_historico_Técnico de Nível Médio em Meio Ambiente] (0.001849)\n",
      "89. feature 107 [descricao_responsavel_financeiro_Irmão(ã)] (0.001838)\n",
      "90. feature 136 [sigla_MO] (0.001824)\n",
      "91. feature 66 [descricao_imovel_Cedido ou Emprestado] (0.001742)\n",
      "92. feature 87 [descricao_pai_escolaridade_Não conhece] (0.001655)\n",
      "93. feature 47 [descricao_historico_Técnico de Nível Médio em Eventos] (0.001637)\n",
      "94. feature 86 [descricao_pai_escolaridade_Ensino superior incompleto] (0.001636)\n",
      "95. feature 89 [descricao_pai_escolaridade_Pós graduação completo] (0.001558)\n",
      "96. feature 138 [sigla_PAAS] (0.001463)\n",
      "97. feature 78 [descricao_mae_escolaridade_Não estudou] (0.001339)\n",
      "98. feature 63 [descricao_historico_Técnico de Nível Médio em Têxtil] (0.001300)\n",
      "99. feature 46 [descricao_historico_Técnico de Nível Médio em Eletrônica] (0.001268)\n",
      "100. feature 57 [descricao_historico_Técnico de Nível Médio em Mineração] (0.001231)\n",
      "101. feature 69 [descricao_imovel_Outro] (0.001218)\n",
      "102. feature 124 [descricao_trabalho_Trabalhador rural/Agricultor] (0.001207)\n",
      "103. feature 41 [descricao_historico_Técnico de Nível Médio em Comércio] (0.001207)\n",
      "104. feature 140 [sigla_PF] (0.001083)\n",
      "105. feature 54 [descricao_historico_Técnico de Nível Médio em Mecatrônica] (0.001018)\n",
      "106. feature 111 [descricao_responsavel_financeiro_Outros] (0.000983)\n",
      "107. feature 48 [descricao_historico_Técnico de Nível Médio em Geologia] (0.000955)\n",
      "108. feature 127 [sigla_CAL] (0.000892)\n",
      "109. feature 117 [descricao_trabalho_Empresa privada] (0.000871)\n",
      "110. feature 122 [descricao_trabalho_Serviço público] (0.000858)\n",
      "111. feature 44 [descricao_historico_Técnico de Nível Médio em Eletromecânica] (0.000712)\n",
      "112. feature 58 [descricao_historico_Técnico de Nível Médio em Multimídia] (0.000635)\n",
      "113. feature 93 [descricao_raca_Não declarado] (0.000546)\n",
      "114. feature 60 [descricao_historico_Técnico de Nível Médio em Química, na Forma Integrado] (0.000485)\n",
      "115. feature 38 [descricao_historico_Técnico de Nível Médio em Agroecologia] (0.000464)\n",
      "116. feature 114 [descricao_responsavel_financeiro_Tio(a)] (0.000461)\n",
      "117. feature 31 [descricao_estado_civil_Solteiro(a)] (0.000451)\n",
      "118. feature 59 [descricao_historico_Técnico de Nível Médio em Química] (0.000443)\n",
      "119. feature 106 [descricao_responsavel_financeiro_Cônjuge] (0.000439)\n",
      "120. feature 116 [descricao_trabalho_Beneficiário ou Pensionista do INSS] (0.000422)\n",
      "121. feature 52 [descricao_historico_Técnico de Nível Médio em Logística] (0.000406)\n",
      "122. feature 29 [descricao_estado_civil_Divorciado(a)] (0.000356)\n",
      "123. feature 92 [descricao_raca_Indígena] (0.000352)\n",
      "124. feature 64 [descricao_historico_Técnico de Nível Médio em Vestuário] (0.000352)\n",
      "125. feature 118 [descricao_trabalho_Estágio ou bolsa] (0.000335)\n",
      "126. feature 34 [descricao_historico_Técnico de Nivel Médio em Biocombustíveis] (0.000307)\n",
      "127. feature 40 [descricao_historico_Técnico de Nível Médio em Apicultura] (0.000303)\n",
      "128. feature 80 [descricao_mae_escolaridade_Pós graduação incompleto] (0.000293)\n",
      "129. feature 35 [descricao_historico_Técnico de Nivel Médio em Equipamentos Biomédicos] (0.000293)\n",
      "130. feature 51 [descricao_historico_Técnico de Nível Médio em Lazer] (0.000291)\n",
      "131. feature 123 [descricao_trabalho_Trabalha com vínculo empregatício] (0.000285)\n",
      "132. feature 113 [descricao_responsavel_financeiro_Parentes] (0.000284)\n",
      "133. feature 62 [descricao_historico_Técnico de Nível Médio em Refrigeração e Climatização] (0.000269)\n",
      "134. feature 110 [descricao_responsavel_financeiro_O próprio aluno] (0.000245)\n",
      "135. feature 77 [descricao_mae_escolaridade_Não conhece] (0.000211)\n",
      "136. feature 102 [descricao_responsavel_escolaridade_Não conhece] (0.000188)\n",
      "137. feature 105 [descricao_responsavel_escolaridade_Pós graduação incompleto] (0.000162)\n",
      "138. feature 32 [descricao_estado_civil_União Estável] (0.000151)\n",
      "139. feature 23 [descricao_companhia_domiciliar_Não informado] (0.000131)\n",
      "140. feature 90 [descricao_pai_escolaridade_Pós graduação incompleto] (0.000108)\n",
      "141. feature 109 [descricao_responsavel_financeiro_Não informado] (0.000107)\n",
      "142. feature 68 [descricao_imovel_Não informado] (0.000040)\n",
      "143. feature 28 [descricao_companhia_domiciliar_Sozinho(a)] (0.000010)\n",
      "144. feature 30 [descricao_estado_civil_Não declarado] (0.000002)\n",
      "145. feature 8 [artificial] (0.000000)\n"
     ]
    },
    {
     "data": {
      "image/png": "[encoded data removed]",
      "text/plain": [
       "<matplotlib.figure.Figure at 0x7f1b5aa769b0>"
      ]
     },
     "metadata": {},
     "output_type": "display_data"
    }
   ],
   "source": [
    "ypred_forest = model_forest_up.predict(Xtest2)\n",
    "\n",
    "#avaliacao do modelo\n",
    "evaluating(model_forest_up, ytest, ypred_forest, Xtest2)\n",
    "\n",
    "feature_ranking(Xtest2, model_forest_up)"
   ]
  },
  {
   "cell_type": "markdown",
   "metadata": {},
   "source": [
    "# Modelo 03: diminuindo a quantidade de instâncias da classe 01"
   ]
  },
  {
   "cell_type": "code",
   "execution_count": 24,
   "metadata": {},
   "outputs": [
    {
     "name": "stdout",
     "output_type": "stream",
     "text": [
      "1    7369\n",
      "0     349\n",
      "Name: classe, dtype: int64\n"
     ]
    },
    {
     "data": {
      "text/plain": [
       "1    349\n",
       "0    349\n",
       "Name: classe, dtype: int64"
      ]
     },
     "execution_count": 24,
     "metadata": {},
     "output_type": "execute_result"
    }
   ],
   "source": [
    "dados = dados_tunning.copy()\n",
    "\n",
    "dados = dados[[\n",
    "       'LnguaPortuguesaeLiteraturaI90H',\n",
    "       'LnguaPortuguesaeLiteraturaI90H_dependencia',\n",
    "       'LnguaPortuguesaeLiteraturaI90H_freq', 'MatemticaI120H',\n",
    "       'MatemticaI120H_dependencia', 'MatemticaI120H_freq', 'acompanhamento',\n",
    "       'aluno_exclusivo_rede_publica', 'artificial', 'classe', 'conceito',\n",
    "       'conceito_freq', 'descricao_area_residencial',\n",
    "       'descricao_companhia_domiciliar', 'descricao_estado_civil',\n",
    "       'descricao_historico', 'descricao_imovel', 'descricao_mae_escolaridade',\n",
    "       'descricao_pai_escolaridade', 'descricao_raca',\n",
    "       'descricao_responsavel_escolaridade',\n",
    "       'descricao_responsavel_financeiro', 'descricao_trabalho', 'idade',\n",
    "       'pessoa_fisica__sexo', 'possui_necessidade_especial', 'qnt_pc',\n",
    "       'qnt_salarios', 'qtd_pessoas_domicilio', 'sigla',\n",
    "       'tempo_entre_conclusao_ingresso'    \n",
    "]] \n",
    "\n",
    "dados = dados[dados.artificial == 0]\n",
    "print(dados.classe.value_counts())\n",
    "\n",
    "# Separate majority and minority classes\n",
    "df_majority = dados[dados.classe==1]\n",
    "df_minority = dados[dados.classe==0]\n",
    " \n",
    "# Downsample majority class\n",
    "df_majority_downsampled = resample(df_majority, \n",
    "                                 replace=False,    # sample without replacement\n",
    "                                 n_samples=df_minority.shape[0],     # to match minority class\n",
    "                                 random_state=0) # reproducible results\n",
    " \n",
    "# Combine majority class with upsampled minority class\n",
    "df_upsampled = pd.concat([df_minority, df_majority_downsampled])\n",
    " \n",
    "# Display new class counts\n",
    "df_upsampled.classe.value_counts()\n",
    "#dados = df_upsampled"
   ]
  },
  {
   "cell_type": "code",
   "execution_count": 25,
   "metadata": {},
   "outputs": [
    {
     "name": "stdout",
     "output_type": "stream",
     "text": [
      "(698, 31)\n",
      "(613, 31)\n",
      "<class 'pandas.core.frame.DataFrame'>\n",
      "Int64Index: 613 entries, 1028 to 31\n",
      "Columns: 143 entries, LnguaPortuguesaeLiteraturaI90H to sigla_ZN\n",
      "dtypes: bool(2), float64(4), int64(9), uint8(128)\n",
      "memory usage: 144.9 KB\n",
      "None\n"
     ]
    }
   ],
   "source": [
    "X, y = preparing_data(df_upsampled)\n",
    "\n",
    "#dividir os dados para treino e teste. default é 25% p teste\n",
    "Xtrain, Xtest, ytrain, ytest = train_test_split(X, y, random_state=0, stratify = y)"
   ]
  },
  {
   "cell_type": "code",
   "execution_count": 26,
   "metadata": {},
   "outputs": [
    {
     "name": "stdout",
     "output_type": "stream",
     "text": [
      "{'criterion': 'gini', 'max_depth': None, 'max_features': 'auto', 'n_estimators': 60}\n",
      "RandomForestClassifier(bootstrap=True, class_weight=None, criterion='gini',\n",
      "            max_depth=None, max_features='auto', max_leaf_nodes=None,\n",
      "            min_impurity_decrease=0.0, min_impurity_split=None,\n",
      "            min_samples_leaf=1, min_samples_split=2,\n",
      "            min_weight_fraction_leaf=0.0, n_estimators=60, n_jobs=-1,\n",
      "            oob_score=False, random_state=None, verbose=0,\n",
      "            warm_start=False)\n",
      "Model with rank: 1\n",
      "Mean validation score: 0.882 (std: 0.034)\n",
      "Parameters: {'criterion': 'gini', 'max_depth': None, 'max_features': 'auto', 'n_estimators': 60}\n",
      "\n",
      "Model with rank: 1\n",
      "Mean validation score: 0.882 (std: 0.049)\n",
      "Parameters: {'criterion': 'gini', 'max_depth': None, 'max_features': 'auto', 'n_estimators': 100}\n",
      "\n",
      "Model with rank: 1\n",
      "Mean validation score: 0.882 (std: 0.042)\n",
      "Parameters: {'criterion': 'gini', 'max_depth': None, 'max_features': 'sqrt', 'n_estimators': 200}\n",
      "\n",
      "Model with rank: 1\n",
      "Mean validation score: 0.882 (std: 0.046)\n",
      "Parameters: {'criterion': 'entropy', 'max_depth': None, 'max_features': 'sqrt', 'n_estimators': 60}\n",
      "\n",
      "Model with rank: 1\n",
      "Mean validation score: 0.882 (std: 0.045)\n",
      "Parameters: {'criterion': 'entropy', 'max_depth': None, 'max_features': 'sqrt', 'n_estimators': 100}\n",
      "\n",
      "Valor de falso positivo:0.0963855421686747\n",
      "Cálculo de índices de avaliação:\n",
      "Precisão: 0.870968; Recall: 0.760563, F1: 0.812030\n",
      "Precisão CV:\n"
     ]
    },
    {
     "name": "stderr",
     "output_type": "stream",
     "text": [
      "/home/ubuntu/anaconda3/lib/python3.6/site-packages/matplotlib/font_manager.py:1297: UserWarning: findfont: Font family ['sans-serif'] not found. Falling back to DejaVu Sans\n",
      "  (prop.get_family(), self.defaultFamily[fontext]))\n"
     ]
    },
    {
     "name": "stdout",
     "output_type": "stream",
     "text": [
      "[0.88235294 0.875      0.8125     0.73333333 0.93333333 0.6\n",
      " 0.73333333 0.73333333 0.86666667 0.93333333]\n",
      "0.8103186274509804\n"
     ]
    },
    {
     "name": "stderr",
     "output_type": "stream",
     "text": [
      "/home/ubuntu/anaconda3/lib/python3.6/site-packages/matplotlib/font_manager.py:1297: UserWarning: findfont: Font family ['sans-serif'] not found. Falling back to DejaVu Sans\n",
      "  (prop.get_family(), self.defaultFamily[fontext]))\n"
     ]
    },
    {
     "data": {
      "image/png": "[encoded data removed]",
      "text/plain": [
       "<matplotlib.figure.Figure at 0x7f1b5aa33be0>"
      ]
     },
     "metadata": {},
     "output_type": "display_data"
    },
    {
     "data": {
      "image/png": "[encoded data removed]",
      "text/plain": [
       "<matplotlib.figure.Figure at 0x7f1b5aa61588>"
      ]
     },
     "metadata": {},
     "output_type": "display_data"
    },
    {
     "name": "stdout",
     "output_type": "stream",
     "text": [
      "0.8694213473612761\n",
      "Feature ranking:\n",
      "1. feature 0 [LnguaPortuguesaeLiteraturaI90H] (0.142109)\n",
      "2. feature 3 [MatemticaI120H] (0.138703)\n",
      "3. feature 17 [conceito_R] (0.103275)\n",
      "4. feature 15 [conceito_I] (0.071028)\n",
      "5. feature 5 [MatemticaI120H_freq] (0.055857)\n",
      "6. feature 2 [LnguaPortuguesaeLiteraturaI90H_freq] (0.045701)\n",
      "7. feature 4 [MatemticaI120H_dependencia] (0.023167)\n",
      "8. feature 9 [idade] (0.022940)\n",
      "9. feature 16 [conceito_O] (0.019339)\n",
      "10. feature 11 [qnt_pc] (0.016226)\n",
      "11. feature 13 [qtd_pessoas_domicilio] (0.014108)\n",
      "12. feature 1 [LnguaPortuguesaeLiteraturaI90H_dependencia] (0.012913)\n",
      "13. feature 14 [tempo_entre_conclusao_ingresso] (0.012558)\n",
      "14. feature 12 [qnt_salarios] (0.012211)\n",
      "15. feature 129 [sigla_CNAT] (0.009715)\n",
      "16. feature 81 [descricao_pai_escolaridade_Ensino médio completo] (0.008609)\n",
      "17. feature 26 [descricao_companhia_domiciliar_Pais] (0.008046)\n",
      "18. feature 10 [possui_necessidade_especial] (0.007837)\n",
      "19. feature 7 [aluno_exclusivo_rede_publica] (0.007654)\n",
      "20. feature 110 [descricao_responsavel_financeiro_Pai] (0.007560)\n",
      "21. feature 123 [pessoa_fisica__sexo_M] (0.007348)\n",
      "22. feature 71 [descricao_mae_escolaridade_Ensino médio completo] (0.007135)\n",
      "23. feature 19 [conceito_freq_R] (0.006901)\n",
      "24. feature 6 [acompanhamento] (0.006860)\n",
      "25. feature 68 [descricao_imovel_Próprio] (0.006841)\n",
      "26. feature 72 [descricao_mae_escolaridade_Ensino médio incompleto] (0.006324)\n",
      "27. feature 40 [descricao_historico_Técnico de Nível Médio em Edificações] (0.006145)\n",
      "28. feature 70 [descricao_mae_escolaridade_Ensino fundamental incompleto] (0.005845)\n",
      "29. feature 22 [descricao_companhia_domiciliar_Mãe] (0.005757)\n",
      "30. feature 95 [descricao_responsavel_escolaridade_Ensino fundamental incompleto] (0.005375)\n",
      "31. feature 99 [descricao_responsavel_escolaridade_Ensino superior incompleto] (0.005325)\n",
      "32. feature 106 [descricao_responsavel_financeiro_Mãe] (0.005248)\n",
      "33. feature 96 [descricao_responsavel_escolaridade_Ensino médio completo] (0.004821)\n",
      "34. feature 118 [descricao_trabalho_Não está trabalhando] (0.004670)\n",
      "35. feature 102 [descricao_responsavel_escolaridade_Pós graduação completo] (0.004670)\n",
      "36. feature 34 [descricao_historico_Técnico de Nível Médio em Administração] (0.004514)\n",
      "37. feature 117 [descricao_trabalho_Nunca trabalhou] (0.004426)\n",
      "38. feature 74 [descricao_mae_escolaridade_Ensino superior incompleto] (0.004420)\n",
      "39. feature 80 [descricao_pai_escolaridade_Ensino fundamental incompleto] (0.004379)\n",
      "40. feature 92 [descricao_raca_Parda] (0.004270)\n",
      "41. feature 33 [descricao_historico_Técnico de Nivel Médio em Informática] (0.004143)\n",
      "42. feature 42 [descricao_historico_Técnico de Nível Médio em Eletrotécnica] (0.004086)\n",
      "43. feature 133 [sigla_MC] (0.004049)\n",
      "44. feature 82 [descricao_pai_escolaridade_Ensino médio incompleto] (0.003994)\n",
      "45. feature 97 [descricao_responsavel_escolaridade_Ensino médio incompleto] (0.003870)\n",
      "46. feature 139 [sigla_SC] (0.003859)\n",
      "47. feature 89 [descricao_raca_Branca] (0.003704)\n",
      "48. feature 124 [sigla_CA] (0.003588)\n",
      "49. feature 20 [descricao_area_residencial_Rural] (0.003406)\n",
      "50. feature 24 [descricao_companhia_domiciliar_Outros] (0.003313)\n",
      "51. feature 21 [descricao_area_residencial_Urbana] (0.003297)\n",
      "52. feature 64 [descricao_imovel_Financiado] (0.003218)\n",
      "53. feature 66 [descricao_imovel_Outro] (0.003145)\n",
      "54. feature 25 [descricao_companhia_domiciliar_Pai] (0.002866)\n",
      "55. feature 27 [descricao_companhia_domiciliar_Parente(s) ou amigo(s)] (0.002818)\n",
      "56. feature 93 [descricao_raca_Preta] (0.002786)\n",
      "57. feature 73 [descricao_mae_escolaridade_Ensino superior completo] (0.002760)\n",
      "58. feature 79 [descricao_pai_escolaridade_Ensino fundamental completo] (0.002587)\n",
      "59. feature 120 [descricao_trabalho_Serviço público] (0.002582)\n",
      "60. feature 58 [descricao_historico_Técnico de Nível Médio em Recursos Pesqueiros] (0.002581)\n",
      "61. feature 132 [sigla_LAJ] (0.002543)\n",
      "62. feature 131 [sigla_JC] (0.002516)\n",
      "63. feature 141 [sigla_SPP] (0.002493)\n",
      "64. feature 98 [descricao_responsavel_escolaridade_Ensino superior completo] (0.002490)\n",
      "65. feature 137 [sigla_PAR] (0.002489)\n",
      "66. feature 77 [descricao_mae_escolaridade_Pós graduação completo] (0.002405)\n",
      "67. feature 94 [descricao_responsavel_escolaridade_Ensino fundamental completo] (0.002335)\n",
      "68. feature 83 [descricao_pai_escolaridade_Ensino superior completo] (0.002297)\n",
      "69. feature 126 [sigla_CANG] (0.002193)\n",
      "70. feature 46 [descricao_historico_Técnico de Nível Médio em Informática] (0.001992)\n",
      "71. feature 135 [sigla_NC] (0.001880)\n",
      "72. feature 101 [descricao_responsavel_escolaridade_Não estudou] (0.001851)\n",
      "73. feature 128 [sigla_CN] (0.001791)\n",
      "74. feature 52 [descricao_historico_Técnico de Nível Médio em Mecânica] (0.001784)\n",
      "75. feature 140 [sigla_SGA] (0.001762)\n",
      "76. feature 86 [descricao_pai_escolaridade_Não estudou] (0.001741)\n",
      "77. feature 69 [descricao_mae_escolaridade_Ensino fundamental completo] (0.001712)\n",
      "78. feature 136 [sigla_PAAS] (0.001587)\n",
      "79. feature 50 [descricao_historico_Técnico de Nível Médio em Manutenção e Suporte em Informática] (0.001566)\n",
      "80. feature 41 [descricao_historico_Técnico de Nível Médio em Eletromecânica] (0.001522)\n",
      "81. feature 119 [descricao_trabalho_Não informado] (0.001514)\n",
      "82. feature 39 [descricao_historico_Técnico de Nível Médio em Controle Ambiental] (0.001456)\n",
      "83. feature 54 [descricao_historico_Técnico de Nível Médio em Mineração] (0.001454)\n",
      "84. feature 47 [descricao_historico_Técnico de Nível Médio em Informática para Internet] (0.001439)\n",
      "85. feature 116 [descricao_trabalho_Estágio ou bolsa] (0.001371)\n",
      "86. feature 30 [descricao_historico_Técnico de Nivel Médio em Agropecuária, na Forma Integrada] (0.001363)\n",
      "87. feature 18 [conceito_freq_I] (0.001301)\n",
      "88. feature 56 [descricao_historico_Técnico de Nível Médio em Química] (0.001287)\n",
      "89. feature 87 [descricao_pai_escolaridade_Pós graduação completo] (0.001282)\n",
      "90. feature 113 [descricao_trabalho_Autônomo] (0.001277)\n",
      "91. feature 55 [descricao_historico_Técnico de Nível Médio em Multimídia] (0.001242)\n",
      "92. feature 127 [sigla_CM] (0.001217)\n",
      "93. feature 85 [descricao_pai_escolaridade_Não conhece] (0.001203)\n",
      "94. feature 109 [descricao_responsavel_financeiro_Outros] (0.001155)\n",
      "95. feature 62 [descricao_historico_Técnico em Programação de Jogos Digitais] (0.001137)\n",
      "96. feature 138 [sigla_PF] (0.001112)\n",
      "97. feature 63 [descricao_imovel_Cedido ou Emprestado] (0.001100)\n",
      "98. feature 36 [descricao_historico_Técnico de Nível Médio em Alimentos] (0.001098)\n",
      "99. feature 29 [descricao_estado_civil_Solteiro(a)] (0.001048)\n",
      "100. feature 60 [descricao_historico_Técnico de Nível Médio em Têxtil] (0.001016)\n",
      "101. feature 125 [sigla_CAL] (0.001005)\n",
      "102. feature 84 [descricao_pai_escolaridade_Ensino superior incompleto] (0.000958)\n",
      "103. feature 114 [descricao_trabalho_Beneficiário ou Pensionista do INSS] (0.000893)\n",
      "104. feature 45 [descricao_historico_Técnico de Nível Médio em Geologia] (0.000870)\n",
      "105. feature 37 [descricao_historico_Técnico de Nível Médio em Apicultura] (0.000812)\n",
      "106. feature 57 [descricao_historico_Técnico de Nível Médio em Química, na Forma Integrado] (0.000808)\n",
      "107. feature 134 [sigla_MO] (0.000805)\n",
      "108. feature 112 [descricao_responsavel_financeiro_Tio(a)] (0.000800)\n",
      "109. feature 51 [descricao_historico_Técnico de Nível Médio em Mecatrônica] (0.000759)\n",
      "110. feature 53 [descricao_historico_Técnico de Nível Médio em Meio Ambiente] (0.000757)\n",
      "111. feature 142 [sigla_ZN] (0.000693)\n",
      "112. feature 44 [descricao_historico_Técnico de Nível Médio em Eventos] (0.000589)\n",
      "113. feature 108 [descricao_responsavel_financeiro_O próprio aluno] (0.000565)\n",
      "114. feature 76 [descricao_mae_escolaridade_Não estudou] (0.000560)\n",
      "115. feature 105 [descricao_responsavel_financeiro_Irmão(ã)] (0.000522)\n",
      "116. feature 91 [descricao_raca_Não declarado] (0.000518)\n",
      "117. feature 88 [descricao_pai_escolaridade_Pós graduação incompleto] (0.000507)\n",
      "118. feature 35 [descricao_historico_Técnico de Nível Médio em Agroecologia] (0.000497)\n",
      "119. feature 104 [descricao_responsavel_financeiro_Cônjuge] (0.000483)\n",
      "120. feature 130 [sigla_IP] (0.000463)\n",
      "121. feature 28 [descricao_estado_civil_Divorciado(a)] (0.000365)\n",
      "122. feature 59 [descricao_historico_Técnico de Nível Médio em Refrigeração e Climatização] (0.000294)\n",
      "123. feature 38 [descricao_historico_Técnico de Nível Médio em Comércio] (0.000276)\n",
      "124. feature 43 [descricao_historico_Técnico de Nível Médio em Eletrônica] (0.000268)\n",
      "125. feature 23 [descricao_companhia_domiciliar_Não informado] (0.000239)\n",
      "126. feature 61 [descricao_historico_Técnico de Nível Médio em Vestuário] (0.000238)\n",
      "127. feature 122 [descricao_trabalho_Trabalhador rural/Agricultor] (0.000233)\n",
      "128. feature 31 [descricao_historico_Técnico de Nivel Médio em Biocombustíveis] (0.000198)\n",
      "129. feature 48 [descricao_historico_Técnico de Nível Médio em Lazer] (0.000178)\n",
      "130. feature 103 [descricao_responsavel_escolaridade_Pós graduação incompleto] (0.000174)\n",
      "131. feature 115 [descricao_trabalho_Empresa privada] (0.000112)\n",
      "132. feature 65 [descricao_imovel_Não informado] (0.000056)\n",
      "133. feature 100 [descricao_responsavel_escolaridade_Não conhece] (0.000000)\n",
      "134. feature 67 [descricao_imovel_Pensionato ou Alojamento] (0.000000)\n",
      "135. feature 75 [descricao_mae_escolaridade_Não conhece] (0.000000)\n",
      "136. feature 90 [descricao_raca_Indígena] (0.000000)\n",
      "137. feature 8 [artificial] (0.000000)\n",
      "138. feature 107 [descricao_responsavel_financeiro_Não informado] (0.000000)\n",
      "139. feature 32 [descricao_historico_Técnico de Nivel Médio em Equipamentos Biomédicos] (0.000000)\n",
      "140. feature 121 [descricao_trabalho_Trabalha com vínculo empregatício] (0.000000)\n",
      "141. feature 111 [descricao_responsavel_financeiro_Parentes] (0.000000)\n",
      "142. feature 49 [descricao_historico_Técnico de Nível Médio em Logística] (0.000000)\n",
      "143. feature 78 [descricao_mae_escolaridade_Pós graduação incompleto] (0.000000)\n"
     ]
    },
    {
     "data": {
      "image/png": "[encoded data removed]",
      "text/plain": [
       "<matplotlib.figure.Figure at 0x7f1b59009d68>"
      ]
     },
     "metadata": {},
     "output_type": "display_data"
    }
   ],
   "source": [
    "#seleciona o melhor modelo\n",
    "model_forest_min = make_RF(Xtrain, ytrain)\n",
    "ypred_forest = model_forest_min.predict(Xtest)\n",
    "\n",
    "#avaliacao do modelo\n",
    "evaluating(model_forest_min, ytest, ypred_forest, Xtest)\n",
    "\n",
    "feature_ranking(Xtest, model_forest_min)"
   ]
  },
  {
   "cell_type": "markdown",
   "metadata": {},
   "source": [
    "# Selecionando atributos do melhor modelo\n",
    "\n",
    "o melhor modelo verificado foi utilizando o downsample"
   ]
  },
  {
   "cell_type": "code",
   "execution_count": 27,
   "metadata": {},
   "outputs": [
    {
     "name": "stdout",
     "output_type": "stream",
     "text": [
      "Best Columns \n",
      "------------\n",
      "['LnguaPortuguesaeLiteraturaI90H', 'LnguaPortuguesaeLiteraturaI90H_dependencia', 'LnguaPortuguesaeLiteraturaI90H_freq', 'MatemticaI120H', 'MatemticaI120H_dependencia', 'MatemticaI120H_freq', 'acompanhamento', 'idade', 'qnt_pc', 'qnt_salarios', 'qtd_pessoas_domicilio', 'tempo_entre_conclusao_ingresso', 'conceito_I', 'conceito_R', 'descricao_companhia_domiciliar_Pais', 'descricao_historico_Técnico de Nível Médio em Eletrotécnica', 'descricao_pai_escolaridade_Ensino médio completo', 'descricao_pai_escolaridade_Ensino médio incompleto', 'pessoa_fisica__sexo_M', 'sigla_CNAT', 'sigla_MC']\n",
      "\n"
     ]
    }
   ],
   "source": [
    "from sklearn.feature_selection import RFECV\n",
    "\n",
    "selector = RFECV(model_forest_min, cv=10, n_jobs=-1)\n",
    "selector.fit(X, y)\n",
    "\n",
    "atributos_01 = list(X.columns[selector.support_])\n",
    "print(\"Best Columns \\n\"+\"-\"*12+\"\\n{}\\n\".format(best_columns))"
   ]
  },
  {
   "cell_type": "code",
   "execution_count": 28,
   "metadata": {},
   "outputs": [
    {
     "name": "stdout",
     "output_type": "stream",
     "text": [
      "Best Columns \n",
      "------------\n",
      "['LnguaPortuguesaeLiteraturaI90H', 'LnguaPortuguesaeLiteraturaI90H_dependencia', 'LnguaPortuguesaeLiteraturaI90H_freq', 'MatemticaI120H', 'MatemticaI120H_dependencia', 'MatemticaI120H_freq', 'acompanhamento', 'aluno_exclusivo_rede_publica', 'idade', 'possui_necessidade_especial', 'qnt_pc', 'qnt_salarios', 'qtd_pessoas_domicilio', 'tempo_entre_conclusao_ingresso', 'conceito_I', 'conceito_O', 'conceito_R', 'conceito_freq_R', 'descricao_area_residencial_Rural', 'descricao_area_residencial_Urbana', 'descricao_companhia_domiciliar_Mãe', 'descricao_companhia_domiciliar_Pais', 'descricao_companhia_domiciliar_Parente(s) ou amigo(s)', 'descricao_historico_Técnico de Nivel Médio em Informática', 'descricao_historico_Técnico de Nível Médio em Administração', 'descricao_historico_Técnico de Nível Médio em Edificações', 'descricao_historico_Técnico de Nível Médio em Eletrotécnica', 'descricao_historico_Técnico de Nível Médio em Informática para Internet', 'descricao_historico_Técnico de Nível Médio em Mecânica', 'descricao_historico_Técnico de Nível Médio em Recursos Pesqueiros', 'descricao_historico_Técnico de Nível Médio em Têxtil', 'descricao_imovel_Próprio', 'descricao_mae_escolaridade_Ensino fundamental completo', 'descricao_mae_escolaridade_Ensino fundamental incompleto', 'descricao_mae_escolaridade_Ensino médio completo', 'descricao_pai_escolaridade_Ensino fundamental incompleto', 'descricao_pai_escolaridade_Ensino médio completo', 'descricao_pai_escolaridade_Ensino médio incompleto', 'descricao_pai_escolaridade_Ensino superior completo', 'descricao_raca_Branca', 'descricao_raca_Parda', 'descricao_raca_Preta', 'descricao_responsavel_escolaridade_Ensino fundamental incompleto', 'descricao_responsavel_escolaridade_Ensino médio completo', 'descricao_responsavel_escolaridade_Ensino médio incompleto', 'descricao_responsavel_escolaridade_Ensino superior incompleto', 'descricao_responsavel_escolaridade_Pós graduação completo', 'descricao_responsavel_financeiro_Mãe', 'descricao_responsavel_financeiro_Pai', 'descricao_trabalho_Autônomo', 'descricao_trabalho_Empresa privada', 'descricao_trabalho_Nunca trabalhou', 'descricao_trabalho_Não está trabalhando', 'descricao_trabalho_Não informado', 'descricao_trabalho_Serviço público', 'pessoa_fisica__sexo_M', 'sigla_CN', 'sigla_CNAT', 'sigla_IP', 'sigla_JC', 'sigla_MC', 'sigla_PF', 'sigla_SGA']\n",
      "\n"
     ]
    }
   ],
   "source": [
    "selector = RFECV(model_forest_min, cv=10, n_jobs=-1)\n",
    "selector.fit(Xtest, ytest)\n",
    "\n",
    "atributos_02 = list(Xtest.columns[selector.support_])\n",
    "print(\"Best Columns \\n\"+\"-\"*12+\"\\n{}\\n\".format(best_columns))"
   ]
  },
  {
   "cell_type": "markdown",
   "metadata": {},
   "source": [
    "# Modelo 04: modelo com seleção de atributos "
   ]
  },
  {
   "cell_type": "code",
   "execution_count": 43,
   "metadata": {},
   "outputs": [
    {
     "name": "stdout",
     "output_type": "stream",
     "text": [
      "132\n",
      "21\n",
      "24\n",
      "['LnguaPortuguesaeLiteraturaI90H'\n",
      " 'LnguaPortuguesaeLiteraturaI90H_dependencia'\n",
      " 'LnguaPortuguesaeLiteraturaI90H_freq' 'MatemticaI120H'\n",
      " 'MatemticaI120H_dependencia' 'MatemticaI120H_freq' 'acompanhamento'\n",
      " 'conceito_I' 'conceito_R'\n",
      " 'descricao_historico_Técnico de Nível Médio em Eletrotécnica'\n",
      " 'descricao_pai_escolaridade_Ensino médio completo'\n",
      " 'descricao_pai_escolaridade_Ensino médio incompleto'\n",
      " 'pessoa_fisica__sexo_M' 'sigla_CNAT' 'sigla_MC']\n",
      "['descricao_area_residencial_Rural'\n",
      " 'descricao_historico_Técnico de Nivel Médio em Agropecuária, na Forma Integrada'\n",
      " 'descricao_historico_Técnico de Nível Médio em Administração'\n",
      " 'descricao_historico_Técnico de Nível Médio em Eletrônica'\n",
      " 'descricao_historico_Técnico de Nível Médio em Mecatrônica'\n",
      " 'descricao_mae_escolaridade_Ensino fundamental incompleto'\n",
      " 'descricao_mae_escolaridade_Ensino médio completo'\n",
      " 'descricao_mae_escolaridade_Ensino médio incompleto'\n",
      " 'descricao_raca_Não declarado' 'descricao_raca_Parda'\n",
      " 'descricao_responsavel_escolaridade_Ensino médio incompleto'\n",
      " 'descricao_responsavel_financeiro_Pai' 'possui_necessidade_especial'\n",
      " 'sigla_CA' 'sigla_JC' 'sigla_PAR' 'sigla_PF' 'sigla_SC']\n"
     ]
    }
   ],
   "source": [
    "print(Xtest.columns.size)\n",
    "print(len(atributos_01))\n",
    "print(len(atributos_02))\n",
    "print(np.setdiff1d(atributos_01, atributos_02))\n",
    "print(np.setdiff1d(atributos_02, atributos_01))"
   ]
  },
  {
   "cell_type": "code",
   "execution_count": 30,
   "metadata": {
    "collapsed": true
   },
   "outputs": [],
   "source": [
    "Xtrain_red = Xtrain[atributos_02]\n",
    "Xtest_red  = Xtest[atributos_02]"
   ]
  },
  {
   "cell_type": "code",
   "execution_count": 31,
   "metadata": {},
   "outputs": [
    {
     "name": "stdout",
     "output_type": "stream",
     "text": [
      "{'criterion': 'entropy', 'max_depth': None, 'max_features': 'sqrt', 'n_estimators': 10}\n",
      "RandomForestClassifier(bootstrap=True, class_weight=None, criterion='entropy',\n",
      "            max_depth=None, max_features='sqrt', max_leaf_nodes=None,\n",
      "            min_impurity_decrease=0.0, min_impurity_split=None,\n",
      "            min_samples_leaf=1, min_samples_split=2,\n",
      "            min_weight_fraction_leaf=0.0, n_estimators=10, n_jobs=-1,\n",
      "            oob_score=False, random_state=None, verbose=0,\n",
      "            warm_start=False)\n",
      "Model with rank: 1\n",
      "Mean validation score: 0.887 (std: 0.037)\n",
      "Parameters: {'criterion': 'entropy', 'max_depth': None, 'max_features': 'sqrt', 'n_estimators': 10}\n",
      "\n",
      "Model with rank: 2\n",
      "Mean validation score: 0.885 (std: 0.035)\n",
      "Parameters: {'criterion': 'entropy', 'max_depth': None, 'max_features': 'sqrt', 'n_estimators': 60}\n",
      "\n",
      "Model with rank: 2\n",
      "Mean validation score: 0.885 (std: 0.043)\n",
      "Parameters: {'criterion': 'entropy', 'max_depth': None, 'max_features': 'log2', 'n_estimators': 60}\n",
      "\n"
     ]
    }
   ],
   "source": [
    "#seleciona o melhor modelo\n",
    "model_forest_red = make_RF(Xtrain_red, ytrain)\n",
    "\n",
    "ypred_forest = model_forest_red.predict(Xtest_red)\n"
   ]
  },
  {
   "cell_type": "code",
   "execution_count": 32,
   "metadata": {},
   "outputs": [
    {
     "name": "stdout",
     "output_type": "stream",
     "text": [
      "Valor de falso positivo:0.0963855421686747\n",
      "Cálculo de índices de avaliação:\n",
      "Precisão: 0.868852; Recall: 0.746479, F1: 0.803030\n",
      "Precisão CV:\n"
     ]
    },
    {
     "name": "stderr",
     "output_type": "stream",
     "text": [
      "/home/ubuntu/anaconda3/lib/python3.6/site-packages/matplotlib/font_manager.py:1297: UserWarning: findfont: Font family ['sans-serif'] not found. Falling back to DejaVu Sans\n",
      "  (prop.get_family(), self.defaultFamily[fontext]))\n"
     ]
    },
    {
     "name": "stdout",
     "output_type": "stream",
     "text": [
      "[0.82352941 0.8125     0.8125     0.73333333 0.93333333 0.66666667\n",
      " 0.8        0.73333333 0.86666667 1.        ]\n",
      "0.8181862745098039\n"
     ]
    },
    {
     "name": "stderr",
     "output_type": "stream",
     "text": [
      "/home/ubuntu/anaconda3/lib/python3.6/site-packages/matplotlib/font_manager.py:1297: UserWarning: findfont: Font family ['sans-serif'] not found. Falling back to DejaVu Sans\n",
      "  (prop.get_family(), self.defaultFamily[fontext]))\n"
     ]
    },
    {
     "data": {
      "image/png": "[encoded data removed]",
      "text/plain": [
       "<matplotlib.figure.Figure at 0x7f1b5aaaaac8>"
      ]
     },
     "metadata": {},
     "output_type": "display_data"
    },
    {
     "data": {
      "image/png": "[encoded data removed]",
      "text/plain": [
       "<matplotlib.figure.Figure at 0x7f1b5ab03198>"
      ]
     },
     "metadata": {},
     "output_type": "display_data"
    },
    {
     "name": "stdout",
     "output_type": "stream",
     "text": [
      "0.8686577295095876\n",
      "Feature ranking:\n",
      "1. feature 0 [LnguaPortuguesaeLiteraturaI90H] (0.207988)\n",
      "2. feature 3 [MatemticaI120H] (0.171674)\n",
      "3. feature 16 [conceito_R] (0.115952)\n",
      "4. feature 5 [MatemticaI120H_freq] (0.051455)\n",
      "5. feature 15 [conceito_O] (0.042014)\n",
      "6. feature 14 [conceito_I] (0.038764)\n",
      "7. feature 2 [LnguaPortuguesaeLiteraturaI90H_freq] (0.029261)\n",
      "8. feature 12 [qtd_pessoas_domicilio] (0.026696)\n",
      "9. feature 8 [idade] (0.025804)\n",
      "10. feature 1 [LnguaPortuguesaeLiteraturaI90H_dependencia] (0.021385)\n",
      "11. feature 4 [MatemticaI120H_dependencia] (0.015897)\n",
      "12. feature 10 [qnt_pc] (0.015461)\n",
      "13. feature 42 [pessoa_fisica__sexo_M] (0.014389)\n",
      "14. feature 7 [aluno_exclusivo_rede_publica] (0.014340)\n",
      "15. feature 11 [qnt_salarios] (0.013535)\n",
      "16. feature 13 [tempo_entre_conclusao_ingresso] (0.012534)\n",
      "17. feature 28 [descricao_pai_escolaridade_Ensino médio completo] (0.011219)\n",
      "18. feature 6 [acompanhamento] (0.011001)\n",
      "19. feature 20 [descricao_companhia_domiciliar_Pais] (0.010363)\n",
      "20. feature 35 [descricao_responsavel_escolaridade_Ensino médio incompleto] (0.010148)\n",
      "21. feature 30 [descricao_raca_Branca] (0.009999)\n",
      "22. feature 22 [descricao_historico_Técnico de Nível Médio em Edificações] (0.009736)\n",
      "23. feature 18 [descricao_area_residencial_Urbana] (0.009250)\n",
      "24. feature 19 [descricao_companhia_domiciliar_Mãe] (0.008772)\n",
      "25. feature 33 [descricao_responsavel_escolaridade_Ensino fundamental incompleto] (0.008756)\n",
      "26. feature 31 [descricao_raca_Parda] (0.007728)\n",
      "27. feature 41 [descricao_trabalho_Não está trabalhando] (0.007708)\n",
      "28. feature 26 [descricao_mae_escolaridade_Ensino médio completo] (0.007212)\n",
      "29. feature 34 [descricao_responsavel_escolaridade_Ensino médio completo] (0.006971)\n",
      "30. feature 27 [descricao_pai_escolaridade_Ensino fundamental incompleto] (0.006837)\n",
      "31. feature 9 [possui_necessidade_especial] (0.006303)\n",
      "32. feature 37 [descricao_responsavel_financeiro_Pai] (0.006237)\n",
      "33. feature 43 [sigla_MC] (0.006009)\n",
      "34. feature 32 [descricao_raca_Preta] (0.005618)\n",
      "35. feature 36 [descricao_responsavel_financeiro_Mãe] (0.005363)\n",
      "36. feature 25 [descricao_mae_escolaridade_Ensino fundamental incompleto] (0.005117)\n",
      "37. feature 40 [descricao_trabalho_Nunca trabalhou] (0.004718)\n",
      "38. feature 23 [descricao_imovel_Próprio] (0.004271)\n",
      "39. feature 29 [descricao_pai_escolaridade_Ensino médio incompleto] (0.004068)\n",
      "40. feature 38 [descricao_trabalho_Autônomo] (0.003542)\n",
      "41. feature 21 [descricao_historico_Técnico de Nivel Médio em Informática] (0.002467)\n",
      "42. feature 44 [sigla_SGA] (0.001491)\n",
      "43. feature 24 [descricao_mae_escolaridade_Ensino fundamental completo] (0.001481)\n",
      "44. feature 17 [conceito_freq_R] (0.000467)\n",
      "45. feature 39 [descricao_trabalho_Empresa privada] (0.000000)\n"
     ]
    },
    {
     "data": {
      "image/png": "[encoded data removed]",
      "text/plain": [
       "<matplotlib.figure.Figure at 0x7f1b590318d0>"
      ]
     },
     "metadata": {},
     "output_type": "display_data"
    }
   ],
   "source": [
    "#avaliacao do modelo\n",
    "evaluating(model_forest_red, ytest, ypred_forest, Xtest_red)\n",
    "\n",
    "feature_ranking(Xtest_red, model_forest_red)"
   ]
  },
  {
   "cell_type": "code",
   "execution_count": 33,
   "metadata": {
    "collapsed": true
   },
   "outputs": [],
   "source": [
    "Xtrain_red = Xtrain[atributos_01]\n",
    "Xtest_red  = Xtest[atributos_01]"
   ]
  },
  {
   "cell_type": "code",
   "execution_count": 34,
   "metadata": {},
   "outputs": [
    {
     "name": "stdout",
     "output_type": "stream",
     "text": [
      "{'criterion': 'entropy', 'max_depth': None, 'max_features': 'log2', 'n_estimators': 200}\n",
      "RandomForestClassifier(bootstrap=True, class_weight=None, criterion='entropy',\n",
      "            max_depth=None, max_features='log2', max_leaf_nodes=None,\n",
      "            min_impurity_decrease=0.0, min_impurity_split=None,\n",
      "            min_samples_leaf=1, min_samples_split=2,\n",
      "            min_weight_fraction_leaf=0.0, n_estimators=200, n_jobs=-1,\n",
      "            oob_score=False, random_state=None, verbose=0,\n",
      "            warm_start=False)\n",
      "Model with rank: 1\n",
      "Mean validation score: 0.902 (std: 0.031)\n",
      "Parameters: {'criterion': 'entropy', 'max_depth': None, 'max_features': 'log2', 'n_estimators': 200}\n",
      "\n",
      "Model with rank: 2\n",
      "Mean validation score: 0.898 (std: 0.040)\n",
      "Parameters: {'criterion': 'gini', 'max_depth': None, 'max_features': 'auto', 'n_estimators': 200}\n",
      "\n",
      "Model with rank: 2\n",
      "Mean validation score: 0.898 (std: 0.041)\n",
      "Parameters: {'criterion': 'entropy', 'max_depth': None, 'max_features': 'auto', 'n_estimators': 100}\n",
      "\n"
     ]
    },
    {
     "name": "stderr",
     "output_type": "stream",
     "text": [
      "/home/ubuntu/anaconda3/lib/python3.6/site-packages/matplotlib/font_manager.py:1297: UserWarning: findfont: Font family ['sans-serif'] not found. Falling back to DejaVu Sans\n",
      "  (prop.get_family(), self.defaultFamily[fontext]))\n"
     ]
    },
    {
     "name": "stdout",
     "output_type": "stream",
     "text": [
      "Valor de falso positivo:0.0963855421686747\n",
      "Cálculo de índices de avaliação:\n",
      "Precisão: 0.876923; Recall: 0.802817, F1: 0.838235\n",
      "Precisão CV:\n",
      "[0.88235294 0.9375     0.8125     0.73333333 0.93333333 0.66666667\n",
      " 0.8        0.73333333 0.93333333 0.93333333]\n",
      "0.8365686274509804\n"
     ]
    },
    {
     "name": "stderr",
     "output_type": "stream",
     "text": [
      "/home/ubuntu/anaconda3/lib/python3.6/site-packages/matplotlib/font_manager.py:1297: UserWarning: findfont: Font family ['sans-serif'] not found. Falling back to DejaVu Sans\n",
      "  (prop.get_family(), self.defaultFamily[fontext]))\n"
     ]
    },
    {
     "data": {
      "image/png": "[encoded data removed]",
      "text/plain": [
       "<matplotlib.figure.Figure at 0x7f1b5aaadf98>"
      ]
     },
     "metadata": {},
     "output_type": "display_data"
    },
    {
     "data": {
      "image/png": "[encoded data removed]",
      "text/plain": [
       "<matplotlib.figure.Figure at 0x7f1b5aaa97b8>"
      ]
     },
     "metadata": {},
     "output_type": "display_data"
    },
    {
     "name": "stdout",
     "output_type": "stream",
     "text": [
      "0.8961479721703717\n",
      "Feature ranking:\n",
      "1. feature 0 [LnguaPortuguesaeLiteraturaI90H] (0.214069)\n",
      "2. feature 3 [MatemticaI120H] (0.193852)\n",
      "3. feature 15 [conceito_R] (0.116352)\n",
      "4. feature 5 [MatemticaI120H_freq] (0.068469)\n",
      "5. feature 13 [conceito_I] (0.056663)\n",
      "6. feature 2 [LnguaPortuguesaeLiteraturaI90H_freq] (0.045030)\n",
      "7. feature 7 [idade] (0.034324)\n",
      "8. feature 11 [qtd_pessoas_domicilio] (0.031701)\n",
      "9. feature 9 [qnt_pc] (0.029315)\n",
      "10. feature 14 [conceito_O] (0.025539)\n",
      "11. feature 10 [qnt_salarios] (0.021514)\n",
      "12. feature 12 [tempo_entre_conclusao_ingresso] (0.020553)\n",
      "13. feature 20 [sigla_CNAT] (0.019592)\n",
      "14. feature 4 [MatemticaI120H_dependencia] (0.018263)\n",
      "15. feature 1 [LnguaPortuguesaeLiteraturaI90H_dependencia] (0.017927)\n",
      "16. feature 19 [pessoa_fisica__sexo_M] (0.014333)\n",
      "17. feature 8 [possui_necessidade_especial] (0.012993)\n",
      "18. feature 16 [descricao_companhia_domiciliar_Pais] (0.012880)\n",
      "19. feature 6 [acompanhamento] (0.012656)\n",
      "20. feature 21 [sigla_MC] (0.011840)\n",
      "21. feature 17 [descricao_pai_escolaridade_Ensino médio incompleto] (0.011408)\n",
      "22. feature 18 [descricao_responsavel_financeiro_Mãe] (0.010726)\n"
     ]
    },
    {
     "data": {
      "image/png": "[encoded data removed]",
      "text/plain": [
       "<matplotlib.figure.Figure at 0x7f1b5aa40a90>"
      ]
     },
     "metadata": {},
     "output_type": "display_data"
    }
   ],
   "source": [
    "#seleciona o melhor modelo\n",
    "model_forest_red = make_RF(Xtrain_red, ytrain)\n",
    "ypred_forest = model_forest_red.predict(Xtest_red)\n",
    "\n",
    "#avaliacao do modelo\n",
    "evaluating(model_forest_red, ytest, ypred_forest, Xtest_red)\n",
    "\n",
    "feature_ranking(Xtest_red, model_forest_red)"
   ]
  },
  {
   "cell_type": "markdown",
   "metadata": {},
   "source": [
    "# Modelo 05: comparandos várias ML"
   ]
  },
  {
   "cell_type": "code",
   "execution_count": null,
   "metadata": {
    "collapsed": true
   },
   "outputs": [],
   "source": []
  },
  {
   "cell_type": "markdown",
   "metadata": {},
   "source": [
    "# Modelos sem atributos gerados após entradada no IF\n",
    "Foram desconsiderado todos os atributos (nota, frequência, acompanhamento) que são gerados após a entrada no IF."
   ]
  },
  {
   "cell_type": "code",
   "execution_count": 35,
   "metadata": {},
   "outputs": [
    {
     "name": "stdout",
     "output_type": "stream",
     "text": [
      "1    7369\n",
      "0     349\n",
      "Name: classe, dtype: int64\n",
      "(7718, 22)\n",
      "(7718, 22)\n",
      "<class 'pandas.core.frame.DataFrame'>\n",
      "Int64Index: 7718 entries, 0 to 998\n",
      "Columns: 137 entries, aluno_exclusivo_rede_publica to sigla_ZN\n",
      "dtypes: bool(2), int64(6), uint8(129)\n",
      "memory usage: 1.4 MB\n",
      "None\n",
      "{'criterion': 'gini', 'max_depth': 3, 'max_features': 'auto', 'n_estimators': 10}\n",
      "RandomForestClassifier(bootstrap=True, class_weight=None, criterion='gini',\n",
      "            max_depth=3, max_features='auto', max_leaf_nodes=None,\n",
      "            min_impurity_decrease=0.0, min_impurity_split=None,\n",
      "            min_samples_leaf=1, min_samples_split=2,\n",
      "            min_weight_fraction_leaf=0.0, n_estimators=10, n_jobs=-1,\n",
      "            oob_score=False, random_state=None, verbose=0,\n",
      "            warm_start=False)\n",
      "Model with rank: 1\n",
      "Mean validation score: 0.955 (std: 0.001)\n",
      "Parameters: {'criterion': 'gini', 'max_depth': 3, 'max_features': 'auto', 'n_estimators': 10}\n",
      "\n",
      "Model with rank: 1\n",
      "Mean validation score: 0.955 (std: 0.001)\n",
      "Parameters: {'criterion': 'gini', 'max_depth': 3, 'max_features': 'auto', 'n_estimators': 30}\n",
      "\n",
      "Model with rank: 1\n",
      "Mean validation score: 0.955 (std: 0.001)\n",
      "Parameters: {'criterion': 'gini', 'max_depth': 3, 'max_features': 'auto', 'n_estimators': 60}\n",
      "\n",
      "Model with rank: 1\n",
      "Mean validation score: 0.955 (std: 0.001)\n",
      "Parameters: {'criterion': 'gini', 'max_depth': 3, 'max_features': 'auto', 'n_estimators': 100}\n",
      "\n",
      "Model with rank: 1\n",
      "Mean validation score: 0.955 (std: 0.001)\n",
      "Parameters: {'criterion': 'gini', 'max_depth': 3, 'max_features': 'auto', 'n_estimators': 200}\n",
      "\n",
      "Model with rank: 1\n",
      "Mean validation score: 0.955 (std: 0.001)\n",
      "Parameters: {'criterion': 'gini', 'max_depth': 3, 'max_features': 'sqrt', 'n_estimators': 10}\n",
      "\n",
      "Model with rank: 1\n",
      "Mean validation score: 0.955 (std: 0.001)\n",
      "Parameters: {'criterion': 'gini', 'max_depth': 3, 'max_features': 'sqrt', 'n_estimators': 30}\n",
      "\n",
      "Model with rank: 1\n",
      "Mean validation score: 0.955 (std: 0.001)\n",
      "Parameters: {'criterion': 'gini', 'max_depth': 3, 'max_features': 'sqrt', 'n_estimators': 60}\n",
      "\n",
      "Model with rank: 1\n",
      "Mean validation score: 0.955 (std: 0.001)\n",
      "Parameters: {'criterion': 'gini', 'max_depth': 3, 'max_features': 'sqrt', 'n_estimators': 100}\n",
      "\n",
      "Model with rank: 1\n",
      "Mean validation score: 0.955 (std: 0.001)\n",
      "Parameters: {'criterion': 'gini', 'max_depth': 3, 'max_features': 'sqrt', 'n_estimators': 200}\n",
      "\n",
      "Model with rank: 1\n",
      "Mean validation score: 0.955 (std: 0.001)\n",
      "Parameters: {'criterion': 'gini', 'max_depth': 3, 'max_features': 'log2', 'n_estimators': 10}\n",
      "\n",
      "Model with rank: 1\n",
      "Mean validation score: 0.955 (std: 0.001)\n",
      "Parameters: {'criterion': 'gini', 'max_depth': 3, 'max_features': 'log2', 'n_estimators': 30}\n",
      "\n",
      "Model with rank: 1\n",
      "Mean validation score: 0.955 (std: 0.001)\n",
      "Parameters: {'criterion': 'gini', 'max_depth': 3, 'max_features': 'log2', 'n_estimators': 60}\n",
      "\n",
      "Model with rank: 1\n",
      "Mean validation score: 0.955 (std: 0.001)\n",
      "Parameters: {'criterion': 'gini', 'max_depth': 3, 'max_features': 'log2', 'n_estimators': 100}\n",
      "\n",
      "Model with rank: 1\n",
      "Mean validation score: 0.955 (std: 0.001)\n",
      "Parameters: {'criterion': 'gini', 'max_depth': 3, 'max_features': 'log2', 'n_estimators': 200}\n",
      "\n",
      "Model with rank: 1\n",
      "Mean validation score: 0.955 (std: 0.001)\n",
      "Parameters: {'criterion': 'gini', 'max_depth': 5, 'max_features': 'auto', 'n_estimators': 10}\n",
      "\n",
      "Model with rank: 1\n",
      "Mean validation score: 0.955 (std: 0.001)\n",
      "Parameters: {'criterion': 'gini', 'max_depth': 5, 'max_features': 'auto', 'n_estimators': 30}\n",
      "\n",
      "Model with rank: 1\n",
      "Mean validation score: 0.955 (std: 0.001)\n",
      "Parameters: {'criterion': 'gini', 'max_depth': 5, 'max_features': 'auto', 'n_estimators': 60}\n",
      "\n",
      "Model with rank: 1\n",
      "Mean validation score: 0.955 (std: 0.001)\n",
      "Parameters: {'criterion': 'gini', 'max_depth': 5, 'max_features': 'auto', 'n_estimators': 100}\n",
      "\n",
      "Model with rank: 1\n",
      "Mean validation score: 0.955 (std: 0.001)\n",
      "Parameters: {'criterion': 'gini', 'max_depth': 5, 'max_features': 'auto', 'n_estimators': 200}\n",
      "\n",
      "Model with rank: 1\n",
      "Mean validation score: 0.955 (std: 0.001)\n",
      "Parameters: {'criterion': 'gini', 'max_depth': 5, 'max_features': 'sqrt', 'n_estimators': 10}\n",
      "\n",
      "Model with rank: 1\n",
      "Mean validation score: 0.955 (std: 0.001)\n",
      "Parameters: {'criterion': 'gini', 'max_depth': 5, 'max_features': 'sqrt', 'n_estimators': 30}\n",
      "\n",
      "Model with rank: 1\n",
      "Mean validation score: 0.955 (std: 0.001)\n",
      "Parameters: {'criterion': 'gini', 'max_depth': 5, 'max_features': 'sqrt', 'n_estimators': 60}\n",
      "\n",
      "Model with rank: 1\n",
      "Mean validation score: 0.955 (std: 0.001)\n",
      "Parameters: {'criterion': 'gini', 'max_depth': 5, 'max_features': 'sqrt', 'n_estimators': 100}\n",
      "\n",
      "Model with rank: 1\n",
      "Mean validation score: 0.955 (std: 0.001)\n",
      "Parameters: {'criterion': 'gini', 'max_depth': 5, 'max_features': 'sqrt', 'n_estimators': 200}\n",
      "\n",
      "Model with rank: 1\n",
      "Mean validation score: 0.955 (std: 0.001)\n",
      "Parameters: {'criterion': 'gini', 'max_depth': 5, 'max_features': 'log2', 'n_estimators': 10}\n",
      "\n",
      "Model with rank: 1\n",
      "Mean validation score: 0.955 (std: 0.001)\n",
      "Parameters: {'criterion': 'gini', 'max_depth': 5, 'max_features': 'log2', 'n_estimators': 30}\n",
      "\n",
      "Model with rank: 1\n",
      "Mean validation score: 0.955 (std: 0.001)\n",
      "Parameters: {'criterion': 'gini', 'max_depth': 5, 'max_features': 'log2', 'n_estimators': 60}\n",
      "\n",
      "Model with rank: 1\n",
      "Mean validation score: 0.955 (std: 0.001)\n",
      "Parameters: {'criterion': 'gini', 'max_depth': 5, 'max_features': 'log2', 'n_estimators': 100}\n",
      "\n",
      "Model with rank: 1\n",
      "Mean validation score: 0.955 (std: 0.001)\n",
      "Parameters: {'criterion': 'gini', 'max_depth': 5, 'max_features': 'log2', 'n_estimators': 200}\n",
      "\n",
      "Model with rank: 1\n",
      "Mean validation score: 0.955 (std: 0.001)\n",
      "Parameters: {'criterion': 'gini', 'max_depth': None, 'max_features': 'auto', 'n_estimators': 30}\n",
      "\n",
      "Model with rank: 1\n",
      "Mean validation score: 0.955 (std: 0.001)\n",
      "Parameters: {'criterion': 'gini', 'max_depth': None, 'max_features': 'auto', 'n_estimators': 60}\n",
      "\n",
      "Model with rank: 1\n",
      "Mean validation score: 0.955 (std: 0.001)\n",
      "Parameters: {'criterion': 'gini', 'max_depth': None, 'max_features': 'auto', 'n_estimators': 100}\n",
      "\n",
      "Model with rank: 1\n",
      "Mean validation score: 0.955 (std: 0.001)\n",
      "Parameters: {'criterion': 'gini', 'max_depth': None, 'max_features': 'auto', 'n_estimators': 200}\n",
      "\n",
      "Model with rank: 1\n",
      "Mean validation score: 0.955 (std: 0.001)\n",
      "Parameters: {'criterion': 'gini', 'max_depth': None, 'max_features': 'sqrt', 'n_estimators': 30}\n",
      "\n",
      "Model with rank: 1\n",
      "Mean validation score: 0.955 (std: 0.001)\n",
      "Parameters: {'criterion': 'gini', 'max_depth': None, 'max_features': 'sqrt', 'n_estimators': 100}\n",
      "\n",
      "Model with rank: 1\n",
      "Mean validation score: 0.955 (std: 0.001)\n",
      "Parameters: {'criterion': 'gini', 'max_depth': None, 'max_features': 'log2', 'n_estimators': 100}\n",
      "\n",
      "Model with rank: 1\n",
      "Mean validation score: 0.955 (std: 0.001)\n",
      "Parameters: {'criterion': 'gini', 'max_depth': None, 'max_features': 'log2', 'n_estimators': 200}\n",
      "\n",
      "Model with rank: 1\n",
      "Mean validation score: 0.955 (std: 0.001)\n",
      "Parameters: {'criterion': 'entropy', 'max_depth': 3, 'max_features': 'auto', 'n_estimators': 10}\n",
      "\n",
      "Model with rank: 1\n",
      "Mean validation score: 0.955 (std: 0.001)\n",
      "Parameters: {'criterion': 'entropy', 'max_depth': 3, 'max_features': 'auto', 'n_estimators': 30}\n",
      "\n",
      "Model with rank: 1\n",
      "Mean validation score: 0.955 (std: 0.001)\n",
      "Parameters: {'criterion': 'entropy', 'max_depth': 3, 'max_features': 'auto', 'n_estimators': 60}\n",
      "\n",
      "Model with rank: 1\n",
      "Mean validation score: 0.955 (std: 0.001)\n",
      "Parameters: {'criterion': 'entropy', 'max_depth': 3, 'max_features': 'auto', 'n_estimators': 100}\n",
      "\n",
      "Model with rank: 1\n",
      "Mean validation score: 0.955 (std: 0.001)\n",
      "Parameters: {'criterion': 'entropy', 'max_depth': 3, 'max_features': 'auto', 'n_estimators': 200}\n",
      "\n",
      "Model with rank: 1\n",
      "Mean validation score: 0.955 (std: 0.001)\n",
      "Parameters: {'criterion': 'entropy', 'max_depth': 3, 'max_features': 'sqrt', 'n_estimators': 10}\n",
      "\n",
      "Model with rank: 1\n",
      "Mean validation score: 0.955 (std: 0.001)\n",
      "Parameters: {'criterion': 'entropy', 'max_depth': 3, 'max_features': 'sqrt', 'n_estimators': 30}\n",
      "\n",
      "Model with rank: 1\n",
      "Mean validation score: 0.955 (std: 0.001)\n",
      "Parameters: {'criterion': 'entropy', 'max_depth': 3, 'max_features': 'sqrt', 'n_estimators': 60}\n",
      "\n",
      "Model with rank: 1\n",
      "Mean validation score: 0.955 (std: 0.001)\n",
      "Parameters: {'criterion': 'entropy', 'max_depth': 3, 'max_features': 'sqrt', 'n_estimators': 100}\n",
      "\n",
      "Model with rank: 1\n",
      "Mean validation score: 0.955 (std: 0.001)\n",
      "Parameters: {'criterion': 'entropy', 'max_depth': 3, 'max_features': 'sqrt', 'n_estimators': 200}\n",
      "\n",
      "Model with rank: 1\n",
      "Mean validation score: 0.955 (std: 0.001)\n",
      "Parameters: {'criterion': 'entropy', 'max_depth': 3, 'max_features': 'log2', 'n_estimators': 10}\n",
      "\n",
      "Model with rank: 1\n",
      "Mean validation score: 0.955 (std: 0.001)\n",
      "Parameters: {'criterion': 'entropy', 'max_depth': 3, 'max_features': 'log2', 'n_estimators': 30}\n",
      "\n",
      "Model with rank: 1\n",
      "Mean validation score: 0.955 (std: 0.001)\n",
      "Parameters: {'criterion': 'entropy', 'max_depth': 3, 'max_features': 'log2', 'n_estimators': 60}\n",
      "\n",
      "Model with rank: 1\n",
      "Mean validation score: 0.955 (std: 0.001)\n",
      "Parameters: {'criterion': 'entropy', 'max_depth': 3, 'max_features': 'log2', 'n_estimators': 100}\n",
      "\n",
      "Model with rank: 1\n",
      "Mean validation score: 0.955 (std: 0.001)\n",
      "Parameters: {'criterion': 'entropy', 'max_depth': 3, 'max_features': 'log2', 'n_estimators': 200}\n",
      "\n",
      "Model with rank: 1\n",
      "Mean validation score: 0.955 (std: 0.001)\n",
      "Parameters: {'criterion': 'entropy', 'max_depth': 5, 'max_features': 'auto', 'n_estimators': 10}\n",
      "\n",
      "Model with rank: 1\n",
      "Mean validation score: 0.955 (std: 0.001)\n",
      "Parameters: {'criterion': 'entropy', 'max_depth': 5, 'max_features': 'auto', 'n_estimators': 30}\n",
      "\n",
      "Model with rank: 1\n",
      "Mean validation score: 0.955 (std: 0.001)\n",
      "Parameters: {'criterion': 'entropy', 'max_depth': 5, 'max_features': 'auto', 'n_estimators': 60}\n",
      "\n",
      "Model with rank: 1\n",
      "Mean validation score: 0.955 (std: 0.001)\n",
      "Parameters: {'criterion': 'entropy', 'max_depth': 5, 'max_features': 'auto', 'n_estimators': 100}\n",
      "\n",
      "Model with rank: 1\n",
      "Mean validation score: 0.955 (std: 0.001)\n",
      "Parameters: {'criterion': 'entropy', 'max_depth': 5, 'max_features': 'auto', 'n_estimators': 200}\n",
      "\n",
      "Model with rank: 1\n",
      "Mean validation score: 0.955 (std: 0.001)\n",
      "Parameters: {'criterion': 'entropy', 'max_depth': 5, 'max_features': 'sqrt', 'n_estimators': 10}\n",
      "\n",
      "Model with rank: 1\n",
      "Mean validation score: 0.955 (std: 0.001)\n",
      "Parameters: {'criterion': 'entropy', 'max_depth': 5, 'max_features': 'sqrt', 'n_estimators': 30}\n",
      "\n",
      "Model with rank: 1\n",
      "Mean validation score: 0.955 (std: 0.001)\n",
      "Parameters: {'criterion': 'entropy', 'max_depth': 5, 'max_features': 'sqrt', 'n_estimators': 60}\n",
      "\n",
      "Model with rank: 1\n",
      "Mean validation score: 0.955 (std: 0.001)\n",
      "Parameters: {'criterion': 'entropy', 'max_depth': 5, 'max_features': 'sqrt', 'n_estimators': 100}\n",
      "\n",
      "Model with rank: 1\n",
      "Mean validation score: 0.955 (std: 0.001)\n",
      "Parameters: {'criterion': 'entropy', 'max_depth': 5, 'max_features': 'sqrt', 'n_estimators': 200}\n",
      "\n",
      "Model with rank: 1\n",
      "Mean validation score: 0.955 (std: 0.001)\n",
      "Parameters: {'criterion': 'entropy', 'max_depth': 5, 'max_features': 'log2', 'n_estimators': 10}\n",
      "\n",
      "Model with rank: 1\n",
      "Mean validation score: 0.955 (std: 0.001)\n",
      "Parameters: {'criterion': 'entropy', 'max_depth': 5, 'max_features': 'log2', 'n_estimators': 30}\n",
      "\n",
      "Model with rank: 1\n",
      "Mean validation score: 0.955 (std: 0.001)\n",
      "Parameters: {'criterion': 'entropy', 'max_depth': 5, 'max_features': 'log2', 'n_estimators': 60}\n",
      "\n",
      "Model with rank: 1\n",
      "Mean validation score: 0.955 (std: 0.001)\n",
      "Parameters: {'criterion': 'entropy', 'max_depth': 5, 'max_features': 'log2', 'n_estimators': 100}\n",
      "\n",
      "Model with rank: 1\n",
      "Mean validation score: 0.955 (std: 0.001)\n",
      "Parameters: {'criterion': 'entropy', 'max_depth': 5, 'max_features': 'log2', 'n_estimators': 200}\n",
      "\n",
      "Model with rank: 1\n",
      "Mean validation score: 0.955 (std: 0.001)\n",
      "Parameters: {'criterion': 'entropy', 'max_depth': None, 'max_features': 'auto', 'n_estimators': 60}\n",
      "\n",
      "Model with rank: 1\n",
      "Mean validation score: 0.955 (std: 0.001)\n",
      "Parameters: {'criterion': 'entropy', 'max_depth': None, 'max_features': 'auto', 'n_estimators': 100}\n",
      "\n",
      "Model with rank: 1\n",
      "Mean validation score: 0.955 (std: 0.001)\n",
      "Parameters: {'criterion': 'entropy', 'max_depth': None, 'max_features': 'auto', 'n_estimators': 200}\n",
      "\n",
      "Model with rank: 1\n",
      "Mean validation score: 0.955 (std: 0.001)\n",
      "Parameters: {'criterion': 'entropy', 'max_depth': None, 'max_features': 'sqrt', 'n_estimators': 60}\n",
      "\n",
      "Model with rank: 1\n",
      "Mean validation score: 0.955 (std: 0.001)\n",
      "Parameters: {'criterion': 'entropy', 'max_depth': None, 'max_features': 'sqrt', 'n_estimators': 100}\n",
      "\n",
      "Model with rank: 1\n",
      "Mean validation score: 0.955 (std: 0.001)\n",
      "Parameters: {'criterion': 'entropy', 'max_depth': None, 'max_features': 'sqrt', 'n_estimators': 200}\n",
      "\n",
      "Model with rank: 1\n",
      "Mean validation score: 0.955 (std: 0.001)\n",
      "Parameters: {'criterion': 'entropy', 'max_depth': None, 'max_features': 'log2', 'n_estimators': 60}\n",
      "\n",
      "Model with rank: 1\n",
      "Mean validation score: 0.955 (std: 0.001)\n",
      "Parameters: {'criterion': 'entropy', 'max_depth': None, 'max_features': 'log2', 'n_estimators': 100}\n",
      "\n",
      "Model with rank: 1\n",
      "Mean validation score: 0.955 (std: 0.001)\n",
      "Parameters: {'criterion': 'entropy', 'max_depth': None, 'max_features': 'log2', 'n_estimators': 200}\n",
      "\n"
     ]
    },
    {
     "name": "stderr",
     "output_type": "stream",
     "text": [
      "/home/ubuntu/anaconda3/lib/python3.6/site-packages/matplotlib/font_manager.py:1297: UserWarning: findfont: Font family ['sans-serif'] not found. Falling back to DejaVu Sans\n",
      "  (prop.get_family(), self.defaultFamily[fontext]))\n"
     ]
    },
    {
     "name": "stdout",
     "output_type": "stream",
     "text": [
      "Valor de falso positivo:1.0\n",
      "Cálculo de índices de avaliação:\n",
      "Precisão: 0.954922; Recall: 1.000000, F1: 0.976941\n",
      "Precisão CV:\n",
      "[0.95360825 0.95360825 0.95360825 0.95336788 0.95336788 0.95336788\n",
      " 0.95336788 0.95833333 0.95833333 0.95833333]\n",
      "0.9549296244858716\n"
     ]
    },
    {
     "name": "stderr",
     "output_type": "stream",
     "text": [
      "/home/ubuntu/anaconda3/lib/python3.6/site-packages/matplotlib/font_manager.py:1297: UserWarning: findfont: Font family ['sans-serif'] not found. Falling back to DejaVu Sans\n",
      "  (prop.get_family(), self.defaultFamily[fontext]))\n"
     ]
    },
    {
     "data": {
      "image/png": "[encoded data removed]",
      "text/plain": [
       "<matplotlib.figure.Figure at 0x7f1b5ab2ff28>"
      ]
     },
     "metadata": {},
     "output_type": "display_data"
    },
    {
     "data": {
      "image/png": "[encoded data removed]",
      "text/plain": [
       "<matplotlib.figure.Figure at 0x7f1b5ab2f198>"
      ]
     },
     "metadata": {},
     "output_type": "display_data"
    },
    {
     "name": "stdout",
     "output_type": "stream",
     "text": [
      "0.5472492999295252\n",
      "Feature ranking:\n",
      "1. feature 6 [qtd_pessoas_domicilio] (0.206550)\n",
      "2. feature 2 [idade] (0.067253)\n",
      "3. feature 7 [tempo_entre_conclusao_ingresso] (0.066317)\n",
      "4. feature 4 [qnt_pc] (0.058600)\n",
      "5. feature 0 [aluno_exclusivo_rede_publica] (0.055976)\n",
      "6. feature 3 [possui_necessidade_especial] (0.055638)\n",
      "7. feature 11 [descricao_area_residencial_Urbana] (0.037432)\n",
      "8. feature 68 [descricao_mae_escolaridade_Não conhece] (0.032286)\n",
      "9. feature 60 [descricao_imovel_Pensionato ou Alojamento] (0.031417)\n",
      "10. feature 21 [descricao_estado_civil_Solteiro(a)] (0.030742)\n",
      "11. feature 89 [descricao_responsavel_escolaridade_Ensino médio completo] (0.026908)\n",
      "12. feature 19 [descricao_estado_civil_Divorciado(a)] (0.025636)\n",
      "13. feature 16 [descricao_companhia_domiciliar_Pais] (0.025334)\n",
      "14. feature 118 [sigla_CA] (0.019209)\n",
      "15. feature 12 [descricao_companhia_domiciliar_Mãe] (0.018816)\n",
      "16. feature 62 [descricao_mae_escolaridade_Ensino fundamental completo] (0.017370)\n",
      "17. feature 47 [descricao_historico_Técnico de Nível Médio em Mineração] (0.015302)\n",
      "18. feature 26 [descricao_historico_Técnico de Nivel Médio em Informática] (0.015117)\n",
      "19. feature 88 [descricao_responsavel_escolaridade_Ensino fundamental incompleto] (0.014630)\n",
      "20. feature 80 [descricao_pai_escolaridade_Pós graduação completo] (0.014388)\n",
      "21. feature 78 [descricao_pai_escolaridade_Não conhece] (0.012908)\n",
      "22. feature 73 [descricao_pai_escolaridade_Ensino fundamental incompleto] (0.012682)\n",
      "23. feature 5 [qnt_salarios] (0.012164)\n",
      "24. feature 9 [descricao_area_residencial_Não informado] (0.010146)\n",
      "25. feature 52 [descricao_historico_Técnico de Nível Médio em Refrigeração e Climatização] (0.009568)\n",
      "26. feature 99 [descricao_responsavel_financeiro_Mãe] (0.009142)\n",
      "27. feature 74 [descricao_pai_escolaridade_Ensino médio completo] (0.008519)\n",
      "28. feature 10 [descricao_area_residencial_Rural] (0.008507)\n",
      "29. feature 116 [descricao_trabalho_Trabalhador rural/Agricultor] (0.008502)\n",
      "30. feature 13 [descricao_companhia_domiciliar_Não informado] (0.008308)\n",
      "31. feature 94 [descricao_responsavel_escolaridade_Não estudou] (0.007822)\n",
      "32. feature 64 [descricao_mae_escolaridade_Ensino médio completo] (0.007658)\n",
      "33. feature 127 [sigla_MC] (0.007418)\n",
      "34. feature 70 [descricao_mae_escolaridade_Pós graduação completo] (0.007260)\n",
      "35. feature 122 [sigla_CN] (0.006426)\n",
      "36. feature 30 [descricao_historico_Técnico de Nível Médio em Apicultura] (0.006342)\n",
      "37. feature 29 [descricao_historico_Técnico de Nível Médio em Alimentos] (0.005509)\n",
      "38. feature 128 [sigla_MO] (0.004605)\n",
      "39. feature 123 [sigla_CNAT] (0.003028)\n",
      "40. feature 130 [sigla_PAAS] (0.003008)\n",
      "41. feature 76 [descricao_pai_escolaridade_Ensino superior completo] (0.002921)\n",
      "42. feature 82 [descricao_raca_Branca] (0.002044)\n",
      "43. feature 50 [descricao_historico_Técnico de Nível Médio em Química, na Forma Integrado] (0.000595)\n",
      "44. feature 35 [descricao_historico_Técnico de Nível Médio em Eletrotécnica] (0.000000)\n",
      "45. feature 27 [descricao_historico_Técnico de Nível Médio em Administração] (0.000000)\n",
      "46. feature 28 [descricao_historico_Técnico de Nível Médio em Agroecologia] (0.000000)\n",
      "47. feature 114 [descricao_trabalho_Serviço público] (0.000000)\n",
      "48. feature 113 [descricao_trabalho_Pescador] (0.000000)\n",
      "49. feature 31 [descricao_historico_Técnico de Nível Médio em Comércio] (0.000000)\n",
      "50. feature 32 [descricao_historico_Técnico de Nível Médio em Controle Ambiental] (0.000000)\n",
      "51. feature 33 [descricao_historico_Técnico de Nível Médio em Edificações] (0.000000)\n",
      "52. feature 34 [descricao_historico_Técnico de Nível Médio em Eletromecânica] (0.000000)\n",
      "53. feature 98 [descricao_responsavel_financeiro_Irmão(ã)] (0.000000)\n",
      "54. feature 36 [descricao_historico_Técnico de Nível Médio em Eletrônica] (0.000000)\n",
      "55. feature 25 [descricao_historico_Técnico de Nivel Médio em Equipamentos Biomédicos] (0.000000)\n",
      "56. feature 37 [descricao_historico_Técnico de Nível Médio em Eventos] (0.000000)\n",
      "57. feature 38 [descricao_historico_Técnico de Nível Médio em Geologia] (0.000000)\n",
      "58. feature 39 [descricao_historico_Técnico de Nível Médio em Informática] (0.000000)\n",
      "59. feature 40 [descricao_historico_Técnico de Nível Médio em Informática para Internet] (0.000000)\n",
      "60. feature 41 [descricao_historico_Técnico de Nível Médio em Lazer] (0.000000)\n",
      "61. feature 42 [descricao_historico_Técnico de Nível Médio em Logística] (0.000000)\n",
      "62. feature 43 [descricao_historico_Técnico de Nível Médio em Manutenção e Suporte em Informática] (0.000000)\n",
      "63. feature 44 [descricao_historico_Técnico de Nível Médio em Mecatrônica] (0.000000)\n",
      "64. feature 45 [descricao_historico_Técnico de Nível Médio em Mecânica] (0.000000)\n",
      "65. feature 115 [descricao_trabalho_Trabalha com vínculo empregatício] (0.000000)\n",
      "66. feature 22 [descricao_estado_civil_União Estável] (0.000000)\n",
      "67. feature 24 [descricao_historico_Técnico de Nivel Médio em Biocombustíveis] (0.000000)\n",
      "68. feature 129 [sigla_NC] (0.000000)\n",
      "69. feature 1 [artificial] (0.000000)\n",
      "70. feature 134 [sigla_SGA] (0.000000)\n",
      "71. feature 133 [sigla_SC] (0.000000)\n",
      "72. feature 132 [sigla_PF] (0.000000)\n",
      "73. feature 126 [sigla_LAJ] (0.000000)\n",
      "74. feature 131 [sigla_PAR] (0.000000)\n",
      "75. feature 8 [descricao_area_residencial_Comunidade Quilombola] (0.000000)\n",
      "76. feature 125 [sigla_JC] (0.000000)\n",
      "77. feature 124 [sigla_IP] (0.000000)\n",
      "78. feature 121 [sigla_CM] (0.000000)\n",
      "79. feature 23 [descricao_historico_Técnico de Nivel Médio em Agropecuária, na Forma Integrada] (0.000000)\n",
      "80. feature 14 [descricao_companhia_domiciliar_Outros] (0.000000)\n",
      "81. feature 15 [descricao_companhia_domiciliar_Pai] (0.000000)\n",
      "82. feature 120 [sigla_CANG] (0.000000)\n",
      "83. feature 17 [descricao_companhia_domiciliar_Parente(s) ou amigo(s)] (0.000000)\n",
      "84. feature 18 [descricao_companhia_domiciliar_Sozinho(a)] (0.000000)\n",
      "85. feature 119 [sigla_CAL] (0.000000)\n",
      "86. feature 20 [descricao_estado_civil_Não declarado] (0.000000)\n",
      "87. feature 117 [pessoa_fisica__sexo_M] (0.000000)\n",
      "88. feature 112 [descricao_trabalho_Não informado] (0.000000)\n",
      "89. feature 46 [descricao_historico_Técnico de Nível Médio em Meio Ambiente] (0.000000)\n",
      "90. feature 49 [descricao_historico_Técnico de Nível Médio em Química] (0.000000)\n",
      "91. feature 48 [descricao_historico_Técnico de Nível Médio em Multimídia] (0.000000)\n",
      "92. feature 86 [descricao_raca_Preta] (0.000000)\n",
      "93. feature 75 [descricao_pai_escolaridade_Ensino médio incompleto] (0.000000)\n",
      "94. feature 77 [descricao_pai_escolaridade_Ensino superior incompleto] (0.000000)\n",
      "95. feature 104 [descricao_responsavel_financeiro_Parentes] (0.000000)\n",
      "96. feature 79 [descricao_pai_escolaridade_Não estudou] (0.000000)\n",
      "97. feature 103 [descricao_responsavel_financeiro_Pai] (0.000000)\n",
      "98. feature 81 [descricao_pai_escolaridade_Pós graduação incompleto] (0.000000)\n",
      "99. feature 83 [descricao_raca_Indígena] (0.000000)\n",
      "100. feature 84 [descricao_raca_Não declarado] (0.000000)\n",
      "101. feature 85 [descricao_raca_Parda] (0.000000)\n",
      "102. feature 87 [descricao_responsavel_escolaridade_Ensino fundamental completo] (0.000000)\n",
      "103. feature 106 [descricao_trabalho_Autônomo] (0.000000)\n",
      "104. feature 102 [descricao_responsavel_financeiro_Outros] (0.000000)\n",
      "105. feature 101 [descricao_responsavel_financeiro_O próprio aluno] (0.000000)\n",
      "106. feature 90 [descricao_responsavel_escolaridade_Ensino médio incompleto] (0.000000)\n",
      "107. feature 91 [descricao_responsavel_escolaridade_Ensino superior completo] (0.000000)\n",
      "108. feature 92 [descricao_responsavel_escolaridade_Ensino superior incompleto] (0.000000)\n",
      "109. feature 93 [descricao_responsavel_escolaridade_Não conhece] (0.000000)\n",
      "110. feature 100 [descricao_responsavel_financeiro_Não informado] (0.000000)\n",
      "111. feature 95 [descricao_responsavel_escolaridade_Pós graduação completo] (0.000000)\n",
      "112. feature 96 [descricao_responsavel_escolaridade_Pós graduação incompleto] (0.000000)\n",
      "113. feature 105 [descricao_responsavel_financeiro_Tio(a)] (0.000000)\n",
      "114. feature 72 [descricao_pai_escolaridade_Ensino fundamental completo] (0.000000)\n",
      "115. feature 97 [descricao_responsavel_financeiro_Cônjuge] (0.000000)\n",
      "116. feature 110 [descricao_trabalho_Nunca trabalhou] (0.000000)\n",
      "117. feature 51 [descricao_historico_Técnico de Nível Médio em Recursos Pesqueiros] (0.000000)\n",
      "118. feature 111 [descricao_trabalho_Não está trabalhando] (0.000000)\n",
      "119. feature 53 [descricao_historico_Técnico de Nível Médio em Têxtil] (0.000000)\n",
      "120. feature 54 [descricao_historico_Técnico de Nível Médio em Vestuário] (0.000000)\n",
      "121. feature 55 [descricao_historico_Técnico em Programação de Jogos Digitais] (0.000000)\n",
      "122. feature 56 [descricao_imovel_Cedido ou Emprestado] (0.000000)\n",
      "123. feature 57 [descricao_imovel_Financiado] (0.000000)\n",
      "124. feature 58 [descricao_imovel_Não informado] (0.000000)\n",
      "125. feature 59 [descricao_imovel_Outro] (0.000000)\n",
      "126. feature 61 [descricao_imovel_Próprio] (0.000000)\n",
      "127. feature 71 [descricao_mae_escolaridade_Pós graduação incompleto] (0.000000)\n",
      "128. feature 109 [descricao_trabalho_Estágio ou bolsa] (0.000000)\n",
      "129. feature 63 [descricao_mae_escolaridade_Ensino fundamental incompleto] (0.000000)\n",
      "130. feature 108 [descricao_trabalho_Empresa privada] (0.000000)\n",
      "131. feature 65 [descricao_mae_escolaridade_Ensino médio incompleto] (0.000000)\n",
      "132. feature 66 [descricao_mae_escolaridade_Ensino superior completo] (0.000000)\n",
      "133. feature 67 [descricao_mae_escolaridade_Ensino superior incompleto] (0.000000)\n",
      "134. feature 135 [sigla_SPP] (0.000000)\n",
      "135. feature 69 [descricao_mae_escolaridade_Não estudou] (0.000000)\n",
      "136. feature 107 [descricao_trabalho_Beneficiário ou Pensionista do INSS] (0.000000)\n",
      "137. feature 136 [sigla_ZN] (0.000000)\n"
     ]
    },
    {
     "data": {
      "image/png": "[encoded data removed]",
      "text/plain": [
       "<matplotlib.figure.Figure at 0x7f1b5900af28>"
      ]
     },
     "metadata": {},
     "output_type": "display_data"
    }
   ],
   "source": [
    "dados = dados_tunning.copy()\n",
    "\n",
    "dados = dados[[\n",
    "       'aluno_exclusivo_rede_publica', 'artificial', 'classe', \n",
    "       'descricao_area_residencial',\n",
    "       'descricao_companhia_domiciliar', 'descricao_estado_civil',\n",
    "       'descricao_historico', 'descricao_imovel', 'descricao_mae_escolaridade',\n",
    "       'descricao_pai_escolaridade', 'descricao_raca',\n",
    "       'descricao_responsavel_escolaridade',\n",
    "       'descricao_responsavel_financeiro', 'descricao_trabalho', 'idade',\n",
    "       'pessoa_fisica__sexo', 'possui_necessidade_especial', 'qnt_pc',\n",
    "       'qnt_salarios', 'qtd_pessoas_domicilio', 'sigla',\n",
    "       'tempo_entre_conclusao_ingresso'    \n",
    "]]\n",
    "\n",
    "dados = dados[dados.artificial == 0]\n",
    "print(dados.classe.value_counts())\n",
    "\n",
    "X, y = preparing_data(dados)\n",
    "\n",
    "#dividir os dados para treino e teste. default é 25% p teste\n",
    "Xtrain, Xtest, ytrain, ytest = train_test_split(X, y, random_state=0, stratify = y)\n",
    "\n",
    "#seleciona o melhor modelo\n",
    "model_forest_completo = make_RF(Xtrain, ytrain)\n",
    "ypred_forest = model_forest_completo.predict(Xtest)\n",
    "\n",
    "#avaliacao do modelo\n",
    "evaluating(model_forest_completo, ytest, ypred_forest, Xtest)\n",
    "\n",
    "feature_ranking(Xtest, model_forest_completo)"
   ]
  },
  {
   "cell_type": "markdown",
   "metadata": {},
   "source": [
    "# Modelo utilizando downsample"
   ]
  },
  {
   "cell_type": "code",
   "execution_count": 36,
   "metadata": {},
   "outputs": [
    {
     "name": "stdout",
     "output_type": "stream",
     "text": [
      "1    7369\n",
      "0     349\n",
      "Name: classe, dtype: int64\n",
      "(698, 22)\n",
      "(698, 22)\n",
      "<class 'pandas.core.frame.DataFrame'>\n",
      "Int64Index: 698 entries, 1028 to 31\n",
      "Columns: 132 entries, aluno_exclusivo_rede_publica to sigla_ZN\n",
      "dtypes: bool(2), int64(6), uint8(124)\n",
      "memory usage: 124.1 KB\n",
      "None\n",
      "{'criterion': 'entropy', 'max_depth': 3, 'max_features': 'auto', 'n_estimators': 60}\n",
      "RandomForestClassifier(bootstrap=True, class_weight=None, criterion='entropy',\n",
      "            max_depth=3, max_features='auto', max_leaf_nodes=None,\n",
      "            min_impurity_decrease=0.0, min_impurity_split=None,\n",
      "            min_samples_leaf=1, min_samples_split=2,\n",
      "            min_weight_fraction_leaf=0.0, n_estimators=60, n_jobs=-1,\n",
      "            oob_score=False, random_state=None, verbose=0,\n",
      "            warm_start=False)\n",
      "Model with rank: 1\n",
      "Mean validation score: 0.614 (std: 0.073)\n",
      "Parameters: {'criterion': 'entropy', 'max_depth': 3, 'max_features': 'auto', 'n_estimators': 60}\n",
      "\n",
      "Model with rank: 2\n",
      "Mean validation score: 0.606 (std: 0.088)\n",
      "Parameters: {'criterion': 'entropy', 'max_depth': 5, 'max_features': 'auto', 'n_estimators': 60}\n",
      "\n",
      "Model with rank: 3\n",
      "Mean validation score: 0.604 (std: 0.072)\n",
      "Parameters: {'criterion': 'gini', 'max_depth': 3, 'max_features': 'log2', 'n_estimators': 200}\n",
      "\n",
      "Valor de falso positivo:0.4772727272727273\n",
      "Cálculo de índices de avaliação:\n",
      "Precisão: 0.580000; Recall: 0.666667, F1: 0.620321\n",
      "Precisão CV:\n"
     ]
    },
    {
     "name": "stderr",
     "output_type": "stream",
     "text": [
      "/home/ubuntu/anaconda3/lib/python3.6/site-packages/matplotlib/font_manager.py:1297: UserWarning: findfont: Font family ['sans-serif'] not found. Falling back to DejaVu Sans\n",
      "  (prop.get_family(), self.defaultFamily[fontext]))\n"
     ]
    },
    {
     "name": "stdout",
     "output_type": "stream",
     "text": [
      "[0.66666667 0.83333333 0.5        0.55555556 0.5        0.5\n",
      " 0.72222222 0.58823529 0.8125     0.4375    ]\n",
      "0.6116013071895424\n"
     ]
    },
    {
     "name": "stderr",
     "output_type": "stream",
     "text": [
      "/home/ubuntu/anaconda3/lib/python3.6/site-packages/matplotlib/font_manager.py:1297: UserWarning: findfont: Font family ['sans-serif'] not found. Falling back to DejaVu Sans\n",
      "  (prop.get_family(), self.defaultFamily[fontext]))\n"
     ]
    },
    {
     "data": {
      "image/png": "[encoded data removed]",
      "text/plain": [
       "<matplotlib.figure.Figure at 0x7f1b5a9f15c0>"
      ]
     },
     "metadata": {},
     "output_type": "display_data"
    },
    {
     "data": {
      "image/png": "[encoded data removed]",
      "text/plain": [
       "<matplotlib.figure.Figure at 0x7f1b5aabef60>"
      ]
     },
     "metadata": {},
     "output_type": "display_data"
    },
    {
     "name": "stdout",
     "output_type": "stream",
     "text": [
      "0.6475966562173459\n",
      "Feature ranking:\n",
      "1. feature 2 [idade] (0.083789)\n",
      "2. feature 6 [qtd_pessoas_domicilio] (0.049429)\n",
      "3. feature 60 [descricao_mae_escolaridade_Ensino médio completo] (0.044484)\n",
      "4. feature 4 [qnt_pc] (0.044343)\n",
      "5. feature 3 [possui_necessidade_especial] (0.042028)\n",
      "6. feature 123 [sigla_MO] (0.038858)\n",
      "7. feature 0 [aluno_exclusivo_rede_publica] (0.036950)\n",
      "8. feature 7 [tempo_entre_conclusao_ingresso] (0.029465)\n",
      "9. feature 42 [descricao_historico_Técnico de Nível Médio em Meio Ambiente] (0.028585)\n",
      "10. feature 9 [descricao_area_residencial_Urbana] (0.027902)\n",
      "11. feature 85 [descricao_responsavel_escolaridade_Ensino médio completo] (0.025922)\n",
      "12. feature 31 [descricao_historico_Técnico de Nível Médio em Eletrotécnica] (0.019302)\n",
      "13. feature 12 [descricao_companhia_domiciliar_Outros] (0.018643)\n",
      "14. feature 130 [sigla_SPP] (0.015992)\n",
      "15. feature 107 [descricao_trabalho_Não está trabalhando] (0.015908)\n",
      "16. feature 124 [sigla_NC] (0.014803)\n",
      "17. feature 99 [descricao_responsavel_financeiro_Pai] (0.014578)\n",
      "18. feature 112 [pessoa_fisica__sexo_M] (0.014424)\n",
      "19. feature 106 [descricao_trabalho_Nunca trabalhou] (0.012870)\n",
      "20. feature 84 [descricao_responsavel_escolaridade_Ensino fundamental incompleto] (0.012696)\n",
      "21. feature 13 [descricao_companhia_domiciliar_Pai] (0.012162)\n",
      "22. feature 76 [descricao_pai_escolaridade_Pós graduação completo] (0.011445)\n",
      "23. feature 71 [descricao_pai_escolaridade_Ensino médio incompleto] (0.011391)\n",
      "24. feature 5 [qnt_salarios] (0.011254)\n",
      "25. feature 70 [descricao_pai_escolaridade_Ensino médio completo] (0.011118)\n",
      "26. feature 102 [descricao_trabalho_Autônomo] (0.011007)\n",
      "27. feature 97 [descricao_responsavel_financeiro_O próprio aluno] (0.010751)\n",
      "28. feature 49 [descricao_historico_Técnico de Nível Médio em Têxtil] (0.010582)\n",
      "29. feature 50 [descricao_historico_Técnico de Nível Médio em Vestuário] (0.010418)\n",
      "30. feature 74 [descricao_pai_escolaridade_Não conhece] (0.009324)\n",
      "31. feature 68 [descricao_pai_escolaridade_Ensino fundamental completo] (0.009288)\n",
      "32. feature 47 [descricao_historico_Técnico de Nível Médio em Recursos Pesqueiros] (0.009201)\n",
      "33. feature 103 [descricao_trabalho_Beneficiário ou Pensionista do INSS] (0.008901)\n",
      "34. feature 15 [descricao_companhia_domiciliar_Parente(s) ou amigo(s)] (0.008513)\n",
      "35. feature 78 [descricao_raca_Branca] (0.008423)\n",
      "36. feature 24 [descricao_historico_Técnico de Nível Médio em Agroecologia] (0.008416)\n",
      "37. feature 91 [descricao_responsavel_escolaridade_Pós graduação completo] (0.008347)\n",
      "38. feature 59 [descricao_mae_escolaridade_Ensino fundamental incompleto] (0.008327)\n",
      "39. feature 43 [descricao_historico_Técnico de Nível Médio em Mineração] (0.008215)\n",
      "40. feature 66 [descricao_mae_escolaridade_Pós graduação completo] (0.008152)\n",
      "41. feature 57 [descricao_imovel_Próprio] (0.008003)\n",
      "42. feature 120 [sigla_JC] (0.007757)\n",
      "43. feature 81 [descricao_raca_Parda] (0.006741)\n",
      "44. feature 38 [descricao_historico_Técnico de Nível Médio em Logística] (0.006413)\n",
      "45. feature 23 [descricao_historico_Técnico de Nível Médio em Administração] (0.006397)\n",
      "46. feature 126 [sigla_PAR] (0.006302)\n",
      "47. feature 98 [descricao_responsavel_financeiro_Outros] (0.005901)\n",
      "48. feature 82 [descricao_raca_Preta] (0.005801)\n",
      "49. feature 33 [descricao_historico_Técnico de Nível Médio em Eventos] (0.005790)\n",
      "50. feature 129 [sigla_SGA] (0.005785)\n",
      "51. feature 8 [descricao_area_residencial_Rural] (0.005664)\n",
      "52. feature 119 [sigla_IP] (0.005276)\n",
      "53. feature 28 [descricao_historico_Técnico de Nível Médio em Controle Ambiental] (0.004956)\n",
      "54. feature 115 [sigla_CANG] (0.004925)\n",
      "55. feature 35 [descricao_historico_Técnico de Nível Médio em Informática] (0.004896)\n",
      "56. feature 90 [descricao_responsavel_escolaridade_Não estudou] (0.004800)\n",
      "57. feature 111 [descricao_trabalho_Trabalhador rural/Agricultor] (0.004746)\n",
      "58. feature 69 [descricao_pai_escolaridade_Ensino fundamental incompleto] (0.004603)\n",
      "59. feature 94 [descricao_responsavel_financeiro_Irmão(ã)] (0.004489)\n",
      "60. feature 26 [descricao_historico_Técnico de Nível Médio em Apicultura] (0.004479)\n",
      "61. feature 61 [descricao_mae_escolaridade_Ensino médio incompleto] (0.004475)\n",
      "62. feature 25 [descricao_historico_Técnico de Nível Médio em Alimentos] (0.004376)\n",
      "63. feature 131 [sigla_ZN] (0.004325)\n",
      "64. feature 10 [descricao_companhia_domiciliar_Mãe] (0.004194)\n",
      "65. feature 95 [descricao_responsavel_financeiro_Mãe] (0.004172)\n",
      "66. feature 53 [descricao_imovel_Financiado] (0.004034)\n",
      "67. feature 41 [descricao_historico_Técnico de Nível Médio em Mecânica] (0.003923)\n",
      "68. feature 34 [descricao_historico_Técnico de Nível Médio em Geologia] (0.003736)\n",
      "69. feature 18 [descricao_estado_civil_Solteiro(a)] (0.003596)\n",
      "70. feature 65 [descricao_mae_escolaridade_Não estudou] (0.003523)\n",
      "71. feature 118 [sigla_CNAT] (0.003208)\n",
      "72. feature 40 [descricao_historico_Técnico de Nível Médio em Mecatrônica] (0.003113)\n",
      "73. feature 22 [descricao_historico_Técnico de Nivel Médio em Informática] (0.002987)\n",
      "74. feature 116 [sigla_CM] (0.002970)\n",
      "75. feature 36 [descricao_historico_Técnico de Nível Médio em Informática para Internet] (0.002790)\n",
      "76. feature 75 [descricao_pai_escolaridade_Não estudou] (0.002753)\n",
      "77. feature 109 [descricao_trabalho_Serviço público] (0.002733)\n",
      "78. feature 27 [descricao_historico_Técnico de Nível Médio em Comércio] (0.002680)\n",
      "79. feature 110 [descricao_trabalho_Trabalha com vínculo empregatício] (0.002542)\n",
      "80. feature 72 [descricao_pai_escolaridade_Ensino superior completo] (0.002437)\n",
      "81. feature 92 [descricao_responsavel_escolaridade_Pós graduação incompleto] (0.002247)\n",
      "82. feature 128 [sigla_SC] (0.002233)\n",
      "83. feature 87 [descricao_responsavel_escolaridade_Ensino superior completo] (0.002182)\n",
      "84. feature 37 [descricao_historico_Técnico de Nível Médio em Lazer] (0.002020)\n",
      "85. feature 64 [descricao_mae_escolaridade_Não conhece] (0.001910)\n",
      "86. feature 55 [descricao_imovel_Outro] (0.001831)\n",
      "87. feature 80 [descricao_raca_Não declarado] (0.001687)\n",
      "88. feature 114 [sigla_CAL] (0.001664)\n",
      "89. feature 121 [sigla_LAJ] (0.001609)\n",
      "90. feature 17 [descricao_estado_civil_Não declarado] (0.001557)\n",
      "91. feature 62 [descricao_mae_escolaridade_Ensino superior completo] (0.001542)\n",
      "92. feature 63 [descricao_mae_escolaridade_Ensino superior incompleto] (0.001500)\n",
      "93. feature 14 [descricao_companhia_domiciliar_Pais] (0.001451)\n",
      "94. feature 104 [descricao_trabalho_Empresa privada] (0.001432)\n",
      "95. feature 54 [descricao_imovel_Não informado] (0.001323)\n",
      "96. feature 52 [descricao_imovel_Cedido ou Emprestado] (0.001247)\n",
      "97. feature 44 [descricao_historico_Técnico de Nível Médio em Multimídia] (0.001061)\n",
      "98. feature 45 [descricao_historico_Técnico de Nível Médio em Química] (0.001057)\n",
      "99. feature 101 [descricao_responsavel_financeiro_Tio(a)] (0.000722)\n",
      "100. feature 39 [descricao_historico_Técnico de Nível Médio em Manutenção e Suporte em Informática] (0.000694)\n",
      "101. feature 113 [sigla_CA] (0.000534)\n",
      "102. feature 125 [sigla_PAAS] (0.000000)\n",
      "103. feature 1 [artificial] (0.000000)\n",
      "104. feature 127 [sigla_PF] (0.000000)\n",
      "105. feature 122 [sigla_MC] (0.000000)\n",
      "106. feature 16 [descricao_estado_civil_Divorciado(a)] (0.000000)\n",
      "107. feature 73 [descricao_pai_escolaridade_Ensino superior incompleto] (0.000000)\n",
      "108. feature 117 [sigla_CN] (0.000000)\n",
      "109. feature 11 [descricao_companhia_domiciliar_Não informado] (0.000000)\n",
      "110. feature 20 [descricao_historico_Técnico de Nivel Médio em Biocombustíveis] (0.000000)\n",
      "111. feature 19 [descricao_historico_Técnico de Nivel Médio em Agropecuária, na Forma Integrada] (0.000000)\n",
      "112. feature 77 [descricao_pai_escolaridade_Pós graduação incompleto] (0.000000)\n",
      "113. feature 21 [descricao_historico_Técnico de Nivel Médio em Equipamentos Biomédicos] (0.000000)\n",
      "114. feature 108 [descricao_trabalho_Não informado] (0.000000)\n",
      "115. feature 58 [descricao_mae_escolaridade_Ensino fundamental completo] (0.000000)\n",
      "116. feature 83 [descricao_responsavel_escolaridade_Ensino fundamental completo] (0.000000)\n",
      "117. feature 56 [descricao_imovel_Pensionato ou Alojamento] (0.000000)\n",
      "118. feature 51 [descricao_historico_Técnico em Programação de Jogos Digitais] (0.000000)\n",
      "119. feature 86 [descricao_responsavel_escolaridade_Ensino médio incompleto] (0.000000)\n",
      "120. feature 48 [descricao_historico_Técnico de Nível Médio em Refrigeração e Climatização] (0.000000)\n",
      "121. feature 88 [descricao_responsavel_escolaridade_Ensino superior incompleto] (0.000000)\n",
      "122. feature 46 [descricao_historico_Técnico de Nível Médio em Química, na Forma Integrado] (0.000000)\n",
      "123. feature 89 [descricao_responsavel_escolaridade_Não conhece] (0.000000)\n",
      "124. feature 93 [descricao_responsavel_financeiro_Cônjuge] (0.000000)\n",
      "125. feature 67 [descricao_mae_escolaridade_Pós graduação incompleto] (0.000000)\n",
      "126. feature 96 [descricao_responsavel_financeiro_Não informado] (0.000000)\n",
      "127. feature 32 [descricao_historico_Técnico de Nível Médio em Eletrônica] (0.000000)\n",
      "128. feature 100 [descricao_responsavel_financeiro_Parentes] (0.000000)\n",
      "129. feature 79 [descricao_raca_Indígena] (0.000000)\n",
      "130. feature 29 [descricao_historico_Técnico de Nível Médio em Edificações] (0.000000)\n",
      "131. feature 105 [descricao_trabalho_Estágio ou bolsa] (0.000000)\n",
      "132. feature 30 [descricao_historico_Técnico de Nível Médio em Eletromecânica] (0.000000)\n"
     ]
    },
    {
     "data": {
      "image/png": "[encoded data removed]",
      "text/plain": [
       "<matplotlib.figure.Figure at 0x7f1b5aad66a0>"
      ]
     },
     "metadata": {},
     "output_type": "display_data"
    }
   ],
   "source": [
    "dados = dados_tunning.copy()\n",
    "\n",
    "dados = dados[[\n",
    "       'aluno_exclusivo_rede_publica', 'artificial', 'classe', \n",
    "       'descricao_area_residencial',\n",
    "       'descricao_companhia_domiciliar', 'descricao_estado_civil',\n",
    "       'descricao_historico', 'descricao_imovel', 'descricao_mae_escolaridade',\n",
    "       'descricao_pai_escolaridade', 'descricao_raca',\n",
    "       'descricao_responsavel_escolaridade',\n",
    "       'descricao_responsavel_financeiro', 'descricao_trabalho', 'idade',\n",
    "       'pessoa_fisica__sexo', 'possui_necessidade_especial', 'qnt_pc',\n",
    "       'qnt_salarios', 'qtd_pessoas_domicilio', 'sigla',\n",
    "       'tempo_entre_conclusao_ingresso'    \n",
    "]]\n",
    "\n",
    "dados = dados[dados.artificial == 0]\n",
    "print(dados.classe.value_counts())\n",
    "\n",
    "# Separate majority and minority classes\n",
    "df_majority = dados[dados.classe==1]\n",
    "df_minority = dados[dados.classe==0]\n",
    " \n",
    "# Downsample majority class\n",
    "df_majority_downsampled = resample(df_majority, \n",
    "                                 replace=False,    # sample without replacement\n",
    "                                 n_samples=df_minority.shape[0],     # to match minority class\n",
    "                                 random_state=0) # reproducible results\n",
    " \n",
    "# Combine majority class with upsampled minority class\n",
    "df_downsampled = pd.concat([df_minority, df_majority_downsampled])\n",
    " \n",
    "# Display new class counts\n",
    "df_downsampled.classe.value_counts()\n",
    "\n",
    "X, y = preparing_data(df_downsampled)\n",
    "\n",
    "#dividir os dados para treino e teste. default é 25% p teste\n",
    "Xtrain, Xtest, ytrain, ytest = train_test_split(X, y, random_state=0, stratify = y)\n",
    "\n",
    "#seleciona o melhor modelo\n",
    "model_forest_down = make_RF(Xtrain, ytrain)\n",
    "ypred_forest = model_forest_down.predict(Xtest)\n",
    "\n",
    "#avaliacao do modelo\n",
    "evaluating(model_forest_down, ytest, ypred_forest, Xtest)\n",
    "\n",
    "feature_ranking(Xtest, model_forest_down)"
   ]
  },
  {
   "cell_type": "markdown",
   "metadata": {},
   "source": [
    "# Selecionando atributos"
   ]
  },
  {
   "cell_type": "code",
   "execution_count": 37,
   "metadata": {},
   "outputs": [
    {
     "name": "stdout",
     "output_type": "stream",
     "text": [
      "Best Columns \n",
      "------------\n",
      "['idade']\n",
      "\n"
     ]
    }
   ],
   "source": [
    "selector = RFECV(model_forest_down, cv=10, n_jobs=-1)\n",
    "selector.fit(X, y)\n",
    "\n",
    "best_columns = list(X.columns[selector.support_])\n",
    "print(\"Best Columns \\n\"+\"-\"*12+\"\\n{}\\n\".format(best_columns))"
   ]
  },
  {
   "cell_type": "code",
   "execution_count": 38,
   "metadata": {},
   "outputs": [
    {
     "name": "stdout",
     "output_type": "stream",
     "text": [
      "Best Columns \n",
      "------------\n",
      "['idade', 'possui_necessidade_especial', 'qnt_pc', 'qnt_salarios', 'qtd_pessoas_domicilio', 'tempo_entre_conclusao_ingresso', 'descricao_area_residencial_Rural', 'descricao_companhia_domiciliar_Pais', 'descricao_historico_Técnico de Nivel Médio em Agropecuária, na Forma Integrada', 'descricao_historico_Técnico de Nível Médio em Administração', 'descricao_historico_Técnico de Nível Médio em Eletrônica', 'descricao_historico_Técnico de Nível Médio em Mecatrônica', 'descricao_mae_escolaridade_Ensino fundamental incompleto', 'descricao_mae_escolaridade_Ensino médio completo', 'descricao_mae_escolaridade_Ensino médio incompleto', 'descricao_raca_Não declarado', 'descricao_raca_Parda', 'descricao_responsavel_escolaridade_Ensino médio incompleto', 'descricao_responsavel_financeiro_Pai', 'sigla_CA', 'sigla_JC', 'sigla_PAR', 'sigla_PF', 'sigla_SC']\n",
      "\n"
     ]
    }
   ],
   "source": [
    "selector = RFECV(model_forest_down, cv=10, n_jobs=-1)\n",
    "selector.fit(Xtest, ytest)\n",
    "\n",
    "atributos = list(Xtest.columns[selector.support_])\n",
    "print(\"Best Columns \\n\"+\"-\"*12+\"\\n{}\\n\".format(best_columns))"
   ]
  },
  {
   "cell_type": "markdown",
   "metadata": {},
   "source": [
    "# Modelo com seleção de atributos"
   ]
  },
  {
   "cell_type": "code",
   "execution_count": 39,
   "metadata": {
    "collapsed": true
   },
   "outputs": [],
   "source": [
    "#atributos = ['idade', 'qnt_pc', 'qnt_salarios', 'qtd_pessoas_domicilio', 'tempo_entre_conclusao_ingresso']"
   ]
  },
  {
   "cell_type": "code",
   "execution_count": 40,
   "metadata": {
    "collapsed": true
   },
   "outputs": [],
   "source": [
    "Xtrain_red = Xtrain[atributos]\n",
    "Xtest_red  = Xtest[atributos]"
   ]
  },
  {
   "cell_type": "code",
   "execution_count": 41,
   "metadata": {},
   "outputs": [
    {
     "name": "stdout",
     "output_type": "stream",
     "text": [
      "{'criterion': 'gini', 'max_depth': 3, 'max_features': 'sqrt', 'n_estimators': 10}\n",
      "RandomForestClassifier(bootstrap=True, class_weight=None, criterion='gini',\n",
      "            max_depth=3, max_features='sqrt', max_leaf_nodes=None,\n",
      "            min_impurity_decrease=0.0, min_impurity_split=None,\n",
      "            min_samples_leaf=1, min_samples_split=2,\n",
      "            min_weight_fraction_leaf=0.0, n_estimators=10, n_jobs=-1,\n",
      "            oob_score=False, random_state=None, verbose=0,\n",
      "            warm_start=False)\n",
      "Model with rank: 1\n",
      "Mean validation score: 0.593 (std: 0.054)\n",
      "Parameters: {'criterion': 'gini', 'max_depth': 3, 'max_features': 'sqrt', 'n_estimators': 10}\n",
      "\n",
      "Model with rank: 2\n",
      "Mean validation score: 0.589 (std: 0.049)\n",
      "Parameters: {'criterion': 'gini', 'max_depth': 3, 'max_features': 'auto', 'n_estimators': 30}\n",
      "\n",
      "Model with rank: 2\n",
      "Mean validation score: 0.589 (std: 0.050)\n",
      "Parameters: {'criterion': 'entropy', 'max_depth': 3, 'max_features': 'sqrt', 'n_estimators': 10}\n",
      "\n",
      "Valor de falso positivo:0.4431818181818182\n",
      "Cálculo de índices de avaliação:\n",
      "Precisão: 0.617647; Recall: 0.724138, F1: 0.666667\n",
      "Precisão CV:\n"
     ]
    },
    {
     "name": "stderr",
     "output_type": "stream",
     "text": [
      "/home/ubuntu/anaconda3/lib/python3.6/site-packages/matplotlib/font_manager.py:1297: UserWarning: findfont: Font family ['sans-serif'] not found. Falling back to DejaVu Sans\n",
      "  (prop.get_family(), self.defaultFamily[fontext]))\n"
     ]
    },
    {
     "name": "stdout",
     "output_type": "stream",
     "text": [
      "[0.66666667 0.88888889 0.61111111 0.66666667 0.72222222 0.55555556\n",
      " 0.61111111 0.52941176 0.6875     0.375     ]\n",
      "0.6314133986928103\n"
     ]
    },
    {
     "name": "stderr",
     "output_type": "stream",
     "text": [
      "/home/ubuntu/anaconda3/lib/python3.6/site-packages/matplotlib/font_manager.py:1297: UserWarning: findfont: Font family ['sans-serif'] not found. Falling back to DejaVu Sans\n",
      "  (prop.get_family(), self.defaultFamily[fontext]))\n"
     ]
    },
    {
     "data": {
      "image/png": "[encoded data removed]",
      "text/plain": [
       "<matplotlib.figure.Figure at 0x7f1b58f9c5c0>"
      ]
     },
     "metadata": {},
     "output_type": "display_data"
    },
    {
     "data": {
      "image/png": "[encoded data removed]",
      "text/plain": [
       "<matplotlib.figure.Figure at 0x7f1b58f9c4e0>"
      ]
     },
     "metadata": {},
     "output_type": "display_data"
    },
    {
     "name": "stdout",
     "output_type": "stream",
     "text": [
      "0.6876959247648903\n",
      "Feature ranking:\n",
      "1. feature 0 [idade] (0.346131)\n",
      "2. feature 1 [qnt_pc] (0.291400)\n",
      "3. feature 4 [tempo_entre_conclusao_ingresso] (0.138011)\n",
      "4. feature 3 [qtd_pessoas_domicilio] (0.120892)\n",
      "5. feature 2 [qnt_salarios] (0.103566)\n"
     ]
    },
    {
     "data": {
      "image/png": "[encoded data removed]",
      "text/plain": [
       "<matplotlib.figure.Figure at 0x7f1b5aa9eeb8>"
      ]
     },
     "metadata": {},
     "output_type": "display_data"
    }
   ],
   "source": [
    "#seleciona o melhor modelo\n",
    "model_forest_red = make_RF(Xtrain_red, ytrain)\n",
    "ypred_forest = model_forest_red.predict(Xtest_red)\n",
    "\n",
    "#avaliacao do modelo\n",
    "evaluating(model_forest_red, ytest, ypred_forest, Xtest_red)\n",
    "\n",
    "feature_ranking(Xtest_red, model_forest_red)"
   ]
  },
  {
   "cell_type": "code",
   "execution_count": 42,
   "metadata": {
    "collapsed": true
   },
   "outputs": [],
   "source": [
    "#FIM"
   ]
  },
  {
   "cell_type": "code",
   "execution_count": null,
   "metadata": {
    "collapsed": true
   },
   "outputs": [],
   "source": []
  }
 ],
 "metadata": {
  "kernelspec": {
   "display_name": "Python 3",
   "language": "python",
   "name": "python3"
  },
  "language_info": {
   "codemirror_mode": {
    "name": "ipython",
    "version": 3
   },
   "file_extension": ".py",
   "mimetype": "text/x-python",
   "name": "python",
   "nbconvert_exporter": "python",
   "pygments_lexer": "ipython3",
   "version": "3.6.1"
  }
 },
 "nbformat": 4,
 "nbformat_minor": 2
}
