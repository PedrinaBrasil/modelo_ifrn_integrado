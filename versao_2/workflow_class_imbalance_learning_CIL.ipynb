{
 "cells": [
  {
   "cell_type": "markdown",
   "metadata": {},
   "source": [
    "# Imbalanced Learning\n",
    "\n",
    "Estudo baseado no livro \"Imbalanced Learning\" (https://drive.google.com/file/d/1k0n0xg8jvDOOX0Fwj9nteVR16q3Gu2bJ/view?usp=sharing) e na biblioteca IL (http://contrib.scikit-learn.org/imbalanced-learn/stable/)"
   ]
  },
  {
   "cell_type": "code",
   "execution_count": 19,
   "metadata": {},
   "outputs": [],
   "source": [
    "#import os pacotes utilizados\n",
    "import numpy as np\n",
    "import pandas as pd\n",
    "import matplotlib.pyplot as plt\n",
    "import matplotlib\n",
    "import seaborn as sns; sns.set()\n",
    "%matplotlib inline\n",
    "\n",
    "#selecionando atributos \n",
    "from sklearn.feature_selection import RFECV\n",
    "\n",
    "#resample\n",
    "from sklearn.utils import resample\n",
    "\n",
    "#SELECIONANDO MELHOR MODELO\n",
    "from sklearn.model_selection import GridSearchCV\n",
    "from sklearn.datasets import make_classification\n",
    "from scipy.stats import randint as sp_randint\n",
    "from sklearn.cross_validation import train_test_split\n",
    "from sklearn.model_selection import cross_val_score\n",
    "\n",
    "from sklearn.ensemble import RandomForestClassifier\n",
    "from sklearn.tree import DecisionTreeClassifier\n",
    "\n",
    "#Evaluating\n",
    "from sklearn.metrics import confusion_matrix\n",
    "from sklearn.metrics import precision_score, recall_score \n",
    "from sklearn.metrics import f1_score\n",
    "from sklearn.metrics import classification_report\n",
    "\n",
    "#EXPORTAR ARVORE\n",
    "from sklearn.tree import export_graphviz\n",
    "import os\n",
    "\n",
    "#CURVA ROC\n",
    "from sklearn.metrics import roc_curve\n",
    "from sklearn.model_selection import cross_val_predict \n",
    "from sklearn.metrics import roc_auc_score\n",
    "\n",
    "#definindo score\n",
    "from sklearn.metrics import make_scorer\n",
    "from sklearn.metrics import cohen_kappa_score\n",
    "\n",
    "#exibindo todas as colunas\n",
    "pd.set_option('display.max_columns', None)\n",
    "\n"
   ]
  },
  {
   "cell_type": "code",
   "execution_count": 38,
   "metadata": {
    "collapsed": true
   },
   "outputs": [],
   "source": [
    "def plot_roc_curve(fpr, tpr, label=None):    \n",
    "    plt.plot(fpr, tpr, linewidth=2, label=label)    \n",
    "    plt.plot([0, 1], [0, 1], 'k--')    \n",
    "    plt.axis([0, 1, 0, 1])   \n",
    "    plt.xlabel('False Positive Rate')    \n",
    "    plt.ylabel('True Positive Rate')\n",
    "    \n",
    "def evaluating(model, ytest, ypred, Xtest):\n",
    "    #matriz de confusao (AP: atual positivo, AN: atual negativo, PP: pred. positivo, PN: pred. negativo)\n",
    "    #     AN | AP \n",
    "    # --------------\n",
    "    # PN: TN | FN\n",
    "    # PP: FP | TP\n",
    "\n",
    "    #Text summary of the precision, recall, F1 score for each class\n",
    "    #precision = TP/(TP+FP); TN/(TN+FN) \n",
    "    #recall    = TP/(TP+FN); TN/(TN+FP)\n",
    "    print(classification_report(ytest, ypred))    \n",
    "    \n",
    "    #Evaluating\n",
    "    mat = confusion_matrix(ytest, ypred)\n",
    "    sns.heatmap(mat.T, square=True, annot=True, fmt='d', cbar=False)\n",
    "    plt.xlabel('true label')\n",
    "    plt.ylabel('predicted label');\n",
    "    \n",
    "    #tn, fp, fn, tp = confusion_matrix(ytest, ypred).ravel()    \n",
    "    #print(tp)\n",
    "    #print(tn)\n",
    "    #print(fn)\n",
    "    #print(fp)\n",
    "    #print( tn/(tn+fp) )\n",
    "    \n",
    "    #CURVA ROC\n",
    "    fig = plt.figure()\n",
    "    y_probas = cross_val_predict(model, Xtest, ytest, cv=10, method=\"predict_proba\") \n",
    "\n",
    "    y_scores = y_probas[:, 1]   # score = proba of positive class \n",
    "    fpr, tpr, thresholds = roc_curve(ytest, y_scores)\n",
    "\n",
    "    plot_roc_curve(fpr, tpr) \n",
    "    plt.show()\n",
    "    print(\"AUC: %f\" % roc_auc_score(ytest, y_scores))\n",
    "    \n",
    "#limpando os NaN devido ao RF\n",
    "def preparing_data(dados):\n",
    "    print(dados.shape)\n",
    "    dados = dados.dropna()\n",
    "    print(dados.shape)\n",
    "    \n",
    "    #configura os dados de entrada e saída\n",
    "    y = dados.classe\n",
    "    X = dados\n",
    "\n",
    "    del X['classe']\n",
    "    X.shape    \n",
    "    \n",
    "    #binazira os dados devido aos atributos categoricos \n",
    "    dados_dummies = pd.get_dummies(X, drop_first=True)\n",
    "    dados_dummies.shape\n",
    "\n",
    "    #remove atributos inconistentes\n",
    "    dados_clean = dados_dummies.replace([np.inf, -np.inf], np.nan)\n",
    "    dados_clean = dados_clean.dropna(axis=1, how='all')\n",
    "    #print(dados_clean.info())\n",
    "    \n",
    "    return (dados_clean, y)\n",
    "\n",
    "def feature_ranking(Xtest, model, std):\n",
    "    #exibe os atributos mais importantes\n",
    "    importances = model.feature_importances_\n",
    "    #std = np.std([tree.feature_importances_ for tree in model.estimators_], axis=0)\n",
    "    \n",
    "    indices = np.argsort(importances)[::-1]\n",
    "\n",
    "    # Print the feature ranking\n",
    "    print(\"Feature ranking:\")\n",
    "\n",
    "    for f in range(Xtest.shape[1]):\n",
    "        print(\"%d. feature %d [%s] (%f)\" % (f + 1, indices[f], Xtest.columns[indices[f]], importances[indices[f]]))\n",
    "\n",
    "    # Plot the feature importances of the forest\n",
    "    plt.figure()\n",
    "    plt.title(\"Feature importances\")\n",
    "    plt.bar(range(Xtest.shape[1]), importances[indices], color=\"r\", yerr=std[indices], align=\"center\")\n",
    "    plt.xticks(range(Xtest.shape[1]), indices)\n",
    "    plt.xlim([-1, Xtest.shape[1]])\n",
    "    plt.show() "
   ]
  },
  {
   "cell_type": "code",
   "execution_count": 3,
   "metadata": {},
   "outputs": [
    {
     "data": {
      "text/html": [
       "<div>\n",
       "<style>\n",
       "    .dataframe thead tr:only-child th {\n",
       "        text-align: right;\n",
       "    }\n",
       "\n",
       "    .dataframe thead th {\n",
       "        text-align: left;\n",
       "    }\n",
       "\n",
       "    .dataframe tbody tr th {\n",
       "        vertical-align: top;\n",
       "    }\n",
       "</style>\n",
       "<table border=\"1\" class=\"dataframe\">\n",
       "  <thead>\n",
       "    <tr style=\"text-align: right;\">\n",
       "      <th></th>\n",
       "      <th>LnguaPortuguesaeLiteraturaI90H</th>\n",
       "      <th>LnguaPortuguesaeLiteraturaI90H_dependencia</th>\n",
       "      <th>LnguaPortuguesaeLiteraturaI90H_freq</th>\n",
       "      <th>MatemticaI120H</th>\n",
       "      <th>MatemticaI120H_dependencia</th>\n",
       "      <th>MatemticaI120H_freq</th>\n",
       "      <th>acompanhamento</th>\n",
       "      <th>aluno_exclusivo_rede_publica</th>\n",
       "      <th>artificial</th>\n",
       "      <th>classe</th>\n",
       "      <th>conceito</th>\n",
       "      <th>conceito_freq</th>\n",
       "      <th>descricao</th>\n",
       "      <th>descricao_area_residencial</th>\n",
       "      <th>descricao_companhia_domiciliar</th>\n",
       "      <th>descricao_estado_civil</th>\n",
       "      <th>descricao_historico</th>\n",
       "      <th>descricao_imovel</th>\n",
       "      <th>descricao_mae_escolaridade</th>\n",
       "      <th>descricao_pai_escolaridade</th>\n",
       "      <th>descricao_raca</th>\n",
       "      <th>descricao_responsavel_escolaridade</th>\n",
       "      <th>descricao_responsavel_financeiro</th>\n",
       "      <th>descricao_trabalho</th>\n",
       "      <th>id</th>\n",
       "      <th>idade</th>\n",
       "      <th>pessoa_fisica__sexo</th>\n",
       "      <th>possui_necessidade_especial</th>\n",
       "      <th>qnt_pc</th>\n",
       "      <th>qnt_salarios</th>\n",
       "      <th>qtd_pessoas_domicilio</th>\n",
       "      <th>sigla</th>\n",
       "      <th>tempo_entre_conclusao_ingresso</th>\n",
       "    </tr>\n",
       "  </thead>\n",
       "  <tbody>\n",
       "    <tr>\n",
       "      <th>0</th>\n",
       "      <td>68.0</td>\n",
       "      <td>0</td>\n",
       "      <td>100.0</td>\n",
       "      <td>66.0</td>\n",
       "      <td>0</td>\n",
       "      <td>100.0</td>\n",
       "      <td>0</td>\n",
       "      <td>False</td>\n",
       "      <td>0</td>\n",
       "      <td>1</td>\n",
       "      <td>B</td>\n",
       "      <td>A</td>\n",
       "      <td>Matriculado</td>\n",
       "      <td>Urbana</td>\n",
       "      <td>Mãe</td>\n",
       "      <td>Solteiro(a)</td>\n",
       "      <td>Técnico de Nivel Médio em Informática</td>\n",
       "      <td>Alugado</td>\n",
       "      <td>Ensino fundamental incompleto</td>\n",
       "      <td>Ensino fundamental incompleto</td>\n",
       "      <td>Branca</td>\n",
       "      <td>Ensino fundamental incompleto</td>\n",
       "      <td>Mãe</td>\n",
       "      <td>Não informado</td>\n",
       "      <td>457884597605</td>\n",
       "      <td>15</td>\n",
       "      <td>F</td>\n",
       "      <td>False</td>\n",
       "      <td>0</td>\n",
       "      <td>1</td>\n",
       "      <td>2</td>\n",
       "      <td>LAJ</td>\n",
       "      <td>1</td>\n",
       "    </tr>\n",
       "    <tr>\n",
       "      <th>1</th>\n",
       "      <td>73.0</td>\n",
       "      <td>1</td>\n",
       "      <td>100.0</td>\n",
       "      <td>36.0</td>\n",
       "      <td>1</td>\n",
       "      <td>91.0</td>\n",
       "      <td>0</td>\n",
       "      <td>False</td>\n",
       "      <td>1</td>\n",
       "      <td>0</td>\n",
       "      <td>R</td>\n",
       "      <td>R</td>\n",
       "      <td>Cancelado</td>\n",
       "      <td>Urbana</td>\n",
       "      <td>Mãe</td>\n",
       "      <td>Solteiro(a)</td>\n",
       "      <td>Técnico de Nível Médio em Meio Ambiente</td>\n",
       "      <td>Alugado</td>\n",
       "      <td>Ensino fundamental incompleto</td>\n",
       "      <td>Ensino fundamental incompleto</td>\n",
       "      <td>Parda</td>\n",
       "      <td>Ensino fundamental incompleto</td>\n",
       "      <td>Mãe</td>\n",
       "      <td>Não informado</td>\n",
       "      <td>458436647741</td>\n",
       "      <td>17</td>\n",
       "      <td>M</td>\n",
       "      <td>False</td>\n",
       "      <td>1</td>\n",
       "      <td>1</td>\n",
       "      <td>2</td>\n",
       "      <td>SPP</td>\n",
       "      <td>2</td>\n",
       "    </tr>\n",
       "  </tbody>\n",
       "</table>\n",
       "</div>"
      ],
      "text/plain": [
       "   LnguaPortuguesaeLiteraturaI90H  LnguaPortuguesaeLiteraturaI90H_dependencia  \\\n",
       "0                            68.0                                           0   \n",
       "1                            73.0                                           1   \n",
       "\n",
       "   LnguaPortuguesaeLiteraturaI90H_freq  MatemticaI120H  \\\n",
       "0                                100.0            66.0   \n",
       "1                                100.0            36.0   \n",
       "\n",
       "   MatemticaI120H_dependencia  MatemticaI120H_freq  acompanhamento  \\\n",
       "0                           0                100.0               0   \n",
       "1                           1                 91.0               0   \n",
       "\n",
       "   aluno_exclusivo_rede_publica  artificial  classe conceito conceito_freq  \\\n",
       "0                         False           0       1        B             A   \n",
       "1                         False           1       0        R             R   \n",
       "\n",
       "     descricao descricao_area_residencial descricao_companhia_domiciliar  \\\n",
       "0  Matriculado                     Urbana                            Mãe   \n",
       "1    Cancelado                     Urbana                            Mãe   \n",
       "\n",
       "  descricao_estado_civil                      descricao_historico  \\\n",
       "0            Solteiro(a)    Técnico de Nivel Médio em Informática   \n",
       "1            Solteiro(a)  Técnico de Nível Médio em Meio Ambiente   \n",
       "\n",
       "  descricao_imovel     descricao_mae_escolaridade  \\\n",
       "0          Alugado  Ensino fundamental incompleto   \n",
       "1          Alugado  Ensino fundamental incompleto   \n",
       "\n",
       "      descricao_pai_escolaridade descricao_raca  \\\n",
       "0  Ensino fundamental incompleto         Branca   \n",
       "1  Ensino fundamental incompleto          Parda   \n",
       "\n",
       "  descricao_responsavel_escolaridade descricao_responsavel_financeiro  \\\n",
       "0      Ensino fundamental incompleto                              Mãe   \n",
       "1      Ensino fundamental incompleto                              Mãe   \n",
       "\n",
       "  descricao_trabalho            id  idade pessoa_fisica__sexo  \\\n",
       "0      Não informado  457884597605     15                   F   \n",
       "1      Não informado  458436647741     17                   M   \n",
       "\n",
       "   possui_necessidade_especial  qnt_pc  qnt_salarios  qtd_pessoas_domicilio  \\\n",
       "0                        False       0             1                      2   \n",
       "1                        False       1             1                      2   \n",
       "\n",
       "  sigla  tempo_entre_conclusao_ingresso  \n",
       "0   LAJ                               1  \n",
       "1   SPP                               2  "
      ]
     },
     "execution_count": 3,
     "metadata": {},
     "output_type": "execute_result"
    }
   ],
   "source": [
    "dados_tunning = pd.read_json('dados/dados_workflow_ivan.json')\n",
    "dados_tunning.head(2)"
   ]
  },
  {
   "cell_type": "markdown",
   "metadata": {
    "collapsed": true
   },
   "source": [
    "# Cenário 01: são utilizado todos os dados (notas, caracterização social, demográficos) e a técnica DT"
   ]
  },
  {
   "cell_type": "code",
   "execution_count": 4,
   "metadata": {},
   "outputs": [
    {
     "name": "stdout",
     "output_type": "stream",
     "text": [
      "1    7369\n",
      "0     349\n",
      "Name: classe, dtype: int64\n"
     ]
    }
   ],
   "source": [
    "dados = dados_tunning.copy()\n",
    "\n",
    "atributos = [\n",
    "       'LnguaPortuguesaeLiteraturaI90H',\n",
    "       'LnguaPortuguesaeLiteraturaI90H_dependencia',\n",
    "       'LnguaPortuguesaeLiteraturaI90H_freq', 'MatemticaI120H',\n",
    "       'MatemticaI120H_dependencia', 'MatemticaI120H_freq', 'acompanhamento',\n",
    "       'aluno_exclusivo_rede_publica', 'artificial', 'classe', 'conceito',\n",
    "       'conceito_freq', 'descricao_area_residencial',\n",
    "       'descricao_companhia_domiciliar', 'descricao_estado_civil',\n",
    "       'descricao_historico', 'descricao_imovel', 'descricao_mae_escolaridade',\n",
    "       'descricao_pai_escolaridade', 'descricao_raca',\n",
    "       'descricao_responsavel_escolaridade',\n",
    "       'descricao_responsavel_financeiro', 'descricao_trabalho', 'idade',\n",
    "       'pessoa_fisica__sexo', 'possui_necessidade_especial', 'qnt_pc',\n",
    "       'qnt_salarios', 'qtd_pessoas_domicilio', 'sigla',\n",
    "       'tempo_entre_conclusao_ingresso'    \n",
    "]\n",
    "\n",
    "dados = dados[atributos]\n",
    "\n",
    "dados['LnguaPortuguesaeLiteraturaI90H'].fillna(-1, inplace=True)\n",
    "dados['LnguaPortuguesaeLiteraturaI90H_dependencia'].fillna(-1, inplace=True)\n",
    "dados['LnguaPortuguesaeLiteraturaI90H_freq'].fillna(-1, inplace=True)\n",
    "\n",
    "dados['MatemticaI120H'].fillna(-1, inplace=True)\n",
    "dados['MatemticaI120H_dependencia'].fillna(-1, inplace=True)\n",
    "dados['MatemticaI120H_freq'].fillna(-1, inplace=True)\n",
    "\n",
    "#recupera apenas os dados que nao foram criados de forma artificial\n",
    "dados = dados[dados.artificial == 0]\n",
    "\n",
    "print(dados.classe.value_counts())"
   ]
  },
  {
   "cell_type": "code",
   "execution_count": 5,
   "metadata": {},
   "outputs": [
    {
     "name": "stdout",
     "output_type": "stream",
     "text": [
      "(7718, 31)\n",
      "(7718, 31)\n",
      "(7718, 151)\n"
     ]
    }
   ],
   "source": [
    "X, y = preparing_data(dados)\n",
    "print(X.shape)\n",
    "\n",
    "#separa o conjunto de treinamento e teste de acordo com o balanceamento das classes. \n",
    "Xtrain, Xtest, ytrain, ytest = train_test_split(X, y, random_state=0, stratify = y)"
   ]
  },
  {
   "cell_type": "code",
   "execution_count": 6,
   "metadata": {
    "collapsed": true
   },
   "outputs": [],
   "source": [
    "#técnica selecionada DT com parâmetros otimizados de acordo com a score \n",
    "tree_clf = DecisionTreeClassifier() \n",
    "\n",
    "param_grid_tree = {\"criterion\": [\"gini\", \"entropy\"],\n",
    "              \"min_samples_split\": [2, 10, 20],\n",
    "              \"max_depth\": [None, 2, 3, 5, 10],\n",
    "              \"min_samples_leaf\": [1, 5, 10],\n",
    "              \"max_leaf_nodes\": [None, 5, 10, 20],\n",
    "              }\n",
    "\n",
    "#seleciona o melhor modelo de acordo com os parâmetros\n",
    "grid_search_tree = GridSearchCV(estimator=tree_clf, param_grid=param_grid_tree, scoring='roc_auc')\n",
    "grid_search_tree.fit(Xtrain, ytrain)\n",
    "\n",
    "model_tree = grid_search_tree.best_estimator_\n",
    "ypred_tree = model_tree.predict(Xtest)\n",
    "\n"
   ]
  },
  {
   "cell_type": "code",
   "execution_count": 36,
   "metadata": {},
   "outputs": [
    {
     "name": "stdout",
     "output_type": "stream",
     "text": [
      "             precision    recall  f1-score   support\n",
      "\n",
      "          0       0.79      0.38      0.51        87\n",
      "          1       0.97      1.00      0.98      1843\n",
      "\n",
      "avg / total       0.96      0.97      0.96      1930\n",
      "\n"
     ]
    },
    {
     "name": "stderr",
     "output_type": "stream",
     "text": [
      "/home/ubuntu/anaconda3/lib/python3.6/site-packages/matplotlib/font_manager.py:1297: UserWarning: findfont: Font family ['sans-serif'] not found. Falling back to DejaVu Sans\n",
      "  (prop.get_family(), self.defaultFamily[fontext]))\n",
      "/home/ubuntu/anaconda3/lib/python3.6/site-packages/matplotlib/font_manager.py:1297: UserWarning: findfont: Font family ['sans-serif'] not found. Falling back to DejaVu Sans\n",
      "  (prop.get_family(), self.defaultFamily[fontext]))\n"
     ]
    },
    {
     "data": {
      "image/png": "[encoded data removed]",
      "text/plain": [
       "<matplotlib.figure.Figure at 0x7f98ed8bc438>"
      ]
     },
     "metadata": {},
     "output_type": "display_data"
    },
    {
     "data": {
      "image/png": "[encoded data removed]",
      "text/plain": [
       "<matplotlib.figure.Figure at 0x7f98ed3ff898>"
      ]
     },
     "metadata": {},
     "output_type": "display_data"
    },
    {
     "name": "stdout",
     "output_type": "stream",
     "text": [
      "AUC: 0.902346\n"
     ]
    }
   ],
   "source": [
    "evaluating(model_tree, ytest, ypred_tree, Xtest)"
   ]
  },
  {
   "cell_type": "markdown",
   "metadata": {
    "collapsed": true
   },
   "source": [
    "# Cenário 02: técnica BalancedBaggingClassifier"
   ]
  },
  {
   "cell_type": "code",
   "execution_count": 37,
   "metadata": {},
   "outputs": [
    {
     "name": "stdout",
     "output_type": "stream",
     "text": [
      "{'n_estimators': 100}\n",
      "0.9263815722225228\n",
      "             precision    recall  f1-score   support\n",
      "\n",
      "          0       0.33      0.89      0.48        87\n",
      "          1       0.99      0.91      0.95      1843\n",
      "\n",
      "avg / total       0.96      0.91      0.93      1930\n",
      "\n"
     ]
    },
    {
     "name": "stderr",
     "output_type": "stream",
     "text": [
      "/home/ubuntu/anaconda3/lib/python3.6/site-packages/matplotlib/font_manager.py:1297: UserWarning: findfont: Font family ['sans-serif'] not found. Falling back to DejaVu Sans\n",
      "  (prop.get_family(), self.defaultFamily[fontext]))\n",
      "/home/ubuntu/anaconda3/lib/python3.6/site-packages/matplotlib/font_manager.py:1297: UserWarning: findfont: Font family ['sans-serif'] not found. Falling back to DejaVu Sans\n",
      "  (prop.get_family(), self.defaultFamily[fontext]))\n"
     ]
    },
    {
     "data": {
      "image/png": "[encoded data removed]",
      "text/plain": [
       "<matplotlib.figure.Figure at 0x7f98ed3da0f0>"
      ]
     },
     "metadata": {},
     "output_type": "display_data"
    },
    {
     "data": {
      "image/png": "[encoded data removed]",
      "text/plain": [
       "<matplotlib.figure.Figure at 0x7f98ed370b70>"
      ]
     },
     "metadata": {},
     "output_type": "display_data"
    },
    {
     "name": "stdout",
     "output_type": "stream",
     "text": [
      "AUC: 0.930988\n"
     ]
    }
   ],
   "source": [
    "from sklearn.tree import DecisionTreeClassifier\n",
    "from imblearn.ensemble import BalancedBaggingClassifier\n",
    "from sklearn.model_selection import cross_validate\n",
    "\n",
    "#classificador base DT\n",
    "tree = DecisionTreeClassifier(max_features='auto')\n",
    "\n",
    "#otimiza parâmetros\n",
    "parameters = {'n_estimators': (10, 30, 100, 200, 300)}\n",
    "grid = GridSearchCV(BalancedBaggingClassifier( base_estimator=tree ),\n",
    "             parameters,\n",
    "             scoring=\"roc_auc\")\n",
    "\n",
    "#treina\n",
    "grid.fit(Xtrain, ytrain)\n",
    "\n",
    "#exibe melhor modelo\n",
    "print(grid.best_params_)\n",
    "print(grid.best_score_)\n",
    "ensemble = grid.best_estimator_\n",
    "\n",
    "#predicao\n",
    "ypred_ensemble = ensemble.predict(Xtest)\n",
    "\n",
    "#avaliacao\n",
    "evaluating(ensemble, ytest, ypred_ensemble, Xtest)\n",
    "\n",
    "#scores = cross_validate(resampled_rf, Xtrain, ytrain, cv=10, scoring=('roc_auc', 'average_precision'))\n",
    "#scores['test_roc_auc'].mean(), scores['test_average_precision'].mean()"
   ]
  },
  {
   "cell_type": "code",
   "execution_count": 40,
   "metadata": {},
   "outputs": [
    {
     "name": "stdout",
     "output_type": "stream",
     "text": [
      "Feature ranking:\n",
      "1. feature 17 [conceito_R] (0.285782)\n",
      "2. feature 0 [LnguaPortuguesaeLiteraturaI90H] (0.126424)\n",
      "3. feature 15 [conceito_I] (0.121114)\n",
      "4. feature 18 [conceito_S] (0.084765)\n",
      "5. feature 4 [MatemticaI120H_dependencia] (0.035363)\n",
      "6. feature 9 [idade] (0.024174)\n",
      "7. feature 7 [aluno_exclusivo_rede_publica] (0.022590)\n",
      "8. feature 3 [MatemticaI120H] (0.020082)\n",
      "9. feature 12 [qnt_salarios] (0.019141)\n",
      "10. feature 108 [descricao_responsavel_escolaridade_Não estudou] (0.018516)\n",
      "11. feature 5 [MatemticaI120H_freq] (0.016295)\n",
      "12. feature 11 [qnt_pc] (0.013967)\n",
      "13. feature 14 [tempo_entre_conclusao_ingresso] (0.013837)\n",
      "14. feature 142 [sigla_MO] (0.013560)\n",
      "15. feature 113 [descricao_responsavel_financeiro_Mãe] (0.012427)\n",
      "16. feature 135 [sigla_CM] (0.010634)\n",
      "17. feature 136 [sigla_CN] (0.010150)\n",
      "18. feature 131 [pessoa_fisica__sexo_M] (0.009193)\n",
      "19. feature 13 [qtd_pessoas_domicilio] (0.009055)\n",
      "20. feature 133 [sigla_CAL] (0.007675)\n",
      "21. feature 101 [descricao_responsavel_escolaridade_Ensino fundamental completo] (0.007378)\n",
      "22. feature 90 [descricao_pai_escolaridade_Ensino superior completo] (0.007325)\n",
      "23. feature 78 [descricao_mae_escolaridade_Ensino médio completo] (0.007239)\n",
      "24. feature 89 [descricao_pai_escolaridade_Ensino médio incompleto] (0.007155)\n",
      "25. feature 49 [descricao_historico_Técnico de Nível Médio em Eletrotécnica] (0.007143)\n",
      "26. feature 59 [descricao_historico_Técnico de Nível Médio em Mecânica] (0.007130)\n",
      "27. feature 57 [descricao_historico_Técnico de Nível Médio em Manutenção e Suporte em Informática] (0.006014)\n",
      "28. feature 134 [sigla_CANG] (0.005990)\n",
      "29. feature 88 [descricao_pai_escolaridade_Ensino médio completo] (0.005682)\n",
      "30. feature 6 [acompanhamento] (0.005491)\n",
      "31. feature 100 [descricao_raca_Preta] (0.005421)\n",
      "32. feature 148 [sigla_SGA] (0.004346)\n",
      "33. feature 106 [descricao_responsavel_escolaridade_Ensino superior incompleto] (0.003994)\n",
      "34. feature 102 [descricao_responsavel_escolaridade_Ensino fundamental incompleto] (0.003906)\n",
      "35. feature 99 [descricao_raca_Parda] (0.003906)\n",
      "36. feature 81 [descricao_mae_escolaridade_Ensino superior incompleto] (0.003456)\n",
      "37. feature 61 [descricao_historico_Técnico de Nível Médio em Mineração] (0.003329)\n",
      "38. feature 30 [descricao_companhia_domiciliar_Pais] (0.003135)\n",
      "39. feature 98 [descricao_raca_Não declarado] (0.003125)\n",
      "40. feature 31 [descricao_companhia_domiciliar_Parente(s) ou amigo(s)] (0.002976)\n",
      "41. feature 20 [conceito_freq_R] (0.002790)\n",
      "42. feature 112 [descricao_responsavel_financeiro_Irmão(ã)] (0.002774)\n",
      "43. feature 77 [descricao_mae_escolaridade_Ensino fundamental incompleto] (0.002344)\n",
      "44. feature 149 [sigla_SPP] (0.002277)\n",
      "45. feature 109 [descricao_responsavel_escolaridade_Pós graduação completo] (0.001953)\n",
      "46. feature 79 [descricao_mae_escolaridade_Ensino médio incompleto] (0.001933)\n",
      "47. feature 87 [descricao_pai_escolaridade_Ensino fundamental incompleto] (0.001447)\n",
      "48. feature 10 [possui_necessidade_especial] (0.001302)\n",
      "49. feature 1 [LnguaPortuguesaeLiteraturaI90H_dependencia] (0.000885)\n",
      "50. feature 117 [descricao_responsavel_financeiro_Pai] (0.000824)\n",
      "51. feature 80 [descricao_mae_escolaridade_Ensino superior completo] (0.000689)\n",
      "52. feature 103 [descricao_responsavel_escolaridade_Ensino médio completo] (0.000558)\n",
      "53. feature 110 [descricao_responsavel_escolaridade_Pós graduação incompleto] (0.000406)\n",
      "54. feature 24 [descricao_area_residencial_Rural] (0.000335)\n",
      "55. feature 96 [descricao_raca_Branca] (0.000219)\n",
      "56. feature 64 [descricao_historico_Técnico de Nível Médio em Química, na Forma Integrado] (0.000186)\n",
      "57. feature 124 [descricao_trabalho_Nunca trabalhou] (0.000123)\n",
      "58. feature 146 [sigla_PF] (0.000070)\n",
      "59. feature 33 [descricao_estado_civil_Divorciado(a)] (0.000000)\n",
      "60. feature 50 [descricao_historico_Técnico de Nível Médio em Eletrônica] (0.000000)\n",
      "61. feature 44 [descricao_historico_Técnico de Nível Médio em Apicultura] (0.000000)\n",
      "62. feature 45 [descricao_historico_Técnico de Nível Médio em Comércio] (0.000000)\n",
      "63. feature 46 [descricao_historico_Técnico de Nível Médio em Controle Ambiental] (0.000000)\n",
      "64. feature 47 [descricao_historico_Técnico de Nível Médio em Edificações] (0.000000)\n",
      "65. feature 48 [descricao_historico_Técnico de Nível Médio em Eletromecânica] (0.000000)\n",
      "66. feature 22 [descricao_area_residencial_Comunidade Quilombola] (0.000000)\n",
      "67. feature 51 [descricao_historico_Técnico de Nível Médio em Eventos] (0.000000)\n",
      "68. feature 42 [descricao_historico_Técnico de Nível Médio em Agroecologia] (0.000000)\n",
      "69. feature 29 [descricao_companhia_domiciliar_Pai] (0.000000)\n",
      "70. feature 52 [descricao_historico_Técnico de Nível Médio em Geologia] (0.000000)\n",
      "71. feature 53 [descricao_historico_Técnico de Nível Médio em Informática] (0.000000)\n",
      "72. feature 21 [conceito_freq_S] (0.000000)\n",
      "73. feature 54 [descricao_historico_Técnico de Nível Médio em Informática para Internet] (0.000000)\n",
      "74. feature 19 [conceito_freq_I] (0.000000)\n",
      "75. feature 55 [descricao_historico_Técnico de Nível Médio em Lazer] (0.000000)\n",
      "76. feature 43 [descricao_historico_Técnico de Nível Médio em Alimentos] (0.000000)\n",
      "77. feature 23 [descricao_area_residencial_Não informado] (0.000000)\n",
      "78. feature 34 [descricao_estado_civil_Não declarado] (0.000000)\n",
      "79. feature 37 [descricao_historico_Técnico de Nivel Médio em Agropecuária, na Forma Integrada] (0.000000)\n",
      "80. feature 35 [descricao_estado_civil_Solteiro(a)] (0.000000)\n",
      "81. feature 16 [conceito_O] (0.000000)\n",
      "82. feature 2 [LnguaPortuguesaeLiteraturaI90H_freq] (0.000000)\n",
      "83. feature 28 [descricao_companhia_domiciliar_Outros] (0.000000)\n",
      "84. feature 27 [descricao_companhia_domiciliar_Não informado] (0.000000)\n",
      "85. feature 36 [descricao_estado_civil_União Estável] (0.000000)\n",
      "86. feature 38 [descricao_historico_Técnico de Nivel Médio em Biocombustíveis] (0.000000)\n",
      "87. feature 41 [descricao_historico_Técnico de Nível Médio em Administração] (0.000000)\n",
      "88. feature 39 [descricao_historico_Técnico de Nivel Médio em Equipamentos Biomédicos] (0.000000)\n",
      "89. feature 40 [descricao_historico_Técnico de Nivel Médio em Informática] (0.000000)\n",
      "90. feature 32 [descricao_companhia_domiciliar_Sozinho(a)] (0.000000)\n",
      "91. feature 26 [descricao_companhia_domiciliar_Mãe] (0.000000)\n",
      "92. feature 25 [descricao_area_residencial_Urbana] (0.000000)\n",
      "93. feature 56 [descricao_historico_Técnico de Nível Médio em Logística] (0.000000)\n",
      "94. feature 8 [artificial] (0.000000)\n",
      "95. feature 150 [sigla_ZN] (0.000000)\n",
      "96. feature 58 [descricao_historico_Técnico de Nível Médio em Mecatrônica] (0.000000)\n",
      "97. feature 60 [descricao_historico_Técnico de Nível Médio em Meio Ambiente] (0.000000)\n",
      "98. feature 114 [descricao_responsavel_financeiro_Não informado] (0.000000)\n",
      "99. feature 115 [descricao_responsavel_financeiro_O próprio aluno] (0.000000)\n",
      "100. feature 116 [descricao_responsavel_financeiro_Outros] (0.000000)\n",
      "101. feature 118 [descricao_responsavel_financeiro_Parentes] (0.000000)\n",
      "102. feature 119 [descricao_responsavel_financeiro_Tio(a)] (0.000000)\n",
      "103. feature 120 [descricao_trabalho_Autônomo] (0.000000)\n",
      "104. feature 121 [descricao_trabalho_Beneficiário ou Pensionista do INSS] (0.000000)\n",
      "105. feature 122 [descricao_trabalho_Empresa privada] (0.000000)\n",
      "106. feature 123 [descricao_trabalho_Estágio ou bolsa] (0.000000)\n",
      "107. feature 125 [descricao_trabalho_Não está trabalhando] (0.000000)\n",
      "108. feature 126 [descricao_trabalho_Não informado] (0.000000)\n",
      "109. feature 127 [descricao_trabalho_Pescador] (0.000000)\n",
      "110. feature 128 [descricao_trabalho_Serviço público] (0.000000)\n",
      "111. feature 129 [descricao_trabalho_Trabalha com vínculo empregatício] (0.000000)\n",
      "112. feature 130 [descricao_trabalho_Trabalhador rural/Agricultor] (0.000000)\n",
      "113. feature 132 [sigla_CA] (0.000000)\n",
      "114. feature 137 [sigla_CNAT] (0.000000)\n",
      "115. feature 138 [sigla_IP] (0.000000)\n",
      "116. feature 139 [sigla_JC] (0.000000)\n",
      "117. feature 140 [sigla_LAJ] (0.000000)\n",
      "118. feature 141 [sigla_MC] (0.000000)\n",
      "119. feature 143 [sigla_NC] (0.000000)\n",
      "120. feature 144 [sigla_PAAS] (0.000000)\n",
      "121. feature 145 [sigla_PAR] (0.000000)\n",
      "122. feature 147 [sigla_SC] (0.000000)\n",
      "123. feature 111 [descricao_responsavel_financeiro_Cônjuge] (0.000000)\n",
      "124. feature 107 [descricao_responsavel_escolaridade_Não conhece] (0.000000)\n",
      "125. feature 105 [descricao_responsavel_escolaridade_Ensino superior completo] (0.000000)\n",
      "126. feature 74 [descricao_imovel_Pensionato ou Alojamento] (0.000000)\n",
      "127. feature 62 [descricao_historico_Técnico de Nível Médio em Multimídia] (0.000000)\n",
      "128. feature 63 [descricao_historico_Técnico de Nível Médio em Química] (0.000000)\n",
      "129. feature 65 [descricao_historico_Técnico de Nível Médio em Recursos Pesqueiros] (0.000000)\n",
      "130. feature 66 [descricao_historico_Técnico de Nível Médio em Refrigeração e Climatização] (0.000000)\n",
      "131. feature 67 [descricao_historico_Técnico de Nível Médio em Têxtil] (0.000000)\n",
      "132. feature 68 [descricao_historico_Técnico de Nível Médio em Vestuário] (0.000000)\n",
      "133. feature 69 [descricao_historico_Técnico em Programação de Jogos Digitais] (0.000000)\n",
      "134. feature 70 [descricao_imovel_Cedido ou Emprestado] (0.000000)\n",
      "135. feature 71 [descricao_imovel_Financiado] (0.000000)\n",
      "136. feature 72 [descricao_imovel_Não informado] (0.000000)\n",
      "137. feature 73 [descricao_imovel_Outro] (0.000000)\n",
      "138. feature 76 [descricao_mae_escolaridade_Ensino fundamental completo] (0.000000)\n",
      "139. feature 104 [descricao_responsavel_escolaridade_Ensino médio incompleto] (0.000000)\n",
      "140. feature 82 [descricao_mae_escolaridade_Não conhece] (0.000000)\n",
      "141. feature 83 [descricao_mae_escolaridade_Não estudou] (0.000000)\n",
      "142. feature 84 [descricao_mae_escolaridade_Pós graduação completo] (0.000000)\n",
      "143. feature 85 [descricao_mae_escolaridade_Pós graduação incompleto] (0.000000)\n",
      "144. feature 86 [descricao_pai_escolaridade_Ensino fundamental completo] (0.000000)\n",
      "145. feature 91 [descricao_pai_escolaridade_Ensino superior incompleto] (0.000000)\n",
      "146. feature 92 [descricao_pai_escolaridade_Não conhece] (0.000000)\n",
      "147. feature 93 [descricao_pai_escolaridade_Não estudou] (0.000000)\n",
      "148. feature 94 [descricao_pai_escolaridade_Pós graduação completo] (0.000000)\n",
      "149. feature 95 [descricao_pai_escolaridade_Pós graduação incompleto] (0.000000)\n",
      "150. feature 97 [descricao_raca_Indígena] (0.000000)\n",
      "151. feature 75 [descricao_imovel_Próprio] (0.000000)\n"
     ]
    },
    {
     "name": "stderr",
     "output_type": "stream",
     "text": [
      "/home/ubuntu/anaconda3/lib/python3.6/site-packages/matplotlib/font_manager.py:1297: UserWarning: findfont: Font family ['sans-serif'] not found. Falling back to DejaVu Sans\n",
      "  (prop.get_family(), self.defaultFamily[fontext]))\n"
     ]
    },
    {
     "data": {
      "image/png": "[encoded data removed]",
      "text/plain": [
       "<matplotlib.figure.Figure at 0x7f98edb560b8>"
      ]
     },
     "metadata": {},
     "output_type": "display_data"
    }
   ],
   "source": [
    "#exibe os principais atributos de cada árvore produzida no ensemble\n",
    "\n",
    "std = np.std([est.steps[1][1].feature_importances_ for est in ensemble.estimators_], axis=0)\n",
    "\n",
    "for estimator in ensemble.estimators_:\n",
    "    feature_ranking(Xtest, estimator.steps[1][1], std)\n",
    "    break\n",
    "    \n"
   ]
  },
  {
   "cell_type": "code",
   "execution_count": null,
   "metadata": {},
   "outputs": [],
   "source": [
    "#seleciona os melhores atributos para cada modelo\n",
    "#não há como aplicar a técnica RFECV uma vez que o ensemble não gera um ranking geral das features\n",
    "#selector = RFECV(ensemble, cv=10, n_jobs=-1)\n",
    "#selector.fit(Xtest, ytest)\n",
    "\n",
    "#best_columns = list(X.columns[selector.support_])\n",
    "#print(\"Best Columns \\n{}\\n\".format(best_columns))    \n"
   ]
  },
  {
   "cell_type": "markdown",
   "metadata": {},
   "source": [
    "# Cenário 03: teste com RandomForest com o atributo class_weight='balanced'"
   ]
  },
  {
   "cell_type": "code",
   "execution_count": 41,
   "metadata": {},
   "outputs": [
    {
     "name": "stdout",
     "output_type": "stream",
     "text": [
      "{'n_estimators': 200}\n",
      "0.9229596188087402\n",
      "             precision    recall  f1-score   support\n",
      "\n",
      "          0       0.88      0.34      0.50        87\n",
      "          1       0.97      1.00      0.98      1843\n",
      "\n",
      "avg / total       0.97      0.97      0.96      1930\n",
      "\n"
     ]
    },
    {
     "name": "stderr",
     "output_type": "stream",
     "text": [
      "/home/ubuntu/anaconda3/lib/python3.6/site-packages/matplotlib/font_manager.py:1297: UserWarning: findfont: Font family ['sans-serif'] not found. Falling back to DejaVu Sans\n",
      "  (prop.get_family(), self.defaultFamily[fontext]))\n",
      "/home/ubuntu/anaconda3/lib/python3.6/site-packages/matplotlib/font_manager.py:1297: UserWarning: findfont: Font family ['sans-serif'] not found. Falling back to DejaVu Sans\n",
      "  (prop.get_family(), self.defaultFamily[fontext]))\n"
     ]
    },
    {
     "data": {
      "image/png": "[encoded data removed]",
      "text/plain": [
       "<matplotlib.figure.Figure at 0x7f98ed3d9fd0>"
      ]
     },
     "metadata": {},
     "output_type": "display_data"
    },
    {
     "data": {
      "image/png": "[encoded data removed]",
      "text/plain": [
       "<matplotlib.figure.Figure at 0x7f98ed3d9b70>"
      ]
     },
     "metadata": {},
     "output_type": "display_data"
    },
    {
     "name": "stdout",
     "output_type": "stream",
     "text": [
      "AUC: 0.934150\n"
     ]
    }
   ],
   "source": [
    "parameters = {'n_estimators': (10, 30, 100, 200)}\n",
    "\n",
    "grid = GridSearchCV(RandomForestClassifier(max_features='auto', class_weight='balanced'),\n",
    "             parameters,\n",
    "             scoring=\"roc_auc\")\n",
    "\n",
    "#treina\n",
    "grid.fit(Xtrain, ytrain)\n",
    "\n",
    "#exibe melhor classificador\n",
    "print(grid.best_params_)\n",
    "print(grid.best_score_)\n",
    "ensemble = grid.best_estimator_\n",
    "\n",
    "#predicao\n",
    "ypred_ensemble = ensemble.predict(Xtest)\n",
    "\n",
    "#avaliação\n",
    "evaluating(ensemble, ytest, ypred_ensemble, Xtest)"
   ]
  },
  {
   "cell_type": "markdown",
   "metadata": {
    "collapsed": true
   },
   "source": [
    "# Cenário 04: utilizando a técnica de BALANCED CASCADE + Ensemble Personalizado\n",
    "\n",
    "Referências:\n",
    "- https://pt.slideshare.net/PyData/python-resampling-65637486 \n",
    "- https://www.youtube.com/watch?v=-Z1PaqYKC1w"
   ]
  },
  {
   "cell_type": "code",
   "execution_count": 42,
   "metadata": {
    "collapsed": true
   },
   "outputs": [],
   "source": [
    "from sklearn.base import BaseEstimator\n",
    "from sklearn.base import ClassifierMixin\n",
    "from imblearn.ensemble import BalanceCascade\n",
    "import numpy as np\n",
    "import operator\n",
    "from sklearn.base import clone\n",
    "\n",
    "class MyEnsembleClassifier(BaseEstimator, ClassifierMixin):\n",
    "    \"\"\"\n",
    "    Ensemble classifier for scikit-learn estimators.\n",
    "\n",
    "    Parameters\n",
    "    ----------\n",
    "\n",
    "    estimator : técnica de ML base para treinamento\n",
    "    weights : `list` (default: `None`)\n",
    "      If `None`, the majority rule voting will be applied to the predicted class labels.\n",
    "        If a list of weights (`float` or `int`) is provided, the averaged raw probabilities (via `predict_proba`)\n",
    "        will be used to determine the most confident class label.\n",
    "\n",
    "    \"\"\"\n",
    "    \n",
    "    def __init__(self, estimator = DecisionTreeClassifier(max_features='auto'), weights=None):\n",
    "        \n",
    "        self.estimator = estimator\n",
    "        self.weights   = weights\n",
    "        self.balanced  = BalanceCascade(estimator=estimator)\n",
    "        self.clfs = []\n",
    "        self.classes_ =[0, 1]\n",
    "        \n",
    "    def fit(self, X, y):\n",
    "        \"\"\"\n",
    "        Fit the scikit-learn estimators utilizando como conjunto de treinamento os dados gerados a partir do BalanceCascade\n",
    "\n",
    "        Parameters\n",
    "        ----------\n",
    "\n",
    "        X : numpy array, shape = [n_samples, n_features]\n",
    "            Training data\n",
    "        y : list or numpy array, shape = [n_samples]\n",
    "            Class labels\n",
    "\n",
    "        \"\"\"\n",
    "        \n",
    "        #separa o conjunto de treinamento para cada classificador\n",
    "        X_train_res, y_train_res = self.balanced.fit_sample(X, y)\n",
    "        \n",
    "        #para cada classificador realizar o treinamento\n",
    "        for idx in range(len(y_train_res)):    \n",
    "            #clona o classificador definido\n",
    "            clf = clone(self.estimator)\n",
    "                \n",
    "            #treina\n",
    "            clf.fit(X_train_res[idx], y_train_res[idx]) \n",
    "            self.clfs.append( clf )        \n",
    "\n",
    "\n",
    "    def predict(self, X):\n",
    "        \"\"\"\n",
    "        Realiza a predição de acordo com a votação de cada classificador. Caso fique abaixo de 0.5 será selecionado a classe 01. \n",
    "        \n",
    "        Parameters\n",
    "        ----------\n",
    "\n",
    "        X : numpy array, shape = [n_samples, n_features]\n",
    "\n",
    "        Returns\n",
    "        ----------\n",
    "\n",
    "        maj : list or numpy array, shape = [n_samples]\n",
    "            Predicted class labels by majority rule\n",
    "\n",
    "        \"\"\"\n",
    "        \n",
    "        #y_pred_cum = np.zeros( X.shape[0] )\n",
    "        \n",
    "        #for clf in self.clfs:            \n",
    "        #    y_pred_cum += clf.predict_proba(X)[:, 0]\n",
    "            \n",
    "        #y_pred_cum = y_pred_cum/len(self.clfs)\n",
    "        #maj = (y_pred_cum < 0.5).astype(int)\n",
    "\n",
    "        \n",
    "        maj = (self.predict_proba(X) < 0.5)[:, 0].astype(int)\n",
    "        \n",
    "        return maj\n",
    "\n",
    "    def predict_proba(self, X):\n",
    "\n",
    "        \"\"\"\n",
    "        Parameters\n",
    "        ----------\n",
    "\n",
    "        X : numpy array, shape = [n_samples, n_features]\n",
    "\n",
    "        Returns\n",
    "        ----------\n",
    "\n",
    "        avg : list or numpy array, shape = [n_samples, n_probabilities]\n",
    "            Weighted average probability for each class per sample.\n",
    "\n",
    "        \"\"\"\n",
    "        #para cada classificador gera as probabilidades de cada classe\n",
    "        self.probas_ = [clf.predict_proba(X) for clf in self.clfs]\n",
    "        \n",
    "        #retorna a média das probabilidades geradas\n",
    "        avg = np.average(self.probas_, axis=0, weights=self.weights)\n",
    "\n",
    "        return avg"
   ]
  },
  {
   "cell_type": "code",
   "execution_count": 43,
   "metadata": {},
   "outputs": [
    {
     "name": "stdout",
     "output_type": "stream",
     "text": [
      "             precision    recall  f1-score   support\n",
      "\n",
      "          0       0.26      0.86      0.40        87\n",
      "          1       0.99      0.89      0.94      1843\n",
      "\n",
      "avg / total       0.96      0.89      0.91      1930\n",
      "\n"
     ]
    },
    {
     "name": "stderr",
     "output_type": "stream",
     "text": [
      "/home/ubuntu/anaconda3/lib/python3.6/site-packages/matplotlib/font_manager.py:1297: UserWarning: findfont: Font family ['sans-serif'] not found. Falling back to DejaVu Sans\n",
      "  (prop.get_family(), self.defaultFamily[fontext]))\n",
      "/home/ubuntu/anaconda3/lib/python3.6/site-packages/matplotlib/font_manager.py:1297: UserWarning: findfont: Font family ['sans-serif'] not found. Falling back to DejaVu Sans\n",
      "  (prop.get_family(), self.defaultFamily[fontext]))\n"
     ]
    },
    {
     "data": {
      "image/png": "[encoded data removed]",
      "text/plain": [
       "<matplotlib.figure.Figure at 0x7f98ed9b7780>"
      ]
     },
     "metadata": {},
     "output_type": "display_data"
    },
    {
     "data": {
      "image/png": "[encoded data removed]",
      "text/plain": [
       "<matplotlib.figure.Figure at 0x7f98edbe5f98>"
      ]
     },
     "metadata": {},
     "output_type": "display_data"
    },
    {
     "name": "stdout",
     "output_type": "stream",
     "text": [
      "AUC: 0.921835\n"
     ]
    }
   ],
   "source": [
    "#cria o ensemble\n",
    "myEns = MyEnsembleClassifier()\n",
    "\n",
    "#treina\n",
    "myEns.fit(Xtrain, ytrain)\n",
    "\n",
    "#predição\n",
    "ypred_vote = myEns.predict(Xtest)\n",
    "\n",
    "#avaliação \n",
    "evaluating(myEns, ytest, ypred_vote, Xtest)"
   ]
  },
  {
   "cell_type": "markdown",
   "metadata": {
    "collapsed": true
   },
   "source": [
    "# Cenário 05: outras técnicas\n",
    "Referência: \n",
    "- https://amueller.github.io/COMS4995-s18/slides/aml-13-022818-resampling-imbalanced-data/#16"
   ]
  },
  {
   "cell_type": "code",
   "execution_count": 44,
   "metadata": {},
   "outputs": [
    {
     "name": "stdout",
     "output_type": "stream",
     "text": [
      "(5788, 151)\n",
      "(524, 151)\n",
      "[262 262]\n"
     ]
    },
    {
     "data": {
      "text/plain": [
       "(0.9023530635012473, 0.993507830248948)"
      ]
     },
     "execution_count": 44,
     "metadata": {},
     "output_type": "execute_result"
    }
   ],
   "source": [
    "from imblearn.under_sampling import RandomUnderSampler\n",
    "from sklearn.linear_model import LogisticRegressionCV\n",
    "from imblearn.pipeline import make_pipeline as make_imb_pipeline\n",
    "\n",
    "rus = RandomUnderSampler(replacement=False)\n",
    "X_train_subsample, y_train_subsample = rus.fit_sample(Xtrain, ytrain)\n",
    "\n",
    "print(Xtrain.shape)\n",
    "print(X_train_subsample.shape)\n",
    "print(np.bincount(y_train_subsample))\n",
    "\n",
    "undersample_pipe = make_imb_pipeline(RandomUnderSampler(), LogisticRegressionCV())\n",
    "\n",
    "scores = cross_validate(undersample_pipe,\n",
    "                        Xtrain, ytrain, cv=10, scoring=('roc_auc', 'average_precision'))\n",
    "scores['test_roc_auc'].mean(), scores['test_average_precision'].mean()"
   ]
  },
  {
   "cell_type": "code",
   "execution_count": 46,
   "metadata": {},
   "outputs": [
    {
     "name": "stdout",
     "output_type": "stream",
     "text": [
      "             precision    recall  f1-score   support\n",
      "\n",
      "          0       0.25      0.85      0.39        87\n",
      "          1       0.99      0.88      0.93      1843\n",
      "\n",
      "avg / total       0.96      0.88      0.91      1930\n",
      "\n"
     ]
    },
    {
     "name": "stderr",
     "output_type": "stream",
     "text": [
      "/home/ubuntu/anaconda3/lib/python3.6/site-packages/matplotlib/font_manager.py:1297: UserWarning: findfont: Font family ['sans-serif'] not found. Falling back to DejaVu Sans\n",
      "  (prop.get_family(), self.defaultFamily[fontext]))\n",
      "/home/ubuntu/anaconda3/lib/python3.6/site-packages/matplotlib/font_manager.py:1297: UserWarning: findfont: Font family ['sans-serif'] not found. Falling back to DejaVu Sans\n",
      "  (prop.get_family(), self.defaultFamily[fontext]))\n"
     ]
    },
    {
     "data": {
      "image/png": "[encoded data removed]",
      "text/plain": [
       "<matplotlib.figure.Figure at 0x7f98edb6fa20>"
      ]
     },
     "metadata": {},
     "output_type": "display_data"
    },
    {
     "data": {
      "image/png": "[encoded data removed]",
      "text/plain": [
       "<matplotlib.figure.Figure at 0x7f98ed3b50f0>"
      ]
     },
     "metadata": {},
     "output_type": "display_data"
    },
    {
     "name": "stdout",
     "output_type": "stream",
     "text": [
      "AUC: 0.877243\n"
     ]
    }
   ],
   "source": [
    "#treino\n",
    "undersample_pipe.fit(Xtrain, ytrain)\n",
    "\n",
    "#predicao\n",
    "ypred = undersample_pipe.predict(Xtest)\n",
    "\n",
    "#avaliação \n",
    "evaluating(undersample_pipe, ytest, ypred, Xtest)"
   ]
  },
  {
   "cell_type": "code",
   "execution_count": 47,
   "metadata": {},
   "outputs": [
    {
     "name": "stdout",
     "output_type": "stream",
     "text": [
      "             precision    recall  f1-score   support\n",
      "\n",
      "          0       0.25      0.79      0.38        87\n",
      "          1       0.99      0.89      0.94      1843\n",
      "\n",
      "avg / total       0.96      0.88      0.91      1930\n",
      "\n"
     ]
    },
    {
     "name": "stderr",
     "output_type": "stream",
     "text": [
      "/home/ubuntu/anaconda3/lib/python3.6/site-packages/matplotlib/font_manager.py:1297: UserWarning: findfont: Font family ['sans-serif'] not found. Falling back to DejaVu Sans\n",
      "  (prop.get_family(), self.defaultFamily[fontext]))\n",
      "/home/ubuntu/anaconda3/lib/python3.6/site-packages/matplotlib/font_manager.py:1297: UserWarning: findfont: Font family ['sans-serif'] not found. Falling back to DejaVu Sans\n",
      "  (prop.get_family(), self.defaultFamily[fontext]))\n"
     ]
    },
    {
     "data": {
      "image/png": "[encoded data removed]",
      "text/plain": [
       "<matplotlib.figure.Figure at 0x7f98edf8a908>"
      ]
     },
     "metadata": {},
     "output_type": "display_data"
    },
    {
     "data": {
      "image/png": "[encoded data removed]",
      "text/plain": [
       "<matplotlib.figure.Figure at 0x7f98edf8a978>"
      ]
     },
     "metadata": {},
     "output_type": "display_data"
    },
    {
     "name": "stdout",
     "output_type": "stream",
     "text": [
      "AUC: 0.907404\n"
     ]
    }
   ],
   "source": [
    "undersample_pipe_rf = make_imb_pipeline(RandomUnderSampler(),\n",
    "                                        RandomForestClassifier())\n",
    "\n",
    "#treino\n",
    "undersample_pipe.fit(Xtrain, ytrain)\n",
    "\n",
    "#predicao\n",
    "ypred = undersample_pipe.predict(Xtest)\n",
    "\n",
    "#avaliação \n",
    "evaluating(undersample_pipe, ytest, ypred, Xtest)"
   ]
  },
  {
   "cell_type": "code",
   "execution_count": 49,
   "metadata": {},
   "outputs": [
    {
     "name": "stdout",
     "output_type": "stream",
     "text": [
      "             precision    recall  f1-score   support\n",
      "\n",
      "          0       0.25      0.84      0.38        87\n",
      "          1       0.99      0.88      0.93      1843\n",
      "\n",
      "avg / total       0.96      0.88      0.91      1930\n",
      "\n"
     ]
    },
    {
     "name": "stderr",
     "output_type": "stream",
     "text": [
      "/home/ubuntu/anaconda3/lib/python3.6/site-packages/matplotlib/font_manager.py:1297: UserWarning: findfont: Font family ['sans-serif'] not found. Falling back to DejaVu Sans\n",
      "  (prop.get_family(), self.defaultFamily[fontext]))\n",
      "/home/ubuntu/anaconda3/lib/python3.6/site-packages/matplotlib/font_manager.py:1297: UserWarning: findfont: Font family ['sans-serif'] not found. Falling back to DejaVu Sans\n",
      "  (prop.get_family(), self.defaultFamily[fontext]))\n"
     ]
    },
    {
     "data": {
      "image/png": "[encoded data removed]",
      "text/plain": [
       "<matplotlib.figure.Figure at 0x7f98ed90f240>"
      ]
     },
     "metadata": {},
     "output_type": "display_data"
    },
    {
     "data": {
      "image/png": "[encoded data removed]",
      "text/plain": [
       "<matplotlib.figure.Figure at 0x7f98edf239e8>"
      ]
     },
     "metadata": {},
     "output_type": "display_data"
    },
    {
     "name": "stdout",
     "output_type": "stream",
     "text": [
      "AUC: 0.873757\n"
     ]
    }
   ],
   "source": [
    "from sklearn.linear_model import LogisticRegression\n",
    "\n",
    "#ensemble\n",
    "undersample_pipe_rf = make_imb_pipeline(RandomUnderSampler(),\n",
    "                                        LogisticRegression(class_weight='balanced'))\n",
    "\n",
    "#treino\n",
    "undersample_pipe.fit(Xtrain, ytrain)\n",
    "\n",
    "#predicao\n",
    "ypred = undersample_pipe.predict(Xtest)\n",
    "\n",
    "#avaliação \n",
    "evaluating(undersample_pipe, ytest, ypred, Xtest)"
   ]
  },
  {
   "cell_type": "code",
   "execution_count": 50,
   "metadata": {
    "collapsed": true
   },
   "outputs": [],
   "source": [
    "from imblearn.under_sampling import EditedNearestNeighbours\n",
    "\n",
    "enn = EditedNearestNeighbours(n_neighbors=5)\n",
    "\n",
    "X_train_enn, y_train_enn = enn.fit_sample(Xtrain, ytrain)\n",
    "\n",
    "enn_mode = EditedNearestNeighbours(kind_sel=\"mode\", n_neighbors=5)\n",
    "\n",
    "X_train_enn_mode, y_train_enn_mode = enn_mode.fit_sample(Xtrain, ytrain)"
   ]
  },
  {
   "cell_type": "code",
   "execution_count": 51,
   "metadata": {},
   "outputs": [
    {
     "name": "stdout",
     "output_type": "stream",
     "text": [
      "             precision    recall  f1-score   support\n",
      "\n",
      "          0       0.26      0.87      0.40        87\n",
      "          1       0.99      0.88      0.94      1843\n",
      "\n",
      "avg / total       0.96      0.88      0.91      1930\n",
      "\n"
     ]
    },
    {
     "name": "stderr",
     "output_type": "stream",
     "text": [
      "/home/ubuntu/anaconda3/lib/python3.6/site-packages/matplotlib/font_manager.py:1297: UserWarning: findfont: Font family ['sans-serif'] not found. Falling back to DejaVu Sans\n",
      "  (prop.get_family(), self.defaultFamily[fontext]))\n",
      "/home/ubuntu/anaconda3/lib/python3.6/site-packages/matplotlib/font_manager.py:1297: UserWarning: findfont: Font family ['sans-serif'] not found. Falling back to DejaVu Sans\n",
      "  (prop.get_family(), self.defaultFamily[fontext]))\n"
     ]
    },
    {
     "data": {
      "image/png": "[encoded data removed]",
      "text/plain": [
       "<matplotlib.figure.Figure at 0x7f98edba3160>"
      ]
     },
     "metadata": {},
     "output_type": "display_data"
    },
    {
     "data": {
      "image/png": "[encoded data removed]",
      "text/plain": [
       "<matplotlib.figure.Figure at 0x7f98ed371240>"
      ]
     },
     "metadata": {},
     "output_type": "display_data"
    },
    {
     "name": "stdout",
     "output_type": "stream",
     "text": [
      "AUC: 0.902308\n"
     ]
    }
   ],
   "source": [
    "#ensemble\n",
    "undersample_pipe_rf = make_imb_pipeline(EditedNearestNeighbours(n_neighbors=5),\n",
    "                             LogisticRegression())\n",
    "\n",
    "#treino\n",
    "undersample_pipe.fit(Xtrain, ytrain)\n",
    "\n",
    "#predicao\n",
    "ypred = undersample_pipe.predict(Xtest)\n",
    "\n",
    "#avaliação \n",
    "evaluating(undersample_pipe, ytest, ypred, Xtest)"
   ]
  },
  {
   "cell_type": "code",
   "execution_count": 52,
   "metadata": {},
   "outputs": [
    {
     "name": "stdout",
     "output_type": "stream",
     "text": [
      "             precision    recall  f1-score   support\n",
      "\n",
      "          0       0.25      0.84      0.38        87\n",
      "          1       0.99      0.88      0.93      1843\n",
      "\n",
      "avg / total       0.96      0.88      0.91      1930\n",
      "\n"
     ]
    },
    {
     "name": "stderr",
     "output_type": "stream",
     "text": [
      "/home/ubuntu/anaconda3/lib/python3.6/site-packages/matplotlib/font_manager.py:1297: UserWarning: findfont: Font family ['sans-serif'] not found. Falling back to DejaVu Sans\n",
      "  (prop.get_family(), self.defaultFamily[fontext]))\n",
      "/home/ubuntu/anaconda3/lib/python3.6/site-packages/matplotlib/font_manager.py:1297: UserWarning: findfont: Font family ['sans-serif'] not found. Falling back to DejaVu Sans\n",
      "  (prop.get_family(), self.defaultFamily[fontext]))\n"
     ]
    },
    {
     "data": {
      "image/png": "[encoded data removed]",
      "text/plain": [
       "<matplotlib.figure.Figure at 0x7f98ed41fe80>"
      ]
     },
     "metadata": {},
     "output_type": "display_data"
    },
    {
     "data": {
      "image/png": "[encoded data removed]",
      "text/plain": [
       "<matplotlib.figure.Figure at 0x7f98ed94bf28>"
      ]
     },
     "metadata": {},
     "output_type": "display_data"
    },
    {
     "name": "stdout",
     "output_type": "stream",
     "text": [
      "AUC: 0.897350\n"
     ]
    }
   ],
   "source": [
    "#ensemble\n",
    "undersample_pipe_rf = make_imb_pipeline(EditedNearestNeighbours(n_neighbors= 5),\n",
    "                                  RandomForestClassifier(n_estimators=100))\n",
    "\n",
    "#treino\n",
    "undersample_pipe.fit(Xtrain, ytrain)\n",
    "\n",
    "#predicao\n",
    "ypred = undersample_pipe.predict(Xtest)\n",
    "\n",
    "#avaliação \n",
    "evaluating(undersample_pipe, ytest, ypred, Xtest)"
   ]
  },
  {
   "cell_type": "code",
   "execution_count": 53,
   "metadata": {},
   "outputs": [
    {
     "name": "stdout",
     "output_type": "stream",
     "text": [
      "(907, 151)\n",
      "[262 645]\n"
     ]
    }
   ],
   "source": [
    "from imblearn.under_sampling import CondensedNearestNeighbour\n",
    "\n",
    "cnn = CondensedNearestNeighbour()\n",
    "X_train_cnn, y_train_cnn = cnn.fit_sample(Xtrain, ytrain)\n",
    "print(X_train_cnn.shape)\n",
    "print(np.bincount(y_train_cnn))"
   ]
  },
  {
   "cell_type": "code",
   "execution_count": 54,
   "metadata": {},
   "outputs": [
    {
     "name": "stdout",
     "output_type": "stream",
     "text": [
      "             precision    recall  f1-score   support\n",
      "\n",
      "          0       0.24      0.84      0.37        87\n",
      "          1       0.99      0.87      0.93      1843\n",
      "\n",
      "avg / total       0.96      0.87      0.90      1930\n",
      "\n"
     ]
    },
    {
     "name": "stderr",
     "output_type": "stream",
     "text": [
      "/home/ubuntu/anaconda3/lib/python3.6/site-packages/matplotlib/font_manager.py:1297: UserWarning: findfont: Font family ['sans-serif'] not found. Falling back to DejaVu Sans\n",
      "  (prop.get_family(), self.defaultFamily[fontext]))\n",
      "/home/ubuntu/anaconda3/lib/python3.6/site-packages/matplotlib/font_manager.py:1297: UserWarning: findfont: Font family ['sans-serif'] not found. Falling back to DejaVu Sans\n",
      "  (prop.get_family(), self.defaultFamily[fontext]))\n"
     ]
    },
    {
     "data": {
      "image/png": "[encoded data removed]",
      "text/plain": [
       "<matplotlib.figure.Figure at 0x7f98ed979748>"
      ]
     },
     "metadata": {},
     "output_type": "display_data"
    },
    {
     "data": {
      "image/png": "[encoded data removed]",
      "text/plain": [
       "<matplotlib.figure.Figure at 0x7f98edafac18>"
      ]
     },
     "metadata": {},
     "output_type": "display_data"
    },
    {
     "name": "stdout",
     "output_type": "stream",
     "text": [
      "AUC: 0.893396\n"
     ]
    }
   ],
   "source": [
    "#ensemble\n",
    "undersample_pipe_rf = make_imb_pipeline(CondensedNearestNeighbour(), LogisticRegression())\n",
    "\n",
    "#treino\n",
    "undersample_pipe.fit(Xtrain, ytrain)\n",
    "\n",
    "#predicao\n",
    "ypred = undersample_pipe.predict(Xtest)\n",
    "\n",
    "#avaliação \n",
    "evaluating(undersample_pipe, ytest, ypred, Xtest)"
   ]
  },
  {
   "cell_type": "code",
   "execution_count": 55,
   "metadata": {},
   "outputs": [
    {
     "name": "stdout",
     "output_type": "stream",
     "text": [
      "             precision    recall  f1-score   support\n",
      "\n",
      "          0       0.24      0.84      0.38        87\n",
      "          1       0.99      0.88      0.93      1843\n",
      "\n",
      "avg / total       0.96      0.87      0.91      1930\n",
      "\n"
     ]
    },
    {
     "name": "stderr",
     "output_type": "stream",
     "text": [
      "/home/ubuntu/anaconda3/lib/python3.6/site-packages/matplotlib/font_manager.py:1297: UserWarning: findfont: Font family ['sans-serif'] not found. Falling back to DejaVu Sans\n",
      "  (prop.get_family(), self.defaultFamily[fontext]))\n",
      "/home/ubuntu/anaconda3/lib/python3.6/site-packages/matplotlib/font_manager.py:1297: UserWarning: findfont: Font family ['sans-serif'] not found. Falling back to DejaVu Sans\n",
      "  (prop.get_family(), self.defaultFamily[fontext]))\n"
     ]
    },
    {
     "data": {
      "image/png": "[encoded data removed]",
      "text/plain": [
       "<matplotlib.figure.Figure at 0x7f98ed395080>"
      ]
     },
     "metadata": {},
     "output_type": "display_data"
    },
    {
     "data": {
      "image/png": "[encoded data removed]",
      "text/plain": [
       "<matplotlib.figure.Figure at 0x7f98ed39c1d0>"
      ]
     },
     "metadata": {},
     "output_type": "display_data"
    },
    {
     "name": "stdout",
     "output_type": "stream",
     "text": [
      "AUC: 0.866765\n"
     ]
    }
   ],
   "source": [
    "#ensemble\n",
    "undersample_pipe_rf = make_imb_pipeline(CondensedNearestNeighbour(),\n",
    "                              RandomForestClassifier(n_estimators=100))\n",
    "\n",
    "#treino\n",
    "undersample_pipe.fit(Xtrain, ytrain)\n",
    "\n",
    "#predicao\n",
    "ypred = undersample_pipe.predict(Xtest)\n",
    "\n",
    "#avaliação \n",
    "evaluating(undersample_pipe, ytest, ypred, Xtest)"
   ]
  },
  {
   "cell_type": "code",
   "execution_count": null,
   "metadata": {
    "collapsed": true
   },
   "outputs": [],
   "source": []
  }
 ],
 "metadata": {
  "kernelspec": {
   "display_name": "Python 3",
   "language": "python",
   "name": "python3"
  },
  "language_info": {
   "codemirror_mode": {
    "name": "ipython",
    "version": 3
   },
   "file_extension": ".py",
   "mimetype": "text/x-python",
   "name": "python",
   "nbconvert_exporter": "python",
   "pygments_lexer": "ipython3",
   "version": "3.6.1"
  }
 },
 "nbformat": 4,
 "nbformat_minor": 2
}
