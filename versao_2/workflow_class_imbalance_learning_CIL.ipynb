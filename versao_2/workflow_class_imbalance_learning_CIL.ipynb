{
 "cells": [
  {
   "cell_type": "code",
   "execution_count": 1,
   "metadata": {},
   "outputs": [
    {
     "name": "stderr",
     "output_type": "stream",
     "text": [
      "/home/ubuntu/anaconda3/lib/python3.6/site-packages/sklearn/cross_validation.py:41: DeprecationWarning: This module was deprecated in version 0.18 in favor of the model_selection module into which all the refactored classes and functions are moved. Also note that the interface of the new CV iterators are different from that of this module. This module will be removed in 0.20.\n",
      "  \"This module will be removed in 0.20.\", DeprecationWarning)\n"
     ]
    }
   ],
   "source": [
    "#import os pacotes utilizados\n",
    "import numpy as np\n",
    "import pandas as pd\n",
    "import matplotlib.pyplot as plt\n",
    "import matplotlib\n",
    "import seaborn as sns; sns.set()\n",
    "%matplotlib inline\n",
    "\n",
    "#selecionando atributos \n",
    "from sklearn.feature_selection import RFECV\n",
    "\n",
    "#resample\n",
    "from sklearn.utils import resample\n",
    "\n",
    "#SELECIONANDO MELHOR MODELO\n",
    "from sklearn.model_selection import GridSearchCV\n",
    "from sklearn.datasets import make_classification\n",
    "from scipy.stats import randint as sp_randint\n",
    "from sklearn.cross_validation import train_test_split\n",
    "from sklearn.model_selection import cross_val_score\n",
    "\n",
    "from sklearn.ensemble import RandomForestClassifier\n",
    "from sklearn.tree import DecisionTreeClassifier\n",
    "\n",
    "#Evaluating\n",
    "from sklearn.metrics import confusion_matrix\n",
    "from sklearn.metrics import precision_score, recall_score \n",
    "from sklearn.metrics import f1_score\n",
    "\n",
    "#EXPORTAR ARVORE\n",
    "from sklearn.tree import export_graphviz\n",
    "import os\n",
    "\n",
    "#CURVA ROC\n",
    "from sklearn.metrics import roc_curve\n",
    "from sklearn.model_selection import cross_val_predict \n",
    "from sklearn.metrics import roc_auc_score\n",
    "\n",
    "#definindo score\n",
    "from sklearn.metrics import make_scorer\n",
    "from sklearn.metrics import cohen_kappa_score\n",
    "\n",
    "#exibindo todas as colunas\n",
    "pd.set_option('display.max_columns', None)\n",
    "\n"
   ]
  },
  {
   "cell_type": "code",
   "execution_count": 2,
   "metadata": {
    "collapsed": true
   },
   "outputs": [],
   "source": [
    "def plot_roc_curve(fpr, tpr, label=None):    \n",
    "    plt.plot(fpr, tpr, linewidth=2, label=label)    \n",
    "    plt.plot([0, 1], [0, 1], 'k--')    \n",
    "    plt.axis([0, 1, 0, 1])   \n",
    "    plt.xlabel('False Positive Rate')    \n",
    "    plt.ylabel('True Positive Rate')\n",
    "\n",
    "\n",
    "def evaluating(model, ytest, ypred, Xtest):\n",
    "    #Evaluating\n",
    "    mat = confusion_matrix(ytest, ypred)\n",
    "    sns.heatmap(mat.T, square=True, annot=True, fmt='d', cbar=False)\n",
    "    plt.xlabel('true label')\n",
    "    plt.ylabel('predicted label');\n",
    "    \n",
    "    s = mat[0][1]/(mat[0][0]+mat[0][1])\n",
    "    print(\"Valor de falso positivo:\"+str(s))\n",
    "    \n",
    "    #evaluating\n",
    "    print(\"Cálculo de índices de avaliação:\")\n",
    "    \n",
    "    print(\"Precisão: %f; Recall: %f, F1: %f\" % (precision_score(ytest, ypred), \n",
    "                                                recall_score(ytest, ypred), \n",
    "                                                f1_score(ytest, ypred) ))\n",
    "\n",
    "    #precisao\n",
    "    print('Precisão CV:')\n",
    "    scores = cross_val_score(model, Xtest, ytest, cv=10)\n",
    "    accuracy = np.mean(scores)\n",
    "    print(scores)\n",
    "    print(accuracy)\n",
    "\n",
    "    #CURVA ROC\n",
    "    fig = plt.figure()\n",
    "    y_probas = cross_val_predict(model, Xtest, ytest, cv=10, method=\"predict_proba\") \n",
    "\n",
    "    y_scores = y_probas[:, 1]   # score = proba of positive class \n",
    "    fpr, tpr, thresholds = roc_curve(ytest, y_scores)\n",
    "\n",
    "    plot_roc_curve(fpr, tpr) \n",
    "    plt.show()\n",
    "    print(roc_auc_score(ytest, y_scores))\n",
    "    \n",
    "#limpando os NaN devido ao RF\n",
    "def preparing_data(dados):\n",
    "    print(dados.shape)\n",
    "    dados = dados.dropna()\n",
    "    print(dados.shape)\n",
    "    \n",
    "    #configura os dados de entrada e saída\n",
    "    y = dados.classe\n",
    "    X = dados\n",
    "\n",
    "    del X['classe']\n",
    "    X.shape    \n",
    "    \n",
    "    #binazira os dados devido aos atributos categoricos \n",
    "    dados_dummies = pd.get_dummies(X, drop_first=True)\n",
    "    dados_dummies.shape\n",
    "\n",
    "    #remove atributos inconistentes\n",
    "    dados_clean = dados_dummies.replace([np.inf, -np.inf], np.nan)\n",
    "    dados_clean = dados_clean.dropna(axis=1, how='all')\n",
    "    #print(dados_clean.info())\n",
    "    \n",
    "    return (dados_clean, y)\n"
   ]
  },
  {
   "cell_type": "code",
   "execution_count": 3,
   "metadata": {},
   "outputs": [
    {
     "data": {
      "text/html": [
       "<div>\n",
       "<style>\n",
       "    .dataframe thead tr:only-child th {\n",
       "        text-align: right;\n",
       "    }\n",
       "\n",
       "    .dataframe thead th {\n",
       "        text-align: left;\n",
       "    }\n",
       "\n",
       "    .dataframe tbody tr th {\n",
       "        vertical-align: top;\n",
       "    }\n",
       "</style>\n",
       "<table border=\"1\" class=\"dataframe\">\n",
       "  <thead>\n",
       "    <tr style=\"text-align: right;\">\n",
       "      <th></th>\n",
       "      <th>LnguaPortuguesaeLiteraturaI90H</th>\n",
       "      <th>LnguaPortuguesaeLiteraturaI90H_dependencia</th>\n",
       "      <th>LnguaPortuguesaeLiteraturaI90H_freq</th>\n",
       "      <th>MatemticaI120H</th>\n",
       "      <th>MatemticaI120H_dependencia</th>\n",
       "      <th>MatemticaI120H_freq</th>\n",
       "      <th>acompanhamento</th>\n",
       "      <th>aluno_exclusivo_rede_publica</th>\n",
       "      <th>artificial</th>\n",
       "      <th>classe</th>\n",
       "      <th>conceito</th>\n",
       "      <th>conceito_freq</th>\n",
       "      <th>descricao</th>\n",
       "      <th>descricao_area_residencial</th>\n",
       "      <th>descricao_companhia_domiciliar</th>\n",
       "      <th>descricao_estado_civil</th>\n",
       "      <th>descricao_historico</th>\n",
       "      <th>descricao_imovel</th>\n",
       "      <th>descricao_mae_escolaridade</th>\n",
       "      <th>descricao_pai_escolaridade</th>\n",
       "      <th>descricao_raca</th>\n",
       "      <th>descricao_responsavel_escolaridade</th>\n",
       "      <th>descricao_responsavel_financeiro</th>\n",
       "      <th>descricao_trabalho</th>\n",
       "      <th>id</th>\n",
       "      <th>idade</th>\n",
       "      <th>pessoa_fisica__sexo</th>\n",
       "      <th>possui_necessidade_especial</th>\n",
       "      <th>qnt_pc</th>\n",
       "      <th>qnt_salarios</th>\n",
       "      <th>qtd_pessoas_domicilio</th>\n",
       "      <th>sigla</th>\n",
       "      <th>tempo_entre_conclusao_ingresso</th>\n",
       "    </tr>\n",
       "  </thead>\n",
       "  <tbody>\n",
       "    <tr>\n",
       "      <th>0</th>\n",
       "      <td>68.0</td>\n",
       "      <td>0</td>\n",
       "      <td>100.0</td>\n",
       "      <td>66.0</td>\n",
       "      <td>0</td>\n",
       "      <td>100.0</td>\n",
       "      <td>0</td>\n",
       "      <td>False</td>\n",
       "      <td>0</td>\n",
       "      <td>1</td>\n",
       "      <td>B</td>\n",
       "      <td>A</td>\n",
       "      <td>Matriculado</td>\n",
       "      <td>Urbana</td>\n",
       "      <td>Mãe</td>\n",
       "      <td>Solteiro(a)</td>\n",
       "      <td>Técnico de Nivel Médio em Informática</td>\n",
       "      <td>Alugado</td>\n",
       "      <td>Ensino fundamental incompleto</td>\n",
       "      <td>Ensino fundamental incompleto</td>\n",
       "      <td>Branca</td>\n",
       "      <td>Ensino fundamental incompleto</td>\n",
       "      <td>Mãe</td>\n",
       "      <td>Não informado</td>\n",
       "      <td>457884597605</td>\n",
       "      <td>15</td>\n",
       "      <td>F</td>\n",
       "      <td>False</td>\n",
       "      <td>0</td>\n",
       "      <td>1</td>\n",
       "      <td>2</td>\n",
       "      <td>LAJ</td>\n",
       "      <td>1</td>\n",
       "    </tr>\n",
       "    <tr>\n",
       "      <th>1</th>\n",
       "      <td>73.0</td>\n",
       "      <td>1</td>\n",
       "      <td>100.0</td>\n",
       "      <td>36.0</td>\n",
       "      <td>1</td>\n",
       "      <td>91.0</td>\n",
       "      <td>0</td>\n",
       "      <td>False</td>\n",
       "      <td>1</td>\n",
       "      <td>0</td>\n",
       "      <td>R</td>\n",
       "      <td>R</td>\n",
       "      <td>Cancelado</td>\n",
       "      <td>Urbana</td>\n",
       "      <td>Mãe</td>\n",
       "      <td>Solteiro(a)</td>\n",
       "      <td>Técnico de Nível Médio em Meio Ambiente</td>\n",
       "      <td>Alugado</td>\n",
       "      <td>Ensino fundamental incompleto</td>\n",
       "      <td>Ensino fundamental incompleto</td>\n",
       "      <td>Parda</td>\n",
       "      <td>Ensino fundamental incompleto</td>\n",
       "      <td>Mãe</td>\n",
       "      <td>Não informado</td>\n",
       "      <td>458436647741</td>\n",
       "      <td>17</td>\n",
       "      <td>M</td>\n",
       "      <td>False</td>\n",
       "      <td>1</td>\n",
       "      <td>1</td>\n",
       "      <td>2</td>\n",
       "      <td>SPP</td>\n",
       "      <td>2</td>\n",
       "    </tr>\n",
       "  </tbody>\n",
       "</table>\n",
       "</div>"
      ],
      "text/plain": [
       "   LnguaPortuguesaeLiteraturaI90H  LnguaPortuguesaeLiteraturaI90H_dependencia  \\\n",
       "0                            68.0                                           0   \n",
       "1                            73.0                                           1   \n",
       "\n",
       "   LnguaPortuguesaeLiteraturaI90H_freq  MatemticaI120H  \\\n",
       "0                                100.0            66.0   \n",
       "1                                100.0            36.0   \n",
       "\n",
       "   MatemticaI120H_dependencia  MatemticaI120H_freq  acompanhamento  \\\n",
       "0                           0                100.0               0   \n",
       "1                           1                 91.0               0   \n",
       "\n",
       "   aluno_exclusivo_rede_publica  artificial  classe conceito conceito_freq  \\\n",
       "0                         False           0       1        B             A   \n",
       "1                         False           1       0        R             R   \n",
       "\n",
       "     descricao descricao_area_residencial descricao_companhia_domiciliar  \\\n",
       "0  Matriculado                     Urbana                            Mãe   \n",
       "1    Cancelado                     Urbana                            Mãe   \n",
       "\n",
       "  descricao_estado_civil                      descricao_historico  \\\n",
       "0            Solteiro(a)    Técnico de Nivel Médio em Informática   \n",
       "1            Solteiro(a)  Técnico de Nível Médio em Meio Ambiente   \n",
       "\n",
       "  descricao_imovel     descricao_mae_escolaridade  \\\n",
       "0          Alugado  Ensino fundamental incompleto   \n",
       "1          Alugado  Ensino fundamental incompleto   \n",
       "\n",
       "      descricao_pai_escolaridade descricao_raca  \\\n",
       "0  Ensino fundamental incompleto         Branca   \n",
       "1  Ensino fundamental incompleto          Parda   \n",
       "\n",
       "  descricao_responsavel_escolaridade descricao_responsavel_financeiro  \\\n",
       "0      Ensino fundamental incompleto                              Mãe   \n",
       "1      Ensino fundamental incompleto                              Mãe   \n",
       "\n",
       "  descricao_trabalho            id  idade pessoa_fisica__sexo  \\\n",
       "0      Não informado  457884597605     15                   F   \n",
       "1      Não informado  458436647741     17                   M   \n",
       "\n",
       "   possui_necessidade_especial  qnt_pc  qnt_salarios  qtd_pessoas_domicilio  \\\n",
       "0                        False       0             1                      2   \n",
       "1                        False       1             1                      2   \n",
       "\n",
       "  sigla  tempo_entre_conclusao_ingresso  \n",
       "0   LAJ                               1  \n",
       "1   SPP                               2  "
      ]
     },
     "execution_count": 3,
     "metadata": {},
     "output_type": "execute_result"
    }
   ],
   "source": [
    "dados_tunning = pd.read_json('dados/dados_workflow_ivan.json')\n",
    "dados_tunning.head(2)"
   ]
  },
  {
   "cell_type": "markdown",
   "metadata": {
    "collapsed": true
   },
   "source": [
    "# Cenário 01: xxx"
   ]
  },
  {
   "cell_type": "code",
   "execution_count": 4,
   "metadata": {},
   "outputs": [
    {
     "name": "stdout",
     "output_type": "stream",
     "text": [
      "1    7369\n",
      "0     349\n",
      "Name: classe, dtype: int64\n"
     ]
    }
   ],
   "source": [
    "dados = dados_tunning.copy()\n",
    "\n",
    "atributos = [\n",
    "       'LnguaPortuguesaeLiteraturaI90H',\n",
    "       'LnguaPortuguesaeLiteraturaI90H_dependencia',\n",
    "       'LnguaPortuguesaeLiteraturaI90H_freq', 'MatemticaI120H',\n",
    "       'MatemticaI120H_dependencia', 'MatemticaI120H_freq', 'acompanhamento',\n",
    "       'aluno_exclusivo_rede_publica', 'artificial', 'classe', 'conceito',\n",
    "       'conceito_freq', 'descricao_area_residencial',\n",
    "       'descricao_companhia_domiciliar', 'descricao_estado_civil',\n",
    "       'descricao_historico', 'descricao_imovel', 'descricao_mae_escolaridade',\n",
    "       'descricao_pai_escolaridade', 'descricao_raca',\n",
    "       'descricao_responsavel_escolaridade',\n",
    "       'descricao_responsavel_financeiro', 'descricao_trabalho', 'idade',\n",
    "       'pessoa_fisica__sexo', 'possui_necessidade_especial', 'qnt_pc',\n",
    "       'qnt_salarios', 'qtd_pessoas_domicilio', 'sigla',\n",
    "       'tempo_entre_conclusao_ingresso'    \n",
    "]\n",
    "\n",
    "dados = dados[atributos]\n",
    "\n",
    "dados['LnguaPortuguesaeLiteraturaI90H'].fillna(-1, inplace=True)\n",
    "dados['LnguaPortuguesaeLiteraturaI90H_dependencia'].fillna(-1, inplace=True)\n",
    "dados['LnguaPortuguesaeLiteraturaI90H_freq'].fillna(-1, inplace=True)\n",
    "\n",
    "dados['MatemticaI120H'].fillna(-1, inplace=True)\n",
    "dados['MatemticaI120H_dependencia'].fillna(-1, inplace=True)\n",
    "dados['MatemticaI120H_freq'].fillna(-1, inplace=True)\n",
    "\n",
    "#recupera apenas os dados que nao foram criados de forma artificial\n",
    "dados = dados[dados.artificial == 0]\n",
    "\n",
    "#down sample\n",
    "#dados = down_sample(dados)\n",
    "\n",
    "print(dados.classe.value_counts())"
   ]
  },
  {
   "cell_type": "code",
   "execution_count": 5,
   "metadata": {},
   "outputs": [
    {
     "name": "stdout",
     "output_type": "stream",
     "text": [
      "(7718, 31)\n",
      "(7718, 31)\n",
      "(7718, 151)\n"
     ]
    }
   ],
   "source": [
    "X, y = preparing_data(dados)\n",
    "print(X.shape)\n",
    "\n",
    "Xtrain, Xtest, ytrain, ytest = train_test_split(X, y, random_state=0, stratify = y)"
   ]
  },
  {
   "cell_type": "code",
   "execution_count": 6,
   "metadata": {
    "collapsed": true
   },
   "outputs": [],
   "source": [
    "tree_clf = DecisionTreeClassifier() \n",
    "\n",
    "param_grid_tree = {\"criterion\": [\"gini\", \"entropy\"],\n",
    "              \"min_samples_split\": [2, 10, 20],\n",
    "              \"max_depth\": [None, 2, 3, 5, 10],\n",
    "              \"min_samples_leaf\": [1, 5, 10],\n",
    "              \"max_leaf_nodes\": [None, 5, 10, 20],\n",
    "              }\n",
    "\n",
    "#seleciona o melhor modelo de acordo com os parâmetros\n",
    "grid_search_tree = GridSearchCV(estimator=tree_clf, param_grid=param_grid_tree)\n",
    "grid_search_tree.fit(Xtrain, ytrain)\n",
    "\n",
    "model_tree = grid_search_tree.best_estimator_\n",
    "ypred_tree = model_tree.predict(Xtest)\n",
    "\n"
   ]
  },
  {
   "cell_type": "code",
   "execution_count": 7,
   "metadata": {},
   "outputs": [
    {
     "name": "stdout",
     "output_type": "stream",
     "text": [
      "             precision    recall  f1-score   support\n",
      "\n",
      "          0       0.73      0.43      0.54        87\n",
      "          1       0.97      0.99      0.98      1843\n",
      "\n",
      "avg / total       0.96      0.97      0.96      1930\n",
      "\n"
     ]
    }
   ],
   "source": [
    "from sklearn.metrics import classification_report\n",
    "\n",
    "#print(classification_report(ytest, y_pred, target_names=target_names))\n",
    "print(classification_report(ytest, ypred_tree))"
   ]
  },
  {
   "cell_type": "code",
   "execution_count": 8,
   "metadata": {},
   "outputs": [
    {
     "name": "stderr",
     "output_type": "stream",
     "text": [
      "/home/ubuntu/anaconda3/lib/python3.6/site-packages/matplotlib/font_manager.py:1297: UserWarning: findfont: Font family ['sans-serif'] not found. Falling back to DejaVu Sans\n",
      "  (prop.get_family(), self.defaultFamily[fontext]))\n"
     ]
    },
    {
     "name": "stdout",
     "output_type": "stream",
     "text": [
      "Valor de falso positivo:0.5747126436781609\n",
      "Cálculo de índices de avaliação:\n",
      "Precisão: 0.973390; Recall: 0.992404, F1: 0.982805\n",
      "Precisão CV:\n",
      "[0.96907216 0.97938144 0.95876289 0.95854922 0.96373057 0.94300518\n",
      " 0.96891192 0.96354167 0.97395833 0.95833333]\n",
      "0.9637246719370405\n"
     ]
    },
    {
     "name": "stderr",
     "output_type": "stream",
     "text": [
      "/home/ubuntu/anaconda3/lib/python3.6/site-packages/matplotlib/font_manager.py:1297: UserWarning: findfont: Font family ['sans-serif'] not found. Falling back to DejaVu Sans\n",
      "  (prop.get_family(), self.defaultFamily[fontext]))\n"
     ]
    },
    {
     "data": {
      "image/png": "[encoded data removed]",
      "text/plain": [
       "<matplotlib.figure.Figure at 0x7f2f47c5c5c0>"
      ]
     },
     "metadata": {},
     "output_type": "display_data"
    },
    {
     "data": {
      "image/png": "[encoded data removed]",
      "text/plain": [
       "<matplotlib.figure.Figure at 0x7f2f4bcf5160>"
      ]
     },
     "metadata": {},
     "output_type": "display_data"
    },
    {
     "name": "stdout",
     "output_type": "stream",
     "text": [
      "0.8985100504549677\n"
     ]
    }
   ],
   "source": [
    "evaluating(model_tree, ytest, ypred_tree, Xtest)"
   ]
  },
  {
   "cell_type": "code",
   "execution_count": null,
   "metadata": {
    "collapsed": true
   },
   "outputs": [],
   "source": [
    "#trabalhando com técnicas de imbalanced"
   ]
  },
  {
   "cell_type": "code",
   "execution_count": 10,
   "metadata": {},
   "outputs": [
    {
     "data": {
      "text/plain": [
       "(0.926862903945664, 0.9950539524064279)"
      ]
     },
     "execution_count": 10,
     "metadata": {},
     "output_type": "execute_result"
    }
   ],
   "source": [
    "from sklearn.tree import DecisionTreeClassifier\n",
    "from imblearn.ensemble import BalancedBaggingClassifier\n",
    "from sklearn.model_selection import cross_validate\n",
    "\n",
    "tree = DecisionTreeClassifier(max_features='auto')\n",
    "resampled_rf = BalancedBaggingClassifier(base_estimator=tree,\n",
    "                                         n_estimators=100, random_state=0)\n",
    "scores = cross_validate(resampled_rf,\n",
    "                        Xtrain, ytrain, cv=10, scoring=('roc_auc', 'average_precision'))\n",
    "scores['test_roc_auc'].mean(), scores['test_average_precision'].mean()"
   ]
  },
  {
   "cell_type": "code",
   "execution_count": 11,
   "metadata": {},
   "outputs": [
    {
     "name": "stdout",
     "output_type": "stream",
     "text": [
      "             precision    recall  f1-score   support\n",
      "\n",
      "          0       0.31      0.86      0.45        87\n",
      "          1       0.99      0.91      0.95      1843\n",
      "\n",
      "avg / total       0.96      0.91      0.93      1930\n",
      "\n",
      "Valor de falso positivo:0.13793103448275862\n",
      "Cálculo de índices de avaliação:\n",
      "Precisão: 0.992883; Recall: 0.908302, F1: 0.948711\n",
      "Precisão CV:\n"
     ]
    },
    {
     "name": "stderr",
     "output_type": "stream",
     "text": [
      "/home/ubuntu/anaconda3/lib/python3.6/site-packages/matplotlib/font_manager.py:1297: UserWarning: findfont: Font family ['sans-serif'] not found. Falling back to DejaVu Sans\n",
      "  (prop.get_family(), self.defaultFamily[fontext]))\n"
     ]
    },
    {
     "name": "stdout",
     "output_type": "stream",
     "text": [
      "[0.93298969 0.87113402 0.87113402 0.9015544  0.89119171 0.9119171\n",
      " 0.89637306 0.93229167 0.90104167 0.88020833]\n",
      "0.8989835668055483\n"
     ]
    },
    {
     "name": "stderr",
     "output_type": "stream",
     "text": [
      "/home/ubuntu/anaconda3/lib/python3.6/site-packages/matplotlib/font_manager.py:1297: UserWarning: findfont: Font family ['sans-serif'] not found. Falling back to DejaVu Sans\n",
      "  (prop.get_family(), self.defaultFamily[fontext]))\n"
     ]
    },
    {
     "data": {
      "image/png": "[encoded data removed]",
      "text/plain": [
       "<matplotlib.figure.Figure at 0x7f2f47d4f6d8>"
      ]
     },
     "metadata": {},
     "output_type": "display_data"
    },
    {
     "data": {
      "image/png": "[encoded data removed]",
      "text/plain": [
       "<matplotlib.figure.Figure at 0x7f2f47cd7a58>"
      ]
     },
     "metadata": {},
     "output_type": "display_data"
    },
    {
     "name": "stdout",
     "output_type": "stream",
     "text": [
      "0.9270461079823625\n"
     ]
    }
   ],
   "source": [
    "ensemble = resampled_rf.fit(Xtrain, ytrain)\n",
    "\n",
    "ypred_ensemble = ensemble.predict(Xtest)\n",
    "print(classification_report(ytest, ypred_ensemble))\n",
    "\n",
    "evaluating(ensemble, ytest, ypred_ensemble, Xtest)"
   ]
  },
  {
   "cell_type": "code",
   "execution_count": 7,
   "metadata": {},
   "outputs": [
    {
     "name": "stdout",
     "output_type": "stream",
     "text": [
      "{'n_estimators': 3}\n",
      "0.8521202237816129\n",
      "0.86078949721114\n",
      "0.9881720378507296\n",
      "             precision    recall  f1-score   support\n",
      "\n",
      "          0       0.21      0.75      0.33        87\n",
      "          1       0.99      0.87      0.92      1843\n",
      "\n",
      "avg / total       0.95      0.86      0.90      1930\n",
      "\n",
      "Valor de falso positivo:0.25287356321839083\n",
      "Cálculo de índices de avaliação:\n",
      "Precisão: 0.986453; Recall: 0.869235, F1: 0.924142\n",
      "Precisão CV:\n"
     ]
    },
    {
     "name": "stderr",
     "output_type": "stream",
     "text": [
      "/home/ubuntu/anaconda3/lib/python3.6/site-packages/matplotlib/font_manager.py:1297: UserWarning: findfont: Font family ['sans-serif'] not found. Falling back to DejaVu Sans\n",
      "  (prop.get_family(), self.defaultFamily[fontext]))\n"
     ]
    },
    {
     "name": "stdout",
     "output_type": "stream",
     "text": [
      "[0.87113402 0.85051546 0.8556701  0.88082902 0.89637306 0.83419689\n",
      " 0.75647668 0.88541667 0.86979167 0.78645833]\n",
      "0.8486861901963927\n"
     ]
    },
    {
     "name": "stderr",
     "output_type": "stream",
     "text": [
      "/home/ubuntu/anaconda3/lib/python3.6/site-packages/matplotlib/font_manager.py:1297: UserWarning: findfont: Font family ['sans-serif'] not found. Falling back to DejaVu Sans\n",
      "  (prop.get_family(), self.defaultFamily[fontext]))\n"
     ]
    },
    {
     "data": {
      "image/png": "[encoded data removed]",
      "text/plain": [
       "<matplotlib.figure.Figure at 0x7faaecdd5048>"
      ]
     },
     "metadata": {},
     "output_type": "display_data"
    },
    {
     "data": {
      "image/png": "[encoded data removed]",
      "text/plain": [
       "<matplotlib.figure.Figure at 0x7fab30c7acc0>"
      ]
     },
     "metadata": {},
     "output_type": "display_data"
    },
    {
     "name": "stdout",
     "output_type": "stream",
     "text": [
      "0.8557823638370723\n"
     ]
    }
   ],
   "source": [
    "from sklearn.tree import DecisionTreeClassifier\n",
    "from imblearn.ensemble import BalancedBaggingClassifier\n",
    "from sklearn.model_selection import cross_validate\n",
    "from sklearn.metrics import classification_report\n",
    "\n",
    "# Grid search with scoring based on decision_function\n",
    "#parameters = {'n_estimators': (10, 30, 100, 200, 300)}\n",
    "parameters = {'n_estimators': (1, 2, 3)}\n",
    "\n",
    "grid = GridSearchCV(BalancedBaggingClassifier(DecisionTreeClassifier(max_features='auto')),\n",
    "             parameters,\n",
    "             scoring=\"roc_auc\")\n",
    "\n",
    "grid.fit(Xtrain, ytrain)\n",
    "\n",
    "print(grid.best_params_)\n",
    "print(grid.best_score_)\n",
    "ensemble = grid.best_estimator_\n",
    "\n",
    "scores = cross_validate(ensemble, Xtrain, ytrain, cv=10, scoring=('roc_auc', 'average_precision'))\n",
    "\n",
    "print(scores['test_roc_auc'].mean())\n",
    "print(scores['test_average_precision'].mean())\n",
    "\n",
    "ypred_ensemble = ensemble.predict(Xtest)\n",
    "print(classification_report(ytest, ypred_ensemble))\n",
    "\n",
    "evaluating(ensemble, ytest, ypred_ensemble, Xtest)"
   ]
  },
  {
   "cell_type": "code",
   "execution_count": 12,
   "metadata": {
    "collapsed": true
   },
   "outputs": [],
   "source": [
    "def feature_ranking(Xtest, model, std):\n",
    "    #exibe os atributos mais importantes\n",
    "    importances = model.feature_importances_\n",
    "    #std = np.std([tree.feature_importances_ for tree in model.estimators_], axis=0)\n",
    "    \n",
    "    indices = np.argsort(importances)[::-1]\n",
    "\n",
    "    # Print the feature ranking\n",
    "    print(\"Feature ranking:\")\n",
    "\n",
    "    for f in range(Xtest.shape[1]):\n",
    "        print(\"%d. feature %d [%s] (%f)\" % (f + 1, indices[f], Xtest.columns[indices[f]], importances[indices[f]]))\n",
    "\n",
    "    # Plot the feature importances of the forest\n",
    "    plt.figure()\n",
    "    plt.title(\"Feature importances\")\n",
    "    plt.bar(range(Xtest.shape[1]), importances[indices], color=\"r\", yerr=std[indices], align=\"center\")\n",
    "    plt.xticks(range(Xtest.shape[1]), indices)\n",
    "    plt.xlim([-1, Xtest.shape[1]])\n",
    "    plt.show() "
   ]
  },
  {
   "cell_type": "code",
   "execution_count": 14,
   "metadata": {},
   "outputs": [
    {
     "name": "stdout",
     "output_type": "stream",
     "text": [
      "Feature ranking:\n",
      "1. feature 0 [LnguaPortuguesaeLiteraturaI90H] (0.159694)\n",
      "2. feature 3 [MatemticaI120H] (0.110923)\n",
      "3. feature 21 [conceito_freq_S] (0.070076)\n",
      "4. feature 2 [LnguaPortuguesaeLiteraturaI90H_freq] (0.048660)\n",
      "5. feature 17 [conceito_R] (0.045513)\n",
      "6. feature 9 [idade] (0.042107)\n",
      "7. feature 4 [MatemticaI120H_dependencia] (0.034475)\n",
      "8. feature 13 [qtd_pessoas_domicilio] (0.029831)\n",
      "9. feature 78 [descricao_mae_escolaridade_Ensino médio completo] (0.028872)\n",
      "10. feature 6 [acompanhamento] (0.027401)\n",
      "11. feature 14 [tempo_entre_conclusao_ingresso] (0.023925)\n",
      "12. feature 10 [possui_necessidade_especial] (0.021844)\n",
      "13. feature 5 [MatemticaI120H_freq] (0.021464)\n",
      "14. feature 12 [qnt_salarios] (0.018507)\n",
      "15. feature 99 [descricao_raca_Parda] (0.014498)\n",
      "16. feature 105 [descricao_responsavel_escolaridade_Ensino superior completo] (0.014128)\n",
      "17. feature 40 [descricao_historico_Técnico de Nivel Médio em Informática] (0.014097)\n",
      "18. feature 16 [conceito_O] (0.013919)\n",
      "19. feature 88 [descricao_pai_escolaridade_Ensino médio completo] (0.013494)\n",
      "20. feature 142 [sigla_MO] (0.013429)\n",
      "21. feature 106 [descricao_responsavel_escolaridade_Ensino superior incompleto] (0.013393)\n",
      "22. feature 90 [descricao_pai_escolaridade_Ensino superior completo] (0.011732)\n",
      "23. feature 137 [sigla_CNAT] (0.010224)\n",
      "24. feature 117 [descricao_responsavel_financeiro_Pai] (0.009770)\n",
      "25. feature 86 [descricao_pai_escolaridade_Ensino fundamental completo] (0.009195)\n",
      "26. feature 131 [pessoa_fisica__sexo_M] (0.008801)\n",
      "27. feature 62 [descricao_historico_Técnico de Nível Médio em Multimídia] (0.008276)\n",
      "28. feature 126 [descricao_trabalho_Não informado] (0.007750)\n",
      "29. feature 31 [descricao_companhia_domiciliar_Parente(s) ou amigo(s)] (0.006897)\n",
      "30. feature 102 [descricao_responsavel_escolaridade_Ensino fundamental incompleto] (0.006589)\n",
      "31. feature 45 [descricao_historico_Técnico de Nível Médio em Comércio] (0.006534)\n",
      "32. feature 76 [descricao_mae_escolaridade_Ensino fundamental completo] (0.006477)\n",
      "33. feature 116 [descricao_responsavel_financeiro_Outros] (0.006306)\n",
      "34. feature 141 [sigla_MC] (0.006253)\n",
      "35. feature 75 [descricao_imovel_Próprio] (0.006240)\n",
      "36. feature 26 [descricao_companhia_domiciliar_Mãe] (0.005983)\n",
      "37. feature 138 [sigla_IP] (0.005747)\n",
      "38. feature 100 [descricao_raca_Preta] (0.005727)\n",
      "39. feature 96 [descricao_raca_Branca] (0.005665)\n",
      "40. feature 11 [qnt_pc] (0.005354)\n",
      "41. feature 109 [descricao_responsavel_escolaridade_Pós graduação completo] (0.005349)\n",
      "42. feature 125 [descricao_trabalho_Não está trabalhando] (0.005211)\n",
      "43. feature 39 [descricao_historico_Técnico de Nivel Médio em Equipamentos Biomédicos] (0.005172)\n",
      "44. feature 20 [conceito_freq_R] (0.005040)\n",
      "45. feature 71 [descricao_imovel_Financiado] (0.004996)\n",
      "46. feature 134 [sigla_CANG] (0.004693)\n",
      "47. feature 148 [sigla_SGA] (0.004598)\n",
      "48. feature 104 [descricao_responsavel_escolaridade_Ensino médio incompleto] (0.004598)\n",
      "49. feature 101 [descricao_responsavel_escolaridade_Ensino fundamental completo] (0.004598)\n",
      "50. feature 94 [descricao_pai_escolaridade_Pós graduação completo] (0.004105)\n",
      "51. feature 87 [descricao_pai_escolaridade_Ensino fundamental incompleto] (0.003448)\n",
      "52. feature 93 [descricao_pai_escolaridade_Não estudou] (0.003130)\n",
      "53. feature 35 [descricao_estado_civil_Solteiro(a)] (0.003072)\n",
      "54. feature 113 [descricao_responsavel_financeiro_Mãe] (0.003009)\n",
      "55. feature 25 [descricao_area_residencial_Urbana] (0.002851)\n",
      "56. feature 124 [descricao_trabalho_Nunca trabalhou] (0.002241)\n",
      "57. feature 107 [descricao_responsavel_escolaridade_Não conhece] (0.001861)\n",
      "58. feature 136 [sigla_CN] (0.001808)\n",
      "59. feature 120 [descricao_trabalho_Autônomo] (0.001734)\n",
      "60. feature 24 [descricao_area_residencial_Rural] (0.001731)\n",
      "61. feature 47 [descricao_historico_Técnico de Nível Médio em Edificações] (0.001253)\n",
      "62. feature 79 [descricao_mae_escolaridade_Ensino médio incompleto] (0.001149)\n",
      "63. feature 49 [descricao_historico_Técnico de Nível Médio em Eletrotécnica] (0.001149)\n",
      "64. feature 103 [descricao_responsavel_escolaridade_Ensino médio completo] (0.001149)\n",
      "65. feature 15 [conceito_I] (0.000995)\n",
      "66. feature 80 [descricao_mae_escolaridade_Ensino superior completo] (0.000575)\n",
      "67. feature 66 [descricao_historico_Técnico de Nível Médio em Refrigeração e Climatização] (0.000369)\n",
      "68. feature 77 [descricao_mae_escolaridade_Ensino fundamental incompleto] (0.000345)\n",
      "69. feature 36 [descricao_estado_civil_União Estável] (0.000000)\n",
      "70. feature 34 [descricao_estado_civil_Não declarado] (0.000000)\n",
      "71. feature 29 [descricao_companhia_domiciliar_Pai] (0.000000)\n",
      "72. feature 38 [descricao_historico_Técnico de Nivel Médio em Biocombustíveis] (0.000000)\n",
      "73. feature 130 [descricao_trabalho_Trabalhador rural/Agricultor] (0.000000)\n",
      "74. feature 41 [descricao_historico_Técnico de Nível Médio em Administração] (0.000000)\n",
      "75. feature 33 [descricao_estado_civil_Divorciado(a)] (0.000000)\n",
      "76. feature 32 [descricao_companhia_domiciliar_Sozinho(a)] (0.000000)\n",
      "77. feature 132 [sigla_CA] (0.000000)\n",
      "78. feature 42 [descricao_historico_Técnico de Nível Médio em Agroecologia] (0.000000)\n",
      "79. feature 43 [descricao_historico_Técnico de Nível Médio em Alimentos] (0.000000)\n",
      "80. feature 44 [descricao_historico_Técnico de Nível Médio em Apicultura] (0.000000)\n",
      "81. feature 129 [descricao_trabalho_Trabalha com vínculo empregatício] (0.000000)\n",
      "82. feature 30 [descricao_companhia_domiciliar_Pais] (0.000000)\n",
      "83. feature 37 [descricao_historico_Técnico de Nivel Médio em Agropecuária, na Forma Integrada] (0.000000)\n",
      "84. feature 115 [descricao_responsavel_financeiro_O próprio aluno] (0.000000)\n",
      "85. feature 28 [descricao_companhia_domiciliar_Outros] (0.000000)\n",
      "86. feature 143 [sigla_NC] (0.000000)\n",
      "87. feature 1 [LnguaPortuguesaeLiteraturaI90H_dependencia] (0.000000)\n",
      "88. feature 147 [sigla_SC] (0.000000)\n",
      "89. feature 146 [sigla_PF] (0.000000)\n",
      "90. feature 145 [sigla_PAR] (0.000000)\n",
      "91. feature 144 [sigla_PAAS] (0.000000)\n",
      "92. feature 7 [aluno_exclusivo_rede_publica] (0.000000)\n",
      "93. feature 8 [artificial] (0.000000)\n",
      "94. feature 140 [sigla_LAJ] (0.000000)\n",
      "95. feature 27 [descricao_companhia_domiciliar_Não informado] (0.000000)\n",
      "96. feature 139 [sigla_JC] (0.000000)\n",
      "97. feature 135 [sigla_CM] (0.000000)\n",
      "98. feature 18 [conceito_S] (0.000000)\n",
      "99. feature 19 [conceito_freq_I] (0.000000)\n",
      "100. feature 133 [sigla_CAL] (0.000000)\n",
      "101. feature 22 [descricao_area_residencial_Comunidade Quilombola] (0.000000)\n",
      "102. feature 23 [descricao_area_residencial_Não informado] (0.000000)\n",
      "103. feature 46 [descricao_historico_Técnico de Nível Médio em Controle Ambiental] (0.000000)\n",
      "104. feature 57 [descricao_historico_Técnico de Nível Médio em Manutenção e Suporte em Informática] (0.000000)\n",
      "105. feature 48 [descricao_historico_Técnico de Nível Médio em Eletromecânica] (0.000000)\n",
      "106. feature 92 [descricao_pai_escolaridade_Não conhece] (0.000000)\n",
      "107. feature 81 [descricao_mae_escolaridade_Ensino superior incompleto] (0.000000)\n",
      "108. feature 82 [descricao_mae_escolaridade_Não conhece] (0.000000)\n",
      "109. feature 83 [descricao_mae_escolaridade_Não estudou] (0.000000)\n",
      "110. feature 84 [descricao_mae_escolaridade_Pós graduação completo] (0.000000)\n",
      "111. feature 85 [descricao_mae_escolaridade_Pós graduação incompleto] (0.000000)\n",
      "112. feature 123 [descricao_trabalho_Estágio ou bolsa] (0.000000)\n",
      "113. feature 89 [descricao_pai_escolaridade_Ensino médio incompleto] (0.000000)\n",
      "114. feature 122 [descricao_trabalho_Empresa privada] (0.000000)\n",
      "115. feature 91 [descricao_pai_escolaridade_Ensino superior incompleto] (0.000000)\n",
      "116. feature 95 [descricao_pai_escolaridade_Pós graduação incompleto] (0.000000)\n",
      "117. feature 149 [sigla_SPP] (0.000000)\n",
      "118. feature 97 [descricao_raca_Indígena] (0.000000)\n",
      "119. feature 98 [descricao_raca_Não declarado] (0.000000)\n",
      "120. feature 121 [descricao_trabalho_Beneficiário ou Pensionista do INSS] (0.000000)\n",
      "121. feature 119 [descricao_responsavel_financeiro_Tio(a)] (0.000000)\n",
      "122. feature 118 [descricao_responsavel_financeiro_Parentes] (0.000000)\n",
      "123. feature 108 [descricao_responsavel_escolaridade_Não estudou] (0.000000)\n",
      "124. feature 110 [descricao_responsavel_escolaridade_Pós graduação incompleto] (0.000000)\n",
      "125. feature 111 [descricao_responsavel_financeiro_Cônjuge] (0.000000)\n",
      "126. feature 112 [descricao_responsavel_financeiro_Irmão(ã)] (0.000000)\n",
      "127. feature 127 [descricao_trabalho_Pescador] (0.000000)\n",
      "128. feature 74 [descricao_imovel_Pensionato ou Alojamento] (0.000000)\n",
      "129. feature 50 [descricao_historico_Técnico de Nível Médio em Eletrônica] (0.000000)\n",
      "130. feature 60 [descricao_historico_Técnico de Nível Médio em Meio Ambiente] (0.000000)\n",
      "131. feature 51 [descricao_historico_Técnico de Nível Médio em Eventos] (0.000000)\n",
      "132. feature 52 [descricao_historico_Técnico de Nível Médio em Geologia] (0.000000)\n",
      "133. feature 53 [descricao_historico_Técnico de Nível Médio em Informática] (0.000000)\n",
      "134. feature 54 [descricao_historico_Técnico de Nível Médio em Informática para Internet] (0.000000)\n",
      "135. feature 55 [descricao_historico_Técnico de Nível Médio em Lazer] (0.000000)\n",
      "136. feature 56 [descricao_historico_Técnico de Nível Médio em Logística] (0.000000)\n",
      "137. feature 114 [descricao_responsavel_financeiro_Não informado] (0.000000)\n",
      "138. feature 58 [descricao_historico_Técnico de Nível Médio em Mecatrônica] (0.000000)\n",
      "139. feature 59 [descricao_historico_Técnico de Nível Médio em Mecânica] (0.000000)\n",
      "140. feature 61 [descricao_historico_Técnico de Nível Médio em Mineração] (0.000000)\n",
      "141. feature 73 [descricao_imovel_Outro] (0.000000)\n",
      "142. feature 128 [descricao_trabalho_Serviço público] (0.000000)\n",
      "143. feature 63 [descricao_historico_Técnico de Nível Médio em Química] (0.000000)\n",
      "144. feature 64 [descricao_historico_Técnico de Nível Médio em Química, na Forma Integrado] (0.000000)\n",
      "145. feature 65 [descricao_historico_Técnico de Nível Médio em Recursos Pesqueiros] (0.000000)\n",
      "146. feature 67 [descricao_historico_Técnico de Nível Médio em Têxtil] (0.000000)\n",
      "147. feature 68 [descricao_historico_Técnico de Nível Médio em Vestuário] (0.000000)\n",
      "148. feature 69 [descricao_historico_Técnico em Programação de Jogos Digitais] (0.000000)\n",
      "149. feature 70 [descricao_imovel_Cedido ou Emprestado] (0.000000)\n",
      "150. feature 72 [descricao_imovel_Não informado] (0.000000)\n",
      "151. feature 150 [sigla_ZN] (0.000000)\n"
     ]
    },
    {
     "name": "stderr",
     "output_type": "stream",
     "text": [
      "/home/ubuntu/anaconda3/lib/python3.6/site-packages/matplotlib/font_manager.py:1297: UserWarning: findfont: Font family ['sans-serif'] not found. Falling back to DejaVu Sans\n",
      "  (prop.get_family(), self.defaultFamily[fontext]))\n"
     ]
    },
    {
     "data": {
      "image/png": "[encoded data removed]",
      "text/plain": [
       "<matplotlib.figure.Figure at 0x7faaece08e80>"
      ]
     },
     "metadata": {},
     "output_type": "display_data"
    },
    {
     "name": "stdout",
     "output_type": "stream",
     "text": [
      "Feature ranking:\n",
      "1. feature 3 [MatemticaI120H] (0.266646)\n",
      "2. feature 21 [conceito_freq_S] (0.134246)\n",
      "3. feature 13 [qtd_pessoas_domicilio] (0.056909)\n",
      "4. feature 0 [LnguaPortuguesaeLiteraturaI90H] (0.034704)\n",
      "5. feature 137 [sigla_CNAT] (0.034650)\n",
      "6. feature 9 [idade] (0.025617)\n",
      "7. feature 113 [descricao_responsavel_financeiro_Mãe] (0.016855)\n",
      "8. feature 30 [descricao_companhia_domiciliar_Pais] (0.016622)\n",
      "9. feature 15 [conceito_I] (0.016130)\n",
      "10. feature 29 [descricao_companhia_domiciliar_Pai] (0.016074)\n",
      "11. feature 20 [conceito_freq_R] (0.015818)\n",
      "12. feature 86 [descricao_pai_escolaridade_Ensino fundamental completo] (0.015381)\n",
      "13. feature 12 [qnt_salarios] (0.015348)\n",
      "14. feature 5 [MatemticaI120H_freq] (0.014023)\n",
      "15. feature 10 [possui_necessidade_especial] (0.013658)\n",
      "16. feature 102 [descricao_responsavel_escolaridade_Ensino fundamental incompleto] (0.012554)\n",
      "17. feature 131 [pessoa_fisica__sexo_M] (0.011552)\n",
      "18. feature 1 [LnguaPortuguesaeLiteraturaI90H_dependencia] (0.011457)\n",
      "19. feature 41 [descricao_historico_Técnico de Nível Médio em Administração] (0.010764)\n",
      "20. feature 11 [qnt_pc] (0.010349)\n",
      "21. feature 138 [sigla_IP] (0.010142)\n",
      "22. feature 6 [acompanhamento] (0.009386)\n",
      "23. feature 88 [descricao_pai_escolaridade_Ensino médio completo] (0.009025)\n",
      "24. feature 4 [MatemticaI120H_dependencia] (0.009020)\n",
      "25. feature 47 [descricao_historico_Técnico de Nível Médio em Edificações] (0.008951)\n",
      "26. feature 40 [descricao_historico_Técnico de Nivel Médio em Informática] (0.008472)\n",
      "27. feature 37 [descricao_historico_Técnico de Nivel Médio em Agropecuária, na Forma Integrada] (0.008389)\n",
      "28. feature 73 [descricao_imovel_Outro] (0.008252)\n",
      "29. feature 17 [conceito_R] (0.007430)\n",
      "30. feature 93 [descricao_pai_escolaridade_Não estudou] (0.007403)\n",
      "31. feature 14 [tempo_entre_conclusao_ingresso] (0.006996)\n",
      "32. feature 149 [sigla_SPP] (0.006739)\n",
      "33. feature 83 [descricao_mae_escolaridade_Não estudou] (0.006407)\n",
      "34. feature 98 [descricao_raca_Não declarado] (0.006368)\n",
      "35. feature 48 [descricao_historico_Técnico de Nível Médio em Eletromecânica] (0.006189)\n",
      "36. feature 87 [descricao_pai_escolaridade_Ensino fundamental incompleto] (0.006017)\n",
      "37. feature 60 [descricao_historico_Técnico de Nível Médio em Meio Ambiente] (0.006017)\n",
      "38. feature 150 [sigla_ZN] (0.005776)\n",
      "39. feature 140 [sigla_LAJ] (0.005776)\n",
      "40. feature 2 [LnguaPortuguesaeLiteraturaI90H_freq] (0.005548)\n",
      "41. feature 96 [descricao_raca_Branca] (0.005415)\n",
      "42. feature 49 [descricao_historico_Técnico de Nível Médio em Eletrotécnica] (0.005415)\n",
      "43. feature 25 [descricao_area_residencial_Urbana] (0.005226)\n",
      "44. feature 89 [descricao_pai_escolaridade_Ensino médio incompleto] (0.005188)\n",
      "45. feature 65 [descricao_historico_Técnico de Nível Médio em Recursos Pesqueiros] (0.004968)\n",
      "46. feature 141 [sigla_MC] (0.004948)\n",
      "47. feature 24 [descricao_area_residencial_Rural] (0.004813)\n",
      "48. feature 59 [descricao_historico_Técnico de Nível Médio em Mecânica] (0.004813)\n",
      "49. feature 76 [descricao_mae_escolaridade_Ensino fundamental completo] (0.004813)\n",
      "50. feature 99 [descricao_raca_Parda] (0.004710)\n",
      "51. feature 124 [descricao_trabalho_Nunca trabalhou] (0.004695)\n",
      "52. feature 54 [descricao_historico_Técnico de Nível Médio em Informática para Internet] (0.004642)\n",
      "53. feature 51 [descricao_historico_Técnico de Nível Médio em Eventos] (0.004431)\n",
      "54. feature 63 [descricao_historico_Técnico de Nível Médio em Química] (0.004332)\n",
      "55. feature 69 [descricao_historico_Técnico em Programação de Jogos Digitais] (0.004298)\n",
      "56. feature 79 [descricao_mae_escolaridade_Ensino médio incompleto] (0.003610)\n",
      "57. feature 103 [descricao_responsavel_escolaridade_Ensino médio completo] (0.002779)\n",
      "58. feature 26 [descricao_companhia_domiciliar_Mãe] (0.002470)\n",
      "59. feature 105 [descricao_responsavel_escolaridade_Ensino superior completo] (0.002407)\n",
      "60. feature 92 [descricao_pai_escolaridade_Não conhece] (0.002407)\n",
      "61. feature 139 [sigla_JC] (0.002404)\n",
      "62. feature 104 [descricao_responsavel_escolaridade_Ensino médio incompleto] (0.002257)\n",
      "63. feature 31 [descricao_companhia_domiciliar_Parente(s) ou amigo(s)] (0.001805)\n",
      "64. feature 122 [descricao_trabalho_Empresa privada] (0.001652)\n",
      "65. feature 78 [descricao_mae_escolaridade_Ensino médio completo] (0.001456)\n",
      "66. feature 16 [conceito_O] (0.001444)\n",
      "67. feature 77 [descricao_mae_escolaridade_Ensino fundamental incompleto] (0.000963)\n",
      "68. feature 145 [sigla_PAR] (0.000963)\n",
      "69. feature 109 [descricao_responsavel_escolaridade_Pós graduação completo] (0.000963)\n",
      "70. feature 146 [sigla_PF] (0.000688)\n",
      "71. feature 7 [aluno_exclusivo_rede_publica] (0.000458)\n",
      "72. feature 38 [descricao_historico_Técnico de Nivel Médio em Biocombustíveis] (0.000361)\n",
      "73. feature 53 [descricao_historico_Técnico de Nível Médio em Informática] (0.000301)\n",
      "74. feature 39 [descricao_historico_Técnico de Nivel Médio em Equipamentos Biomédicos] (0.000241)\n",
      "75. feature 32 [descricao_companhia_domiciliar_Sozinho(a)] (0.000000)\n",
      "76. feature 42 [descricao_historico_Técnico de Nível Médio em Agroecologia] (0.000000)\n",
      "77. feature 127 [descricao_trabalho_Pescador] (0.000000)\n",
      "78. feature 33 [descricao_estado_civil_Divorciado(a)] (0.000000)\n",
      "79. feature 34 [descricao_estado_civil_Não declarado] (0.000000)\n",
      "80. feature 126 [descricao_trabalho_Não informado] (0.000000)\n",
      "81. feature 36 [descricao_estado_civil_União Estável] (0.000000)\n",
      "82. feature 128 [descricao_trabalho_Serviço público] (0.000000)\n",
      "83. feature 35 [descricao_estado_civil_Solteiro(a)] (0.000000)\n",
      "84. feature 112 [descricao_responsavel_financeiro_Irmão(ã)] (0.000000)\n",
      "85. feature 129 [descricao_trabalho_Trabalha com vínculo empregatício] (0.000000)\n",
      "86. feature 134 [sigla_CANG] (0.000000)\n",
      "87. feature 148 [sigla_SGA] (0.000000)\n",
      "88. feature 147 [sigla_SC] (0.000000)\n",
      "89. feature 144 [sigla_PAAS] (0.000000)\n",
      "90. feature 8 [artificial] (0.000000)\n",
      "91. feature 143 [sigla_NC] (0.000000)\n",
      "92. feature 142 [sigla_MO] (0.000000)\n",
      "93. feature 136 [sigla_CN] (0.000000)\n",
      "94. feature 135 [sigla_CM] (0.000000)\n",
      "95. feature 18 [conceito_S] (0.000000)\n",
      "96. feature 130 [descricao_trabalho_Trabalhador rural/Agricultor] (0.000000)\n",
      "97. feature 19 [conceito_freq_I] (0.000000)\n",
      "98. feature 133 [sigla_CAL] (0.000000)\n",
      "99. feature 132 [sigla_CA] (0.000000)\n",
      "100. feature 22 [descricao_area_residencial_Comunidade Quilombola] (0.000000)\n",
      "101. feature 23 [descricao_area_residencial_Não informado] (0.000000)\n",
      "102. feature 44 [descricao_historico_Técnico de Nível Médio em Apicultura] (0.000000)\n",
      "103. feature 27 [descricao_companhia_domiciliar_Não informado] (0.000000)\n",
      "104. feature 28 [descricao_companhia_domiciliar_Outros] (0.000000)\n",
      "105. feature 43 [descricao_historico_Técnico de Nível Médio em Alimentos] (0.000000)\n",
      "106. feature 56 [descricao_historico_Técnico de Nível Médio em Logística] (0.000000)\n",
      "107. feature 45 [descricao_historico_Técnico de Nível Médio em Comércio] (0.000000)\n",
      "108. feature 82 [descricao_mae_escolaridade_Não conhece] (0.000000)\n",
      "109. feature 84 [descricao_mae_escolaridade_Pós graduação completo] (0.000000)\n",
      "110. feature 85 [descricao_mae_escolaridade_Pós graduação incompleto] (0.000000)\n",
      "111. feature 119 [descricao_responsavel_financeiro_Tio(a)] (0.000000)\n",
      "112. feature 118 [descricao_responsavel_financeiro_Parentes] (0.000000)\n",
      "113. feature 117 [descricao_responsavel_financeiro_Pai] (0.000000)\n",
      "114. feature 90 [descricao_pai_escolaridade_Ensino superior completo] (0.000000)\n",
      "115. feature 91 [descricao_pai_escolaridade_Ensino superior incompleto] (0.000000)\n",
      "116. feature 116 [descricao_responsavel_financeiro_Outros] (0.000000)\n",
      "117. feature 94 [descricao_pai_escolaridade_Pós graduação completo] (0.000000)\n",
      "118. feature 95 [descricao_pai_escolaridade_Pós graduação incompleto] (0.000000)\n",
      "119. feature 97 [descricao_raca_Indígena] (0.000000)\n",
      "120. feature 115 [descricao_responsavel_financeiro_O próprio aluno] (0.000000)\n",
      "121. feature 100 [descricao_raca_Preta] (0.000000)\n",
      "122. feature 101 [descricao_responsavel_escolaridade_Ensino fundamental completo] (0.000000)\n",
      "123. feature 114 [descricao_responsavel_financeiro_Não informado] (0.000000)\n",
      "124. feature 106 [descricao_responsavel_escolaridade_Ensino superior incompleto] (0.000000)\n",
      "125. feature 107 [descricao_responsavel_escolaridade_Não conhece] (0.000000)\n",
      "126. feature 108 [descricao_responsavel_escolaridade_Não estudou] (0.000000)\n",
      "127. feature 110 [descricao_responsavel_escolaridade_Pós graduação incompleto] (0.000000)\n",
      "128. feature 120 [descricao_trabalho_Autônomo] (0.000000)\n",
      "129. feature 81 [descricao_mae_escolaridade_Ensino superior incompleto] (0.000000)\n",
      "130. feature 46 [descricao_historico_Técnico de Nível Médio em Controle Ambiental] (0.000000)\n",
      "131. feature 80 [descricao_mae_escolaridade_Ensino superior completo] (0.000000)\n",
      "132. feature 125 [descricao_trabalho_Não está trabalhando] (0.000000)\n",
      "133. feature 50 [descricao_historico_Técnico de Nível Médio em Eletrônica] (0.000000)\n",
      "134. feature 52 [descricao_historico_Técnico de Nível Médio em Geologia] (0.000000)\n",
      "135. feature 55 [descricao_historico_Técnico de Nível Médio em Lazer] (0.000000)\n",
      "136. feature 111 [descricao_responsavel_financeiro_Cônjuge] (0.000000)\n",
      "137. feature 57 [descricao_historico_Técnico de Nível Médio em Manutenção e Suporte em Informática] (0.000000)\n",
      "138. feature 58 [descricao_historico_Técnico de Nível Médio em Mecatrônica] (0.000000)\n",
      "139. feature 123 [descricao_trabalho_Estágio ou bolsa] (0.000000)\n",
      "140. feature 61 [descricao_historico_Técnico de Nível Médio em Mineração] (0.000000)\n",
      "141. feature 62 [descricao_historico_Técnico de Nível Médio em Multimídia] (0.000000)\n",
      "142. feature 64 [descricao_historico_Técnico de Nível Médio em Química, na Forma Integrado] (0.000000)\n",
      "143. feature 66 [descricao_historico_Técnico de Nível Médio em Refrigeração e Climatização] (0.000000)\n",
      "144. feature 67 [descricao_historico_Técnico de Nível Médio em Têxtil] (0.000000)\n",
      "145. feature 68 [descricao_historico_Técnico de Nível Médio em Vestuário] (0.000000)\n",
      "146. feature 70 [descricao_imovel_Cedido ou Emprestado] (0.000000)\n",
      "147. feature 71 [descricao_imovel_Financiado] (0.000000)\n",
      "148. feature 72 [descricao_imovel_Não informado] (0.000000)\n",
      "149. feature 74 [descricao_imovel_Pensionato ou Alojamento] (0.000000)\n",
      "150. feature 121 [descricao_trabalho_Beneficiário ou Pensionista do INSS] (0.000000)\n",
      "151. feature 75 [descricao_imovel_Próprio] (0.000000)\n"
     ]
    },
    {
     "data": {
      "image/png": "[encoded data removed]",
      "text/plain": [
       "<matplotlib.figure.Figure at 0x7faaed31af60>"
      ]
     },
     "metadata": {},
     "output_type": "display_data"
    },
    {
     "name": "stdout",
     "output_type": "stream",
     "text": [
      "Feature ranking:\n",
      "1. feature 15 [conceito_I] (0.279017)\n",
      "2. feature 17 [conceito_R] (0.213172)\n",
      "3. feature 5 [MatemticaI120H_freq] (0.031357)\n",
      "4. feature 3 [MatemticaI120H] (0.024692)\n",
      "5. feature 102 [descricao_responsavel_escolaridade_Ensino fundamental incompleto] (0.021918)\n",
      "6. feature 136 [sigla_CN] (0.021561)\n",
      "7. feature 0 [LnguaPortuguesaeLiteraturaI90H] (0.020401)\n",
      "8. feature 2 [LnguaPortuguesaeLiteraturaI90H_freq] (0.017017)\n",
      "9. feature 100 [descricao_raca_Preta] (0.016730)\n",
      "10. feature 14 [tempo_entre_conclusao_ingresso] (0.015868)\n",
      "11. feature 101 [descricao_responsavel_escolaridade_Ensino fundamental completo] (0.015220)\n",
      "12. feature 137 [sigla_CNAT] (0.015152)\n",
      "13. feature 131 [pessoa_fisica__sexo_M] (0.014717)\n",
      "14. feature 9 [idade] (0.014037)\n",
      "15. feature 79 [descricao_mae_escolaridade_Ensino médio incompleto] (0.013104)\n",
      "16. feature 6 [acompanhamento] (0.011497)\n",
      "17. feature 40 [descricao_historico_Técnico de Nivel Médio em Informática] (0.011472)\n",
      "18. feature 78 [descricao_mae_escolaridade_Ensino médio completo] (0.011450)\n",
      "19. feature 91 [descricao_pai_escolaridade_Ensino superior incompleto] (0.011280)\n",
      "20. feature 26 [descricao_companhia_domiciliar_Mãe] (0.010772)\n",
      "21. feature 13 [qtd_pessoas_domicilio] (0.010459)\n",
      "22. feature 12 [qnt_salarios] (0.009932)\n",
      "23. feature 10 [possui_necessidade_especial] (0.008726)\n",
      "24. feature 89 [descricao_pai_escolaridade_Ensino médio incompleto] (0.008358)\n",
      "25. feature 41 [descricao_historico_Técnico de Nível Médio em Administração] (0.008278)\n",
      "26. feature 145 [sigla_PAR] (0.008219)\n",
      "27. feature 112 [descricao_responsavel_financeiro_Irmão(ã)] (0.008136)\n",
      "28. feature 93 [descricao_pai_escolaridade_Não estudou] (0.007468)\n",
      "29. feature 67 [descricao_historico_Técnico de Nível Médio em Têxtil] (0.007045)\n",
      "30. feature 141 [sigla_MC] (0.006930)\n",
      "31. feature 96 [descricao_raca_Branca] (0.006906)\n",
      "32. feature 4 [MatemticaI120H_dependencia] (0.006350)\n",
      "33. feature 113 [descricao_responsavel_financeiro_Mãe] (0.006279)\n",
      "34. feature 1 [LnguaPortuguesaeLiteraturaI90H_dependencia] (0.006262)\n",
      "35. feature 86 [descricao_pai_escolaridade_Ensino fundamental completo] (0.006229)\n",
      "36. feature 128 [descricao_trabalho_Serviço público] (0.006137)\n",
      "37. feature 133 [sigla_CAL] (0.005954)\n",
      "38. feature 28 [descricao_companhia_domiciliar_Outros] (0.005708)\n",
      "39. feature 104 [descricao_responsavel_escolaridade_Ensino médio incompleto] (0.005419)\n",
      "40. feature 106 [descricao_responsavel_escolaridade_Ensino superior incompleto] (0.005259)\n",
      "41. feature 50 [descricao_historico_Técnico de Nível Médio em Eletrônica] (0.004661)\n",
      "42. feature 134 [sigla_CANG] (0.004577)\n",
      "43. feature 25 [descricao_area_residencial_Urbana] (0.004566)\n",
      "44. feature 125 [descricao_trabalho_Não está trabalhando] (0.004452)\n",
      "45. feature 143 [sigla_NC] (0.004273)\n",
      "46. feature 84 [descricao_mae_escolaridade_Pós graduação completo] (0.004191)\n",
      "47. feature 103 [descricao_responsavel_escolaridade_Ensino médio completo] (0.004077)\n",
      "48. feature 108 [descricao_responsavel_escolaridade_Não estudou] (0.004040)\n",
      "49. feature 45 [descricao_historico_Técnico de Nível Médio em Comércio] (0.003679)\n",
      "50. feature 73 [descricao_imovel_Outro] (0.003425)\n",
      "51. feature 7 [aluno_exclusivo_rede_publica] (0.003153)\n",
      "52. feature 56 [descricao_historico_Técnico de Nível Médio em Logística] (0.002865)\n",
      "53. feature 88 [descricao_pai_escolaridade_Ensino médio completo] (0.002550)\n",
      "54. feature 139 [sigla_JC] (0.002539)\n",
      "55. feature 81 [descricao_mae_escolaridade_Ensino superior incompleto] (0.002446)\n",
      "56. feature 124 [descricao_trabalho_Nunca trabalhou] (0.002055)\n",
      "57. feature 117 [descricao_responsavel_financeiro_Pai] (0.001712)\n",
      "58. feature 24 [descricao_area_residencial_Rural] (0.001522)\n",
      "59. feature 99 [descricao_raca_Parda] (0.001522)\n",
      "60. feature 47 [descricao_historico_Técnico de Nível Médio em Edificações] (0.001452)\n",
      "61. feature 46 [descricao_historico_Técnico de Nível Médio em Controle Ambiental] (0.001268)\n",
      "62. feature 90 [descricao_pai_escolaridade_Ensino superior completo] (0.000217)\n",
      "63. feature 52 [descricao_historico_Técnico de Nível Médio em Geologia] (0.000163)\n",
      "64. feature 54 [descricao_historico_Técnico de Nível Médio em Informática para Internet] (0.000109)\n",
      "65. feature 38 [descricao_historico_Técnico de Nivel Médio em Biocombustíveis] (0.000000)\n",
      "66. feature 53 [descricao_historico_Técnico de Nível Médio em Informática] (0.000000)\n",
      "67. feature 51 [descricao_historico_Técnico de Nível Médio em Eventos] (0.000000)\n",
      "68. feature 43 [descricao_historico_Técnico de Nível Médio em Alimentos] (0.000000)\n",
      "69. feature 42 [descricao_historico_Técnico de Nível Médio em Agroecologia] (0.000000)\n",
      "70. feature 44 [descricao_historico_Técnico de Nível Médio em Apicultura] (0.000000)\n",
      "71. feature 49 [descricao_historico_Técnico de Nível Médio em Eletrotécnica] (0.000000)\n",
      "72. feature 48 [descricao_historico_Técnico de Nível Médio em Eletromecânica] (0.000000)\n",
      "73. feature 39 [descricao_historico_Técnico de Nivel Médio em Equipamentos Biomédicos] (0.000000)\n",
      "74. feature 23 [descricao_area_residencial_Não informado] (0.000000)\n",
      "75. feature 8 [artificial] (0.000000)\n",
      "76. feature 30 [descricao_companhia_domiciliar_Pais] (0.000000)\n",
      "77. feature 22 [descricao_area_residencial_Comunidade Quilombola] (0.000000)\n",
      "78. feature 27 [descricao_companhia_domiciliar_Não informado] (0.000000)\n",
      "79. feature 21 [conceito_freq_S] (0.000000)\n",
      "80. feature 20 [conceito_freq_R] (0.000000)\n",
      "81. feature 19 [conceito_freq_I] (0.000000)\n",
      "82. feature 29 [descricao_companhia_domiciliar_Pai] (0.000000)\n",
      "83. feature 18 [conceito_S] (0.000000)\n",
      "84. feature 31 [descricao_companhia_domiciliar_Parente(s) ou amigo(s)] (0.000000)\n",
      "85. feature 37 [descricao_historico_Técnico de Nivel Médio em Agropecuária, na Forma Integrada] (0.000000)\n",
      "86. feature 16 [conceito_O] (0.000000)\n",
      "87. feature 32 [descricao_companhia_domiciliar_Sozinho(a)] (0.000000)\n",
      "88. feature 33 [descricao_estado_civil_Divorciado(a)] (0.000000)\n",
      "89. feature 11 [qnt_pc] (0.000000)\n",
      "90. feature 34 [descricao_estado_civil_Não declarado] (0.000000)\n",
      "91. feature 35 [descricao_estado_civil_Solteiro(a)] (0.000000)\n",
      "92. feature 36 [descricao_estado_civil_União Estável] (0.000000)\n",
      "93. feature 55 [descricao_historico_Técnico de Nível Médio em Lazer] (0.000000)\n",
      "94. feature 150 [sigla_ZN] (0.000000)\n",
      "95. feature 57 [descricao_historico_Técnico de Nível Médio em Manutenção e Suporte em Informática] (0.000000)\n",
      "96. feature 105 [descricao_responsavel_escolaridade_Ensino superior completo] (0.000000)\n",
      "97. feature 109 [descricao_responsavel_escolaridade_Pós graduação completo] (0.000000)\n",
      "98. feature 110 [descricao_responsavel_escolaridade_Pós graduação incompleto] (0.000000)\n",
      "99. feature 111 [descricao_responsavel_financeiro_Cônjuge] (0.000000)\n",
      "100. feature 114 [descricao_responsavel_financeiro_Não informado] (0.000000)\n",
      "101. feature 115 [descricao_responsavel_financeiro_O próprio aluno] (0.000000)\n",
      "102. feature 116 [descricao_responsavel_financeiro_Outros] (0.000000)\n",
      "103. feature 118 [descricao_responsavel_financeiro_Parentes] (0.000000)\n",
      "104. feature 119 [descricao_responsavel_financeiro_Tio(a)] (0.000000)\n",
      "105. feature 120 [descricao_trabalho_Autônomo] (0.000000)\n",
      "106. feature 121 [descricao_trabalho_Beneficiário ou Pensionista do INSS] (0.000000)\n",
      "107. feature 122 [descricao_trabalho_Empresa privada] (0.000000)\n",
      "108. feature 123 [descricao_trabalho_Estágio ou bolsa] (0.000000)\n",
      "109. feature 126 [descricao_trabalho_Não informado] (0.000000)\n",
      "110. feature 127 [descricao_trabalho_Pescador] (0.000000)\n",
      "111. feature 129 [descricao_trabalho_Trabalha com vínculo empregatício] (0.000000)\n",
      "112. feature 130 [descricao_trabalho_Trabalhador rural/Agricultor] (0.000000)\n",
      "113. feature 132 [sigla_CA] (0.000000)\n",
      "114. feature 135 [sigla_CM] (0.000000)\n",
      "115. feature 138 [sigla_IP] (0.000000)\n",
      "116. feature 140 [sigla_LAJ] (0.000000)\n",
      "117. feature 142 [sigla_MO] (0.000000)\n",
      "118. feature 144 [sigla_PAAS] (0.000000)\n",
      "119. feature 146 [sigla_PF] (0.000000)\n",
      "120. feature 147 [sigla_SC] (0.000000)\n",
      "121. feature 148 [sigla_SGA] (0.000000)\n",
      "122. feature 107 [descricao_responsavel_escolaridade_Não conhece] (0.000000)\n",
      "123. feature 98 [descricao_raca_Não declarado] (0.000000)\n",
      "124. feature 58 [descricao_historico_Técnico de Nível Médio em Mecatrônica] (0.000000)\n",
      "125. feature 97 [descricao_raca_Indígena] (0.000000)\n",
      "126. feature 59 [descricao_historico_Técnico de Nível Médio em Mecânica] (0.000000)\n",
      "127. feature 60 [descricao_historico_Técnico de Nível Médio em Meio Ambiente] (0.000000)\n",
      "128. feature 61 [descricao_historico_Técnico de Nível Médio em Mineração] (0.000000)\n",
      "129. feature 62 [descricao_historico_Técnico de Nível Médio em Multimídia] (0.000000)\n",
      "130. feature 63 [descricao_historico_Técnico de Nível Médio em Química] (0.000000)\n",
      "131. feature 64 [descricao_historico_Técnico de Nível Médio em Química, na Forma Integrado] (0.000000)\n",
      "132. feature 65 [descricao_historico_Técnico de Nível Médio em Recursos Pesqueiros] (0.000000)\n",
      "133. feature 66 [descricao_historico_Técnico de Nível Médio em Refrigeração e Climatização] (0.000000)\n",
      "134. feature 68 [descricao_historico_Técnico de Nível Médio em Vestuário] (0.000000)\n",
      "135. feature 69 [descricao_historico_Técnico em Programação de Jogos Digitais] (0.000000)\n",
      "136. feature 70 [descricao_imovel_Cedido ou Emprestado] (0.000000)\n",
      "137. feature 71 [descricao_imovel_Financiado] (0.000000)\n",
      "138. feature 72 [descricao_imovel_Não informado] (0.000000)\n",
      "139. feature 74 [descricao_imovel_Pensionato ou Alojamento] (0.000000)\n",
      "140. feature 149 [sigla_SPP] (0.000000)\n",
      "141. feature 76 [descricao_mae_escolaridade_Ensino fundamental completo] (0.000000)\n",
      "142. feature 77 [descricao_mae_escolaridade_Ensino fundamental incompleto] (0.000000)\n",
      "143. feature 80 [descricao_mae_escolaridade_Ensino superior completo] (0.000000)\n",
      "144. feature 82 [descricao_mae_escolaridade_Não conhece] (0.000000)\n",
      "145. feature 83 [descricao_mae_escolaridade_Não estudou] (0.000000)\n",
      "146. feature 85 [descricao_mae_escolaridade_Pós graduação incompleto] (0.000000)\n",
      "147. feature 87 [descricao_pai_escolaridade_Ensino fundamental incompleto] (0.000000)\n",
      "148. feature 92 [descricao_pai_escolaridade_Não conhece] (0.000000)\n",
      "149. feature 94 [descricao_pai_escolaridade_Pós graduação completo] (0.000000)\n",
      "150. feature 95 [descricao_pai_escolaridade_Pós graduação incompleto] (0.000000)\n",
      "151. feature 75 [descricao_imovel_Próprio] (0.000000)\n"
     ]
    },
    {
     "data": {
      "image/png": "[encoded data removed]",
      "text/plain": [
       "<matplotlib.figure.Figure at 0x7faaed597cc0>"
      ]
     },
     "metadata": {},
     "output_type": "display_data"
    }
   ],
   "source": [
    "std = np.std([est.steps[1][1].feature_importances_ for est in ensemble.estimators_], axis=0)\n",
    "\n",
    "for estimator in ensemble.estimators_:\n",
    "    #print(estimator.steps[1][1].feature_importances_)\n",
    "    feature_ranking(Xtest, estimator.steps[1][1], std)\n",
    "    \n"
   ]
  },
  {
   "cell_type": "code",
   "execution_count": 12,
   "metadata": {},
   "outputs": [
    {
     "name": "stdout",
     "output_type": "stream",
     "text": [
      "[1.18970713e-01 1.94760930e-02 3.59627608e-02 1.27735829e-01\n",
      " 2.64323038e-02 4.38184000e-02 9.78788299e-03 9.23557308e-03\n",
      " 0.00000000e+00 3.03263975e-02 8.98452997e-03 1.71237720e-02\n",
      " 1.61418343e-02 1.67691548e-02 1.58450386e-02 4.85541397e-02\n",
      " 1.18034762e-02 9.11425614e-02 9.20646855e-03 1.71282684e-03\n",
      " 1.01220089e-02 1.43917800e-02 2.90308025e-05 2.03754369e-03\n",
      " 5.11510427e-03 4.61538425e-03 4.92415148e-03 1.81674325e-04\n",
      " 3.17853104e-03 2.95294104e-03 6.50525188e-03 4.29251921e-03\n",
      " 0.00000000e+00 2.67844001e-04 1.37290766e-05 4.71744234e-04\n",
      " 1.14664925e-04 1.63797290e-03 2.62663007e-04 7.96956684e-04\n",
      " 6.39226620e-03 4.04459357e-03 7.02128438e-04 1.80834229e-03\n",
      " 5.54549966e-04 1.14150495e-03 1.47889493e-03 6.15193994e-03\n",
      " 1.97917677e-03 3.63563613e-03 5.93860763e-04 1.07270684e-03\n",
      " 4.98958274e-04 2.30855413e-03 1.74359681e-03 2.27484010e-04\n",
      " 5.50684424e-04 1.73513121e-03 8.16600884e-04 2.49892860e-03\n",
      " 1.70823788e-03 1.79177669e-03 1.66942504e-03 7.82558462e-04\n",
      " 7.86596217e-04 4.49370111e-03 2.99100227e-04 8.86051242e-04\n",
      " 4.15889528e-04 2.35269353e-03 1.19203467e-03 3.68237447e-03\n",
      " 1.03231722e-04 1.77992855e-03 7.54107442e-05 5.84314311e-03\n",
      " 2.39603905e-03 4.94714403e-03 7.49689283e-03 5.37856837e-03\n",
      " 2.95811252e-03 4.72936063e-03 2.69625670e-04 1.38085899e-03\n",
      " 2.80776976e-03 2.72800431e-04 3.96309181e-03 5.38445337e-03\n",
      " 5.45113933e-03 4.14162541e-03 3.77125583e-03 2.19799031e-03\n",
      " 1.91642891e-03 1.43049880e-03 1.98090723e-03 9.59689396e-05\n",
      " 6.03941798e-03 4.18023393e-04 7.07142758e-04 7.29187617e-03\n",
      " 3.90782430e-03 3.82155061e-03 5.25710252e-03 6.44622908e-03\n",
      " 3.49142202e-03 3.28756050e-03 3.34958084e-03 2.80901506e-04\n",
      " 3.58291946e-03 2.91671699e-03 1.16318222e-04 8.70174018e-04\n",
      " 1.39256585e-03 5.66099955e-03 9.59559144e-05 1.15262240e-04\n",
      " 6.53922778e-04 6.01150954e-03 2.44345396e-04 5.72342993e-04\n",
      " 2.52454368e-03 3.21036312e-04 7.08145068e-04 2.31490843e-04\n",
      " 6.15142014e-03 5.04357644e-03 1.79638746e-03 1.75494160e-04\n",
      " 1.41787741e-03 2.07203969e-04 7.01718126e-04 6.91409551e-03\n",
      " 2.92560411e-03 1.91387101e-03 2.15978384e-03 2.68407383e-03\n",
      " 5.20849716e-03 7.03021870e-03 2.62417369e-03 2.84738743e-03\n",
      " 2.32463401e-03 6.01541758e-03 2.35396615e-03 2.76885852e-03\n",
      " 1.21159267e-03 1.94022455e-03 9.14899615e-04 3.10581075e-03\n",
      " 2.87937869e-03 2.82534582e-03 1.83213271e-03]\n"
     ]
    }
   ],
   "source": [
    "print(np.mean([est.steps[1][1].feature_importances_ for est in ensemble.estimators_], axis=0))"
   ]
  },
  {
   "cell_type": "code",
   "execution_count": 9,
   "metadata": {},
   "outputs": [
    {
     "ename": "RuntimeError",
     "evalue": "The classifier does not expose \"coef_\" or \"feature_importances_\" attributes",
     "output_type": "error",
     "traceback": [
      "\u001b[0;31m---------------------------------------------------------------------------\u001b[0m",
      "\u001b[0;31mRuntimeError\u001b[0m                              Traceback (most recent call last)",
      "\u001b[0;32m<ipython-input-9-91b7a77e208f>\u001b[0m in \u001b[0;36m<module>\u001b[0;34m()\u001b[0m\n\u001b[1;32m      1\u001b[0m \u001b[0;31m#seleciona os melhores atributos para cada modelo\u001b[0m\u001b[0;34m\u001b[0m\u001b[0;34m\u001b[0m\u001b[0m\n\u001b[1;32m      2\u001b[0m \u001b[0mselector\u001b[0m \u001b[0;34m=\u001b[0m \u001b[0mRFECV\u001b[0m\u001b[0;34m(\u001b[0m\u001b[0mensemble\u001b[0m\u001b[0;34m,\u001b[0m \u001b[0mcv\u001b[0m\u001b[0;34m=\u001b[0m\u001b[0;36m10\u001b[0m\u001b[0;34m,\u001b[0m \u001b[0mn_jobs\u001b[0m\u001b[0;34m=\u001b[0m\u001b[0;34m-\u001b[0m\u001b[0;36m1\u001b[0m\u001b[0;34m)\u001b[0m\u001b[0;34m\u001b[0m\u001b[0m\n\u001b[0;32m----> 3\u001b[0;31m \u001b[0mselector\u001b[0m\u001b[0;34m.\u001b[0m\u001b[0mfit\u001b[0m\u001b[0;34m(\u001b[0m\u001b[0mXtest\u001b[0m\u001b[0;34m,\u001b[0m \u001b[0mytest\u001b[0m\u001b[0;34m)\u001b[0m\u001b[0;34m\u001b[0m\u001b[0m\n\u001b[0m\u001b[1;32m      4\u001b[0m \u001b[0;34m\u001b[0m\u001b[0m\n\u001b[1;32m      5\u001b[0m \u001b[0mbest_columns\u001b[0m \u001b[0;34m=\u001b[0m \u001b[0mlist\u001b[0m\u001b[0;34m(\u001b[0m\u001b[0mX\u001b[0m\u001b[0;34m.\u001b[0m\u001b[0mcolumns\u001b[0m\u001b[0;34m[\u001b[0m\u001b[0mselector\u001b[0m\u001b[0;34m.\u001b[0m\u001b[0msupport_\u001b[0m\u001b[0;34m]\u001b[0m\u001b[0;34m)\u001b[0m\u001b[0;34m\u001b[0m\u001b[0m\n",
      "\u001b[0;32m/home/ubuntu/anaconda3/lib/python3.6/site-packages/sklearn/feature_selection/rfe.py\u001b[0m in \u001b[0;36mfit\u001b[0;34m(self, X, y)\u001b[0m\n\u001b[1;32m    434\u001b[0m         scores = parallel(\n\u001b[1;32m    435\u001b[0m             \u001b[0mfunc\u001b[0m\u001b[0;34m(\u001b[0m\u001b[0mrfe\u001b[0m\u001b[0;34m,\u001b[0m \u001b[0mself\u001b[0m\u001b[0;34m.\u001b[0m\u001b[0mestimator\u001b[0m\u001b[0;34m,\u001b[0m \u001b[0mX\u001b[0m\u001b[0;34m,\u001b[0m \u001b[0my\u001b[0m\u001b[0;34m,\u001b[0m \u001b[0mtrain\u001b[0m\u001b[0;34m,\u001b[0m \u001b[0mtest\u001b[0m\u001b[0;34m,\u001b[0m \u001b[0mscorer\u001b[0m\u001b[0;34m)\u001b[0m\u001b[0;34m\u001b[0m\u001b[0m\n\u001b[0;32m--> 436\u001b[0;31m             for train, test in cv.split(X, y))\n\u001b[0m\u001b[1;32m    437\u001b[0m \u001b[0;34m\u001b[0m\u001b[0m\n\u001b[1;32m    438\u001b[0m         \u001b[0mscores\u001b[0m \u001b[0;34m=\u001b[0m \u001b[0mnp\u001b[0m\u001b[0;34m.\u001b[0m\u001b[0msum\u001b[0m\u001b[0;34m(\u001b[0m\u001b[0mscores\u001b[0m\u001b[0;34m,\u001b[0m \u001b[0maxis\u001b[0m\u001b[0;34m=\u001b[0m\u001b[0;36m0\u001b[0m\u001b[0;34m)\u001b[0m\u001b[0;34m\u001b[0m\u001b[0m\n",
      "\u001b[0;32m/home/ubuntu/anaconda3/lib/python3.6/site-packages/sklearn/externals/joblib/parallel.py\u001b[0m in \u001b[0;36m__call__\u001b[0;34m(self, iterable)\u001b[0m\n\u001b[1;32m    777\u001b[0m             \u001b[0;31m# was dispatched. In particular this covers the edge\u001b[0m\u001b[0;34m\u001b[0m\u001b[0;34m\u001b[0m\u001b[0m\n\u001b[1;32m    778\u001b[0m             \u001b[0;31m# case of Parallel used with an exhausted iterator.\u001b[0m\u001b[0;34m\u001b[0m\u001b[0;34m\u001b[0m\u001b[0m\n\u001b[0;32m--> 779\u001b[0;31m             \u001b[0;32mwhile\u001b[0m \u001b[0mself\u001b[0m\u001b[0;34m.\u001b[0m\u001b[0mdispatch_one_batch\u001b[0m\u001b[0;34m(\u001b[0m\u001b[0miterator\u001b[0m\u001b[0;34m)\u001b[0m\u001b[0;34m:\u001b[0m\u001b[0;34m\u001b[0m\u001b[0m\n\u001b[0m\u001b[1;32m    780\u001b[0m                 \u001b[0mself\u001b[0m\u001b[0;34m.\u001b[0m\u001b[0m_iterating\u001b[0m \u001b[0;34m=\u001b[0m \u001b[0;32mTrue\u001b[0m\u001b[0;34m\u001b[0m\u001b[0m\n\u001b[1;32m    781\u001b[0m             \u001b[0;32melse\u001b[0m\u001b[0;34m:\u001b[0m\u001b[0;34m\u001b[0m\u001b[0m\n",
      "\u001b[0;32m/home/ubuntu/anaconda3/lib/python3.6/site-packages/sklearn/externals/joblib/parallel.py\u001b[0m in \u001b[0;36mdispatch_one_batch\u001b[0;34m(self, iterator)\u001b[0m\n\u001b[1;32m    623\u001b[0m                 \u001b[0;32mreturn\u001b[0m \u001b[0;32mFalse\u001b[0m\u001b[0;34m\u001b[0m\u001b[0m\n\u001b[1;32m    624\u001b[0m             \u001b[0;32melse\u001b[0m\u001b[0;34m:\u001b[0m\u001b[0;34m\u001b[0m\u001b[0m\n\u001b[0;32m--> 625\u001b[0;31m                 \u001b[0mself\u001b[0m\u001b[0;34m.\u001b[0m\u001b[0m_dispatch\u001b[0m\u001b[0;34m(\u001b[0m\u001b[0mtasks\u001b[0m\u001b[0;34m)\u001b[0m\u001b[0;34m\u001b[0m\u001b[0m\n\u001b[0m\u001b[1;32m    626\u001b[0m                 \u001b[0;32mreturn\u001b[0m \u001b[0;32mTrue\u001b[0m\u001b[0;34m\u001b[0m\u001b[0m\n\u001b[1;32m    627\u001b[0m \u001b[0;34m\u001b[0m\u001b[0m\n",
      "\u001b[0;32m/home/ubuntu/anaconda3/lib/python3.6/site-packages/sklearn/externals/joblib/parallel.py\u001b[0m in \u001b[0;36m_dispatch\u001b[0;34m(self, batch)\u001b[0m\n\u001b[1;32m    586\u001b[0m         \u001b[0mdispatch_timestamp\u001b[0m \u001b[0;34m=\u001b[0m \u001b[0mtime\u001b[0m\u001b[0;34m.\u001b[0m\u001b[0mtime\u001b[0m\u001b[0;34m(\u001b[0m\u001b[0;34m)\u001b[0m\u001b[0;34m\u001b[0m\u001b[0m\n\u001b[1;32m    587\u001b[0m         \u001b[0mcb\u001b[0m \u001b[0;34m=\u001b[0m \u001b[0mBatchCompletionCallBack\u001b[0m\u001b[0;34m(\u001b[0m\u001b[0mdispatch_timestamp\u001b[0m\u001b[0;34m,\u001b[0m \u001b[0mlen\u001b[0m\u001b[0;34m(\u001b[0m\u001b[0mbatch\u001b[0m\u001b[0;34m)\u001b[0m\u001b[0;34m,\u001b[0m \u001b[0mself\u001b[0m\u001b[0;34m)\u001b[0m\u001b[0;34m\u001b[0m\u001b[0m\n\u001b[0;32m--> 588\u001b[0;31m         \u001b[0mjob\u001b[0m \u001b[0;34m=\u001b[0m \u001b[0mself\u001b[0m\u001b[0;34m.\u001b[0m\u001b[0m_backend\u001b[0m\u001b[0;34m.\u001b[0m\u001b[0mapply_async\u001b[0m\u001b[0;34m(\u001b[0m\u001b[0mbatch\u001b[0m\u001b[0;34m,\u001b[0m \u001b[0mcallback\u001b[0m\u001b[0;34m=\u001b[0m\u001b[0mcb\u001b[0m\u001b[0;34m)\u001b[0m\u001b[0;34m\u001b[0m\u001b[0m\n\u001b[0m\u001b[1;32m    589\u001b[0m         \u001b[0mself\u001b[0m\u001b[0;34m.\u001b[0m\u001b[0m_jobs\u001b[0m\u001b[0;34m.\u001b[0m\u001b[0mappend\u001b[0m\u001b[0;34m(\u001b[0m\u001b[0mjob\u001b[0m\u001b[0;34m)\u001b[0m\u001b[0;34m\u001b[0m\u001b[0m\n\u001b[1;32m    590\u001b[0m \u001b[0;34m\u001b[0m\u001b[0m\n",
      "\u001b[0;32m/home/ubuntu/anaconda3/lib/python3.6/site-packages/sklearn/externals/joblib/_parallel_backends.py\u001b[0m in \u001b[0;36mapply_async\u001b[0;34m(self, func, callback)\u001b[0m\n\u001b[1;32m    109\u001b[0m     \u001b[0;32mdef\u001b[0m \u001b[0mapply_async\u001b[0m\u001b[0;34m(\u001b[0m\u001b[0mself\u001b[0m\u001b[0;34m,\u001b[0m \u001b[0mfunc\u001b[0m\u001b[0;34m,\u001b[0m \u001b[0mcallback\u001b[0m\u001b[0;34m=\u001b[0m\u001b[0;32mNone\u001b[0m\u001b[0;34m)\u001b[0m\u001b[0;34m:\u001b[0m\u001b[0;34m\u001b[0m\u001b[0m\n\u001b[1;32m    110\u001b[0m         \u001b[0;34m\"\"\"Schedule a func to be run\"\"\"\u001b[0m\u001b[0;34m\u001b[0m\u001b[0m\n\u001b[0;32m--> 111\u001b[0;31m         \u001b[0mresult\u001b[0m \u001b[0;34m=\u001b[0m \u001b[0mImmediateResult\u001b[0m\u001b[0;34m(\u001b[0m\u001b[0mfunc\u001b[0m\u001b[0;34m)\u001b[0m\u001b[0;34m\u001b[0m\u001b[0m\n\u001b[0m\u001b[1;32m    112\u001b[0m         \u001b[0;32mif\u001b[0m \u001b[0mcallback\u001b[0m\u001b[0;34m:\u001b[0m\u001b[0;34m\u001b[0m\u001b[0m\n\u001b[1;32m    113\u001b[0m             \u001b[0mcallback\u001b[0m\u001b[0;34m(\u001b[0m\u001b[0mresult\u001b[0m\u001b[0;34m)\u001b[0m\u001b[0;34m\u001b[0m\u001b[0m\n",
      "\u001b[0;32m/home/ubuntu/anaconda3/lib/python3.6/site-packages/sklearn/externals/joblib/_parallel_backends.py\u001b[0m in \u001b[0;36m__init__\u001b[0;34m(self, batch)\u001b[0m\n\u001b[1;32m    330\u001b[0m         \u001b[0;31m# Don't delay the application, to avoid keeping the input\u001b[0m\u001b[0;34m\u001b[0m\u001b[0;34m\u001b[0m\u001b[0m\n\u001b[1;32m    331\u001b[0m         \u001b[0;31m# arguments in memory\u001b[0m\u001b[0;34m\u001b[0m\u001b[0;34m\u001b[0m\u001b[0m\n\u001b[0;32m--> 332\u001b[0;31m         \u001b[0mself\u001b[0m\u001b[0;34m.\u001b[0m\u001b[0mresults\u001b[0m \u001b[0;34m=\u001b[0m \u001b[0mbatch\u001b[0m\u001b[0;34m(\u001b[0m\u001b[0;34m)\u001b[0m\u001b[0;34m\u001b[0m\u001b[0m\n\u001b[0m\u001b[1;32m    333\u001b[0m \u001b[0;34m\u001b[0m\u001b[0m\n\u001b[1;32m    334\u001b[0m     \u001b[0;32mdef\u001b[0m \u001b[0mget\u001b[0m\u001b[0;34m(\u001b[0m\u001b[0mself\u001b[0m\u001b[0;34m)\u001b[0m\u001b[0;34m:\u001b[0m\u001b[0;34m\u001b[0m\u001b[0m\n",
      "\u001b[0;32m/home/ubuntu/anaconda3/lib/python3.6/site-packages/sklearn/externals/joblib/parallel.py\u001b[0m in \u001b[0;36m__call__\u001b[0;34m(self)\u001b[0m\n\u001b[1;32m    129\u001b[0m \u001b[0;34m\u001b[0m\u001b[0m\n\u001b[1;32m    130\u001b[0m     \u001b[0;32mdef\u001b[0m \u001b[0m__call__\u001b[0m\u001b[0;34m(\u001b[0m\u001b[0mself\u001b[0m\u001b[0;34m)\u001b[0m\u001b[0;34m:\u001b[0m\u001b[0;34m\u001b[0m\u001b[0m\n\u001b[0;32m--> 131\u001b[0;31m         \u001b[0;32mreturn\u001b[0m \u001b[0;34m[\u001b[0m\u001b[0mfunc\u001b[0m\u001b[0;34m(\u001b[0m\u001b[0;34m*\u001b[0m\u001b[0margs\u001b[0m\u001b[0;34m,\u001b[0m \u001b[0;34m**\u001b[0m\u001b[0mkwargs\u001b[0m\u001b[0;34m)\u001b[0m \u001b[0;32mfor\u001b[0m \u001b[0mfunc\u001b[0m\u001b[0;34m,\u001b[0m \u001b[0margs\u001b[0m\u001b[0;34m,\u001b[0m \u001b[0mkwargs\u001b[0m \u001b[0;32min\u001b[0m \u001b[0mself\u001b[0m\u001b[0;34m.\u001b[0m\u001b[0mitems\u001b[0m\u001b[0;34m]\u001b[0m\u001b[0;34m\u001b[0m\u001b[0m\n\u001b[0m\u001b[1;32m    132\u001b[0m \u001b[0;34m\u001b[0m\u001b[0m\n\u001b[1;32m    133\u001b[0m     \u001b[0;32mdef\u001b[0m \u001b[0m__len__\u001b[0m\u001b[0;34m(\u001b[0m\u001b[0mself\u001b[0m\u001b[0;34m)\u001b[0m\u001b[0;34m:\u001b[0m\u001b[0;34m\u001b[0m\u001b[0m\n",
      "\u001b[0;32m/home/ubuntu/anaconda3/lib/python3.6/site-packages/sklearn/externals/joblib/parallel.py\u001b[0m in \u001b[0;36m<listcomp>\u001b[0;34m(.0)\u001b[0m\n\u001b[1;32m    129\u001b[0m \u001b[0;34m\u001b[0m\u001b[0m\n\u001b[1;32m    130\u001b[0m     \u001b[0;32mdef\u001b[0m \u001b[0m__call__\u001b[0m\u001b[0;34m(\u001b[0m\u001b[0mself\u001b[0m\u001b[0;34m)\u001b[0m\u001b[0;34m:\u001b[0m\u001b[0;34m\u001b[0m\u001b[0m\n\u001b[0;32m--> 131\u001b[0;31m         \u001b[0;32mreturn\u001b[0m \u001b[0;34m[\u001b[0m\u001b[0mfunc\u001b[0m\u001b[0;34m(\u001b[0m\u001b[0;34m*\u001b[0m\u001b[0margs\u001b[0m\u001b[0;34m,\u001b[0m \u001b[0;34m**\u001b[0m\u001b[0mkwargs\u001b[0m\u001b[0;34m)\u001b[0m \u001b[0;32mfor\u001b[0m \u001b[0mfunc\u001b[0m\u001b[0;34m,\u001b[0m \u001b[0margs\u001b[0m\u001b[0;34m,\u001b[0m \u001b[0mkwargs\u001b[0m \u001b[0;32min\u001b[0m \u001b[0mself\u001b[0m\u001b[0;34m.\u001b[0m\u001b[0mitems\u001b[0m\u001b[0;34m]\u001b[0m\u001b[0;34m\u001b[0m\u001b[0m\n\u001b[0m\u001b[1;32m    132\u001b[0m \u001b[0;34m\u001b[0m\u001b[0m\n\u001b[1;32m    133\u001b[0m     \u001b[0;32mdef\u001b[0m \u001b[0m__len__\u001b[0m\u001b[0;34m(\u001b[0m\u001b[0mself\u001b[0m\u001b[0;34m)\u001b[0m\u001b[0;34m:\u001b[0m\u001b[0;34m\u001b[0m\u001b[0m\n",
      "\u001b[0;32m/home/ubuntu/anaconda3/lib/python3.6/site-packages/sklearn/feature_selection/rfe.py\u001b[0m in \u001b[0;36m_rfe_single_fit\u001b[0;34m(rfe, estimator, X, y, train, test, scorer)\u001b[0m\n\u001b[1;32m     29\u001b[0m     \u001b[0mX_test\u001b[0m\u001b[0;34m,\u001b[0m \u001b[0my_test\u001b[0m \u001b[0;34m=\u001b[0m \u001b[0m_safe_split\u001b[0m\u001b[0;34m(\u001b[0m\u001b[0mestimator\u001b[0m\u001b[0;34m,\u001b[0m \u001b[0mX\u001b[0m\u001b[0;34m,\u001b[0m \u001b[0my\u001b[0m\u001b[0;34m,\u001b[0m \u001b[0mtest\u001b[0m\u001b[0;34m,\u001b[0m \u001b[0mtrain\u001b[0m\u001b[0;34m)\u001b[0m\u001b[0;34m\u001b[0m\u001b[0m\n\u001b[1;32m     30\u001b[0m     return rfe._fit(\n\u001b[0;32m---> 31\u001b[0;31m         \u001b[0mX_train\u001b[0m\u001b[0;34m,\u001b[0m \u001b[0my_train\u001b[0m\u001b[0;34m,\u001b[0m \u001b[0;32mlambda\u001b[0m \u001b[0mestimator\u001b[0m\u001b[0;34m,\u001b[0m \u001b[0mfeatures\u001b[0m\u001b[0;34m:\u001b[0m\u001b[0;34m\u001b[0m\u001b[0m\n\u001b[0m\u001b[1;32m     32\u001b[0m         _score(estimator, X_test[:, features], y_test, scorer)).scores_\n\u001b[1;32m     33\u001b[0m \u001b[0;34m\u001b[0m\u001b[0m\n",
      "\u001b[0;32m/home/ubuntu/anaconda3/lib/python3.6/site-packages/sklearn/feature_selection/rfe.py\u001b[0m in \u001b[0;36m_fit\u001b[0;34m(self, X, y, step_score)\u001b[0m\n\u001b[1;32m    179\u001b[0m                 \u001b[0mcoefs\u001b[0m \u001b[0;34m=\u001b[0m \u001b[0mgetattr\u001b[0m\u001b[0;34m(\u001b[0m\u001b[0mestimator\u001b[0m\u001b[0;34m,\u001b[0m \u001b[0;34m'feature_importances_'\u001b[0m\u001b[0;34m,\u001b[0m \u001b[0;32mNone\u001b[0m\u001b[0;34m)\u001b[0m\u001b[0;34m\u001b[0m\u001b[0m\n\u001b[1;32m    180\u001b[0m             \u001b[0;32mif\u001b[0m \u001b[0mcoefs\u001b[0m \u001b[0;32mis\u001b[0m \u001b[0;32mNone\u001b[0m\u001b[0;34m:\u001b[0m\u001b[0;34m\u001b[0m\u001b[0m\n\u001b[0;32m--> 181\u001b[0;31m                 raise RuntimeError('The classifier does not expose '\n\u001b[0m\u001b[1;32m    182\u001b[0m                                    \u001b[0;34m'\"coef_\" or \"feature_importances_\" '\u001b[0m\u001b[0;34m\u001b[0m\u001b[0m\n\u001b[1;32m    183\u001b[0m                                    'attributes')\n",
      "\u001b[0;31mRuntimeError\u001b[0m: The classifier does not expose \"coef_\" or \"feature_importances_\" attributes"
     ]
    }
   ],
   "source": [
    "#seleciona os melhores atributos para cada modelo\n",
    "selector = RFECV(ensemble, cv=10, n_jobs=-1)\n",
    "selector.fit(Xtest, ytest)\n",
    "\n",
    "best_columns = list(X.columns[selector.support_])\n",
    "print(\"Best Columns \\n{}\\n\".format(best_columns))    \n"
   ]
  },
  {
   "cell_type": "code",
   "execution_count": null,
   "metadata": {
    "collapsed": true
   },
   "outputs": [],
   "source": []
  },
  {
   "cell_type": "code",
   "execution_count": 9,
   "metadata": {},
   "outputs": [
    {
     "name": "stdout",
     "output_type": "stream",
     "text": [
      "{'n_estimators': 200}\n",
      "0.9187640114918161\n",
      "             precision    recall  f1-score   support\n",
      "\n",
      "          0       0.88      0.32      0.47        87\n",
      "          1       0.97      1.00      0.98      1843\n",
      "\n",
      "avg / total       0.96      0.97      0.96      1930\n",
      "\n",
      "Valor de falso positivo:0.6781609195402298\n",
      "Cálculo de índices de avaliação:\n",
      "Precisão: 0.968915; Recall: 0.997830, F1: 0.983160\n",
      "Precisão CV:\n"
     ]
    },
    {
     "name": "stderr",
     "output_type": "stream",
     "text": [
      "/home/ubuntu/anaconda3/lib/python3.6/site-packages/matplotlib/font_manager.py:1297: UserWarning: findfont: Font family ['sans-serif'] not found. Falling back to DejaVu Sans\n",
      "  (prop.get_family(), self.defaultFamily[fontext]))\n"
     ]
    },
    {
     "name": "stdout",
     "output_type": "stream",
     "text": [
      "[0.95876289 0.97938144 0.96391753 0.95854922 0.96373057 0.96373057\n",
      " 0.95336788 0.97395833 0.96354167 0.94791667]\n",
      "0.9626856760678738\n"
     ]
    },
    {
     "name": "stderr",
     "output_type": "stream",
     "text": [
      "/home/ubuntu/anaconda3/lib/python3.6/site-packages/matplotlib/font_manager.py:1297: UserWarning: findfont: Font family ['sans-serif'] not found. Falling back to DejaVu Sans\n",
      "  (prop.get_family(), self.defaultFamily[fontext]))\n"
     ]
    },
    {
     "data": {
      "image/png": "[encoded data removed]",
      "text/plain": [
       "<matplotlib.figure.Figure at 0x7f9e12f0c208>"
      ]
     },
     "metadata": {},
     "output_type": "display_data"
    },
    {
     "data": {
      "image/png": "[encoded data removed]",
      "text/plain": [
       "<matplotlib.figure.Figure at 0x7f9e12f00c18>"
      ]
     },
     "metadata": {},
     "output_type": "display_data"
    },
    {
     "name": "stdout",
     "output_type": "stream",
     "text": [
      "0.9321165515994037\n"
     ]
    },
    {
     "data": {
      "text/plain": [
       "(0.9234767493177646, 0.9942375069317352)"
      ]
     },
     "execution_count": 9,
     "metadata": {},
     "output_type": "execute_result"
    }
   ],
   "source": [
    "#teste atributo class_weight da RF\n",
    "from sklearn.model_selection import cross_validate\n",
    "from sklearn.metrics import classification_report\n",
    "\n",
    "# Grid search with scoring based on decision_function\n",
    "parameters = {'n_estimators': (10, 30, 100, 200)}\n",
    "\n",
    "grid = GridSearchCV(RandomForestClassifier(max_features='auto', class_weight='balanced'),\n",
    "             parameters,\n",
    "             scoring=\"roc_auc\")\n",
    "\n",
    "grid.fit(Xtrain, ytrain)\n",
    "\n",
    "print(grid.best_params_)\n",
    "print(grid.best_score_)\n",
    "ensemble = grid.best_estimator_\n",
    "\n",
    "scores = cross_validate(ensemble,\n",
    "                        Xtrain, ytrain, cv=10, scoring=('roc_auc', 'average_precision'))\n",
    "\n",
    "ypred_ensemble = ensemble.predict(Xtest)\n",
    "print(classification_report(ytest, ypred_ensemble))\n",
    "\n",
    "evaluating(ensemble, ytest, ypred_ensemble, Xtest)\n",
    "\n",
    "scores['test_roc_auc'].mean(), scores['test_average_precision'].mean()"
   ]
  },
  {
   "cell_type": "code",
   "execution_count": 6,
   "metadata": {
    "collapsed": true
   },
   "outputs": [],
   "source": [
    "#BALANCED CASCADE"
   ]
  },
  {
   "cell_type": "code",
   "execution_count": 72,
   "metadata": {},
   "outputs": [],
   "source": [
    "from imblearn.ensemble import BalanceCascade\n",
    "from sklearn.base import clone\n",
    "\n",
    "estimator = DecisionTreeClassifier(max_features='auto')\n",
    "\n",
    "#utilizando DT\n",
    "ens = BalanceCascade(estimator=estimator)\n",
    "X_train_res, y_train_res = ens.fit_sample(Xtrain, ytrain)\n",
    "y_pred_cum = np.zeros(len(ytest))\n",
    "\n",
    "models = []\n",
    "\n",
    "for idx in range(len(y_train_res)):    \n",
    "    clf = DecisionTreeClassifier(max_features='auto')\n",
    "    clf.fit(X_train_res[idx], y_train_res[idx]) \n",
    "    y_pred_cum += clf.predict_proba(Xtest)[:, 0]\n",
    "    \n",
    "    models.append( (\"est_i_{0}\".format(idx), clone(clf)) )\n"
   ]
  },
  {
   "cell_type": "code",
   "execution_count": 68,
   "metadata": {},
   "outputs": [],
   "source": [
    "y_pred_cum = y_pred_cum/len(y_train_res)\n",
    "ypred = (y_pred_cum < 0.5).astype(int)"
   ]
  },
  {
   "cell_type": "code",
   "execution_count": 69,
   "metadata": {},
   "outputs": [
    {
     "name": "stdout",
     "output_type": "stream",
     "text": [
      "(29, 524, 151)\n",
      "(29, 524)\n",
      "(7718, 151)\n"
     ]
    }
   ],
   "source": [
    "print(X_resampled.shape)\n",
    "print(y_resampled.shape)\n",
    "print(X.shape)"
   ]
  },
  {
   "cell_type": "code",
   "execution_count": 78,
   "metadata": {},
   "outputs": [
    {
     "ename": "NotFittedError",
     "evalue": "This VotingClassifier instance is not fitted yet. Call 'fit' with appropriate arguments before using this method.",
     "output_type": "error",
     "traceback": [
      "\u001b[0;31m---------------------------------------------------------------------------\u001b[0m",
      "\u001b[0;31mNotFittedError\u001b[0m                            Traceback (most recent call last)",
      "\u001b[0;32m<ipython-input-78-3adf260ac42c>\u001b[0m in \u001b[0;36m<module>\u001b[0;34m()\u001b[0m\n\u001b[1;32m      5\u001b[0m \u001b[0;31m#eclf1 = eclf1.fit(Xtrain, ytrain)\u001b[0m\u001b[0;34m\u001b[0m\u001b[0;34m\u001b[0m\u001b[0m\n\u001b[1;32m      6\u001b[0m \u001b[0;34m\u001b[0m\u001b[0m\n\u001b[0;32m----> 7\u001b[0;31m \u001b[0mypred_vote\u001b[0m \u001b[0;34m=\u001b[0m \u001b[0meclf1\u001b[0m\u001b[0;34m.\u001b[0m\u001b[0mpredict\u001b[0m\u001b[0;34m(\u001b[0m\u001b[0mXtest\u001b[0m\u001b[0;34m)\u001b[0m\u001b[0;34m\u001b[0m\u001b[0m\n\u001b[0m",
      "\u001b[0;32m/home/ubuntu/anaconda3/lib/python3.6/site-packages/sklearn/ensemble/voting_classifier.py\u001b[0m in \u001b[0;36mpredict\u001b[0;34m(self, X)\u001b[0m\n\u001b[1;32m    214\u001b[0m         \"\"\"\n\u001b[1;32m    215\u001b[0m \u001b[0;34m\u001b[0m\u001b[0m\n\u001b[0;32m--> 216\u001b[0;31m         \u001b[0mcheck_is_fitted\u001b[0m\u001b[0;34m(\u001b[0m\u001b[0mself\u001b[0m\u001b[0;34m,\u001b[0m \u001b[0;34m'estimators_'\u001b[0m\u001b[0;34m)\u001b[0m\u001b[0;34m\u001b[0m\u001b[0m\n\u001b[0m\u001b[1;32m    217\u001b[0m         \u001b[0;32mif\u001b[0m \u001b[0mself\u001b[0m\u001b[0;34m.\u001b[0m\u001b[0mvoting\u001b[0m \u001b[0;34m==\u001b[0m \u001b[0;34m'soft'\u001b[0m\u001b[0;34m:\u001b[0m\u001b[0;34m\u001b[0m\u001b[0m\n\u001b[1;32m    218\u001b[0m             \u001b[0mmaj\u001b[0m \u001b[0;34m=\u001b[0m \u001b[0mnp\u001b[0m\u001b[0;34m.\u001b[0m\u001b[0margmax\u001b[0m\u001b[0;34m(\u001b[0m\u001b[0mself\u001b[0m\u001b[0;34m.\u001b[0m\u001b[0mpredict_proba\u001b[0m\u001b[0;34m(\u001b[0m\u001b[0mX\u001b[0m\u001b[0;34m)\u001b[0m\u001b[0;34m,\u001b[0m \u001b[0maxis\u001b[0m\u001b[0;34m=\u001b[0m\u001b[0;36m1\u001b[0m\u001b[0;34m)\u001b[0m\u001b[0;34m\u001b[0m\u001b[0m\n",
      "\u001b[0;32m/home/ubuntu/anaconda3/lib/python3.6/site-packages/sklearn/utils/validation.py\u001b[0m in \u001b[0;36mcheck_is_fitted\u001b[0;34m(estimator, attributes, msg, all_or_any)\u001b[0m\n\u001b[1;32m    766\u001b[0m \u001b[0;34m\u001b[0m\u001b[0m\n\u001b[1;32m    767\u001b[0m     \u001b[0;32mif\u001b[0m \u001b[0;32mnot\u001b[0m \u001b[0mall_or_any\u001b[0m\u001b[0;34m(\u001b[0m\u001b[0;34m[\u001b[0m\u001b[0mhasattr\u001b[0m\u001b[0;34m(\u001b[0m\u001b[0mestimator\u001b[0m\u001b[0;34m,\u001b[0m \u001b[0mattr\u001b[0m\u001b[0;34m)\u001b[0m \u001b[0;32mfor\u001b[0m \u001b[0mattr\u001b[0m \u001b[0;32min\u001b[0m \u001b[0mattributes\u001b[0m\u001b[0;34m]\u001b[0m\u001b[0;34m)\u001b[0m\u001b[0;34m:\u001b[0m\u001b[0;34m\u001b[0m\u001b[0m\n\u001b[0;32m--> 768\u001b[0;31m         \u001b[0;32mraise\u001b[0m \u001b[0mNotFittedError\u001b[0m\u001b[0;34m(\u001b[0m\u001b[0mmsg\u001b[0m \u001b[0;34m%\u001b[0m \u001b[0;34m{\u001b[0m\u001b[0;34m'name'\u001b[0m\u001b[0;34m:\u001b[0m \u001b[0mtype\u001b[0m\u001b[0;34m(\u001b[0m\u001b[0mestimator\u001b[0m\u001b[0;34m)\u001b[0m\u001b[0;34m.\u001b[0m\u001b[0m__name__\u001b[0m\u001b[0;34m}\u001b[0m\u001b[0;34m)\u001b[0m\u001b[0;34m\u001b[0m\u001b[0m\n\u001b[0m\u001b[1;32m    769\u001b[0m \u001b[0;34m\u001b[0m\u001b[0m\n\u001b[1;32m    770\u001b[0m \u001b[0;34m\u001b[0m\u001b[0m\n",
      "\u001b[0;31mNotFittedError\u001b[0m: This VotingClassifier instance is not fitted yet. Call 'fit' with appropriate arguments before using this method."
     ]
    }
   ],
   "source": [
    "from sklearn.ensemble import VotingClassifier\n",
    "\n",
    "eclf1 = VotingClassifier(estimators=models, voting='soft')\n",
    "\n",
    "#eclf1 = eclf1.fit(Xtrain, ytrain)\n",
    "\n",
    "ypred_vote = eclf1.predict(Xtest)"
   ]
  },
  {
   "cell_type": "code",
   "execution_count": 77,
   "metadata": {},
   "outputs": [
    {
     "name": "stdout",
     "output_type": "stream",
     "text": [
      "             precision    recall  f1-score   support\n",
      "\n",
      "          0       0.28      0.85      0.43        87\n",
      "          1       0.99      0.90      0.94      1843\n",
      "\n",
      "avg / total       0.96      0.90      0.92      1930\n",
      "\n",
      "             precision    recall  f1-score   support\n",
      "\n",
      "          0       0.87      0.39      0.54        87\n",
      "          1       0.97      1.00      0.98      1843\n",
      "\n",
      "avg / total       0.97      0.97      0.96      1930\n",
      "\n",
      "Valor de falso positivo:0.14942528735632185\n",
      "Cálculo de índices de avaliação:\n",
      "Precisão: 0.992216; Recall: 0.899078, F1: 0.943353\n",
      "Precisão CV:\n"
     ]
    },
    {
     "name": "stderr",
     "output_type": "stream",
     "text": [
      "/home/ubuntu/anaconda3/lib/python3.6/site-packages/matplotlib/font_manager.py:1297: UserWarning: findfont: Font family ['sans-serif'] not found. Falling back to DejaVu Sans\n",
      "  (prop.get_family(), self.defaultFamily[fontext]))\n"
     ]
    },
    {
     "name": "stdout",
     "output_type": "stream",
     "text": [
      "[0.94845361 0.96907216 0.90721649 0.94818653 0.94300518 0.95336788\n",
      " 0.92227979 0.94791667 0.93229167 0.953125  ]\n",
      "0.9424914979612913\n"
     ]
    },
    {
     "name": "stderr",
     "output_type": "stream",
     "text": [
      "/home/ubuntu/anaconda3/lib/python3.6/site-packages/matplotlib/font_manager.py:1297: UserWarning: findfont: Font family ['sans-serif'] not found. Falling back to DejaVu Sans\n",
      "  (prop.get_family(), self.defaultFamily[fontext]))\n"
     ]
    },
    {
     "data": {
      "image/png": "[encoded data removed]",
      "text/plain": [
       "<matplotlib.figure.Figure at 0x7ff24f391940>"
      ]
     },
     "metadata": {},
     "output_type": "display_data"
    },
    {
     "data": {
      "image/png": "[encoded data removed]",
      "text/plain": [
       "<matplotlib.figure.Figure at 0x7ff24f391e80>"
      ]
     },
     "metadata": {},
     "output_type": "display_data"
    },
    {
     "name": "stdout",
     "output_type": "stream",
     "text": [
      "0.6347752602266419\n",
      "Valor de falso positivo:0.6091954022988506\n",
      "Cálculo de índices de avaliação:\n",
      "Precisão: 0.971973; Recall: 0.997287, F1: 0.984467\n",
      "Precisão CV:\n",
      "[0.94845361 0.95360825 0.95876289 0.95336788 0.93782383 0.93264249\n",
      " 0.94300518 0.96354167 0.95833333 0.93229167]\n",
      "0.9481830787173049\n"
     ]
    },
    {
     "name": "stderr",
     "output_type": "stream",
     "text": [
      "/home/ubuntu/anaconda3/lib/python3.6/site-packages/matplotlib/font_manager.py:1297: UserWarning: findfont: Font family ['sans-serif'] not found. Falling back to DejaVu Sans\n",
      "  (prop.get_family(), self.defaultFamily[fontext]))\n"
     ]
    },
    {
     "data": {
      "image/png": "[encoded data removed]",
      "text/plain": [
       "<matplotlib.figure.Figure at 0x7ff24f385390>"
      ]
     },
     "metadata": {},
     "output_type": "display_data"
    },
    {
     "data": {
      "image/png": "[encoded data removed]",
      "text/plain": [
       "<matplotlib.figure.Figure at 0x7ff24f3a4470>"
      ]
     },
     "metadata": {},
     "output_type": "display_data"
    },
    {
     "name": "stdout",
     "output_type": "stream",
     "text": [
      "0.660748030759444\n"
     ]
    }
   ],
   "source": [
    "from sklearn.metrics import classification_report\n",
    "print(classification_report(ytest, ypred))\n",
    "print(classification_report(ytest, ypred_vote))\n",
    "\n",
    "evaluating(clf, ytest, ypred, Xtest)\n",
    "evaluating(clf, ytest, ypred_vote, Xtest)\n",
    "\n",
    "#curva ROC\n",
    "#fig = plt.figure()\n",
    "#y_probas = cross_val_predict(model, Xtest, ytest, cv=10, method=\"predict_proba\") \n",
    "#y_scores = y_probas[:, 1]   # score = proba of positive class \n",
    "\n",
    "#fpr, tpr, thresholds = roc_curve(ytest, np.array([0.1, 0.4, 0.35, 0.8]))\n",
    "\n",
    "#plot_roc_curve(fpr, tpr) \n",
    "#plt.show()\n",
    "#print(roc_auc_score(ytest, y_scores))\n"
   ]
  },
  {
   "cell_type": "code",
   "execution_count": null,
   "metadata": {
    "collapsed": true
   },
   "outputs": [],
   "source": [
    "#FIM"
   ]
  },
  {
   "cell_type": "code",
   "execution_count": null,
   "metadata": {
    "collapsed": true
   },
   "outputs": [],
   "source": [
    "#exemplo\n",
    "#https://pt.slideshare.net/PyData/python-resampling-65637486 \n",
    "#https://www.youtube.com/watch?v=-Z1PaqYKC1w"
   ]
  },
  {
   "cell_type": "code",
   "execution_count": null,
   "metadata": {
    "collapsed": true
   },
   "outputs": [],
   "source": [
    "from imblearn.ensemble import BalanceCascade\n",
    "\n",
    "RND_SEED = 0\n",
    "ratio = 'auto'\n",
    "estimator = RandomForestClassifier(random_state=RND_SEED)\n",
    "bc = BalanceCascade(ratio=ratio, random_state=RND_SEED,\n",
    "                    return_indices=False, estimator=estimator)\n",
    "X_resampled, y_resampled = bc.fit_sample(Xtrain, ytrain)"
   ]
  },
  {
   "cell_type": "code",
   "execution_count": 18,
   "metadata": {
    "collapsed": true
   },
   "outputs": [],
   "source": [
    "from sklearn.ensemble import AdaBoostClassifier\n",
    "\n",
    "ens = BalanceCascade(classifier='adaboost')\n",
    "X_train_res, y_train_res = ens.fit_sample(Xtrain, ytrain)\n",
    "y_pred_proba = np.zeros(len(ytest))\n",
    "\n",
    "for idx in range(len(y_train_res)): \n",
    "    clf = AdaBoostClassifier()\n",
    "    clf.fit(X_train_res[idx], y_train_res[idx]) \n",
    "    #y_pred_proba += zip(*clf.predict_proba(Xtest))[0]\n",
    "    y_pred_proba += next(zip(*clf.predict_proba(Xtest)))\n",
    "    \n",
    "    \n",
    "y_pred_proba = y_pred_proba/len(y_train_res)\n",
    "ypred = (y_pred_proba < 0.5).astype(int)\n",
    "\n"
   ]
  },
  {
   "cell_type": "code",
   "execution_count": 19,
   "metadata": {},
   "outputs": [
    {
     "name": "stdout",
     "output_type": "stream",
     "text": [
      "             precision    recall  f1-score   support\n",
      "\n",
      "          0       0.25      0.87      0.38        87\n",
      "          1       0.99      0.87      0.93      1843\n",
      "\n",
      "avg / total       0.96      0.87      0.91      1930\n",
      "\n",
      "Valor de falso positivo:0.12643678160919541\n",
      "Cálculo de índices de avaliação:\n",
      "Precisão: 0.993218; Recall: 0.874118, F1: 0.929870\n",
      "Precisão CV:\n"
     ]
    },
    {
     "name": "stderr",
     "output_type": "stream",
     "text": [
      "/home/ubuntu/anaconda3/lib/python3.6/site-packages/matplotlib/font_manager.py:1297: UserWarning: findfont: Font family ['sans-serif'] not found. Falling back to DejaVu Sans\n",
      "  (prop.get_family(), self.defaultFamily[fontext]))\n"
     ]
    },
    {
     "name": "stdout",
     "output_type": "stream",
     "text": [
      "[0.95876289 0.95876289 0.94845361 0.97409326 0.96373057 0.97409326\n",
      " 0.94818653 0.96354167 0.95833333 0.95833333]\n",
      "0.9606291341719638\n"
     ]
    },
    {
     "name": "stderr",
     "output_type": "stream",
     "text": [
      "/home/ubuntu/anaconda3/lib/python3.6/site-packages/matplotlib/font_manager.py:1297: UserWarning: findfont: Font family ['sans-serif'] not found. Falling back to DejaVu Sans\n",
      "  (prop.get_family(), self.defaultFamily[fontext]))\n"
     ]
    },
    {
     "data": {
      "image/png": "[encoded data removed]",
      "text/plain": [
       "<matplotlib.figure.Figure at 0x7fef53e86940>"
      ]
     },
     "metadata": {},
     "output_type": "display_data"
    },
    {
     "data": {
      "image/png": "[encoded data removed]",
      "text/plain": [
       "<matplotlib.figure.Figure at 0x7fef53e86f60>"
      ]
     },
     "metadata": {},
     "output_type": "display_data"
    },
    {
     "name": "stdout",
     "output_type": "stream",
     "text": [
      "0.8868224596329075\n"
     ]
    }
   ],
   "source": [
    "from sklearn.metrics import classification_report\n",
    "print(classification_report(ytest, ypred))\n",
    "evaluating(clf, ytest, ypred, Xtest)"
   ]
  },
  {
   "cell_type": "code",
   "execution_count": null,
   "metadata": {
    "collapsed": true
   },
   "outputs": [],
   "source": [
    "#FIM"
   ]
  },
  {
   "cell_type": "code",
   "execution_count": null,
   "metadata": {
    "collapsed": true
   },
   "outputs": [],
   "source": [
    "#https://amueller.github.io/COMS4995-s18/slides/aml-13-022818-resampling-imbalanced-data/#16"
   ]
  },
  {
   "cell_type": "code",
   "execution_count": 13,
   "metadata": {},
   "outputs": [
    {
     "name": "stdout",
     "output_type": "stream",
     "text": [
      "(5788, 151)\n",
      "(524, 151)\n",
      "[262 262]\n"
     ]
    }
   ],
   "source": [
    "from imblearn.under_sampling import RandomUnderSampler\n",
    "\n",
    "rus = RandomUnderSampler(replacement=False)\n",
    "X_train_subsample, y_train_subsample = rus.fit_sample(Xtrain, ytrain)\n",
    "\n",
    "print(Xtrain.shape)\n",
    "print(X_train_subsample.shape)\n",
    "print(np.bincount(y_train_subsample))"
   ]
  },
  {
   "cell_type": "code",
   "execution_count": 17,
   "metadata": {},
   "outputs": [
    {
     "data": {
      "text/plain": [
       "(0.9033623704716165, 0.9935203930343187)"
      ]
     },
     "execution_count": 17,
     "metadata": {},
     "output_type": "execute_result"
    }
   ],
   "source": [
    "from sklearn.linear_model import LogisticRegressionCV\n",
    "from imblearn.pipeline import make_pipeline as make_imb_pipeline\n",
    "from sklearn.model_selection import cross_validate\n",
    "\n",
    "undersample_pipe = make_imb_pipeline(RandomUnderSampler(), LogisticRegressionCV())\n",
    "scores = cross_validate(undersample_pipe,\n",
    "                        Xtrain, ytrain, cv=10, scoring=('roc_auc', 'average_precision'))\n",
    "scores['test_roc_auc'].mean(), scores['test_average_precision'].mean()"
   ]
  },
  {
   "cell_type": "code",
   "execution_count": 19,
   "metadata": {},
   "outputs": [
    {
     "data": {
      "text/plain": [
       "(0.908199693226523, 0.9935355217755678)"
      ]
     },
     "execution_count": 19,
     "metadata": {},
     "output_type": "execute_result"
    }
   ],
   "source": [
    "undersample_pipe_rf = make_imb_pipeline(RandomUnderSampler(),\n",
    "                                        RandomForestClassifier())\n",
    "scores = cross_validate(undersample_pipe_rf,\n",
    "                        Xtrain, ytrain, cv=10, scoring=('roc_auc', 'average_precision'))\n",
    "scores['test_roc_auc'].mean(), scores['test_average_precision'].mean()"
   ]
  },
  {
   "cell_type": "code",
   "execution_count": 21,
   "metadata": {},
   "outputs": [
    {
     "data": {
      "text/plain": [
       "(0.8927508232406416, 0.9915636423533091)"
      ]
     },
     "execution_count": 21,
     "metadata": {},
     "output_type": "execute_result"
    }
   ],
   "source": [
    "from sklearn.linear_model import LogisticRegression\n",
    "\n",
    "scores = cross_validate(LogisticRegression(class_weight='balanced'),\n",
    "                        Xtrain, ytrain, cv=10, scoring=('roc_auc', 'average_precision'))\n",
    "scores['test_roc_auc'].mean(), scores['test_average_precision'].mean()"
   ]
  },
  {
   "cell_type": "code",
   "execution_count": 22,
   "metadata": {},
   "outputs": [
    {
     "data": {
      "text/plain": [
       "(0.9145536993861842, 0.9932346792261978)"
      ]
     },
     "execution_count": 22,
     "metadata": {},
     "output_type": "execute_result"
    }
   ],
   "source": [
    "scores = cross_validate(RandomForestClassifier(n_estimators=100, class_weight='balanced'),\n",
    "                        Xtrain, ytrain, cv=10, scoring=('roc_auc', 'average_precision'))\n",
    "scores['test_roc_auc'].mean(), scores['test_average_precision'].mean()"
   ]
  },
  {
   "cell_type": "code",
   "execution_count": 23,
   "metadata": {},
   "outputs": [
    {
     "data": {
      "text/plain": [
       "(0.926862903945664, 0.9950539524064279)"
      ]
     },
     "execution_count": 23,
     "metadata": {},
     "output_type": "execute_result"
    }
   ],
   "source": [
    "from sklearn.tree import DecisionTreeClassifier\n",
    "from imblearn.ensemble import BalancedBaggingClassifier\n",
    "tree = DecisionTreeClassifier(max_features='auto')\n",
    "resampled_rf = BalancedBaggingClassifier(base_estimator=tree,\n",
    "                                         n_estimators=100, random_state=0)\n",
    "scores = cross_validate(resampled_rf,\n",
    "                        Xtrain, ytrain, cv=10, scoring=('roc_auc', 'average_precision'))\n",
    "scores['test_roc_auc'].mean(), scores['test_average_precision'].mean()"
   ]
  },
  {
   "cell_type": "code",
   "execution_count": 32,
   "metadata": {},
   "outputs": [
    {
     "name": "stdout",
     "output_type": "stream",
     "text": [
      "             precision    recall  f1-score   support\n",
      "\n",
      "          0       0.31      0.86      0.45        87\n",
      "          1       0.99      0.91      0.95      1843\n",
      "\n",
      "avg / total       0.96      0.91      0.93      1930\n",
      "\n",
      "Valor de falso positivo:0.13793103448275862\n",
      "Cálculo de índices de avaliação:\n",
      "Precisão: 0.992883; Recall: 0.908302, F1: 0.948711\n",
      "Precisão CV:\n"
     ]
    },
    {
     "name": "stderr",
     "output_type": "stream",
     "text": [
      "/home/ubuntu/anaconda3/lib/python3.6/site-packages/matplotlib/font_manager.py:1297: UserWarning: findfont: Font family ['sans-serif'] not found. Falling back to DejaVu Sans\n",
      "  (prop.get_family(), self.defaultFamily[fontext]))\n"
     ]
    },
    {
     "name": "stdout",
     "output_type": "stream",
     "text": [
      "[0.93298969 0.87113402 0.87113402 0.9015544  0.89119171 0.9119171\n",
      " 0.89637306 0.93229167 0.90104167 0.88020833]\n",
      "0.8989835668055483\n"
     ]
    },
    {
     "name": "stderr",
     "output_type": "stream",
     "text": [
      "/home/ubuntu/anaconda3/lib/python3.6/site-packages/matplotlib/font_manager.py:1297: UserWarning: findfont: Font family ['sans-serif'] not found. Falling back to DejaVu Sans\n",
      "  (prop.get_family(), self.defaultFamily[fontext]))\n"
     ]
    },
    {
     "data": {
      "image/png": "[encoded data removed]",
      "text/plain": [
       "<matplotlib.figure.Figure at 0x7f0ebc1861d0>"
      ]
     },
     "metadata": {},
     "output_type": "display_data"
    },
    {
     "data": {
      "image/png": "[encoded data removed]",
      "text/plain": [
       "<matplotlib.figure.Figure at 0x7f0ebc1831d0>"
      ]
     },
     "metadata": {},
     "output_type": "display_data"
    },
    {
     "name": "stdout",
     "output_type": "stream",
     "text": [
      "0.9270461079823625\n"
     ]
    }
   ],
   "source": [
    "#AQUIIIIIIIIII\n",
    "#meus testes\n",
    "ensemble = resampled_rf.fit(Xtrain, ytrain)\n",
    "\n",
    "ypred_ensemble = ensemble.predict(Xtest)\n",
    "print(classification_report(ytest, ypred_ensemble))\n",
    "\n",
    "evaluating(ensemble, ytest, ypred_ensemble, Xtest)"
   ]
  },
  {
   "cell_type": "code",
   "execution_count": null,
   "metadata": {
    "collapsed": true
   },
   "outputs": [],
   "source": [
    "#FIM DE TESTE"
   ]
  },
  {
   "cell_type": "code",
   "execution_count": 24,
   "metadata": {
    "collapsed": true
   },
   "outputs": [],
   "source": [
    "from imblearn.under_sampling import EditedNearestNeighbours\n",
    "enn = EditedNearestNeighbours(n_neighbors=5)\n",
    "X_train_enn, y_train_enn = enn.fit_sample(Xtrain, ytrain)\n",
    "enn_mode = EditedNearestNeighbours(kind_sel=\"mode\", n_neighbors=5)\n",
    "X_train_enn_mode, y_train_enn_mode = enn_mode.fit_sample(Xtrain, ytrain)"
   ]
  },
  {
   "cell_type": "code",
   "execution_count": 26,
   "metadata": {},
   "outputs": [
    {
     "data": {
      "text/plain": [
       "0.9080742611665837"
      ]
     },
     "execution_count": 26,
     "metadata": {},
     "output_type": "execute_result"
    }
   ],
   "source": [
    "enn_pipe = make_imb_pipeline(EditedNearestNeighbours(n_neighbors=5),\n",
    "                             LogisticRegression())\n",
    "scores = cross_val_score(enn_pipe, Xtrain, ytrain, cv=10, scoring='roc_auc')\n",
    "np.mean(scores)\n",
    "\n"
   ]
  },
  {
   "cell_type": "code",
   "execution_count": 28,
   "metadata": {},
   "outputs": [
    {
     "data": {
      "text/plain": [
       "0.9200925147540447"
      ]
     },
     "execution_count": 28,
     "metadata": {},
     "output_type": "execute_result"
    }
   ],
   "source": [
    "enn_pipe_rf = make_imb_pipeline(EditedNearestNeighbours(n_neighbors= 5),\n",
    "                                  RandomForestClassifier(n_estimators=100))\n",
    "scores = cross_val_score(enn_pipe_rf, Xtrain, ytrain, cv=10, scoring='roc_auc')\n",
    "np.mean(scores)"
   ]
  },
  {
   "cell_type": "code",
   "execution_count": 30,
   "metadata": {},
   "outputs": [
    {
     "name": "stdout",
     "output_type": "stream",
     "text": [
      "(904, 151)\n",
      "[262 642]\n"
     ]
    }
   ],
   "source": [
    "from imblearn.under_sampling import CondensedNearestNeighbour\n",
    "\n",
    "cnn = CondensedNearestNeighbour()\n",
    "X_train_cnn, y_train_cnn = cnn.fit_sample(Xtrain, ytrain)\n",
    "print(X_train_cnn.shape)\n",
    "print(np.bincount(y_train_cnn))"
   ]
  },
  {
   "cell_type": "code",
   "execution_count": 31,
   "metadata": {},
   "outputs": [
    {
     "ename": "KeyboardInterrupt",
     "evalue": "",
     "output_type": "error",
     "traceback": [
      "\u001b[0;31m---------------------------------------------------------------------------\u001b[0m",
      "\u001b[0;31mKeyboardInterrupt\u001b[0m                         Traceback (most recent call last)",
      "\u001b[0;32m<ipython-input-31-831bb5f9c296>\u001b[0m in \u001b[0;36m<module>\u001b[0;34m()\u001b[0m\n\u001b[1;32m      1\u001b[0m \u001b[0mcnn_pipe\u001b[0m \u001b[0;34m=\u001b[0m \u001b[0mmake_imb_pipeline\u001b[0m\u001b[0;34m(\u001b[0m\u001b[0mCondensedNearestNeighbour\u001b[0m\u001b[0;34m(\u001b[0m\u001b[0;34m)\u001b[0m\u001b[0;34m,\u001b[0m \u001b[0mLogisticRegression\u001b[0m\u001b[0;34m(\u001b[0m\u001b[0;34m)\u001b[0m\u001b[0;34m)\u001b[0m\u001b[0;34m\u001b[0m\u001b[0m\n\u001b[0;32m----> 2\u001b[0;31m \u001b[0mscores\u001b[0m \u001b[0;34m=\u001b[0m \u001b[0mcross_val_score\u001b[0m\u001b[0;34m(\u001b[0m\u001b[0mcnn_pipe\u001b[0m\u001b[0;34m,\u001b[0m \u001b[0mXtrain\u001b[0m\u001b[0;34m,\u001b[0m \u001b[0mytrain\u001b[0m\u001b[0;34m,\u001b[0m \u001b[0mcv\u001b[0m\u001b[0;34m=\u001b[0m\u001b[0;36m10\u001b[0m\u001b[0;34m,\u001b[0m \u001b[0mscoring\u001b[0m\u001b[0;34m=\u001b[0m\u001b[0;34m'roc_auc'\u001b[0m\u001b[0;34m)\u001b[0m\u001b[0;34m\u001b[0m\u001b[0m\n\u001b[0m\u001b[1;32m      3\u001b[0m \u001b[0mnp\u001b[0m\u001b[0;34m.\u001b[0m\u001b[0mmean\u001b[0m\u001b[0;34m(\u001b[0m\u001b[0mscores\u001b[0m\u001b[0;34m)\u001b[0m\u001b[0;34m\u001b[0m\u001b[0m\n",
      "\u001b[0;32m/home/ubuntu/anaconda3/lib/python3.6/site-packages/sklearn/model_selection/_validation.py\u001b[0m in \u001b[0;36mcross_val_score\u001b[0;34m(estimator, X, y, groups, scoring, cv, n_jobs, verbose, fit_params, pre_dispatch)\u001b[0m\n\u001b[1;32m    340\u001b[0m                                 \u001b[0mn_jobs\u001b[0m\u001b[0;34m=\u001b[0m\u001b[0mn_jobs\u001b[0m\u001b[0;34m,\u001b[0m \u001b[0mverbose\u001b[0m\u001b[0;34m=\u001b[0m\u001b[0mverbose\u001b[0m\u001b[0;34m,\u001b[0m\u001b[0;34m\u001b[0m\u001b[0m\n\u001b[1;32m    341\u001b[0m                                 \u001b[0mfit_params\u001b[0m\u001b[0;34m=\u001b[0m\u001b[0mfit_params\u001b[0m\u001b[0;34m,\u001b[0m\u001b[0;34m\u001b[0m\u001b[0m\n\u001b[0;32m--> 342\u001b[0;31m                                 pre_dispatch=pre_dispatch)\n\u001b[0m\u001b[1;32m    343\u001b[0m     \u001b[0;32mreturn\u001b[0m \u001b[0mcv_results\u001b[0m\u001b[0;34m[\u001b[0m\u001b[0;34m'test_score'\u001b[0m\u001b[0;34m]\u001b[0m\u001b[0;34m\u001b[0m\u001b[0m\n\u001b[1;32m    344\u001b[0m \u001b[0;34m\u001b[0m\u001b[0m\n",
      "\u001b[0;32m/home/ubuntu/anaconda3/lib/python3.6/site-packages/sklearn/model_selection/_validation.py\u001b[0m in \u001b[0;36mcross_validate\u001b[0;34m(estimator, X, y, groups, scoring, cv, n_jobs, verbose, fit_params, pre_dispatch, return_train_score)\u001b[0m\n\u001b[1;32m    204\u001b[0m             \u001b[0mfit_params\u001b[0m\u001b[0;34m,\u001b[0m \u001b[0mreturn_train_score\u001b[0m\u001b[0;34m=\u001b[0m\u001b[0mreturn_train_score\u001b[0m\u001b[0;34m,\u001b[0m\u001b[0;34m\u001b[0m\u001b[0m\n\u001b[1;32m    205\u001b[0m             return_times=True)\n\u001b[0;32m--> 206\u001b[0;31m         for train, test in cv.split(X, y, groups))\n\u001b[0m\u001b[1;32m    207\u001b[0m \u001b[0;34m\u001b[0m\u001b[0m\n\u001b[1;32m    208\u001b[0m     \u001b[0;32mif\u001b[0m \u001b[0mreturn_train_score\u001b[0m\u001b[0;34m:\u001b[0m\u001b[0;34m\u001b[0m\u001b[0m\n",
      "\u001b[0;32m/home/ubuntu/anaconda3/lib/python3.6/site-packages/sklearn/externals/joblib/parallel.py\u001b[0m in \u001b[0;36m__call__\u001b[0;34m(self, iterable)\u001b[0m\n\u001b[1;32m    777\u001b[0m             \u001b[0;31m# was dispatched. In particular this covers the edge\u001b[0m\u001b[0;34m\u001b[0m\u001b[0;34m\u001b[0m\u001b[0m\n\u001b[1;32m    778\u001b[0m             \u001b[0;31m# case of Parallel used with an exhausted iterator.\u001b[0m\u001b[0;34m\u001b[0m\u001b[0;34m\u001b[0m\u001b[0m\n\u001b[0;32m--> 779\u001b[0;31m             \u001b[0;32mwhile\u001b[0m \u001b[0mself\u001b[0m\u001b[0;34m.\u001b[0m\u001b[0mdispatch_one_batch\u001b[0m\u001b[0;34m(\u001b[0m\u001b[0miterator\u001b[0m\u001b[0;34m)\u001b[0m\u001b[0;34m:\u001b[0m\u001b[0;34m\u001b[0m\u001b[0m\n\u001b[0m\u001b[1;32m    780\u001b[0m                 \u001b[0mself\u001b[0m\u001b[0;34m.\u001b[0m\u001b[0m_iterating\u001b[0m \u001b[0;34m=\u001b[0m \u001b[0;32mTrue\u001b[0m\u001b[0;34m\u001b[0m\u001b[0m\n\u001b[1;32m    781\u001b[0m             \u001b[0;32melse\u001b[0m\u001b[0;34m:\u001b[0m\u001b[0;34m\u001b[0m\u001b[0m\n",
      "\u001b[0;32m/home/ubuntu/anaconda3/lib/python3.6/site-packages/sklearn/externals/joblib/parallel.py\u001b[0m in \u001b[0;36mdispatch_one_batch\u001b[0;34m(self, iterator)\u001b[0m\n\u001b[1;32m    623\u001b[0m                 \u001b[0;32mreturn\u001b[0m \u001b[0;32mFalse\u001b[0m\u001b[0;34m\u001b[0m\u001b[0m\n\u001b[1;32m    624\u001b[0m             \u001b[0;32melse\u001b[0m\u001b[0;34m:\u001b[0m\u001b[0;34m\u001b[0m\u001b[0m\n\u001b[0;32m--> 625\u001b[0;31m                 \u001b[0mself\u001b[0m\u001b[0;34m.\u001b[0m\u001b[0m_dispatch\u001b[0m\u001b[0;34m(\u001b[0m\u001b[0mtasks\u001b[0m\u001b[0;34m)\u001b[0m\u001b[0;34m\u001b[0m\u001b[0m\n\u001b[0m\u001b[1;32m    626\u001b[0m                 \u001b[0;32mreturn\u001b[0m \u001b[0;32mTrue\u001b[0m\u001b[0;34m\u001b[0m\u001b[0m\n\u001b[1;32m    627\u001b[0m \u001b[0;34m\u001b[0m\u001b[0m\n",
      "\u001b[0;32m/home/ubuntu/anaconda3/lib/python3.6/site-packages/sklearn/externals/joblib/parallel.py\u001b[0m in \u001b[0;36m_dispatch\u001b[0;34m(self, batch)\u001b[0m\n\u001b[1;32m    586\u001b[0m         \u001b[0mdispatch_timestamp\u001b[0m \u001b[0;34m=\u001b[0m \u001b[0mtime\u001b[0m\u001b[0;34m.\u001b[0m\u001b[0mtime\u001b[0m\u001b[0;34m(\u001b[0m\u001b[0;34m)\u001b[0m\u001b[0;34m\u001b[0m\u001b[0m\n\u001b[1;32m    587\u001b[0m         \u001b[0mcb\u001b[0m \u001b[0;34m=\u001b[0m \u001b[0mBatchCompletionCallBack\u001b[0m\u001b[0;34m(\u001b[0m\u001b[0mdispatch_timestamp\u001b[0m\u001b[0;34m,\u001b[0m \u001b[0mlen\u001b[0m\u001b[0;34m(\u001b[0m\u001b[0mbatch\u001b[0m\u001b[0;34m)\u001b[0m\u001b[0;34m,\u001b[0m \u001b[0mself\u001b[0m\u001b[0;34m)\u001b[0m\u001b[0;34m\u001b[0m\u001b[0m\n\u001b[0;32m--> 588\u001b[0;31m         \u001b[0mjob\u001b[0m \u001b[0;34m=\u001b[0m \u001b[0mself\u001b[0m\u001b[0;34m.\u001b[0m\u001b[0m_backend\u001b[0m\u001b[0;34m.\u001b[0m\u001b[0mapply_async\u001b[0m\u001b[0;34m(\u001b[0m\u001b[0mbatch\u001b[0m\u001b[0;34m,\u001b[0m \u001b[0mcallback\u001b[0m\u001b[0;34m=\u001b[0m\u001b[0mcb\u001b[0m\u001b[0;34m)\u001b[0m\u001b[0;34m\u001b[0m\u001b[0m\n\u001b[0m\u001b[1;32m    589\u001b[0m         \u001b[0mself\u001b[0m\u001b[0;34m.\u001b[0m\u001b[0m_jobs\u001b[0m\u001b[0;34m.\u001b[0m\u001b[0mappend\u001b[0m\u001b[0;34m(\u001b[0m\u001b[0mjob\u001b[0m\u001b[0;34m)\u001b[0m\u001b[0;34m\u001b[0m\u001b[0m\n\u001b[1;32m    590\u001b[0m \u001b[0;34m\u001b[0m\u001b[0m\n",
      "\u001b[0;32m/home/ubuntu/anaconda3/lib/python3.6/site-packages/sklearn/externals/joblib/_parallel_backends.py\u001b[0m in \u001b[0;36mapply_async\u001b[0;34m(self, func, callback)\u001b[0m\n\u001b[1;32m    109\u001b[0m     \u001b[0;32mdef\u001b[0m \u001b[0mapply_async\u001b[0m\u001b[0;34m(\u001b[0m\u001b[0mself\u001b[0m\u001b[0;34m,\u001b[0m \u001b[0mfunc\u001b[0m\u001b[0;34m,\u001b[0m \u001b[0mcallback\u001b[0m\u001b[0;34m=\u001b[0m\u001b[0;32mNone\u001b[0m\u001b[0;34m)\u001b[0m\u001b[0;34m:\u001b[0m\u001b[0;34m\u001b[0m\u001b[0m\n\u001b[1;32m    110\u001b[0m         \u001b[0;34m\"\"\"Schedule a func to be run\"\"\"\u001b[0m\u001b[0;34m\u001b[0m\u001b[0m\n\u001b[0;32m--> 111\u001b[0;31m         \u001b[0mresult\u001b[0m \u001b[0;34m=\u001b[0m \u001b[0mImmediateResult\u001b[0m\u001b[0;34m(\u001b[0m\u001b[0mfunc\u001b[0m\u001b[0;34m)\u001b[0m\u001b[0;34m\u001b[0m\u001b[0m\n\u001b[0m\u001b[1;32m    112\u001b[0m         \u001b[0;32mif\u001b[0m \u001b[0mcallback\u001b[0m\u001b[0;34m:\u001b[0m\u001b[0;34m\u001b[0m\u001b[0m\n\u001b[1;32m    113\u001b[0m             \u001b[0mcallback\u001b[0m\u001b[0;34m(\u001b[0m\u001b[0mresult\u001b[0m\u001b[0;34m)\u001b[0m\u001b[0;34m\u001b[0m\u001b[0m\n",
      "\u001b[0;32m/home/ubuntu/anaconda3/lib/python3.6/site-packages/sklearn/externals/joblib/_parallel_backends.py\u001b[0m in \u001b[0;36m__init__\u001b[0;34m(self, batch)\u001b[0m\n\u001b[1;32m    330\u001b[0m         \u001b[0;31m# Don't delay the application, to avoid keeping the input\u001b[0m\u001b[0;34m\u001b[0m\u001b[0;34m\u001b[0m\u001b[0m\n\u001b[1;32m    331\u001b[0m         \u001b[0;31m# arguments in memory\u001b[0m\u001b[0;34m\u001b[0m\u001b[0;34m\u001b[0m\u001b[0m\n\u001b[0;32m--> 332\u001b[0;31m         \u001b[0mself\u001b[0m\u001b[0;34m.\u001b[0m\u001b[0mresults\u001b[0m \u001b[0;34m=\u001b[0m \u001b[0mbatch\u001b[0m\u001b[0;34m(\u001b[0m\u001b[0;34m)\u001b[0m\u001b[0;34m\u001b[0m\u001b[0m\n\u001b[0m\u001b[1;32m    333\u001b[0m \u001b[0;34m\u001b[0m\u001b[0m\n\u001b[1;32m    334\u001b[0m     \u001b[0;32mdef\u001b[0m \u001b[0mget\u001b[0m\u001b[0;34m(\u001b[0m\u001b[0mself\u001b[0m\u001b[0;34m)\u001b[0m\u001b[0;34m:\u001b[0m\u001b[0;34m\u001b[0m\u001b[0m\n",
      "\u001b[0;32m/home/ubuntu/anaconda3/lib/python3.6/site-packages/sklearn/externals/joblib/parallel.py\u001b[0m in \u001b[0;36m__call__\u001b[0;34m(self)\u001b[0m\n\u001b[1;32m    129\u001b[0m \u001b[0;34m\u001b[0m\u001b[0m\n\u001b[1;32m    130\u001b[0m     \u001b[0;32mdef\u001b[0m \u001b[0m__call__\u001b[0m\u001b[0;34m(\u001b[0m\u001b[0mself\u001b[0m\u001b[0;34m)\u001b[0m\u001b[0;34m:\u001b[0m\u001b[0;34m\u001b[0m\u001b[0m\n\u001b[0;32m--> 131\u001b[0;31m         \u001b[0;32mreturn\u001b[0m \u001b[0;34m[\u001b[0m\u001b[0mfunc\u001b[0m\u001b[0;34m(\u001b[0m\u001b[0;34m*\u001b[0m\u001b[0margs\u001b[0m\u001b[0;34m,\u001b[0m \u001b[0;34m**\u001b[0m\u001b[0mkwargs\u001b[0m\u001b[0;34m)\u001b[0m \u001b[0;32mfor\u001b[0m \u001b[0mfunc\u001b[0m\u001b[0;34m,\u001b[0m \u001b[0margs\u001b[0m\u001b[0;34m,\u001b[0m \u001b[0mkwargs\u001b[0m \u001b[0;32min\u001b[0m \u001b[0mself\u001b[0m\u001b[0;34m.\u001b[0m\u001b[0mitems\u001b[0m\u001b[0;34m]\u001b[0m\u001b[0;34m\u001b[0m\u001b[0m\n\u001b[0m\u001b[1;32m    132\u001b[0m \u001b[0;34m\u001b[0m\u001b[0m\n\u001b[1;32m    133\u001b[0m     \u001b[0;32mdef\u001b[0m \u001b[0m__len__\u001b[0m\u001b[0;34m(\u001b[0m\u001b[0mself\u001b[0m\u001b[0;34m)\u001b[0m\u001b[0;34m:\u001b[0m\u001b[0;34m\u001b[0m\u001b[0m\n",
      "\u001b[0;32m/home/ubuntu/anaconda3/lib/python3.6/site-packages/sklearn/externals/joblib/parallel.py\u001b[0m in \u001b[0;36m<listcomp>\u001b[0;34m(.0)\u001b[0m\n\u001b[1;32m    129\u001b[0m \u001b[0;34m\u001b[0m\u001b[0m\n\u001b[1;32m    130\u001b[0m     \u001b[0;32mdef\u001b[0m \u001b[0m__call__\u001b[0m\u001b[0;34m(\u001b[0m\u001b[0mself\u001b[0m\u001b[0;34m)\u001b[0m\u001b[0;34m:\u001b[0m\u001b[0;34m\u001b[0m\u001b[0m\n\u001b[0;32m--> 131\u001b[0;31m         \u001b[0;32mreturn\u001b[0m \u001b[0;34m[\u001b[0m\u001b[0mfunc\u001b[0m\u001b[0;34m(\u001b[0m\u001b[0;34m*\u001b[0m\u001b[0margs\u001b[0m\u001b[0;34m,\u001b[0m \u001b[0;34m**\u001b[0m\u001b[0mkwargs\u001b[0m\u001b[0;34m)\u001b[0m \u001b[0;32mfor\u001b[0m \u001b[0mfunc\u001b[0m\u001b[0;34m,\u001b[0m \u001b[0margs\u001b[0m\u001b[0;34m,\u001b[0m \u001b[0mkwargs\u001b[0m \u001b[0;32min\u001b[0m \u001b[0mself\u001b[0m\u001b[0;34m.\u001b[0m\u001b[0mitems\u001b[0m\u001b[0;34m]\u001b[0m\u001b[0;34m\u001b[0m\u001b[0m\n\u001b[0m\u001b[1;32m    132\u001b[0m \u001b[0;34m\u001b[0m\u001b[0m\n\u001b[1;32m    133\u001b[0m     \u001b[0;32mdef\u001b[0m \u001b[0m__len__\u001b[0m\u001b[0;34m(\u001b[0m\u001b[0mself\u001b[0m\u001b[0;34m)\u001b[0m\u001b[0;34m:\u001b[0m\u001b[0;34m\u001b[0m\u001b[0m\n",
      "\u001b[0;32m/home/ubuntu/anaconda3/lib/python3.6/site-packages/sklearn/model_selection/_validation.py\u001b[0m in \u001b[0;36m_fit_and_score\u001b[0;34m(estimator, X, y, scorer, train, test, verbose, parameters, fit_params, return_train_score, return_parameters, return_n_test_samples, return_times, error_score)\u001b[0m\n\u001b[1;32m    456\u001b[0m             \u001b[0mestimator\u001b[0m\u001b[0;34m.\u001b[0m\u001b[0mfit\u001b[0m\u001b[0;34m(\u001b[0m\u001b[0mX_train\u001b[0m\u001b[0;34m,\u001b[0m \u001b[0;34m**\u001b[0m\u001b[0mfit_params\u001b[0m\u001b[0;34m)\u001b[0m\u001b[0;34m\u001b[0m\u001b[0m\n\u001b[1;32m    457\u001b[0m         \u001b[0;32melse\u001b[0m\u001b[0;34m:\u001b[0m\u001b[0;34m\u001b[0m\u001b[0m\n\u001b[0;32m--> 458\u001b[0;31m             \u001b[0mestimator\u001b[0m\u001b[0;34m.\u001b[0m\u001b[0mfit\u001b[0m\u001b[0;34m(\u001b[0m\u001b[0mX_train\u001b[0m\u001b[0;34m,\u001b[0m \u001b[0my_train\u001b[0m\u001b[0;34m,\u001b[0m \u001b[0;34m**\u001b[0m\u001b[0mfit_params\u001b[0m\u001b[0;34m)\u001b[0m\u001b[0;34m\u001b[0m\u001b[0m\n\u001b[0m\u001b[1;32m    459\u001b[0m \u001b[0;34m\u001b[0m\u001b[0m\n\u001b[1;32m    460\u001b[0m     \u001b[0;32mexcept\u001b[0m \u001b[0mException\u001b[0m \u001b[0;32mas\u001b[0m \u001b[0me\u001b[0m\u001b[0;34m:\u001b[0m\u001b[0;34m\u001b[0m\u001b[0m\n",
      "\u001b[0;32m/home/ubuntu/anaconda3/lib/python3.6/site-packages/imblearn/pipeline.py\u001b[0m in \u001b[0;36mfit\u001b[0;34m(self, X, y, **fit_params)\u001b[0m\n\u001b[1;32m    240\u001b[0m \u001b[0;34m\u001b[0m\u001b[0m\n\u001b[1;32m    241\u001b[0m         \"\"\"\n\u001b[0;32m--> 242\u001b[0;31m         \u001b[0mXt\u001b[0m\u001b[0;34m,\u001b[0m \u001b[0myt\u001b[0m\u001b[0;34m,\u001b[0m \u001b[0mfit_params\u001b[0m \u001b[0;34m=\u001b[0m \u001b[0mself\u001b[0m\u001b[0;34m.\u001b[0m\u001b[0m_fit\u001b[0m\u001b[0;34m(\u001b[0m\u001b[0mX\u001b[0m\u001b[0;34m,\u001b[0m \u001b[0my\u001b[0m\u001b[0;34m,\u001b[0m \u001b[0;34m**\u001b[0m\u001b[0mfit_params\u001b[0m\u001b[0;34m)\u001b[0m\u001b[0;34m\u001b[0m\u001b[0m\n\u001b[0m\u001b[1;32m    243\u001b[0m         \u001b[0;32mif\u001b[0m \u001b[0mself\u001b[0m\u001b[0;34m.\u001b[0m\u001b[0m_final_estimator\u001b[0m \u001b[0;32mis\u001b[0m \u001b[0;32mnot\u001b[0m \u001b[0;32mNone\u001b[0m\u001b[0;34m:\u001b[0m\u001b[0;34m\u001b[0m\u001b[0m\n\u001b[1;32m    244\u001b[0m             \u001b[0mself\u001b[0m\u001b[0;34m.\u001b[0m\u001b[0m_final_estimator\u001b[0m\u001b[0;34m.\u001b[0m\u001b[0mfit\u001b[0m\u001b[0;34m(\u001b[0m\u001b[0mXt\u001b[0m\u001b[0;34m,\u001b[0m \u001b[0myt\u001b[0m\u001b[0;34m,\u001b[0m \u001b[0;34m**\u001b[0m\u001b[0mfit_params\u001b[0m\u001b[0;34m)\u001b[0m\u001b[0;34m\u001b[0m\u001b[0m\n",
      "\u001b[0;32m/home/ubuntu/anaconda3/lib/python3.6/site-packages/imblearn/pipeline.py\u001b[0m in \u001b[0;36m_fit\u001b[0;34m(self, X, y, **fit_params)\u001b[0m\n\u001b[1;32m    203\u001b[0m                     Xt, yt, fitted_transformer = fit_sample_one_cached(\n\u001b[1;32m    204\u001b[0m                         \u001b[0mcloned_transformer\u001b[0m\u001b[0;34m,\u001b[0m \u001b[0mXt\u001b[0m\u001b[0;34m,\u001b[0m \u001b[0myt\u001b[0m\u001b[0;34m,\u001b[0m\u001b[0;34m\u001b[0m\u001b[0m\n\u001b[0;32m--> 205\u001b[0;31m                         **fit_params_steps[name])\n\u001b[0m\u001b[1;32m    206\u001b[0m                 \u001b[0;31m# Replace the transformer of the step with the fitted\u001b[0m\u001b[0;34m\u001b[0m\u001b[0;34m\u001b[0m\u001b[0m\n\u001b[1;32m    207\u001b[0m                 \u001b[0;31m# transformer. This is necessary when loading the transformer\u001b[0m\u001b[0;34m\u001b[0m\u001b[0;34m\u001b[0m\u001b[0m\n",
      "\u001b[0;32m/home/ubuntu/anaconda3/lib/python3.6/site-packages/sklearn/externals/joblib/memory.py\u001b[0m in \u001b[0;36m__call__\u001b[0;34m(self, *args, **kwargs)\u001b[0m\n\u001b[1;32m    360\u001b[0m \u001b[0;34m\u001b[0m\u001b[0m\n\u001b[1;32m    361\u001b[0m     \u001b[0;32mdef\u001b[0m \u001b[0m__call__\u001b[0m\u001b[0;34m(\u001b[0m\u001b[0mself\u001b[0m\u001b[0;34m,\u001b[0m \u001b[0;34m*\u001b[0m\u001b[0margs\u001b[0m\u001b[0;34m,\u001b[0m \u001b[0;34m**\u001b[0m\u001b[0mkwargs\u001b[0m\u001b[0;34m)\u001b[0m\u001b[0;34m:\u001b[0m\u001b[0;34m\u001b[0m\u001b[0m\n\u001b[0;32m--> 362\u001b[0;31m         \u001b[0;32mreturn\u001b[0m \u001b[0mself\u001b[0m\u001b[0;34m.\u001b[0m\u001b[0mfunc\u001b[0m\u001b[0;34m(\u001b[0m\u001b[0;34m*\u001b[0m\u001b[0margs\u001b[0m\u001b[0;34m,\u001b[0m \u001b[0;34m**\u001b[0m\u001b[0mkwargs\u001b[0m\u001b[0;34m)\u001b[0m\u001b[0;34m\u001b[0m\u001b[0m\n\u001b[0m\u001b[1;32m    363\u001b[0m \u001b[0;34m\u001b[0m\u001b[0m\n\u001b[1;32m    364\u001b[0m     \u001b[0;32mdef\u001b[0m \u001b[0mcall_and_shelve\u001b[0m\u001b[0;34m(\u001b[0m\u001b[0mself\u001b[0m\u001b[0;34m,\u001b[0m \u001b[0;34m*\u001b[0m\u001b[0margs\u001b[0m\u001b[0;34m,\u001b[0m \u001b[0;34m**\u001b[0m\u001b[0mkwargs\u001b[0m\u001b[0;34m)\u001b[0m\u001b[0;34m:\u001b[0m\u001b[0;34m\u001b[0m\u001b[0m\n",
      "\u001b[0;32m/home/ubuntu/anaconda3/lib/python3.6/site-packages/imblearn/pipeline.py\u001b[0m in \u001b[0;36m_fit_sample_one\u001b[0;34m(sampler, X, y, **fit_params)\u001b[0m\n\u001b[1;32m    601\u001b[0m \u001b[0;34m\u001b[0m\u001b[0m\n\u001b[1;32m    602\u001b[0m \u001b[0;32mdef\u001b[0m \u001b[0m_fit_sample_one\u001b[0m\u001b[0;34m(\u001b[0m\u001b[0msampler\u001b[0m\u001b[0;34m,\u001b[0m \u001b[0mX\u001b[0m\u001b[0;34m,\u001b[0m \u001b[0my\u001b[0m\u001b[0;34m,\u001b[0m \u001b[0;34m**\u001b[0m\u001b[0mfit_params\u001b[0m\u001b[0;34m)\u001b[0m\u001b[0;34m:\u001b[0m\u001b[0;34m\u001b[0m\u001b[0m\n\u001b[0;32m--> 603\u001b[0;31m     \u001b[0mX_res\u001b[0m\u001b[0;34m,\u001b[0m \u001b[0my_res\u001b[0m \u001b[0;34m=\u001b[0m \u001b[0msampler\u001b[0m\u001b[0;34m.\u001b[0m\u001b[0mfit_sample\u001b[0m\u001b[0;34m(\u001b[0m\u001b[0mX\u001b[0m\u001b[0;34m,\u001b[0m \u001b[0my\u001b[0m\u001b[0;34m,\u001b[0m \u001b[0;34m**\u001b[0m\u001b[0mfit_params\u001b[0m\u001b[0;34m)\u001b[0m\u001b[0;34m\u001b[0m\u001b[0m\n\u001b[0m\u001b[1;32m    604\u001b[0m \u001b[0;34m\u001b[0m\u001b[0m\n\u001b[1;32m    605\u001b[0m     \u001b[0;32mreturn\u001b[0m \u001b[0mX_res\u001b[0m\u001b[0;34m,\u001b[0m \u001b[0my_res\u001b[0m\u001b[0;34m,\u001b[0m \u001b[0msampler\u001b[0m\u001b[0;34m\u001b[0m\u001b[0m\n",
      "\u001b[0;32m/home/ubuntu/anaconda3/lib/python3.6/site-packages/imblearn/base.py\u001b[0m in \u001b[0;36mfit_sample\u001b[0;34m(self, X, y)\u001b[0m\n\u001b[1;32m     86\u001b[0m         \"\"\"\n\u001b[1;32m     87\u001b[0m \u001b[0;34m\u001b[0m\u001b[0m\n\u001b[0;32m---> 88\u001b[0;31m         \u001b[0;32mreturn\u001b[0m \u001b[0mself\u001b[0m\u001b[0;34m.\u001b[0m\u001b[0mfit\u001b[0m\u001b[0;34m(\u001b[0m\u001b[0mX\u001b[0m\u001b[0;34m,\u001b[0m \u001b[0my\u001b[0m\u001b[0;34m)\u001b[0m\u001b[0;34m.\u001b[0m\u001b[0msample\u001b[0m\u001b[0;34m(\u001b[0m\u001b[0mX\u001b[0m\u001b[0;34m,\u001b[0m \u001b[0my\u001b[0m\u001b[0;34m)\u001b[0m\u001b[0;34m\u001b[0m\u001b[0m\n\u001b[0m\u001b[1;32m     89\u001b[0m \u001b[0;34m\u001b[0m\u001b[0m\n\u001b[1;32m     90\u001b[0m     \u001b[0;34m@\u001b[0m\u001b[0mabstractmethod\u001b[0m\u001b[0;34m\u001b[0m\u001b[0m\n",
      "\u001b[0;32m/home/ubuntu/anaconda3/lib/python3.6/site-packages/imblearn/base.py\u001b[0m in \u001b[0;36msample\u001b[0;34m(self, X, y)\u001b[0m\n\u001b[1;32m     62\u001b[0m         \u001b[0mself\u001b[0m\u001b[0;34m.\u001b[0m\u001b[0m_check_X_y\u001b[0m\u001b[0;34m(\u001b[0m\u001b[0mX\u001b[0m\u001b[0;34m,\u001b[0m \u001b[0my\u001b[0m\u001b[0;34m)\u001b[0m\u001b[0;34m\u001b[0m\u001b[0m\n\u001b[1;32m     63\u001b[0m \u001b[0;34m\u001b[0m\u001b[0m\n\u001b[0;32m---> 64\u001b[0;31m         \u001b[0;32mreturn\u001b[0m \u001b[0mself\u001b[0m\u001b[0;34m.\u001b[0m\u001b[0m_sample\u001b[0m\u001b[0;34m(\u001b[0m\u001b[0mX\u001b[0m\u001b[0;34m,\u001b[0m \u001b[0my\u001b[0m\u001b[0;34m)\u001b[0m\u001b[0;34m\u001b[0m\u001b[0m\n\u001b[0m\u001b[1;32m     65\u001b[0m \u001b[0;34m\u001b[0m\u001b[0m\n\u001b[1;32m     66\u001b[0m     \u001b[0;32mdef\u001b[0m \u001b[0mfit_sample\u001b[0m\u001b[0;34m(\u001b[0m\u001b[0mself\u001b[0m\u001b[0;34m,\u001b[0m \u001b[0mX\u001b[0m\u001b[0;34m,\u001b[0m \u001b[0my\u001b[0m\u001b[0;34m)\u001b[0m\u001b[0;34m:\u001b[0m\u001b[0;34m\u001b[0m\u001b[0m\n",
      "\u001b[0;32m/home/ubuntu/anaconda3/lib/python3.6/site-packages/imblearn/under_sampling/prototype_selection/condensed_nearest_neighbour.py\u001b[0m in \u001b[0;36m_sample\u001b[0;34m(self, X, y)\u001b[0m\n\u001b[1;32m    240\u001b[0m                         \u001b[0;31m# Classify all the element in S and avoid to test the\u001b[0m\u001b[0;34m\u001b[0m\u001b[0;34m\u001b[0m\u001b[0m\n\u001b[1;32m    241\u001b[0m                         \u001b[0;31m# well classified elements\u001b[0m\u001b[0;34m\u001b[0m\u001b[0;34m\u001b[0m\u001b[0m\n\u001b[0;32m--> 242\u001b[0;31m                         \u001b[0mpred_S_y\u001b[0m \u001b[0;34m=\u001b[0m \u001b[0mself\u001b[0m\u001b[0;34m.\u001b[0m\u001b[0mestimator_\u001b[0m\u001b[0;34m.\u001b[0m\u001b[0mpredict\u001b[0m\u001b[0;34m(\u001b[0m\u001b[0mS_x\u001b[0m\u001b[0;34m)\u001b[0m\u001b[0;34m\u001b[0m\u001b[0m\n\u001b[0m\u001b[1;32m    243\u001b[0m                         good_classif_label = np.unique(\n\u001b[1;32m    244\u001b[0m                             np.append(idx_maj_sample,\n",
      "\u001b[0;32m/home/ubuntu/anaconda3/lib/python3.6/site-packages/sklearn/neighbors/classification.py\u001b[0m in \u001b[0;36mpredict\u001b[0;34m(self, X)\u001b[0m\n\u001b[1;32m    143\u001b[0m         \u001b[0mX\u001b[0m \u001b[0;34m=\u001b[0m \u001b[0mcheck_array\u001b[0m\u001b[0;34m(\u001b[0m\u001b[0mX\u001b[0m\u001b[0;34m,\u001b[0m \u001b[0maccept_sparse\u001b[0m\u001b[0;34m=\u001b[0m\u001b[0;34m'csr'\u001b[0m\u001b[0;34m)\u001b[0m\u001b[0;34m\u001b[0m\u001b[0m\n\u001b[1;32m    144\u001b[0m \u001b[0;34m\u001b[0m\u001b[0m\n\u001b[0;32m--> 145\u001b[0;31m         \u001b[0mneigh_dist\u001b[0m\u001b[0;34m,\u001b[0m \u001b[0mneigh_ind\u001b[0m \u001b[0;34m=\u001b[0m \u001b[0mself\u001b[0m\u001b[0;34m.\u001b[0m\u001b[0mkneighbors\u001b[0m\u001b[0;34m(\u001b[0m\u001b[0mX\u001b[0m\u001b[0;34m)\u001b[0m\u001b[0;34m\u001b[0m\u001b[0m\n\u001b[0m\u001b[1;32m    146\u001b[0m \u001b[0;34m\u001b[0m\u001b[0m\n\u001b[1;32m    147\u001b[0m         \u001b[0mclasses_\u001b[0m \u001b[0;34m=\u001b[0m \u001b[0mself\u001b[0m\u001b[0;34m.\u001b[0m\u001b[0mclasses_\u001b[0m\u001b[0;34m\u001b[0m\u001b[0m\n",
      "\u001b[0;32m/home/ubuntu/anaconda3/lib/python3.6/site-packages/sklearn/neighbors/base.py\u001b[0m in \u001b[0;36mkneighbors\u001b[0;34m(self, X, n_neighbors, return_distance)\u001b[0m\n\u001b[1;32m    383\u001b[0m                 delayed(self._tree.query, check_pickle=False)(\n\u001b[1;32m    384\u001b[0m                     X[s], n_neighbors, return_distance)\n\u001b[0;32m--> 385\u001b[0;31m                 \u001b[0;32mfor\u001b[0m \u001b[0ms\u001b[0m \u001b[0;32min\u001b[0m \u001b[0mgen_even_slices\u001b[0m\u001b[0;34m(\u001b[0m\u001b[0mX\u001b[0m\u001b[0;34m.\u001b[0m\u001b[0mshape\u001b[0m\u001b[0;34m[\u001b[0m\u001b[0;36m0\u001b[0m\u001b[0;34m]\u001b[0m\u001b[0;34m,\u001b[0m \u001b[0mn_jobs\u001b[0m\u001b[0;34m)\u001b[0m\u001b[0;34m\u001b[0m\u001b[0m\n\u001b[0m\u001b[1;32m    386\u001b[0m             )\n\u001b[1;32m    387\u001b[0m             \u001b[0;32mif\u001b[0m \u001b[0mreturn_distance\u001b[0m\u001b[0;34m:\u001b[0m\u001b[0;34m\u001b[0m\u001b[0m\n",
      "\u001b[0;32m/home/ubuntu/anaconda3/lib/python3.6/site-packages/sklearn/externals/joblib/parallel.py\u001b[0m in \u001b[0;36m__call__\u001b[0;34m(self, iterable)\u001b[0m\n\u001b[1;32m    777\u001b[0m             \u001b[0;31m# was dispatched. In particular this covers the edge\u001b[0m\u001b[0;34m\u001b[0m\u001b[0;34m\u001b[0m\u001b[0m\n\u001b[1;32m    778\u001b[0m             \u001b[0;31m# case of Parallel used with an exhausted iterator.\u001b[0m\u001b[0;34m\u001b[0m\u001b[0;34m\u001b[0m\u001b[0m\n\u001b[0;32m--> 779\u001b[0;31m             \u001b[0;32mwhile\u001b[0m \u001b[0mself\u001b[0m\u001b[0;34m.\u001b[0m\u001b[0mdispatch_one_batch\u001b[0m\u001b[0;34m(\u001b[0m\u001b[0miterator\u001b[0m\u001b[0;34m)\u001b[0m\u001b[0;34m:\u001b[0m\u001b[0;34m\u001b[0m\u001b[0m\n\u001b[0m\u001b[1;32m    780\u001b[0m                 \u001b[0mself\u001b[0m\u001b[0;34m.\u001b[0m\u001b[0m_iterating\u001b[0m \u001b[0;34m=\u001b[0m \u001b[0;32mTrue\u001b[0m\u001b[0;34m\u001b[0m\u001b[0m\n\u001b[1;32m    781\u001b[0m             \u001b[0;32melse\u001b[0m\u001b[0;34m:\u001b[0m\u001b[0;34m\u001b[0m\u001b[0m\n",
      "\u001b[0;32m/home/ubuntu/anaconda3/lib/python3.6/site-packages/sklearn/externals/joblib/parallel.py\u001b[0m in \u001b[0;36mdispatch_one_batch\u001b[0;34m(self, iterator)\u001b[0m\n\u001b[1;32m    623\u001b[0m                 \u001b[0;32mreturn\u001b[0m \u001b[0;32mFalse\u001b[0m\u001b[0;34m\u001b[0m\u001b[0m\n\u001b[1;32m    624\u001b[0m             \u001b[0;32melse\u001b[0m\u001b[0;34m:\u001b[0m\u001b[0;34m\u001b[0m\u001b[0m\n\u001b[0;32m--> 625\u001b[0;31m                 \u001b[0mself\u001b[0m\u001b[0;34m.\u001b[0m\u001b[0m_dispatch\u001b[0m\u001b[0;34m(\u001b[0m\u001b[0mtasks\u001b[0m\u001b[0;34m)\u001b[0m\u001b[0;34m\u001b[0m\u001b[0m\n\u001b[0m\u001b[1;32m    626\u001b[0m                 \u001b[0;32mreturn\u001b[0m \u001b[0;32mTrue\u001b[0m\u001b[0;34m\u001b[0m\u001b[0m\n\u001b[1;32m    627\u001b[0m \u001b[0;34m\u001b[0m\u001b[0m\n",
      "\u001b[0;32m/home/ubuntu/anaconda3/lib/python3.6/site-packages/sklearn/externals/joblib/parallel.py\u001b[0m in \u001b[0;36m_dispatch\u001b[0;34m(self, batch)\u001b[0m\n\u001b[1;32m    586\u001b[0m         \u001b[0mdispatch_timestamp\u001b[0m \u001b[0;34m=\u001b[0m \u001b[0mtime\u001b[0m\u001b[0;34m.\u001b[0m\u001b[0mtime\u001b[0m\u001b[0;34m(\u001b[0m\u001b[0;34m)\u001b[0m\u001b[0;34m\u001b[0m\u001b[0m\n\u001b[1;32m    587\u001b[0m         \u001b[0mcb\u001b[0m \u001b[0;34m=\u001b[0m \u001b[0mBatchCompletionCallBack\u001b[0m\u001b[0;34m(\u001b[0m\u001b[0mdispatch_timestamp\u001b[0m\u001b[0;34m,\u001b[0m \u001b[0mlen\u001b[0m\u001b[0;34m(\u001b[0m\u001b[0mbatch\u001b[0m\u001b[0;34m)\u001b[0m\u001b[0;34m,\u001b[0m \u001b[0mself\u001b[0m\u001b[0;34m)\u001b[0m\u001b[0;34m\u001b[0m\u001b[0m\n\u001b[0;32m--> 588\u001b[0;31m         \u001b[0mjob\u001b[0m \u001b[0;34m=\u001b[0m \u001b[0mself\u001b[0m\u001b[0;34m.\u001b[0m\u001b[0m_backend\u001b[0m\u001b[0;34m.\u001b[0m\u001b[0mapply_async\u001b[0m\u001b[0;34m(\u001b[0m\u001b[0mbatch\u001b[0m\u001b[0;34m,\u001b[0m \u001b[0mcallback\u001b[0m\u001b[0;34m=\u001b[0m\u001b[0mcb\u001b[0m\u001b[0;34m)\u001b[0m\u001b[0;34m\u001b[0m\u001b[0m\n\u001b[0m\u001b[1;32m    589\u001b[0m         \u001b[0mself\u001b[0m\u001b[0;34m.\u001b[0m\u001b[0m_jobs\u001b[0m\u001b[0;34m.\u001b[0m\u001b[0mappend\u001b[0m\u001b[0;34m(\u001b[0m\u001b[0mjob\u001b[0m\u001b[0;34m)\u001b[0m\u001b[0;34m\u001b[0m\u001b[0m\n\u001b[1;32m    590\u001b[0m \u001b[0;34m\u001b[0m\u001b[0m\n",
      "\u001b[0;32m/home/ubuntu/anaconda3/lib/python3.6/site-packages/sklearn/externals/joblib/_parallel_backends.py\u001b[0m in \u001b[0;36mapply_async\u001b[0;34m(self, func, callback)\u001b[0m\n\u001b[1;32m    109\u001b[0m     \u001b[0;32mdef\u001b[0m \u001b[0mapply_async\u001b[0m\u001b[0;34m(\u001b[0m\u001b[0mself\u001b[0m\u001b[0;34m,\u001b[0m \u001b[0mfunc\u001b[0m\u001b[0;34m,\u001b[0m \u001b[0mcallback\u001b[0m\u001b[0;34m=\u001b[0m\u001b[0;32mNone\u001b[0m\u001b[0;34m)\u001b[0m\u001b[0;34m:\u001b[0m\u001b[0;34m\u001b[0m\u001b[0m\n\u001b[1;32m    110\u001b[0m         \u001b[0;34m\"\"\"Schedule a func to be run\"\"\"\u001b[0m\u001b[0;34m\u001b[0m\u001b[0m\n\u001b[0;32m--> 111\u001b[0;31m         \u001b[0mresult\u001b[0m \u001b[0;34m=\u001b[0m \u001b[0mImmediateResult\u001b[0m\u001b[0;34m(\u001b[0m\u001b[0mfunc\u001b[0m\u001b[0;34m)\u001b[0m\u001b[0;34m\u001b[0m\u001b[0m\n\u001b[0m\u001b[1;32m    112\u001b[0m         \u001b[0;32mif\u001b[0m \u001b[0mcallback\u001b[0m\u001b[0;34m:\u001b[0m\u001b[0;34m\u001b[0m\u001b[0m\n\u001b[1;32m    113\u001b[0m             \u001b[0mcallback\u001b[0m\u001b[0;34m(\u001b[0m\u001b[0mresult\u001b[0m\u001b[0;34m)\u001b[0m\u001b[0;34m\u001b[0m\u001b[0m\n",
      "\u001b[0;32m/home/ubuntu/anaconda3/lib/python3.6/site-packages/sklearn/externals/joblib/_parallel_backends.py\u001b[0m in \u001b[0;36m__init__\u001b[0;34m(self, batch)\u001b[0m\n\u001b[1;32m    330\u001b[0m         \u001b[0;31m# Don't delay the application, to avoid keeping the input\u001b[0m\u001b[0;34m\u001b[0m\u001b[0;34m\u001b[0m\u001b[0m\n\u001b[1;32m    331\u001b[0m         \u001b[0;31m# arguments in memory\u001b[0m\u001b[0;34m\u001b[0m\u001b[0;34m\u001b[0m\u001b[0m\n\u001b[0;32m--> 332\u001b[0;31m         \u001b[0mself\u001b[0m\u001b[0;34m.\u001b[0m\u001b[0mresults\u001b[0m \u001b[0;34m=\u001b[0m \u001b[0mbatch\u001b[0m\u001b[0;34m(\u001b[0m\u001b[0;34m)\u001b[0m\u001b[0;34m\u001b[0m\u001b[0m\n\u001b[0m\u001b[1;32m    333\u001b[0m \u001b[0;34m\u001b[0m\u001b[0m\n\u001b[1;32m    334\u001b[0m     \u001b[0;32mdef\u001b[0m \u001b[0mget\u001b[0m\u001b[0;34m(\u001b[0m\u001b[0mself\u001b[0m\u001b[0;34m)\u001b[0m\u001b[0;34m:\u001b[0m\u001b[0;34m\u001b[0m\u001b[0m\n",
      "\u001b[0;32m/home/ubuntu/anaconda3/lib/python3.6/site-packages/sklearn/externals/joblib/parallel.py\u001b[0m in \u001b[0;36m__call__\u001b[0;34m(self)\u001b[0m\n\u001b[1;32m    129\u001b[0m \u001b[0;34m\u001b[0m\u001b[0m\n\u001b[1;32m    130\u001b[0m     \u001b[0;32mdef\u001b[0m \u001b[0m__call__\u001b[0m\u001b[0;34m(\u001b[0m\u001b[0mself\u001b[0m\u001b[0;34m)\u001b[0m\u001b[0;34m:\u001b[0m\u001b[0;34m\u001b[0m\u001b[0m\n\u001b[0;32m--> 131\u001b[0;31m         \u001b[0;32mreturn\u001b[0m \u001b[0;34m[\u001b[0m\u001b[0mfunc\u001b[0m\u001b[0;34m(\u001b[0m\u001b[0;34m*\u001b[0m\u001b[0margs\u001b[0m\u001b[0;34m,\u001b[0m \u001b[0;34m**\u001b[0m\u001b[0mkwargs\u001b[0m\u001b[0;34m)\u001b[0m \u001b[0;32mfor\u001b[0m \u001b[0mfunc\u001b[0m\u001b[0;34m,\u001b[0m \u001b[0margs\u001b[0m\u001b[0;34m,\u001b[0m \u001b[0mkwargs\u001b[0m \u001b[0;32min\u001b[0m \u001b[0mself\u001b[0m\u001b[0;34m.\u001b[0m\u001b[0mitems\u001b[0m\u001b[0;34m]\u001b[0m\u001b[0;34m\u001b[0m\u001b[0m\n\u001b[0m\u001b[1;32m    132\u001b[0m \u001b[0;34m\u001b[0m\u001b[0m\n\u001b[1;32m    133\u001b[0m     \u001b[0;32mdef\u001b[0m \u001b[0m__len__\u001b[0m\u001b[0;34m(\u001b[0m\u001b[0mself\u001b[0m\u001b[0;34m)\u001b[0m\u001b[0;34m:\u001b[0m\u001b[0;34m\u001b[0m\u001b[0m\n",
      "\u001b[0;32m/home/ubuntu/anaconda3/lib/python3.6/site-packages/sklearn/externals/joblib/parallel.py\u001b[0m in \u001b[0;36m<listcomp>\u001b[0;34m(.0)\u001b[0m\n\u001b[1;32m    129\u001b[0m \u001b[0;34m\u001b[0m\u001b[0m\n\u001b[1;32m    130\u001b[0m     \u001b[0;32mdef\u001b[0m \u001b[0m__call__\u001b[0m\u001b[0;34m(\u001b[0m\u001b[0mself\u001b[0m\u001b[0;34m)\u001b[0m\u001b[0;34m:\u001b[0m\u001b[0;34m\u001b[0m\u001b[0m\n\u001b[0;32m--> 131\u001b[0;31m         \u001b[0;32mreturn\u001b[0m \u001b[0;34m[\u001b[0m\u001b[0mfunc\u001b[0m\u001b[0;34m(\u001b[0m\u001b[0;34m*\u001b[0m\u001b[0margs\u001b[0m\u001b[0;34m,\u001b[0m \u001b[0;34m**\u001b[0m\u001b[0mkwargs\u001b[0m\u001b[0;34m)\u001b[0m \u001b[0;32mfor\u001b[0m \u001b[0mfunc\u001b[0m\u001b[0;34m,\u001b[0m \u001b[0margs\u001b[0m\u001b[0;34m,\u001b[0m \u001b[0mkwargs\u001b[0m \u001b[0;32min\u001b[0m \u001b[0mself\u001b[0m\u001b[0;34m.\u001b[0m\u001b[0mitems\u001b[0m\u001b[0;34m]\u001b[0m\u001b[0;34m\u001b[0m\u001b[0m\n\u001b[0m\u001b[1;32m    132\u001b[0m \u001b[0;34m\u001b[0m\u001b[0m\n\u001b[1;32m    133\u001b[0m     \u001b[0;32mdef\u001b[0m \u001b[0m__len__\u001b[0m\u001b[0;34m(\u001b[0m\u001b[0mself\u001b[0m\u001b[0;34m)\u001b[0m\u001b[0;34m:\u001b[0m\u001b[0;34m\u001b[0m\u001b[0m\n",
      "\u001b[0;31mKeyboardInterrupt\u001b[0m: "
     ]
    }
   ],
   "source": [
    "cnn_pipe = make_imb_pipeline(CondensedNearestNeighbour(), LogisticRegression())\n",
    "scores = cross_val_score(cnn_pipe, Xtrain, ytrain, cv=10, scoring='roc_auc')\n",
    "np.mean(scores)"
   ]
  },
  {
   "cell_type": "code",
   "execution_count": null,
   "metadata": {
    "collapsed": true
   },
   "outputs": [],
   "source": [
    "cnn_pipe = make_imb_pipeline(CondensedNearestNeighbour(),\n",
    "                              RandomForestClassifier(n_estimators=100))\n",
    "scores = cross_val_score(cnn_pipe, Xtrain, ytrain, cv=10, scoring='roc_auc')\n",
    "np.mean(scores)"
   ]
  },
  {
   "cell_type": "code",
   "execution_count": null,
   "metadata": {
    "collapsed": true
   },
   "outputs": [],
   "source": [
    "#TESTE ENSEMBLE BALANCED"
   ]
  },
  {
   "cell_type": "code",
   "execution_count": 14,
   "metadata": {},
   "outputs": [
    {
     "name": "stdout",
     "output_type": "stream",
     "text": [
      "Original dataset shape Counter({1: 7369, 0: 349})\n",
      "[[  68   10]\n",
      " [ 234 1618]]\n"
     ]
    }
   ],
   "source": [
    "from collections import Counter\n",
    "from sklearn.datasets import make_classification\n",
    "from sklearn.model_selection import train_test_split\n",
    "from sklearn.metrics import confusion_matrix\n",
    "from imblearn.ensemble import BalancedBaggingClassifier \n",
    "\n",
    "#X, y = make_classification(n_classes=2, class_sep=2,\n",
    "#weights=[0.1, 0.9], n_informative=3, n_redundant=1, flip_y=0,\n",
    "#n_features=20, n_clusters_per_class=1, n_samples=1000, random_state=10)\n",
    "\n",
    "print('Original dataset shape {}'.format(Counter(y)))\n",
    "\n",
    "X_train, X_test, y_train, y_test = train_test_split(X, y, random_state=0)\n",
    "bbc = BalancedBaggingClassifier(random_state=42)\n",
    "bbc.fit(X_train, y_train) \n",
    "\n",
    "y_pred = bbc.predict(X_test)\n",
    "print(confusion_matrix(y_test, y_pred))"
   ]
  },
  {
   "cell_type": "code",
   "execution_count": 20,
   "metadata": {
    "collapsed": true
   },
   "outputs": [],
   "source": []
  },
  {
   "cell_type": "code",
   "execution_count": null,
   "metadata": {
    "collapsed": true
   },
   "outputs": [],
   "source": []
  }
 ],
 "metadata": {
  "kernelspec": {
   "display_name": "Python 3",
   "language": "python",
   "name": "python3"
  },
  "language_info": {
   "codemirror_mode": {
    "name": "ipython",
    "version": 3
   },
   "file_extension": ".py",
   "mimetype": "text/x-python",
   "name": "python",
   "nbconvert_exporter": "python",
   "pygments_lexer": "ipython3",
   "version": "3.6.1"
  }
 },
 "nbformat": 4,
 "nbformat_minor": 2
}
