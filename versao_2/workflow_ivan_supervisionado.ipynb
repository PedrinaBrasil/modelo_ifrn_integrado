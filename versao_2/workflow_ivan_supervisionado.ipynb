{
 "cells": [
  {
   "cell_type": "markdown",
   "metadata": {},
   "source": [
    "# Teste supervisionado com dados tunados"
   ]
  },
  {
   "cell_type": "code",
   "execution_count": 1,
   "metadata": {},
   "outputs": [
    {
     "name": "stderr",
     "output_type": "stream",
     "text": [
      "/home/ubuntu/anaconda3/lib/python3.6/site-packages/sklearn/cross_validation.py:41: DeprecationWarning: This module was deprecated in version 0.18 in favor of the model_selection module into which all the refactored classes and functions are moved. Also note that the interface of the new CV iterators are different from that of this module. This module will be removed in 0.20.\n",
      "  \"This module will be removed in 0.20.\", DeprecationWarning)\n"
     ]
    }
   ],
   "source": [
    "#import os pacotes utilizados\n",
    "import numpy as np\n",
    "import pandas as pd\n",
    "import matplotlib.pyplot as plt\n",
    "import matplotlib\n",
    "\n",
    "#selecionando atributos \n",
    "from sklearn.feature_selection import RFECV\n",
    "\n",
    "#resample\n",
    "from sklearn.utils import resample\n",
    "\n",
    "#ESCALONAMENTO DE DADOS\n",
    "from sklearn.preprocessing import StandardScaler\n",
    "from sklearn.preprocessing import MinMaxScaler\n",
    "from sklearn.preprocessing import MaxAbsScaler\n",
    "from sklearn.preprocessing import RobustScaler\n",
    "\n",
    "#SELECIONANDO MELHOR MODELO\n",
    "from sklearn.model_selection import GridSearchCV\n",
    "from sklearn.ensemble import RandomForestClassifier\n",
    "from sklearn.tree import DecisionTreeClassifier\n",
    "from sklearn.datasets import make_classification\n",
    "from scipy.stats import randint as sp_randint\n",
    "from sklearn.cross_validation import train_test_split\n",
    "from sklearn.model_selection import cross_val_score\n",
    "\n",
    "#Evaluating\n",
    "import seaborn as sns; sns.set()\n",
    "\n",
    "from sklearn.metrics import confusion_matrix\n",
    "from sklearn.metrics import precision_score, recall_score \n",
    "from sklearn.metrics import precision_score, recall_score \n",
    "from sklearn.metrics import f1_score\n",
    "\n",
    "#EXPORTAR ARVORE\n",
    "from sklearn.tree import export_graphviz\n",
    "import os\n",
    "\n",
    "#CURVA ROC\n",
    "%matplotlib inline\n",
    "from sklearn.metrics import roc_curve\n",
    "from sklearn.model_selection import cross_val_predict \n",
    "from sklearn.metrics import roc_auc_score\n",
    "\n",
    "#REDUÇÃO DE DIMENSIONALIDADE\n",
    "from sklearn.decomposition import PCA\n",
    "\n",
    "#exibindo todas as colunas\n",
    "pd.set_option('display.max_columns', None)\n",
    "\n",
    "#definicao de funcoes que serao utilizadas\n",
    "# Utility function to report best scores\n",
    "def report(results, n_top=3):\n",
    "    for i in range(1, n_top + 1):\n",
    "        candidates = np.flatnonzero(results['rank_test_score'] == i)\n",
    "        for candidate in candidates:\n",
    "            print(\"Model with rank: {0}\".format(i))\n",
    "            print(\"Mean validation score: {0:.3f} (std: {1:.3f})\".format(\n",
    "                  results['mean_test_score'][candidate],\n",
    "                  results['std_test_score'][candidate]))\n",
    "            print(\"Parameters: {0}\".format(results['params'][candidate]))\n",
    "            print(\"\")\n",
    "            \n",
    "def plot_roc_curve(fpr, tpr, label=None):    \n",
    "    plt.plot(fpr, tpr, linewidth=2, label=label)    \n",
    "    plt.plot([0, 1], [0, 1], 'k--')    \n",
    "    plt.axis([0, 1, 0, 1])   \n",
    "    plt.xlabel('False Positive Rate')    \n",
    "    plt.ylabel('True Positive Rate')\n",
    "    \n",
    "#definindo score\n",
    "from sklearn.metrics import make_scorer\n",
    "from sklearn.metrics import cohen_kappa_score\n",
    "\n",
    "def score_evasao(y_true, y_pred): \n",
    "    tp = confusion_matrix(y_true, y_pred)[0, 0]\n",
    "    fn = confusion_matrix(y_true, y_pred)[0, 1]\n",
    "    \n",
    "    return tp/(tp+fn)\n",
    "   \n",
    "#SELECIONANDO MELHOR MODEL RF\n",
    "def make_RF(Xtrain, ytrain):\n",
    "    #cria a randomforest \n",
    "    #forest_clf = RandomForestClassifier(oob_score=True, n_jobs=-1) \n",
    "    forest_clf = RandomForestClassifier(n_jobs=-1) \n",
    "\n",
    "    param_grid_forest = {'max_depth': [3, 5, None],\n",
    "                  'max_features': ['auto', 'sqrt', 'log2'],\n",
    "                  'n_estimators': [10, 30, 60, 100, 200],\n",
    "                  'criterion': [\"gini\", \"entropy\"], \n",
    "                   #'class_weight': [{0:10, 1:.1}, 'balanced'] #foi utilizado quando os dados estavam desbalanceados\n",
    "                    }\n",
    "\n",
    "    \n",
    "    #utilizando o score definido de acordo com a evasao\n",
    "    #print(score_evasao(ytest, ypred_forest))\n",
    "    #se = make_scorer(score_evasao)\n",
    "\n",
    "    #seleciona o melhor modelo de acordo com os parâmetros\n",
    "    #grid_search_forest = GridSearchCV(estimator=forest_clf, param_grid=param_grid_forest, cv=10)    \n",
    "    #grid_search_forest = GridSearchCV(estimator=forest_clf, param_grid=param_grid_forest, scoring = 'f1')\n",
    "    #grid_search_forest = GridSearchCV(estimator=forest_clf, param_grid=param_grid_forest, scoring = 'roc_auc')\n",
    "    \n",
    "    kappa_scorer = make_scorer(cohen_kappa_score)\n",
    "    grid_search_forest = GridSearchCV(estimator=forest_clf, param_grid=param_grid_forest, scoring = kappa_scorer, cv=10)\n",
    "    \n",
    "    grid_search_forest.fit(Xtrain, ytrain)\n",
    "    print(grid_search_forest.best_params_)\n",
    "    print(grid_search_forest.best_estimator_)\n",
    "    \n",
    "    #mostra os 5 melhores modelos\n",
    "    report(grid_search_forest.cv_results_, 5)    \n",
    "    \n",
    "    return grid_search_forest.best_estimator_\n",
    "\n",
    "def evaluating(model, ytest, ypred, Xtest):\n",
    "    #Evaluating\n",
    "    mat = confusion_matrix(ytest, ypred)\n",
    "    sns.heatmap(mat.T, square=True, annot=True, fmt='d', cbar=False)\n",
    "    plt.xlabel('true label')\n",
    "    plt.ylabel('predicted label');\n",
    "    \n",
    "    s = mat[0][1]/(mat[0][0]+mat[0][1])\n",
    "    print(\"Valor de falso positivo:\"+str(s))\n",
    "    \n",
    "    #evaluating\n",
    "    print(\"Cálculo de índices de avaliação:\")\n",
    "    \n",
    "    print(\"Precisão: %f; Recall: %f, F1: %f\" % (precision_score(ytest, ypred), \n",
    "                                                recall_score(ytest, ypred), \n",
    "                                                f1_score(ytest, ypred) ))\n",
    "\n",
    "    #precisao\n",
    "    print('Precisão CV:')\n",
    "    scores = cross_val_score(model, Xtest, ytest, cv=10)\n",
    "    accuracy = np.mean(scores)\n",
    "    print(scores)\n",
    "    print(accuracy)\n",
    "\n",
    "    #CURVA ROC\n",
    "    fig = plt.figure()\n",
    "    y_probas = cross_val_predict(model, Xtest, ytest, cv=10, method=\"predict_proba\") \n",
    "\n",
    "    y_scores = y_probas[:, 1]   # score = proba of positive class \n",
    "    fpr, tpr, thresholds = roc_curve(ytest, y_scores)\n",
    "\n",
    "    plot_roc_curve(fpr, tpr) \n",
    "    plt.show()\n",
    "    print(roc_auc_score(ytest, y_scores))\n",
    "    \n",
    "def feature_ranking(Xtest, model):\n",
    "    #exibe os atributos mais importantes\n",
    "    importances = model.feature_importances_\n",
    "    std = np.std([tree.feature_importances_ for tree in model.estimators_], axis=0)\n",
    "    indices = np.argsort(importances)[::-1]\n",
    "\n",
    "    # Print the feature ranking\n",
    "    print(\"Feature ranking:\")\n",
    "\n",
    "    for f in range(Xtest.shape[1]):\n",
    "        print(\"%d. feature %d [%s] (%f)\" % (f + 1, indices[f], Xtest.columns[indices[f]], importances[indices[f]]))\n",
    "\n",
    "    # Plot the feature importances of the forest\n",
    "    plt.figure()\n",
    "    plt.title(\"Feature importances\")\n",
    "    plt.bar(range(Xtest.shape[1]), importances[indices], color=\"r\", yerr=std[indices], align=\"center\")\n",
    "    plt.xticks(range(Xtest.shape[1]), indices)\n",
    "    plt.xlim([-1, Xtest.shape[1]])\n",
    "    plt.show()    \n",
    "    \n",
    "def evaluating_2(model, ytest, ypred, X, y, Xtest):\n",
    "    #Evaluating\n",
    "    plt.figure()\n",
    "    mat = confusion_matrix(ytest, ypred)\n",
    "    sns.heatmap(mat.T, square=True, annot=True, fmt='d', cbar=False)\n",
    "    plt.xlabel('true label')\n",
    "    plt.ylabel('predicted label');\n",
    "    \n",
    "    s = mat[0][1]/(mat[0][0]+mat[0][1])\n",
    "    print(\"Valor de falso positivo:\"+str(s))\n",
    "    \n",
    "    #evaluating\n",
    "    print(precision_score(ytest, ypred))\n",
    "    print(recall_score(ytest, ypred))\n",
    "\n",
    "    #evaluating\n",
    "    print(precision_score(ytest, ypred))\n",
    "    print(recall_score(ytest, ypred))\n",
    "    print(f1_score(ytest, ypred))\n",
    "\n",
    "    #precisao\n",
    "    print('Precisao')\n",
    "    scores = cross_val_score(model, X, y, cv=10)\n",
    "    accuracy = np.mean(scores)\n",
    "    print(scores)\n",
    "    print(accuracy)\n",
    "\n",
    "#limpando os NaN devido ao RF\n",
    "def preparing_data(dados):\n",
    "    print(dados.shape)\n",
    "    dados = dados.dropna()\n",
    "    print(dados.shape)\n",
    "    \n",
    "    #configura os dados de entrada e saída\n",
    "    y = dados.classe\n",
    "    X = dados\n",
    "\n",
    "    del X['classe']\n",
    "    X.shape    \n",
    "    \n",
    "    #binazira os dados devido aos atributos categoricos \n",
    "    dados_dummies = pd.get_dummies(X, drop_first=True)\n",
    "    dados_dummies.shape\n",
    "\n",
    "    #remove atributos inconistentes\n",
    "    dados_clean = dados_dummies.replace([np.inf, -np.inf], np.nan)\n",
    "    dados_clean = dados_clean.dropna(axis=1, how='all')\n",
    "    print(dados_clean.info())\n",
    "    \n",
    "    return (dados_clean, y)"
   ]
  },
  {
   "cell_type": "code",
   "execution_count": 2,
   "metadata": {},
   "outputs": [
    {
     "data": {
      "text/html": [
       "<div>\n",
       "<style>\n",
       "    .dataframe thead tr:only-child th {\n",
       "        text-align: right;\n",
       "    }\n",
       "\n",
       "    .dataframe thead th {\n",
       "        text-align: left;\n",
       "    }\n",
       "\n",
       "    .dataframe tbody tr th {\n",
       "        vertical-align: top;\n",
       "    }\n",
       "</style>\n",
       "<table border=\"1\" class=\"dataframe\">\n",
       "  <thead>\n",
       "    <tr style=\"text-align: right;\">\n",
       "      <th></th>\n",
       "      <th>LnguaPortuguesaeLiteraturaI90H</th>\n",
       "      <th>LnguaPortuguesaeLiteraturaI90H_dependencia</th>\n",
       "      <th>LnguaPortuguesaeLiteraturaI90H_freq</th>\n",
       "      <th>MatemticaI120H</th>\n",
       "      <th>MatemticaI120H_dependencia</th>\n",
       "      <th>MatemticaI120H_freq</th>\n",
       "      <th>acompanhamento</th>\n",
       "      <th>aluno_exclusivo_rede_publica</th>\n",
       "      <th>artificial</th>\n",
       "      <th>classe</th>\n",
       "      <th>conceito</th>\n",
       "      <th>conceito_freq</th>\n",
       "      <th>descricao</th>\n",
       "      <th>descricao_area_residencial</th>\n",
       "      <th>descricao_companhia_domiciliar</th>\n",
       "      <th>descricao_estado_civil</th>\n",
       "      <th>descricao_historico</th>\n",
       "      <th>descricao_imovel</th>\n",
       "      <th>descricao_mae_escolaridade</th>\n",
       "      <th>descricao_pai_escolaridade</th>\n",
       "      <th>descricao_raca</th>\n",
       "      <th>descricao_responsavel_escolaridade</th>\n",
       "      <th>descricao_responsavel_financeiro</th>\n",
       "      <th>descricao_trabalho</th>\n",
       "      <th>id</th>\n",
       "      <th>idade</th>\n",
       "      <th>pessoa_fisica__sexo</th>\n",
       "      <th>possui_necessidade_especial</th>\n",
       "      <th>qnt_pc</th>\n",
       "      <th>qnt_salarios</th>\n",
       "      <th>qtd_pessoas_domicilio</th>\n",
       "      <th>sigla</th>\n",
       "      <th>tempo_entre_conclusao_ingresso</th>\n",
       "    </tr>\n",
       "  </thead>\n",
       "  <tbody>\n",
       "    <tr>\n",
       "      <th>0</th>\n",
       "      <td>68.0</td>\n",
       "      <td>0</td>\n",
       "      <td>100.0</td>\n",
       "      <td>66.0</td>\n",
       "      <td>0</td>\n",
       "      <td>100.0</td>\n",
       "      <td>0</td>\n",
       "      <td>False</td>\n",
       "      <td>0</td>\n",
       "      <td>1</td>\n",
       "      <td>B</td>\n",
       "      <td>A</td>\n",
       "      <td>Matriculado</td>\n",
       "      <td>Urbana</td>\n",
       "      <td>Mãe</td>\n",
       "      <td>Solteiro(a)</td>\n",
       "      <td>Técnico de Nivel Médio em Informática</td>\n",
       "      <td>Alugado</td>\n",
       "      <td>Ensino fundamental incompleto</td>\n",
       "      <td>Ensino fundamental incompleto</td>\n",
       "      <td>Branca</td>\n",
       "      <td>Ensino fundamental incompleto</td>\n",
       "      <td>Mãe</td>\n",
       "      <td>Não informado</td>\n",
       "      <td>457884597605</td>\n",
       "      <td>15</td>\n",
       "      <td>F</td>\n",
       "      <td>False</td>\n",
       "      <td>0</td>\n",
       "      <td>1</td>\n",
       "      <td>2</td>\n",
       "      <td>LAJ</td>\n",
       "      <td>1</td>\n",
       "    </tr>\n",
       "    <tr>\n",
       "      <th>1</th>\n",
       "      <td>73.0</td>\n",
       "      <td>1</td>\n",
       "      <td>100.0</td>\n",
       "      <td>36.0</td>\n",
       "      <td>1</td>\n",
       "      <td>91.0</td>\n",
       "      <td>0</td>\n",
       "      <td>False</td>\n",
       "      <td>1</td>\n",
       "      <td>0</td>\n",
       "      <td>R</td>\n",
       "      <td>R</td>\n",
       "      <td>Cancelado</td>\n",
       "      <td>Urbana</td>\n",
       "      <td>Mãe</td>\n",
       "      <td>Solteiro(a)</td>\n",
       "      <td>Técnico de Nível Médio em Meio Ambiente</td>\n",
       "      <td>Alugado</td>\n",
       "      <td>Ensino fundamental incompleto</td>\n",
       "      <td>Ensino fundamental incompleto</td>\n",
       "      <td>Parda</td>\n",
       "      <td>Ensino fundamental incompleto</td>\n",
       "      <td>Mãe</td>\n",
       "      <td>Não informado</td>\n",
       "      <td>458436647741</td>\n",
       "      <td>17</td>\n",
       "      <td>M</td>\n",
       "      <td>False</td>\n",
       "      <td>1</td>\n",
       "      <td>1</td>\n",
       "      <td>2</td>\n",
       "      <td>SPP</td>\n",
       "      <td>2</td>\n",
       "    </tr>\n",
       "  </tbody>\n",
       "</table>\n",
       "</div>"
      ],
      "text/plain": [
       "   LnguaPortuguesaeLiteraturaI90H  LnguaPortuguesaeLiteraturaI90H_dependencia  \\\n",
       "0                            68.0                                           0   \n",
       "1                            73.0                                           1   \n",
       "\n",
       "   LnguaPortuguesaeLiteraturaI90H_freq  MatemticaI120H  \\\n",
       "0                                100.0            66.0   \n",
       "1                                100.0            36.0   \n",
       "\n",
       "   MatemticaI120H_dependencia  MatemticaI120H_freq  acompanhamento  \\\n",
       "0                           0                100.0               0   \n",
       "1                           1                 91.0               0   \n",
       "\n",
       "   aluno_exclusivo_rede_publica  artificial  classe conceito conceito_freq  \\\n",
       "0                         False           0       1        B             A   \n",
       "1                         False           1       0        R             R   \n",
       "\n",
       "     descricao descricao_area_residencial descricao_companhia_domiciliar  \\\n",
       "0  Matriculado                     Urbana                            Mãe   \n",
       "1    Cancelado                     Urbana                            Mãe   \n",
       "\n",
       "  descricao_estado_civil                      descricao_historico  \\\n",
       "0            Solteiro(a)    Técnico de Nivel Médio em Informática   \n",
       "1            Solteiro(a)  Técnico de Nível Médio em Meio Ambiente   \n",
       "\n",
       "  descricao_imovel     descricao_mae_escolaridade  \\\n",
       "0          Alugado  Ensino fundamental incompleto   \n",
       "1          Alugado  Ensino fundamental incompleto   \n",
       "\n",
       "      descricao_pai_escolaridade descricao_raca  \\\n",
       "0  Ensino fundamental incompleto         Branca   \n",
       "1  Ensino fundamental incompleto          Parda   \n",
       "\n",
       "  descricao_responsavel_escolaridade descricao_responsavel_financeiro  \\\n",
       "0      Ensino fundamental incompleto                              Mãe   \n",
       "1      Ensino fundamental incompleto                              Mãe   \n",
       "\n",
       "  descricao_trabalho            id  idade pessoa_fisica__sexo  \\\n",
       "0      Não informado  457884597605     15                   F   \n",
       "1      Não informado  458436647741     17                   M   \n",
       "\n",
       "   possui_necessidade_especial  qnt_pc  qnt_salarios  qtd_pessoas_domicilio  \\\n",
       "0                        False       0             1                      2   \n",
       "1                        False       1             1                      2   \n",
       "\n",
       "  sigla  tempo_entre_conclusao_ingresso  \n",
       "0   LAJ                               1  \n",
       "1   SPP                               2  "
      ]
     },
     "execution_count": 2,
     "metadata": {},
     "output_type": "execute_result"
    }
   ],
   "source": [
    "dados_tunning = pd.read_json('dados/dados_workflow_ivan.json')\n",
    "\n",
    "dados_tunning.head(2)"
   ]
  },
  {
   "cell_type": "markdown",
   "metadata": {},
   "source": [
    "# Modelo 01: utilizando todos os dados\n",
    "\n",
    "no cenário abaixo foram utilizados todos os dados incluindo as notas as quais os valores NAN foram preenchidas com -1, a fim de não serem limpados. \n",
    "\n",
    "o resultado como visto foi bastante instatisfatório, uma vez que o falto positivo (prever que não evadiu, mas o aluno evadiu) tem um valor muito elevado, sendo o pior erro no problema. É interessante notar que os índices de avaliação tradicionais (precision, recall, f1) foram bons, o que parece contraditório. A explicação se deve ao fato das classes estarem bastante desbalanceadas. Para a seleção do modelo foi utilizado o médodo kappa_scorer o que conseguiu trazer a tona o problema do erro elevado de falso positivo  "
   ]
  },
  {
   "cell_type": "code",
   "execution_count": 3,
   "metadata": {
    "collapsed": true
   },
   "outputs": [],
   "source": [
    "dados = dados_tunning.copy()\n",
    "\n",
    "dados = dados[[\n",
    "       'LnguaPortuguesaeLiteraturaI90H',\n",
    "       'LnguaPortuguesaeLiteraturaI90H_dependencia',\n",
    "       'LnguaPortuguesaeLiteraturaI90H_freq', 'MatemticaI120H',\n",
    "       'MatemticaI120H_dependencia', 'MatemticaI120H_freq', 'acompanhamento',\n",
    "       'aluno_exclusivo_rede_publica', 'artificial', 'classe', 'conceito',\n",
    "       'conceito_freq', 'descricao_area_residencial',\n",
    "       'descricao_companhia_domiciliar', 'descricao_estado_civil',\n",
    "       'descricao_historico', 'descricao_imovel', 'descricao_mae_escolaridade',\n",
    "       'descricao_pai_escolaridade', 'descricao_raca',\n",
    "       'descricao_responsavel_escolaridade',\n",
    "       'descricao_responsavel_financeiro', 'descricao_trabalho', 'idade',\n",
    "       'pessoa_fisica__sexo', 'possui_necessidade_especial', 'qnt_pc',\n",
    "       'qnt_salarios', 'qtd_pessoas_domicilio', 'sigla',\n",
    "       'tempo_entre_conclusao_ingresso'    \n",
    "]]\n",
    "\n",
    "#convertendo os NaN das notas em -1 para usar o RF \n",
    "dados['LnguaPortuguesaeLiteraturaI90H'].fillna(-1, inplace=True)\n",
    "dados['LnguaPortuguesaeLiteraturaI90H_dependencia'].fillna(-1, inplace=True)\n",
    "dados['LnguaPortuguesaeLiteraturaI90H_freq'].fillna(-1, inplace=True)\n",
    "\n",
    "dados['MatemticaI120H'].fillna(-1, inplace=True)\n",
    "dados['MatemticaI120H_dependencia'].fillna(-1, inplace=True)\n",
    "dados['MatemticaI120H_freq'].fillna(-1, inplace=True)"
   ]
  },
  {
   "cell_type": "code",
   "execution_count": 4,
   "metadata": {},
   "outputs": [
    {
     "name": "stdout",
     "output_type": "stream",
     "text": [
      "(8908, 31)\n",
      "(8908, 31)\n",
      "<class 'pandas.core.frame.DataFrame'>\n",
      "Int64Index: 8908 entries, 0 to 998\n",
      "Columns: 151 entries, LnguaPortuguesaeLiteraturaI90H to sigla_ZN\n",
      "dtypes: bool(2), float64(4), int64(9), uint8(136)\n",
      "memory usage: 2.1 MB\n",
      "None\n"
     ]
    },
    {
     "data": {
      "text/plain": [
       "<matplotlib.axes._subplots.AxesSubplot at 0x7f612700fcc0>"
      ]
     },
     "execution_count": 4,
     "metadata": {},
     "output_type": "execute_result"
    },
    {
     "name": "stderr",
     "output_type": "stream",
     "text": [
      "/home/ubuntu/anaconda3/lib/python3.6/site-packages/matplotlib/font_manager.py:1297: UserWarning: findfont: Font family ['sans-serif'] not found. Falling back to DejaVu Sans\n",
      "  (prop.get_family(), self.defaultFamily[fontext]))\n"
     ]
    },
    {
     "data": {
      "image/png": "[encoded data removed]",
      "text/plain": [
       "<matplotlib.figure.Figure at 0x7f616064c518>"
      ]
     },
     "metadata": {},
     "output_type": "display_data"
    }
   ],
   "source": [
    "X, y = preparing_data(dados)\n",
    "y.plot.hist()"
   ]
  },
  {
   "cell_type": "code",
   "execution_count": 5,
   "metadata": {
    "collapsed": true
   },
   "outputs": [],
   "source": [
    "#dividir os dados para treino e teste. default é 25% p teste\n",
    "Xtrain, Xtest, ytrain, ytest = train_test_split(X, y, random_state=0, stratify = y)"
   ]
  },
  {
   "cell_type": "code",
   "execution_count": 6,
   "metadata": {},
   "outputs": [
    {
     "name": "stdout",
     "output_type": "stream",
     "text": [
      "{'criterion': 'gini', 'max_depth': None, 'max_features': 'sqrt', 'n_estimators': 10}\n",
      "RandomForestClassifier(bootstrap=True, class_weight=None, criterion='gini',\n",
      "            max_depth=None, max_features='sqrt', max_leaf_nodes=None,\n",
      "            min_impurity_decrease=0.0, min_impurity_split=None,\n",
      "            min_samples_leaf=1, min_samples_split=2,\n",
      "            min_weight_fraction_leaf=0.0, n_estimators=10, n_jobs=-1,\n",
      "            oob_score=False, random_state=None, verbose=0,\n",
      "            warm_start=False)\n",
      "Model with rank: 1\n",
      "Mean validation score: 0.598 (std: 0.059)\n",
      "Parameters: {'criterion': 'gini', 'max_depth': None, 'max_features': 'sqrt', 'n_estimators': 10}\n",
      "\n",
      "Model with rank: 2\n",
      "Mean validation score: 0.586 (std: 0.076)\n",
      "Parameters: {'criterion': 'entropy', 'max_depth': None, 'max_features': 'auto', 'n_estimators': 10}\n",
      "\n",
      "Model with rank: 3\n",
      "Mean validation score: 0.577 (std: 0.052)\n",
      "Parameters: {'criterion': 'gini', 'max_depth': None, 'max_features': 'sqrt', 'n_estimators': 60}\n",
      "\n",
      "Model with rank: 4\n",
      "Mean validation score: 0.576 (std: 0.054)\n",
      "Parameters: {'criterion': 'entropy', 'max_depth': None, 'max_features': 'auto', 'n_estimators': 200}\n",
      "\n",
      "Model with rank: 5\n",
      "Mean validation score: 0.574 (std: 0.048)\n",
      "Parameters: {'criterion': 'gini', 'max_depth': None, 'max_features': 'sqrt', 'n_estimators': 200}\n",
      "\n"
     ]
    }
   ],
   "source": [
    "#seleciona o melhor modelo\n",
    "model_forest_completo = make_RF(Xtrain, ytrain)\n",
    "ypred_forest = model_forest_completo.predict(Xtest)"
   ]
  },
  {
   "cell_type": "code",
   "execution_count": 7,
   "metadata": {},
   "outputs": [
    {
     "name": "stderr",
     "output_type": "stream",
     "text": [
      "/home/ubuntu/anaconda3/lib/python3.6/site-packages/matplotlib/font_manager.py:1297: UserWarning: findfont: Font family ['sans-serif'] not found. Falling back to DejaVu Sans\n",
      "  (prop.get_family(), self.defaultFamily[fontext]))\n"
     ]
    },
    {
     "name": "stdout",
     "output_type": "stream",
     "text": [
      "Valor de falso positivo:0.5827338129496403\n",
      "Cálculo de índices de avaliação:\n",
      "Precisão: 0.962291; Recall: 0.989943, F1: 0.975921\n",
      "Precisão CV:\n",
      "[0.94618834 0.96412556 0.95964126 0.95067265 0.94618834 0.97757848\n",
      " 0.94618834 0.94170404 0.95045045 0.97285068]\n",
      "0.9555588124699177\n"
     ]
    },
    {
     "name": "stderr",
     "output_type": "stream",
     "text": [
      "/home/ubuntu/anaconda3/lib/python3.6/site-packages/matplotlib/font_manager.py:1297: UserWarning: findfont: Font family ['sans-serif'] not found. Falling back to DejaVu Sans\n",
      "  (prop.get_family(), self.defaultFamily[fontext]))\n"
     ]
    },
    {
     "data": {
      "image/png": "[encoded data removed]",
      "text/plain": [
       "<matplotlib.figure.Figure at 0x7f612759edd8>"
      ]
     },
     "metadata": {},
     "output_type": "display_data"
    },
    {
     "data": {
      "image/png": "[encoded data removed]",
      "text/plain": [
       "<matplotlib.figure.Figure at 0x7f61275a1080>"
      ]
     },
     "metadata": {},
     "output_type": "display_data"
    },
    {
     "name": "stdout",
     "output_type": "stream",
     "text": [
      "0.8701073623859532\n",
      "Feature ranking:\n",
      "1. feature 0 [LnguaPortuguesaeLiteraturaI90H] (0.108878)\n",
      "2. feature 3 [MatemticaI120H] (0.066783)\n",
      "3. feature 5 [MatemticaI120H_freq] (0.060685)\n",
      "4. feature 15 [conceito_I] (0.059031)\n",
      "5. feature 2 [LnguaPortuguesaeLiteraturaI90H_freq] (0.044520)\n",
      "6. feature 17 [conceito_R] (0.038645)\n",
      "7. feature 9 [idade] (0.028260)\n",
      "8. feature 23 [descricao_area_residencial_Não informado] (0.022514)\n",
      "9. feature 19 [conceito_freq_I] (0.021467)\n",
      "10. feature 1 [LnguaPortuguesaeLiteraturaI90H_dependencia] (0.019997)\n",
      "11. feature 126 [descricao_trabalho_Não informado] (0.019135)\n",
      "12. feature 13 [qtd_pessoas_domicilio] (0.017908)\n",
      "13. feature 20 [conceito_freq_R] (0.016873)\n",
      "14. feature 6 [acompanhamento] (0.016348)\n",
      "15. feature 141 [sigla_MC] (0.016103)\n",
      "16. feature 12 [qnt_salarios] (0.015963)\n",
      "17. feature 14 [tempo_entre_conclusao_ingresso] (0.015155)\n",
      "18. feature 11 [qnt_pc] (0.014160)\n",
      "19. feature 77 [descricao_mae_escolaridade_Ensino fundamental incompleto] (0.009965)\n",
      "20. feature 96 [descricao_raca_Branca] (0.009523)\n",
      "21. feature 33 [descricao_estado_civil_Divorciado(a)] (0.009319)\n",
      "22. feature 35 [descricao_estado_civil_Solteiro(a)] (0.009297)\n",
      "23. feature 131 [pessoa_fisica__sexo_M] (0.009191)\n",
      "24. feature 4 [MatemticaI120H_dependencia] (0.008414)\n",
      "25. feature 8 [artificial] (0.008334)\n",
      "26. feature 25 [descricao_area_residencial_Urbana] (0.008106)\n",
      "27. feature 132 [sigla_CA] (0.007541)\n",
      "28. feature 24 [descricao_area_residencial_Rural] (0.007452)\n",
      "29. feature 117 [descricao_responsavel_financeiro_Pai] (0.007234)\n",
      "30. feature 88 [descricao_pai_escolaridade_Ensino médio completo] (0.007230)\n",
      "31. feature 102 [descricao_responsavel_escolaridade_Ensino fundamental incompleto] (0.007056)\n",
      "32. feature 124 [descricao_trabalho_Nunca trabalhou] (0.006809)\n",
      "33. feature 10 [possui_necessidade_especial] (0.006567)\n",
      "34. feature 113 [descricao_responsavel_financeiro_Mãe] (0.006437)\n",
      "35. feature 47 [descricao_historico_Técnico de Nível Médio em Edificações] (0.006238)\n",
      "36. feature 30 [descricao_companhia_domiciliar_Pais] (0.006235)\n",
      "37. feature 26 [descricao_companhia_domiciliar_Mãe] (0.006223)\n",
      "38. feature 67 [descricao_historico_Técnico de Nível Médio em Têxtil] (0.006115)\n",
      "39. feature 136 [sigla_CN] (0.005978)\n",
      "40. feature 99 [descricao_raca_Parda] (0.005832)\n",
      "41. feature 81 [descricao_mae_escolaridade_Ensino superior incompleto] (0.005580)\n",
      "42. feature 49 [descricao_historico_Técnico de Nível Médio em Eletrotécnica] (0.005244)\n",
      "43. feature 69 [descricao_historico_Técnico em Programação de Jogos Digitais] (0.005208)\n",
      "44. feature 40 [descricao_historico_Técnico de Nivel Médio em Informática] (0.005158)\n",
      "45. feature 125 [descricao_trabalho_Não está trabalhando] (0.005128)\n",
      "46. feature 139 [sigla_JC] (0.005030)\n",
      "47. feature 135 [sigla_CM] (0.004948)\n",
      "48. feature 79 [descricao_mae_escolaridade_Ensino médio incompleto] (0.004887)\n",
      "49. feature 105 [descricao_responsavel_escolaridade_Ensino superior completo] (0.004751)\n",
      "50. feature 7 [aluno_exclusivo_rede_publica] (0.004685)\n",
      "51. feature 75 [descricao_imovel_Próprio] (0.004648)\n",
      "52. feature 137 [sigla_CNAT] (0.004219)\n",
      "53. feature 147 [sigla_SC] (0.004185)\n",
      "54. feature 89 [descricao_pai_escolaridade_Ensino médio incompleto] (0.004163)\n",
      "55. feature 60 [descricao_historico_Técnico de Nível Médio em Meio Ambiente] (0.004103)\n",
      "56. feature 140 [sigla_LAJ] (0.004060)\n",
      "57. feature 93 [descricao_pai_escolaridade_Não estudou] (0.004018)\n",
      "58. feature 103 [descricao_responsavel_escolaridade_Ensino médio completo] (0.003938)\n",
      "59. feature 78 [descricao_mae_escolaridade_Ensino médio completo] (0.003900)\n",
      "60. feature 80 [descricao_mae_escolaridade_Ensino superior completo] (0.003806)\n",
      "61. feature 31 [descricao_companhia_domiciliar_Parente(s) ou amigo(s)] (0.003745)\n",
      "62. feature 90 [descricao_pai_escolaridade_Ensino superior completo] (0.003688)\n",
      "63. feature 87 [descricao_pai_escolaridade_Ensino fundamental incompleto] (0.003678)\n",
      "64. feature 28 [descricao_companhia_domiciliar_Outros] (0.003610)\n",
      "65. feature 21 [conceito_freq_S] (0.003569)\n",
      "66. feature 143 [sigla_NC] (0.003568)\n",
      "67. feature 100 [descricao_raca_Preta] (0.003562)\n",
      "68. feature 72 [descricao_imovel_Não informado] (0.003521)\n",
      "69. feature 86 [descricao_pai_escolaridade_Ensino fundamental completo] (0.003501)\n",
      "70. feature 53 [descricao_historico_Técnico de Nível Médio em Informática] (0.003491)\n",
      "71. feature 70 [descricao_imovel_Cedido ou Emprestado] (0.003306)\n",
      "72. feature 76 [descricao_mae_escolaridade_Ensino fundamental completo] (0.003080)\n",
      "73. feature 149 [sigla_SPP] (0.002993)\n",
      "74. feature 41 [descricao_historico_Técnico de Nível Médio em Administração] (0.002938)\n",
      "75. feature 62 [descricao_historico_Técnico de Nível Médio em Multimídia] (0.002898)\n",
      "76. feature 73 [descricao_imovel_Outro] (0.002877)\n",
      "77. feature 108 [descricao_responsavel_escolaridade_Não estudou] (0.002877)\n",
      "78. feature 92 [descricao_pai_escolaridade_Não conhece] (0.002864)\n",
      "79. feature 65 [descricao_historico_Técnico de Nível Médio em Recursos Pesqueiros] (0.002543)\n",
      "80. feature 54 [descricao_historico_Técnico de Nível Médio em Informática para Internet] (0.002532)\n",
      "81. feature 71 [descricao_imovel_Financiado] (0.002512)\n",
      "82. feature 109 [descricao_responsavel_escolaridade_Pós graduação completo] (0.002488)\n",
      "83. feature 83 [descricao_mae_escolaridade_Não estudou] (0.002474)\n",
      "84. feature 57 [descricao_historico_Técnico de Nível Médio em Manutenção e Suporte em Informática] (0.002427)\n",
      "85. feature 148 [sigla_SGA] (0.002311)\n",
      "86. feature 104 [descricao_responsavel_escolaridade_Ensino médio incompleto] (0.002290)\n",
      "87. feature 111 [descricao_responsavel_financeiro_Cônjuge] (0.002247)\n",
      "88. feature 29 [descricao_companhia_domiciliar_Pai] (0.002194)\n",
      "89. feature 145 [sigla_PAR] (0.002144)\n",
      "90. feature 59 [descricao_historico_Técnico de Nível Médio em Mecânica] (0.002116)\n",
      "91. feature 94 [descricao_pai_escolaridade_Pós graduação completo] (0.002039)\n",
      "92. feature 150 [sigla_ZN] (0.001985)\n",
      "93. feature 146 [sigla_PF] (0.001980)\n",
      "94. feature 106 [descricao_responsavel_escolaridade_Ensino superior incompleto] (0.001965)\n",
      "95. feature 120 [descricao_trabalho_Autônomo] (0.001824)\n",
      "96. feature 122 [descricao_trabalho_Empresa privada] (0.001744)\n",
      "97. feature 64 [descricao_historico_Técnico de Nível Médio em Química, na Forma Integrado] (0.001736)\n",
      "98. feature 142 [sigla_MO] (0.001715)\n",
      "99. feature 134 [sigla_CANG] (0.001646)\n",
      "100. feature 119 [descricao_responsavel_financeiro_Tio(a)] (0.001633)\n",
      "101. feature 45 [descricao_historico_Técnico de Nível Médio em Comércio] (0.001580)\n",
      "102. feature 91 [descricao_pai_escolaridade_Ensino superior incompleto] (0.001552)\n",
      "103. feature 16 [conceito_O] (0.001523)\n",
      "104. feature 44 [descricao_historico_Técnico de Nível Médio em Apicultura] (0.001465)\n",
      "105. feature 115 [descricao_responsavel_financeiro_O próprio aluno] (0.001436)\n",
      "106. feature 55 [descricao_historico_Técnico de Nível Médio em Lazer] (0.001426)\n",
      "107. feature 46 [descricao_historico_Técnico de Nível Médio em Controle Ambiental] (0.001404)\n",
      "108. feature 101 [descricao_responsavel_escolaridade_Ensino fundamental completo] (0.001382)\n",
      "109. feature 138 [sigla_IP] (0.001348)\n",
      "110. feature 50 [descricao_historico_Técnico de Nível Médio em Eletrônica] (0.001278)\n",
      "111. feature 61 [descricao_historico_Técnico de Nível Médio em Mineração] (0.001228)\n",
      "112. feature 84 [descricao_mae_escolaridade_Pós graduação completo] (0.001211)\n",
      "113. feature 37 [descricao_historico_Técnico de Nivel Médio em Agropecuária, na Forma Integrada] (0.001173)\n",
      "114. feature 144 [sigla_PAAS] (0.001126)\n",
      "115. feature 68 [descricao_historico_Técnico de Nível Médio em Vestuário] (0.001061)\n",
      "116. feature 133 [sigla_CAL] (0.001019)\n",
      "117. feature 58 [descricao_historico_Técnico de Nível Médio em Mecatrônica] (0.000973)\n",
      "118. feature 43 [descricao_historico_Técnico de Nível Médio em Alimentos] (0.000911)\n",
      "119. feature 52 [descricao_historico_Técnico de Nível Médio em Geologia] (0.000895)\n",
      "120. feature 128 [descricao_trabalho_Serviço público] (0.000873)\n",
      "121. feature 116 [descricao_responsavel_financeiro_Outros] (0.000865)\n",
      "122. feature 129 [descricao_trabalho_Trabalha com vínculo empregatício] (0.000799)\n",
      "123. feature 48 [descricao_historico_Técnico de Nível Médio em Eletromecânica] (0.000737)\n",
      "124. feature 51 [descricao_historico_Técnico de Nível Médio em Eventos] (0.000729)\n",
      "125. feature 110 [descricao_responsavel_escolaridade_Pós graduação incompleto] (0.000705)\n",
      "126. feature 56 [descricao_historico_Técnico de Nível Médio em Logística] (0.000642)\n",
      "127. feature 18 [conceito_S] (0.000601)\n",
      "128. feature 112 [descricao_responsavel_financeiro_Irmão(ã)] (0.000575)\n",
      "129. feature 42 [descricao_historico_Técnico de Nível Médio em Agroecologia] (0.000531)\n",
      "130. feature 39 [descricao_historico_Técnico de Nivel Médio em Equipamentos Biomédicos] (0.000499)\n",
      "131. feature 38 [descricao_historico_Técnico de Nivel Médio em Biocombustíveis] (0.000356)\n",
      "132. feature 130 [descricao_trabalho_Trabalhador rural/Agricultor] (0.000335)\n",
      "133. feature 114 [descricao_responsavel_financeiro_Não informado] (0.000305)\n",
      "134. feature 98 [descricao_raca_Não declarado] (0.000297)\n",
      "135. feature 63 [descricao_historico_Técnico de Nível Médio em Química] (0.000282)\n",
      "136. feature 123 [descricao_trabalho_Estágio ou bolsa] (0.000236)\n",
      "137. feature 27 [descricao_companhia_domiciliar_Não informado] (0.000211)\n",
      "138. feature 66 [descricao_historico_Técnico de Nível Médio em Refrigeração e Climatização] (0.000189)\n",
      "139. feature 97 [descricao_raca_Indígena] (0.000182)\n",
      "140. feature 107 [descricao_responsavel_escolaridade_Não conhece] (0.000160)\n",
      "141. feature 85 [descricao_mae_escolaridade_Pós graduação incompleto] (0.000159)\n",
      "142. feature 121 [descricao_trabalho_Beneficiário ou Pensionista do INSS] (0.000122)\n",
      "143. feature 95 [descricao_pai_escolaridade_Pós graduação incompleto] (0.000093)\n",
      "144. feature 118 [descricao_responsavel_financeiro_Parentes] (0.000036)\n",
      "145. feature 34 [descricao_estado_civil_Não declarado] (0.000001)\n",
      "146. feature 32 [descricao_companhia_domiciliar_Sozinho(a)] (0.000000)\n",
      "147. feature 127 [descricao_trabalho_Pescador] (0.000000)\n",
      "148. feature 74 [descricao_imovel_Pensionato ou Alojamento] (0.000000)\n",
      "149. feature 82 [descricao_mae_escolaridade_Não conhece] (0.000000)\n",
      "150. feature 22 [descricao_area_residencial_Comunidade Quilombola] (0.000000)\n",
      "151. feature 36 [descricao_estado_civil_União Estável] (0.000000)\n"
     ]
    },
    {
     "data": {
      "image/png": "[encoded data removed]",
      "text/plain": [
       "<matplotlib.figure.Figure at 0x7f61270c8f28>"
      ]
     },
     "metadata": {},
     "output_type": "display_data"
    }
   ],
   "source": [
    "#avaliacao do modelo\n",
    "evaluating(model_forest_completo, ytest, ypred_forest, Xtest)\n",
    "\n",
    "feature_ranking(Xtest, model_forest_completo)"
   ]
  },
  {
   "cell_type": "markdown",
   "metadata": {},
   "source": [
    "# Modelo 02: aumentando a quantidade de instâncias da classe de evasão\n",
    "\n",
    "para tentar resolver o problema da classe desbalanceada será acrescentada novas instâncias a base da classe 0, a partir da duplicação de instâncias já contidas na base. Foram removidos as instâncias com dados gerados de forma artificial e as instâncias com notas NAN "
   ]
  },
  {
   "cell_type": "code",
   "execution_count": 18,
   "metadata": {},
   "outputs": [
    {
     "data": {
      "text/plain": [
       "1    7369\n",
       "0     349\n",
       "Name: classe, dtype: int64"
      ]
     },
     "execution_count": 18,
     "metadata": {},
     "output_type": "execute_result"
    }
   ],
   "source": [
    "dados = dados_tunning.copy()\n",
    "\n",
    "dados = dados[[\n",
    "       'LnguaPortuguesaeLiteraturaI90H',\n",
    "       'LnguaPortuguesaeLiteraturaI90H_dependencia',\n",
    "       'LnguaPortuguesaeLiteraturaI90H_freq', 'MatemticaI120H',\n",
    "       'MatemticaI120H_dependencia', 'MatemticaI120H_freq', 'acompanhamento',\n",
    "       'aluno_exclusivo_rede_publica', 'artificial', 'classe', 'conceito',\n",
    "       'conceito_freq', 'descricao_area_residencial',\n",
    "       'descricao_companhia_domiciliar', 'descricao_estado_civil',\n",
    "       'descricao_historico', 'descricao_imovel', 'descricao_mae_escolaridade',\n",
    "       'descricao_pai_escolaridade', 'descricao_raca',\n",
    "       'descricao_responsavel_escolaridade',\n",
    "       'descricao_responsavel_financeiro', 'descricao_trabalho', 'idade',\n",
    "       'pessoa_fisica__sexo', 'possui_necessidade_especial', 'qnt_pc',\n",
    "       'qnt_salarios', 'qtd_pessoas_domicilio', 'sigla',\n",
    "       'tempo_entre_conclusao_ingresso'    \n",
    "]]\n",
    "\n",
    "dados = dados[dados.artificial == 0]\n",
    "dados.classe.value_counts()"
   ]
  },
  {
   "cell_type": "code",
   "execution_count": 19,
   "metadata": {
    "collapsed": true
   },
   "outputs": [],
   "source": [
    "Xtrain, Xtest, ytrain, ytest = train_test_split(dados, dados.classe, random_state=0, stratify = dados.classe)"
   ]
  },
  {
   "cell_type": "code",
   "execution_count": 21,
   "metadata": {},
   "outputs": [
    {
     "name": "stdout",
     "output_type": "stream",
     "text": [
      "1    5526\n",
      "0    5526\n",
      "Name: classe, dtype: int64\n"
     ]
    }
   ],
   "source": [
    "# separa as classes majoritária e minoritária \n",
    "df_majority = Xtrain[Xtrain.classe==1]\n",
    "df_minority = Xtrain[Xtrain.classe==0]\n",
    " \n",
    "# Upsample classe minoritária\n",
    "df_minority_upsampled = resample(df_minority, \n",
    "                                 replace=True,     # sample com reposição\n",
    "                                 n_samples=df_majority.shape[0],    # iguala a quantidade da classe majoritária\n",
    "                                 random_state=0) \n",
    " \n",
    "# junta as duas classes\n",
    "df_upsampled = pd.concat([df_majority, df_minority_upsampled])\n",
    " \n",
    "print(df_upsampled.classe.value_counts())\n",
    "#dados = "
   ]
  },
  {
   "cell_type": "code",
   "execution_count": 22,
   "metadata": {},
   "outputs": [
    {
     "name": "stdout",
     "output_type": "stream",
     "text": [
      "(11052, 31)\n",
      "(1930, 31)\n"
     ]
    }
   ],
   "source": [
    "print(df_upsampled.shape)\n",
    "print(Xtest.shape)"
   ]
  },
  {
   "cell_type": "code",
   "execution_count": 34,
   "metadata": {},
   "outputs": [
    {
     "name": "stdout",
     "output_type": "stream",
     "text": [
      "(11052, 31)\n",
      "(9585, 31)\n",
      "<class 'pandas.core.frame.DataFrame'>\n",
      "Int64Index: 9585 entries, 5781 to 6589\n",
      "Columns: 149 entries, LnguaPortuguesaeLiteraturaI90H to sigla_ZN\n",
      "dtypes: bool(2), float64(4), int64(9), uint8(134)\n",
      "memory usage: 2.3 MB\n",
      "None\n",
      "(1930, 31)\n",
      "(1497, 31)\n",
      "<class 'pandas.core.frame.DataFrame'>\n",
      "Int64Index: 1497 entries, 7727 to 5596\n",
      "Columns: 145 entries, LnguaPortuguesaeLiteraturaI90H to sigla_ZN\n",
      "dtypes: bool(2), float64(4), int64(9), uint8(130)\n",
      "memory usage: 356.7 KB\n",
      "None\n",
      "(9585, 149)\n",
      "(1497, 145)\n",
      "descricao_area_residencial_Comunidade Quilombola\n",
      "descricao_area_residencial_Não informado\n",
      "descricao_imovel_Pensionato ou Alojamento\n",
      "descricao_trabalho_Pescador\n",
      "(9585, 145)\n",
      "(1497, 145)\n"
     ]
    }
   ],
   "source": [
    "Xtrain, ytrain = preparing_data(df_upsampled)\n",
    "Xtest2, ytest  = preparing_data(Xtest)\n",
    "\n",
    "#ocorreu um problema que havia atributos q havia no treino, mas nao havia no teste devido a binarizacao dos elementos categoricos\n",
    "#abaixo é consertado esse problema removendo os atributos que nao estao em comuns\n",
    "print(Xtrain.shape)\n",
    "print(Xtest2.shape)\n",
    "\n",
    "res = np.setdiff1d(Xtrain.columns, Xtest2.columns)\n",
    "for c in res:\n",
    "    print(c)\n",
    "    del Xtrain[c]\n",
    "\n",
    "print(Xtrain.shape)\n",
    "print(Xtest2.shape)    \n",
    "    \n",
    "#dividir os dados para treino e teste. default é 25% p teste\n",
    "#Xtrain, Xtest, ytrain, ytest = train_test_split(X, y, random_state=0, stratify = y)"
   ]
  },
  {
   "cell_type": "code",
   "execution_count": 35,
   "metadata": {},
   "outputs": [
    {
     "name": "stdout",
     "output_type": "stream",
     "text": [
      "{'criterion': 'gini', 'max_depth': None, 'max_features': 'log2', 'n_estimators': 200}\n",
      "RandomForestClassifier(bootstrap=True, class_weight=None, criterion='gini',\n",
      "            max_depth=None, max_features='log2', max_leaf_nodes=None,\n",
      "            min_impurity_decrease=0.0, min_impurity_split=None,\n",
      "            min_samples_leaf=1, min_samples_split=2,\n",
      "            min_weight_fraction_leaf=0.0, n_estimators=200, n_jobs=-1,\n",
      "            oob_score=False, random_state=None, verbose=0,\n",
      "            warm_start=False)\n",
      "Model with rank: 1\n",
      "Mean validation score: 0.992 (std: 0.004)\n",
      "Parameters: {'criterion': 'gini', 'max_depth': None, 'max_features': 'log2', 'n_estimators': 200}\n",
      "\n",
      "Model with rank: 2\n",
      "Mean validation score: 0.992 (std: 0.003)\n",
      "Parameters: {'criterion': 'entropy', 'max_depth': None, 'max_features': 'log2', 'n_estimators': 200}\n",
      "\n",
      "Model with rank: 3\n",
      "Mean validation score: 0.992 (std: 0.003)\n",
      "Parameters: {'criterion': 'gini', 'max_depth': None, 'max_features': 'log2', 'n_estimators': 100}\n",
      "\n",
      "Model with rank: 4\n",
      "Mean validation score: 0.991 (std: 0.004)\n",
      "Parameters: {'criterion': 'entropy', 'max_depth': None, 'max_features': 'log2', 'n_estimators': 60}\n",
      "\n",
      "Model with rank: 5\n",
      "Mean validation score: 0.991 (std: 0.003)\n",
      "Parameters: {'criterion': 'gini', 'max_depth': None, 'max_features': 'log2', 'n_estimators': 60}\n",
      "\n"
     ]
    }
   ],
   "source": [
    "#seleciona o melhor modelo\n",
    "model_forest_up = make_RF(Xtrain, ytrain)"
   ]
  },
  {
   "cell_type": "code",
   "execution_count": 36,
   "metadata": {},
   "outputs": [
    {
     "name": "stderr",
     "output_type": "stream",
     "text": [
      "/home/ubuntu/anaconda3/lib/python3.6/site-packages/matplotlib/font_manager.py:1297: UserWarning: findfont: Font family ['sans-serif'] not found. Falling back to DejaVu Sans\n",
      "  (prop.get_family(), self.defaultFamily[fontext]))\n"
     ]
    },
    {
     "name": "stdout",
     "output_type": "stream",
     "text": [
      "Valor de falso positivo:0.5882352941176471\n",
      "Cálculo de índices de avaliação:\n",
      "Precisão: 0.965659; Recall: 0.995751, F1: 0.980474\n",
      "Precisão CV:\n",
      "[0.94701987 0.95364238 0.94666667 0.95333333 0.94666667 0.95302013\n",
      " 0.94630872 0.95973154 0.94630872 0.94630872]\n",
      "0.9499006770671287\n"
     ]
    },
    {
     "name": "stderr",
     "output_type": "stream",
     "text": [
      "/home/ubuntu/anaconda3/lib/python3.6/site-packages/matplotlib/font_manager.py:1297: UserWarning: findfont: Font family ['sans-serif'] not found. Falling back to DejaVu Sans\n",
      "  (prop.get_family(), self.defaultFamily[fontext]))\n"
     ]
    },
    {
     "data": {
      "image/png": "[encoded data removed]",
      "text/plain": [
       "<matplotlib.figure.Figure at 0x7f612756fc18>"
      ]
     },
     "metadata": {},
     "output_type": "display_data"
    },
    {
     "data": {
      "image/png": "[encoded data removed]",
      "text/plain": [
       "<matplotlib.figure.Figure at 0x7f612769c0b8>"
      ]
     },
     "metadata": {},
     "output_type": "display_data"
    },
    {
     "name": "stdout",
     "output_type": "stream",
     "text": [
      "0.9231294784202635\n",
      "Feature ranking:\n",
      "1. feature 0 [LnguaPortuguesaeLiteraturaI90H] (0.151945)\n",
      "2. feature 3 [MatemticaI120H] (0.139596)\n",
      "3. feature 17 [conceito_R] (0.083542)\n",
      "4. feature 5 [MatemticaI120H_freq] (0.052790)\n",
      "5. feature 15 [conceito_I] (0.048031)\n",
      "6. feature 2 [LnguaPortuguesaeLiteraturaI90H_freq] (0.033158)\n",
      "7. feature 9 [idade] (0.031992)\n",
      "8. feature 13 [qtd_pessoas_domicilio] (0.018555)\n",
      "9. feature 16 [conceito_O] (0.017546)\n",
      "10. feature 12 [qnt_salarios] (0.016588)\n",
      "11. feature 11 [qnt_pc] (0.015153)\n",
      "12. feature 14 [tempo_entre_conclusao_ingresso] (0.014851)\n",
      "13. feature 1 [LnguaPortuguesaeLiteraturaI90H_dependencia] (0.014208)\n",
      "14. feature 4 [MatemticaI120H_dependencia] (0.013508)\n",
      "15. feature 6 [acompanhamento] (0.011548)\n",
      "16. feature 19 [conceito_freq_R] (0.010950)\n",
      "17. feature 10 [possui_necessidade_especial] (0.009158)\n",
      "18. feature 7 [aluno_exclusivo_rede_publica] (0.007618)\n",
      "19. feature 125 [pessoa_fisica__sexo_M] (0.007558)\n",
      "20. feature 73 [descricao_mae_escolaridade_Ensino médio completo] (0.007050)\n",
      "21. feature 131 [sigla_CNAT] (0.007040)\n",
      "22. feature 94 [descricao_raca_Parda] (0.006671)\n",
      "23. feature 26 [descricao_companhia_domiciliar_Pais] (0.006607)\n",
      "24. feature 70 [descricao_imovel_Próprio] (0.006578)\n",
      "25. feature 43 [descricao_historico_Técnico de Nível Médio em Edificações] (0.006227)\n",
      "26. feature 91 [descricao_raca_Branca] (0.006153)\n",
      "27. feature 83 [descricao_pai_escolaridade_Ensino médio completo] (0.006102)\n",
      "28. feature 119 [descricao_trabalho_Nunca trabalhou] (0.005902)\n",
      "29. feature 82 [descricao_pai_escolaridade_Ensino fundamental incompleto] (0.005862)\n",
      "30. feature 36 [descricao_historico_Técnico de Nivel Médio em Informática] (0.005811)\n",
      "31. feature 112 [descricao_responsavel_financeiro_Pai] (0.005749)\n",
      "32. feature 22 [descricao_companhia_domiciliar_Mãe] (0.005678)\n",
      "33. feature 98 [descricao_responsavel_escolaridade_Ensino médio completo] (0.005614)\n",
      "34. feature 108 [descricao_responsavel_financeiro_Mãe] (0.005600)\n",
      "35. feature 97 [descricao_responsavel_escolaridade_Ensino fundamental incompleto] (0.005485)\n",
      "36. feature 72 [descricao_mae_escolaridade_Ensino fundamental incompleto] (0.005482)\n",
      "37. feature 45 [descricao_historico_Técnico de Nível Médio em Eletrotécnica] (0.005379)\n",
      "38. feature 27 [descricao_companhia_domiciliar_Parente(s) ou amigo(s)] (0.005180)\n",
      "39. feature 135 [sigla_MC] (0.005126)\n",
      "40. feature 120 [descricao_trabalho_Não está trabalhando] (0.005029)\n",
      "41. feature 21 [descricao_area_residencial_Urbana] (0.004732)\n",
      "42. feature 20 [descricao_area_residencial_Rural] (0.004580)\n",
      "43. feature 76 [descricao_mae_escolaridade_Ensino superior incompleto] (0.004374)\n",
      "44. feature 61 [descricao_historico_Técnico de Nível Médio em Recursos Pesqueiros] (0.004315)\n",
      "45. feature 74 [descricao_mae_escolaridade_Ensino médio incompleto] (0.004078)\n",
      "46. feature 84 [descricao_pai_escolaridade_Ensino médio incompleto] (0.004033)\n",
      "47. feature 126 [sigla_CA] (0.004018)\n",
      "48. feature 95 [descricao_raca_Preta] (0.003859)\n",
      "49. feature 100 [descricao_responsavel_escolaridade_Ensino superior completo] (0.003568)\n",
      "50. feature 99 [descricao_responsavel_escolaridade_Ensino médio incompleto] (0.003473)\n",
      "51. feature 37 [descricao_historico_Técnico de Nível Médio em Administração] (0.003472)\n",
      "52. feature 85 [descricao_pai_escolaridade_Ensino superior completo] (0.003455)\n",
      "53. feature 75 [descricao_mae_escolaridade_Ensino superior completo] (0.003431)\n",
      "54. feature 67 [descricao_imovel_Financiado] (0.003390)\n",
      "55. feature 130 [sigla_CN] (0.003229)\n",
      "56. feature 133 [sigla_JC] (0.003100)\n",
      "57. feature 81 [descricao_pai_escolaridade_Ensino fundamental completo] (0.003089)\n",
      "58. feature 144 [sigla_ZN] (0.003085)\n",
      "59. feature 139 [sigla_PAR] (0.003085)\n",
      "60. feature 134 [sigla_LAJ] (0.002949)\n",
      "61. feature 101 [descricao_responsavel_escolaridade_Ensino superior incompleto] (0.002851)\n",
      "62. feature 24 [descricao_companhia_domiciliar_Outros] (0.002822)\n",
      "63. feature 96 [descricao_responsavel_escolaridade_Ensino fundamental completo] (0.002724)\n",
      "64. feature 49 [descricao_historico_Técnico de Nível Médio em Informática] (0.002712)\n",
      "65. feature 143 [sigla_SPP] (0.002652)\n",
      "66. feature 39 [descricao_historico_Técnico de Nível Médio em Alimentos] (0.002570)\n",
      "67. feature 141 [sigla_SC] (0.002562)\n",
      "68. feature 104 [descricao_responsavel_escolaridade_Pós graduação completo] (0.002517)\n",
      "69. feature 137 [sigla_NC] (0.002467)\n",
      "70. feature 142 [sigla_SGA] (0.002404)\n",
      "71. feature 71 [descricao_mae_escolaridade_Ensino fundamental completo] (0.002399)\n",
      "72. feature 18 [conceito_freq_I] (0.002391)\n",
      "73. feature 55 [descricao_historico_Técnico de Nível Médio em Mecânica] (0.002341)\n",
      "74. feature 25 [descricao_companhia_domiciliar_Pai] (0.002303)\n",
      "75. feature 65 [descricao_historico_Técnico em Programação de Jogos Digitais] (0.002298)\n",
      "76. feature 79 [descricao_mae_escolaridade_Pós graduação completo] (0.002265)\n",
      "77. feature 132 [sigla_IP] (0.002184)\n",
      "78. feature 129 [sigla_CM] (0.002142)\n",
      "79. feature 115 [descricao_trabalho_Autônomo] (0.002140)\n",
      "80. feature 50 [descricao_historico_Técnico de Nível Médio em Informática para Internet] (0.002115)\n",
      "81. feature 103 [descricao_responsavel_escolaridade_Não estudou] (0.002083)\n",
      "82. feature 136 [sigla_MO] (0.002073)\n",
      "83. feature 56 [descricao_historico_Técnico de Nível Médio em Meio Ambiente] (0.002014)\n",
      "84. feature 88 [descricao_pai_escolaridade_Não estudou] (0.002007)\n",
      "85. feature 121 [descricao_trabalho_Não informado] (0.002000)\n",
      "86. feature 128 [sigla_CANG] (0.001979)\n",
      "87. feature 86 [descricao_pai_escolaridade_Ensino superior incompleto] (0.001906)\n",
      "88. feature 53 [descricao_historico_Técnico de Nível Médio em Manutenção e Suporte em Informática] (0.001879)\n",
      "89. feature 42 [descricao_historico_Técnico de Nível Médio em Controle Ambiental] (0.001816)\n",
      "90. feature 47 [descricao_historico_Técnico de Nível Médio em Eventos] (0.001702)\n",
      "91. feature 107 [descricao_responsavel_financeiro_Irmão(ã)] (0.001680)\n",
      "92. feature 66 [descricao_imovel_Cedido ou Emprestado] (0.001572)\n",
      "93. feature 33 [descricao_historico_Técnico de Nivel Médio em Agropecuária, na Forma Integrada] (0.001550)\n",
      "94. feature 87 [descricao_pai_escolaridade_Não conhece] (0.001534)\n",
      "95. feature 78 [descricao_mae_escolaridade_Não estudou] (0.001483)\n",
      "96. feature 69 [descricao_imovel_Outro] (0.001453)\n",
      "97. feature 89 [descricao_pai_escolaridade_Pós graduação completo] (0.001440)\n",
      "98. feature 63 [descricao_historico_Técnico de Nível Médio em Têxtil] (0.001363)\n",
      "99. feature 57 [descricao_historico_Técnico de Nível Médio em Mineração] (0.001229)\n",
      "100. feature 138 [sigla_PAAS] (0.001185)\n",
      "101. feature 54 [descricao_historico_Técnico de Nível Médio em Mecatrônica] (0.001141)\n",
      "102. feature 46 [descricao_historico_Técnico de Nível Médio em Eletrônica] (0.001105)\n",
      "103. feature 41 [descricao_historico_Técnico de Nível Médio em Comércio] (0.001104)\n",
      "104. feature 127 [sigla_CAL] (0.000983)\n",
      "105. feature 48 [descricao_historico_Técnico de Nível Médio em Geologia] (0.000975)\n",
      "106. feature 111 [descricao_responsavel_financeiro_Outros] (0.000952)\n",
      "107. feature 124 [descricao_trabalho_Trabalhador rural/Agricultor] (0.000889)\n",
      "108. feature 117 [descricao_trabalho_Empresa privada] (0.000883)\n",
      "109. feature 140 [sigla_PF] (0.000862)\n",
      "110. feature 58 [descricao_historico_Técnico de Nível Médio em Multimídia] (0.000833)\n",
      "111. feature 122 [descricao_trabalho_Serviço público] (0.000739)\n",
      "112. feature 60 [descricao_historico_Técnico de Nível Médio em Química, na Forma Integrado] (0.000648)\n",
      "113. feature 93 [descricao_raca_Não declarado] (0.000623)\n",
      "114. feature 31 [descricao_estado_civil_Solteiro(a)] (0.000602)\n",
      "115. feature 44 [descricao_historico_Técnico de Nível Médio em Eletromecânica] (0.000544)\n",
      "116. feature 114 [descricao_responsavel_financeiro_Tio(a)] (0.000528)\n",
      "117. feature 38 [descricao_historico_Técnico de Nível Médio em Agroecologia] (0.000518)\n",
      "118. feature 40 [descricao_historico_Técnico de Nível Médio em Apicultura] (0.000464)\n",
      "119. feature 106 [descricao_responsavel_financeiro_Cônjuge] (0.000447)\n",
      "120. feature 110 [descricao_responsavel_financeiro_O próprio aluno] (0.000433)\n",
      "121. feature 52 [descricao_historico_Técnico de Nível Médio em Logística] (0.000419)\n",
      "122. feature 59 [descricao_historico_Técnico de Nível Médio em Química] (0.000419)\n",
      "123. feature 92 [descricao_raca_Indígena] (0.000417)\n",
      "124. feature 113 [descricao_responsavel_financeiro_Parentes] (0.000417)\n",
      "125. feature 34 [descricao_historico_Técnico de Nivel Médio em Biocombustíveis] (0.000403)\n",
      "126. feature 29 [descricao_estado_civil_Divorciado(a)] (0.000401)\n",
      "127. feature 116 [descricao_trabalho_Beneficiário ou Pensionista do INSS] (0.000386)\n",
      "128. feature 118 [descricao_trabalho_Estágio ou bolsa] (0.000313)\n",
      "129. feature 62 [descricao_historico_Técnico de Nível Médio em Refrigeração e Climatização] (0.000309)\n",
      "130. feature 51 [descricao_historico_Técnico de Nível Médio em Lazer] (0.000301)\n",
      "131. feature 35 [descricao_historico_Técnico de Nivel Médio em Equipamentos Biomédicos] (0.000295)\n",
      "132. feature 64 [descricao_historico_Técnico de Nível Médio em Vestuário] (0.000291)\n",
      "133. feature 80 [descricao_mae_escolaridade_Pós graduação incompleto] (0.000279)\n",
      "134. feature 123 [descricao_trabalho_Trabalha com vínculo empregatício] (0.000191)\n",
      "135. feature 105 [descricao_responsavel_escolaridade_Pós graduação incompleto] (0.000182)\n",
      "136. feature 77 [descricao_mae_escolaridade_Não conhece] (0.000178)\n",
      "137. feature 102 [descricao_responsavel_escolaridade_Não conhece] (0.000171)\n",
      "138. feature 23 [descricao_companhia_domiciliar_Não informado] (0.000140)\n",
      "139. feature 90 [descricao_pai_escolaridade_Pós graduação incompleto] (0.000119)\n",
      "140. feature 109 [descricao_responsavel_financeiro_Não informado] (0.000118)\n",
      "141. feature 32 [descricao_estado_civil_União Estável] (0.000117)\n",
      "142. feature 68 [descricao_imovel_Não informado] (0.000062)\n",
      "143. feature 30 [descricao_estado_civil_Não declarado] (0.000040)\n",
      "144. feature 28 [descricao_companhia_domiciliar_Sozinho(a)] (0.000013)\n",
      "145. feature 8 [artificial] (0.000000)\n"
     ]
    },
    {
     "data": {
      "image/png": "[encoded data removed]",
      "text/plain": [
       "<matplotlib.figure.Figure at 0x7f612760b6a0>"
      ]
     },
     "metadata": {},
     "output_type": "display_data"
    }
   ],
   "source": [
    "ypred_forest = model_forest_up.predict(Xtest2)\n",
    "\n",
    "#avaliacao do modelo\n",
    "evaluating(model_forest_up, ytest, ypred_forest, Xtest2)\n",
    "\n",
    "feature_ranking(Xtest2, model_forest_up)"
   ]
  },
  {
   "cell_type": "markdown",
   "metadata": {},
   "source": [
    "# Modelo 03: diminuindo a quantidade de instâncias da classe 01"
   ]
  },
  {
   "cell_type": "code",
   "execution_count": 37,
   "metadata": {},
   "outputs": [
    {
     "name": "stdout",
     "output_type": "stream",
     "text": [
      "1    7369\n",
      "0     349\n",
      "Name: classe, dtype: int64\n"
     ]
    },
    {
     "data": {
      "text/plain": [
       "1    349\n",
       "0    349\n",
       "Name: classe, dtype: int64"
      ]
     },
     "execution_count": 37,
     "metadata": {},
     "output_type": "execute_result"
    }
   ],
   "source": [
    "dados = dados_tunning.copy()\n",
    "\n",
    "dados = dados[[\n",
    "       'LnguaPortuguesaeLiteraturaI90H',\n",
    "       'LnguaPortuguesaeLiteraturaI90H_dependencia',\n",
    "       'LnguaPortuguesaeLiteraturaI90H_freq', 'MatemticaI120H',\n",
    "       'MatemticaI120H_dependencia', 'MatemticaI120H_freq', 'acompanhamento',\n",
    "       'aluno_exclusivo_rede_publica', 'artificial', 'classe', 'conceito',\n",
    "       'conceito_freq', 'descricao_area_residencial',\n",
    "       'descricao_companhia_domiciliar', 'descricao_estado_civil',\n",
    "       'descricao_historico', 'descricao_imovel', 'descricao_mae_escolaridade',\n",
    "       'descricao_pai_escolaridade', 'descricao_raca',\n",
    "       'descricao_responsavel_escolaridade',\n",
    "       'descricao_responsavel_financeiro', 'descricao_trabalho', 'idade',\n",
    "       'pessoa_fisica__sexo', 'possui_necessidade_especial', 'qnt_pc',\n",
    "       'qnt_salarios', 'qtd_pessoas_domicilio', 'sigla',\n",
    "       'tempo_entre_conclusao_ingresso'    \n",
    "]] \n",
    "\n",
    "dados = dados[dados.artificial == 0]\n",
    "print(dados.classe.value_counts())\n",
    "\n",
    "# Separate majority and minority classes\n",
    "df_majority = dados[dados.classe==1]\n",
    "df_minority = dados[dados.classe==0]\n",
    " \n",
    "# Downsample majority class\n",
    "df_majority_downsampled = resample(df_majority, \n",
    "                                 replace=False,    # sample without replacement\n",
    "                                 n_samples=df_minority.shape[0],     # to match minority class\n",
    "                                 random_state=0) # reproducible results\n",
    " \n",
    "# Combine majority class with upsampled minority class\n",
    "df_upsampled = pd.concat([df_minority, df_majority_downsampled])\n",
    " \n",
    "# Display new class counts\n",
    "df_upsampled.classe.value_counts()\n",
    "#dados = df_upsampled"
   ]
  },
  {
   "cell_type": "code",
   "execution_count": 39,
   "metadata": {},
   "outputs": [
    {
     "name": "stdout",
     "output_type": "stream",
     "text": [
      "(698, 31)\n",
      "(613, 31)\n",
      "<class 'pandas.core.frame.DataFrame'>\n",
      "Int64Index: 613 entries, 1028 to 31\n",
      "Columns: 143 entries, LnguaPortuguesaeLiteraturaI90H to sigla_ZN\n",
      "dtypes: bool(2), float64(4), int64(9), uint8(128)\n",
      "memory usage: 144.9 KB\n",
      "None\n"
     ]
    }
   ],
   "source": [
    "X, y = preparing_data(df_upsampled)\n",
    "\n",
    "#dividir os dados para treino e teste. default é 25% p teste\n",
    "Xtrain, Xtest, ytrain, ytest = train_test_split(X, y, random_state=0, stratify = y)"
   ]
  },
  {
   "cell_type": "code",
   "execution_count": 40,
   "metadata": {},
   "outputs": [
    {
     "name": "stdout",
     "output_type": "stream",
     "text": [
      "{'criterion': 'entropy', 'max_depth': None, 'max_features': 'auto', 'n_estimators': 200}\n",
      "RandomForestClassifier(bootstrap=True, class_weight=None, criterion='entropy',\n",
      "            max_depth=None, max_features='auto', max_leaf_nodes=None,\n",
      "            min_impurity_decrease=0.0, min_impurity_split=None,\n",
      "            min_samples_leaf=1, min_samples_split=2,\n",
      "            min_weight_fraction_leaf=0.0, n_estimators=200, n_jobs=-1,\n",
      "            oob_score=False, random_state=None, verbose=0,\n",
      "            warm_start=False)\n",
      "Model with rank: 1\n",
      "Mean validation score: 0.767 (std: 0.086)\n",
      "Parameters: {'criterion': 'entropy', 'max_depth': None, 'max_features': 'auto', 'n_estimators': 200}\n",
      "\n",
      "Model with rank: 2\n",
      "Mean validation score: 0.763 (std: 0.089)\n",
      "Parameters: {'criterion': 'entropy', 'max_depth': None, 'max_features': 'log2', 'n_estimators': 100}\n",
      "\n",
      "Model with rank: 3\n",
      "Mean validation score: 0.758 (std: 0.070)\n",
      "Parameters: {'criterion': 'entropy', 'max_depth': None, 'max_features': 'sqrt', 'n_estimators': 100}\n",
      "\n",
      "Model with rank: 4\n",
      "Mean validation score: 0.754 (std: 0.081)\n",
      "Parameters: {'criterion': 'gini', 'max_depth': None, 'max_features': 'log2', 'n_estimators': 200}\n",
      "\n",
      "Model with rank: 5\n",
      "Mean validation score: 0.754 (std: 0.096)\n",
      "Parameters: {'criterion': 'gini', 'max_depth': None, 'max_features': 'sqrt', 'n_estimators': 60}\n",
      "\n",
      "Valor de falso positivo:0.10843373493975904\n",
      "Cálculo de índices de avaliação:\n",
      "Precisão: 0.857143; Recall: 0.760563, F1: 0.805970\n",
      "Precisão CV:\n"
     ]
    },
    {
     "name": "stderr",
     "output_type": "stream",
     "text": [
      "/home/ubuntu/anaconda3/lib/python3.6/site-packages/matplotlib/font_manager.py:1297: UserWarning: findfont: Font family ['sans-serif'] not found. Falling back to DejaVu Sans\n",
      "  (prop.get_family(), self.defaultFamily[fontext]))\n"
     ]
    },
    {
     "name": "stdout",
     "output_type": "stream",
     "text": [
      "[0.82352941 0.875      0.8125     0.73333333 1.         0.6\n",
      " 0.8        0.73333333 0.93333333 0.93333333]\n",
      "0.824436274509804\n"
     ]
    },
    {
     "name": "stderr",
     "output_type": "stream",
     "text": [
      "/home/ubuntu/anaconda3/lib/python3.6/site-packages/matplotlib/font_manager.py:1297: UserWarning: findfont: Font family ['sans-serif'] not found. Falling back to DejaVu Sans\n",
      "  (prop.get_family(), self.defaultFamily[fontext]))\n"
     ]
    },
    {
     "data": {
      "image/png": "[encoded data removed]",
      "text/plain": [
       "<matplotlib.figure.Figure at 0x7f6127067e10>"
      ]
     },
     "metadata": {},
     "output_type": "display_data"
    },
    {
     "data": {
      "image/png": "[encoded data removed]",
      "text/plain": [
       "<matplotlib.figure.Figure at 0x7f6127006208>"
      ]
     },
     "metadata": {},
     "output_type": "display_data"
    },
    {
     "name": "stdout",
     "output_type": "stream",
     "text": [
      "0.8889360257933141\n",
      "Feature ranking:\n",
      "1. feature 3 [MatemticaI120H] (0.152994)\n",
      "2. feature 0 [LnguaPortuguesaeLiteraturaI90H] (0.135891)\n",
      "3. feature 17 [conceito_R] (0.085075)\n",
      "4. feature 15 [conceito_I] (0.058443)\n",
      "5. feature 5 [MatemticaI120H_freq] (0.047436)\n",
      "6. feature 2 [LnguaPortuguesaeLiteraturaI90H_freq] (0.034506)\n",
      "7. feature 16 [conceito_O] (0.029525)\n",
      "8. feature 9 [idade] (0.023862)\n",
      "9. feature 13 [qtd_pessoas_domicilio] (0.018199)\n",
      "10. feature 11 [qnt_pc] (0.017430)\n",
      "11. feature 4 [MatemticaI120H_dependencia] (0.014660)\n",
      "12. feature 1 [LnguaPortuguesaeLiteraturaI90H_dependencia] (0.014228)\n",
      "13. feature 12 [qnt_salarios] (0.013202)\n",
      "14. feature 14 [tempo_entre_conclusao_ingresso] (0.013039)\n",
      "15. feature 129 [sigla_CNAT] (0.010622)\n",
      "16. feature 6 [acompanhamento] (0.009366)\n",
      "17. feature 19 [conceito_freq_R] (0.008981)\n",
      "18. feature 10 [possui_necessidade_especial] (0.008880)\n",
      "19. feature 71 [descricao_mae_escolaridade_Ensino médio completo] (0.008277)\n",
      "20. feature 123 [pessoa_fisica__sexo_M] (0.007678)\n",
      "21. feature 95 [descricao_responsavel_escolaridade_Ensino fundamental incompleto] (0.007588)\n",
      "22. feature 42 [descricao_historico_Técnico de Nível Médio em Eletrotécnica] (0.007445)\n",
      "23. feature 106 [descricao_responsavel_financeiro_Mãe] (0.007258)\n",
      "24. feature 26 [descricao_companhia_domiciliar_Pais] (0.007235)\n",
      "25. feature 68 [descricao_imovel_Próprio] (0.007144)\n",
      "26. feature 110 [descricao_responsavel_financeiro_Pai] (0.007070)\n",
      "27. feature 72 [descricao_mae_escolaridade_Ensino médio incompleto] (0.006833)\n",
      "28. feature 7 [aluno_exclusivo_rede_publica] (0.006727)\n",
      "29. feature 92 [descricao_raca_Parda] (0.006712)\n",
      "30. feature 70 [descricao_mae_escolaridade_Ensino fundamental incompleto] (0.006447)\n",
      "31. feature 117 [descricao_trabalho_Nunca trabalhou] (0.006126)\n",
      "32. feature 99 [descricao_responsavel_escolaridade_Ensino superior incompleto] (0.006052)\n",
      "33. feature 82 [descricao_pai_escolaridade_Ensino médio incompleto] (0.005804)\n",
      "34. feature 89 [descricao_raca_Branca] (0.005798)\n",
      "35. feature 40 [descricao_historico_Técnico de Nível Médio em Edificações] (0.005683)\n",
      "36. feature 21 [descricao_area_residencial_Urbana] (0.005666)\n",
      "37. feature 81 [descricao_pai_escolaridade_Ensino médio completo] (0.005644)\n",
      "38. feature 133 [sigla_MC] (0.005538)\n",
      "39. feature 22 [descricao_companhia_domiciliar_Mãe] (0.005482)\n",
      "40. feature 118 [descricao_trabalho_Não está trabalhando] (0.005473)\n",
      "41. feature 80 [descricao_pai_escolaridade_Ensino fundamental incompleto] (0.005315)\n",
      "42. feature 33 [descricao_historico_Técnico de Nivel Médio em Informática] (0.005034)\n",
      "43. feature 96 [descricao_responsavel_escolaridade_Ensino médio completo] (0.004707)\n",
      "44. feature 97 [descricao_responsavel_escolaridade_Ensino médio incompleto] (0.004630)\n",
      "45. feature 34 [descricao_historico_Técnico de Nível Médio em Administração] (0.004537)\n",
      "46. feature 74 [descricao_mae_escolaridade_Ensino superior incompleto] (0.004490)\n",
      "47. feature 20 [descricao_area_residencial_Rural] (0.004375)\n",
      "48. feature 27 [descricao_companhia_domiciliar_Parente(s) ou amigo(s)] (0.004319)\n",
      "49. feature 93 [descricao_raca_Preta] (0.004134)\n",
      "50. feature 139 [sigla_SC] (0.004063)\n",
      "51. feature 58 [descricao_historico_Técnico de Nível Médio em Recursos Pesqueiros] (0.004018)\n",
      "52. feature 102 [descricao_responsavel_escolaridade_Pós graduação completo] (0.003979)\n",
      "53. feature 124 [sigla_CA] (0.003658)\n",
      "54. feature 83 [descricao_pai_escolaridade_Ensino superior completo] (0.003448)\n",
      "55. feature 135 [sigla_NC] (0.003373)\n",
      "56. feature 24 [descricao_companhia_domiciliar_Outros] (0.003359)\n",
      "57. feature 25 [descricao_companhia_domiciliar_Pai] (0.003230)\n",
      "58. feature 64 [descricao_imovel_Financiado] (0.003151)\n",
      "59. feature 98 [descricao_responsavel_escolaridade_Ensino superior completo] (0.003055)\n",
      "60. feature 73 [descricao_mae_escolaridade_Ensino superior completo] (0.003021)\n",
      "61. feature 77 [descricao_mae_escolaridade_Pós graduação completo] (0.002634)\n",
      "62. feature 141 [sigla_SPP] (0.002483)\n",
      "63. feature 52 [descricao_historico_Técnico de Nível Médio em Mecânica] (0.002373)\n",
      "64. feature 46 [descricao_historico_Técnico de Nível Médio em Informática] (0.002184)\n",
      "65. feature 69 [descricao_mae_escolaridade_Ensino fundamental completo] (0.002179)\n",
      "66. feature 132 [sigla_LAJ] (0.002133)\n",
      "67. feature 101 [descricao_responsavel_escolaridade_Não estudou] (0.002117)\n",
      "68. feature 131 [sigla_JC] (0.001980)\n",
      "69. feature 56 [descricao_historico_Técnico de Nível Médio em Química] (0.001919)\n",
      "70. feature 137 [sigla_PAR] (0.001894)\n",
      "71. feature 127 [sigla_CM] (0.001844)\n",
      "72. feature 79 [descricao_pai_escolaridade_Ensino fundamental completo] (0.001843)\n",
      "73. feature 113 [descricao_trabalho_Autônomo] (0.001829)\n",
      "74. feature 66 [descricao_imovel_Outro] (0.001816)\n",
      "75. feature 119 [descricao_trabalho_Não informado] (0.001783)\n",
      "76. feature 94 [descricao_responsavel_escolaridade_Ensino fundamental completo] (0.001761)\n",
      "77. feature 86 [descricao_pai_escolaridade_Não estudou] (0.001760)\n",
      "78. feature 85 [descricao_pai_escolaridade_Não conhece] (0.001704)\n",
      "79. feature 30 [descricao_historico_Técnico de Nivel Médio em Agropecuária, na Forma Integrada] (0.001702)\n",
      "80. feature 18 [conceito_freq_I] (0.001695)\n",
      "81. feature 136 [sigla_PAAS] (0.001667)\n",
      "82. feature 36 [descricao_historico_Técnico de Nível Médio em Alimentos] (0.001567)\n",
      "83. feature 126 [sigla_CANG] (0.001550)\n",
      "84. feature 84 [descricao_pai_escolaridade_Ensino superior incompleto] (0.001531)\n",
      "85. feature 140 [sigla_SGA] (0.001459)\n",
      "86. feature 60 [descricao_historico_Técnico de Nível Médio em Têxtil] (0.001413)\n",
      "87. feature 50 [descricao_historico_Técnico de Nível Médio em Manutenção e Suporte em Informática] (0.001407)\n",
      "88. feature 142 [sigla_ZN] (0.001385)\n",
      "89. feature 53 [descricao_historico_Técnico de Nível Médio em Meio Ambiente] (0.001333)\n",
      "90. feature 47 [descricao_historico_Técnico de Nível Médio em Informática para Internet] (0.001323)\n",
      "91. feature 87 [descricao_pai_escolaridade_Pós graduação completo] (0.001317)\n",
      "92. feature 76 [descricao_mae_escolaridade_Não estudou] (0.001283)\n",
      "93. feature 128 [sigla_CN] (0.001237)\n",
      "94. feature 134 [sigla_MO] (0.001149)\n",
      "95. feature 138 [sigla_PF] (0.001114)\n",
      "96. feature 130 [sigla_IP] (0.001106)\n",
      "97. feature 112 [descricao_responsavel_financeiro_Tio(a)] (0.001032)\n",
      "98. feature 125 [sigla_CAL] (0.000953)\n",
      "99. feature 41 [descricao_historico_Técnico de Nível Médio em Eletromecânica] (0.000923)\n",
      "100. feature 35 [descricao_historico_Técnico de Nível Médio em Agroecologia] (0.000913)\n",
      "101. feature 54 [descricao_historico_Técnico de Nível Médio em Mineração] (0.000910)\n",
      "102. feature 120 [descricao_trabalho_Serviço público] (0.000900)\n",
      "103. feature 37 [descricao_historico_Técnico de Nível Médio em Apicultura] (0.000832)\n",
      "104. feature 109 [descricao_responsavel_financeiro_Outros] (0.000810)\n",
      "105. feature 116 [descricao_trabalho_Estágio ou bolsa] (0.000784)\n",
      "106. feature 91 [descricao_raca_Não declarado] (0.000754)\n",
      "107. feature 39 [descricao_historico_Técnico de Nível Médio em Controle Ambiental] (0.000679)\n",
      "108. feature 122 [descricao_trabalho_Trabalhador rural/Agricultor] (0.000600)\n",
      "109. feature 105 [descricao_responsavel_financeiro_Irmão(ã)] (0.000559)\n",
      "110. feature 28 [descricao_estado_civil_Divorciado(a)] (0.000554)\n",
      "111. feature 57 [descricao_historico_Técnico de Nível Médio em Química, na Forma Integrado] (0.000522)\n",
      "112. feature 63 [descricao_imovel_Cedido ou Emprestado] (0.000513)\n",
      "113. feature 43 [descricao_historico_Técnico de Nível Médio em Eletrônica] (0.000494)\n",
      "114. feature 55 [descricao_historico_Técnico de Nível Médio em Multimídia] (0.000476)\n",
      "115. feature 29 [descricao_estado_civil_Solteiro(a)] (0.000471)\n",
      "116. feature 88 [descricao_pai_escolaridade_Pós graduação incompleto] (0.000470)\n",
      "117. feature 104 [descricao_responsavel_financeiro_Cônjuge] (0.000458)\n",
      "118. feature 115 [descricao_trabalho_Empresa privada] (0.000435)\n",
      "119. feature 51 [descricao_historico_Técnico de Nível Médio em Mecatrônica] (0.000423)\n",
      "120. feature 44 [descricao_historico_Técnico de Nível Médio em Eventos] (0.000414)\n",
      "121. feature 62 [descricao_historico_Técnico em Programação de Jogos Digitais] (0.000396)\n",
      "122. feature 61 [descricao_historico_Técnico de Nível Médio em Vestuário] (0.000384)\n",
      "123. feature 38 [descricao_historico_Técnico de Nível Médio em Comércio] (0.000301)\n",
      "124. feature 45 [descricao_historico_Técnico de Nível Médio em Geologia] (0.000276)\n",
      "125. feature 114 [descricao_trabalho_Beneficiário ou Pensionista do INSS] (0.000266)\n",
      "126. feature 31 [descricao_historico_Técnico de Nivel Médio em Biocombustíveis] (0.000241)\n",
      "127. feature 108 [descricao_responsavel_financeiro_O próprio aluno] (0.000186)\n",
      "128. feature 103 [descricao_responsavel_escolaridade_Pós graduação incompleto] (0.000125)\n",
      "129. feature 23 [descricao_companhia_domiciliar_Não informado] (0.000100)\n",
      "130. feature 65 [descricao_imovel_Não informado] (0.000098)\n",
      "131. feature 107 [descricao_responsavel_financeiro_Não informado] (0.000078)\n",
      "132. feature 75 [descricao_mae_escolaridade_Não conhece] (0.000074)\n",
      "133. feature 100 [descricao_responsavel_escolaridade_Não conhece] (0.000064)\n",
      "134. feature 59 [descricao_historico_Técnico de Nível Médio em Refrigeração e Climatização] (0.000059)\n",
      "135. feature 32 [descricao_historico_Técnico de Nivel Médio em Equipamentos Biomédicos] (0.000046)\n",
      "136. feature 121 [descricao_trabalho_Trabalha com vínculo empregatício] (0.000022)\n",
      "137. feature 48 [descricao_historico_Técnico de Nível Médio em Lazer] (0.000016)\n",
      "138. feature 67 [descricao_imovel_Pensionato ou Alojamento] (0.000000)\n",
      "139. feature 90 [descricao_raca_Indígena] (0.000000)\n",
      "140. feature 8 [artificial] (0.000000)\n",
      "141. feature 78 [descricao_mae_escolaridade_Pós graduação incompleto] (0.000000)\n",
      "142. feature 49 [descricao_historico_Técnico de Nível Médio em Logística] (0.000000)\n",
      "143. feature 111 [descricao_responsavel_financeiro_Parentes] (0.000000)\n"
     ]
    },
    {
     "data": {
      "image/png": "[encoded data removed]",
      "text/plain": [
       "<matplotlib.figure.Figure at 0x7f6127083588>"
      ]
     },
     "metadata": {},
     "output_type": "display_data"
    }
   ],
   "source": [
    "#seleciona o melhor modelo\n",
    "model_forest_min = make_RF(Xtrain, ytrain)\n",
    "ypred_forest = model_forest_min.predict(Xtest)\n",
    "\n",
    "#avaliacao do modelo\n",
    "evaluating(model_forest_min, ytest, ypred_forest, Xtest)\n",
    "\n",
    "feature_ranking(Xtest, model_forest_min)"
   ]
  },
  {
   "cell_type": "markdown",
   "metadata": {},
   "source": [
    "# Selecionando atributos do melhor modelo\n",
    "\n",
    "o melhor modelo verificado foi utilizando o downsample"
   ]
  },
  {
   "cell_type": "code",
   "execution_count": 42,
   "metadata": {},
   "outputs": [
    {
     "name": "stdout",
     "output_type": "stream",
     "text": [
      "Best Columns \n",
      "------------\n",
      "['LnguaPortuguesaeLiteraturaI90H', 'LnguaPortuguesaeLiteraturaI90H_dependencia', 'LnguaPortuguesaeLiteraturaI90H_freq', 'MatemticaI120H', 'MatemticaI120H_dependencia', 'MatemticaI120H_freq', 'acompanhamento', 'idade', 'possui_necessidade_especial', 'qnt_pc', 'qnt_salarios', 'qtd_pessoas_domicilio', 'tempo_entre_conclusao_ingresso', 'conceito_I', 'conceito_O', 'conceito_R', 'descricao_companhia_domiciliar_Pais', 'descricao_pai_escolaridade_Ensino médio incompleto', 'descricao_responsavel_financeiro_Mãe', 'pessoa_fisica__sexo_M', 'sigla_CNAT', 'sigla_MC']\n",
      "\n"
     ]
    }
   ],
   "source": [
    "from sklearn.feature_selection import RFECV\n",
    "\n",
    "selector = RFECV(model_forest_min, cv=10, n_jobs=-1)\n",
    "selector.fit(X, y)\n",
    "\n",
    "best_columns = list(X.columns[selector.support_])\n",
    "print(\"Best Columns \\n\"+\"-\"*12+\"\\n{}\\n\".format(best_columns))"
   ]
  },
  {
   "cell_type": "code",
   "execution_count": 44,
   "metadata": {},
   "outputs": [
    {
     "name": "stdout",
     "output_type": "stream",
     "text": [
      "Best Columns \n",
      "------------\n",
      "['LnguaPortuguesaeLiteraturaI90H', 'LnguaPortuguesaeLiteraturaI90H_dependencia', 'LnguaPortuguesaeLiteraturaI90H_freq', 'MatemticaI120H', 'MatemticaI120H_dependencia', 'MatemticaI120H_freq', 'acompanhamento', 'aluno_exclusivo_rede_publica', 'idade', 'possui_necessidade_especial', 'qnt_pc', 'qnt_salarios', 'qtd_pessoas_domicilio', 'tempo_entre_conclusao_ingresso', 'conceito_I', 'conceito_O', 'conceito_R', 'conceito_freq_R', 'descricao_area_residencial_Urbana', 'descricao_companhia_domiciliar_Mãe', 'descricao_companhia_domiciliar_Pais', 'descricao_historico_Técnico de Nivel Médio em Informática', 'descricao_historico_Técnico de Nível Médio em Edificações', 'descricao_imovel_Próprio', 'descricao_mae_escolaridade_Ensino fundamental completo', 'descricao_mae_escolaridade_Ensino fundamental incompleto', 'descricao_mae_escolaridade_Ensino médio completo', 'descricao_pai_escolaridade_Ensino fundamental incompleto', 'descricao_pai_escolaridade_Ensino médio completo', 'descricao_pai_escolaridade_Ensino médio incompleto', 'descricao_raca_Branca', 'descricao_raca_Parda', 'descricao_raca_Preta', 'descricao_responsavel_escolaridade_Ensino fundamental incompleto', 'descricao_responsavel_escolaridade_Ensino médio completo', 'descricao_responsavel_escolaridade_Ensino médio incompleto', 'descricao_responsavel_financeiro_Mãe', 'descricao_responsavel_financeiro_Pai', 'descricao_trabalho_Autônomo', 'descricao_trabalho_Empresa privada', 'descricao_trabalho_Nunca trabalhou', 'descricao_trabalho_Não está trabalhando', 'pessoa_fisica__sexo_M', 'sigla_MC', 'sigla_SGA']\n",
      "\n"
     ]
    }
   ],
   "source": [
    "selector = RFECV(model_forest_min, cv=10, n_jobs=-1)\n",
    "selector.fit(Xtest, ytest)\n",
    "\n",
    "best_columns = list(Xtest.columns[selector.support_])\n",
    "print(\"Best Columns \\n\"+\"-\"*12+\"\\n{}\\n\".format(best_columns))"
   ]
  },
  {
   "cell_type": "markdown",
   "metadata": {},
   "source": [
    "# Modelo 04: modelo com seleção de atributos "
   ]
  },
  {
   "cell_type": "code",
   "execution_count": 47,
   "metadata": {},
   "outputs": [
    {
     "name": "stdout",
     "output_type": "stream",
     "text": [
      "143\n",
      "22\n",
      "45\n",
      "['sigla_CNAT']\n",
      "['aluno_exclusivo_rede_publica' 'conceito_freq_R'\n",
      " 'descricao_area_residencial_Urbana' 'descricao_companhia_domiciliar_Mãe'\n",
      " 'descricao_historico_Técnico de Nivel Médio em Informática'\n",
      " 'descricao_historico_Técnico de Nível Médio em Edificações'\n",
      " 'descricao_imovel_Próprio'\n",
      " 'descricao_mae_escolaridade_Ensino fundamental completo'\n",
      " 'descricao_mae_escolaridade_Ensino fundamental incompleto'\n",
      " 'descricao_mae_escolaridade_Ensino médio completo'\n",
      " 'descricao_pai_escolaridade_Ensino fundamental incompleto'\n",
      " 'descricao_pai_escolaridade_Ensino médio completo'\n",
      " 'descricao_raca_Branca' 'descricao_raca_Parda' 'descricao_raca_Preta'\n",
      " 'descricao_responsavel_escolaridade_Ensino fundamental incompleto'\n",
      " 'descricao_responsavel_escolaridade_Ensino médio completo'\n",
      " 'descricao_responsavel_escolaridade_Ensino médio incompleto'\n",
      " 'descricao_responsavel_financeiro_Pai' 'descricao_trabalho_Autônomo'\n",
      " 'descricao_trabalho_Empresa privada' 'descricao_trabalho_Nunca trabalhou'\n",
      " 'descricao_trabalho_Não está trabalhando' 'sigla_SGA']\n"
     ]
    }
   ],
   "source": [
    "atributos_01 = ['LnguaPortuguesaeLiteraturaI90H', \n",
    "                'LnguaPortuguesaeLiteraturaI90H_dependencia', \n",
    "                'LnguaPortuguesaeLiteraturaI90H_freq', \n",
    "                'MatemticaI120H', \n",
    "                'MatemticaI120H_dependencia', \n",
    "                'MatemticaI120H_freq', \n",
    "                'acompanhamento', \n",
    "                'idade', \n",
    "                'possui_necessidade_especial', \n",
    "                'qnt_pc', \n",
    "                'qnt_salarios', \n",
    "                'qtd_pessoas_domicilio', \n",
    "                'tempo_entre_conclusao_ingresso', \n",
    "                'conceito_I', \n",
    "                'conceito_O', \n",
    "                'conceito_R', \n",
    "                'descricao_companhia_domiciliar_Pais', \n",
    "                'descricao_pai_escolaridade_Ensino médio incompleto', \n",
    "                'descricao_responsavel_financeiro_Mãe', \n",
    "                'pessoa_fisica__sexo_M', \n",
    "                'sigla_CNAT', \n",
    "                'sigla_MC']\n",
    "\n",
    "atributos_02 = ['LnguaPortuguesaeLiteraturaI90H', \n",
    "                'LnguaPortuguesaeLiteraturaI90H_dependencia', \n",
    "                'LnguaPortuguesaeLiteraturaI90H_freq', \n",
    "                'MatemticaI120H', \n",
    "                'MatemticaI120H_dependencia', \n",
    "                'MatemticaI120H_freq', \n",
    "                'acompanhamento', \n",
    "                'aluno_exclusivo_rede_publica', \n",
    "                'idade', \n",
    "                'possui_necessidade_especial', \n",
    "                'qnt_pc', \n",
    "                'qnt_salarios', \n",
    "                'qtd_pessoas_domicilio', \n",
    "                'tempo_entre_conclusao_ingresso', \n",
    "                'conceito_I', \n",
    "                'conceito_O', \n",
    "                'conceito_R', \n",
    "                'conceito_freq_R', \n",
    "                'descricao_area_residencial_Urbana', \n",
    "                'descricao_companhia_domiciliar_Mãe', \n",
    "                'descricao_companhia_domiciliar_Pais', \n",
    "                'descricao_historico_Técnico de Nivel Médio em Informática', \n",
    "                'descricao_historico_Técnico de Nível Médio em Edificações', \n",
    "                'descricao_imovel_Próprio', \n",
    "                'descricao_mae_escolaridade_Ensino fundamental completo', \n",
    "                'descricao_mae_escolaridade_Ensino fundamental incompleto', \n",
    "                'descricao_mae_escolaridade_Ensino médio completo', \n",
    "                'descricao_pai_escolaridade_Ensino fundamental incompleto', \n",
    "                'descricao_pai_escolaridade_Ensino médio completo', \n",
    "                'descricao_pai_escolaridade_Ensino médio incompleto', \n",
    "                'descricao_raca_Branca', \n",
    "                'descricao_raca_Parda', \n",
    "                'descricao_raca_Preta', \n",
    "                'descricao_responsavel_escolaridade_Ensino fundamental incompleto', \n",
    "                'descricao_responsavel_escolaridade_Ensino médio completo', \n",
    "                'descricao_responsavel_escolaridade_Ensino médio incompleto', \n",
    "                'descricao_responsavel_financeiro_Mãe',\n",
    "                'descricao_responsavel_financeiro_Pai', \n",
    "                'descricao_trabalho_Autônomo', \n",
    "                'descricao_trabalho_Empresa privada', \n",
    "                'descricao_trabalho_Nunca trabalhou', \n",
    "                'descricao_trabalho_Não está trabalhando', \n",
    "                'pessoa_fisica__sexo_M', \n",
    "                'sigla_MC', \n",
    "                'sigla_SGA']\n",
    "\n",
    "print(Xtest.columns.size)\n",
    "print(len(atributos_01))\n",
    "print(len(atributos_02))\n",
    "print(np.setdiff1d(atributos_01, atributos_02))\n",
    "print(np.setdiff1d(atributos_02, atributos_01))"
   ]
  },
  {
   "cell_type": "code",
   "execution_count": 48,
   "metadata": {
    "collapsed": true
   },
   "outputs": [],
   "source": [
    "Xtrain_red = Xtrain[atributos_02]\n",
    "Xtest_red  = Xtest[atributos_02]"
   ]
  },
  {
   "cell_type": "code",
   "execution_count": 52,
   "metadata": {},
   "outputs": [],
   "source": [
    "#seleciona o melhor modelo\n",
    "model_forest_red = make_RF(Xtrain_red, ytrain)\n",
    "\n",
    "ypred_forest = model_forest_red.predict(Xtest_red)\n"
   ]
  },
  {
   "cell_type": "code",
   "execution_count": 53,
   "metadata": {},
   "outputs": [
    {
     "name": "stderr",
     "output_type": "stream",
     "text": [
      "/home/ubuntu/anaconda3/lib/python3.6/site-packages/matplotlib/font_manager.py:1297: UserWarning: findfont: Font family ['sans-serif'] not found. Falling back to DejaVu Sans\n",
      "  (prop.get_family(), self.defaultFamily[fontext]))\n"
     ]
    },
    {
     "name": "stdout",
     "output_type": "stream",
     "text": [
      "Valor de falso positivo:0.0963855421686747\n",
      "Cálculo de índices de avaliação:\n",
      "Precisão: 0.864407; Recall: 0.718310, F1: 0.784615\n",
      "Precisão CV:\n",
      "[0.88235294 0.875      0.8125     0.73333333 1.         0.6\n",
      " 0.86666667 0.73333333 0.93333333 0.86666667]\n",
      "0.8303186274509805\n"
     ]
    },
    {
     "name": "stderr",
     "output_type": "stream",
     "text": [
      "/home/ubuntu/anaconda3/lib/python3.6/site-packages/matplotlib/font_manager.py:1297: UserWarning: findfont: Font family ['sans-serif'] not found. Falling back to DejaVu Sans\n",
      "  (prop.get_family(), self.defaultFamily[fontext]))\n"
     ]
    },
    {
     "data": {
      "image/png": "[encoded data removed]",
      "text/plain": [
       "<matplotlib.figure.Figure at 0x7f612759e8d0>"
      ]
     },
     "metadata": {},
     "output_type": "display_data"
    },
    {
     "data": {
      "image/png": "[encoded data removed]",
      "text/plain": [
       "<matplotlib.figure.Figure at 0x7f612758c208>"
      ]
     },
     "metadata": {},
     "output_type": "display_data"
    },
    {
     "name": "stdout",
     "output_type": "stream",
     "text": [
      "0.8972509757339215\n",
      "Feature ranking:\n",
      "1. feature 3 [MatemticaI120H] (0.186656)\n",
      "2. feature 0 [LnguaPortuguesaeLiteraturaI90H] (0.170768)\n",
      "3. feature 16 [conceito_R] (0.100102)\n",
      "4. feature 5 [MatemticaI120H_freq] (0.058639)\n",
      "5. feature 14 [conceito_I] (0.053413)\n",
      "6. feature 2 [LnguaPortuguesaeLiteraturaI90H_freq] (0.040150)\n",
      "7. feature 15 [conceito_O] (0.029341)\n",
      "8. feature 8 [idade] (0.029142)\n",
      "9. feature 12 [qtd_pessoas_domicilio] (0.022358)\n",
      "10. feature 10 [qnt_pc] (0.022296)\n",
      "11. feature 11 [qnt_salarios] (0.019865)\n",
      "12. feature 4 [MatemticaI120H_dependencia] (0.017878)\n",
      "13. feature 1 [LnguaPortuguesaeLiteraturaI90H_dependencia] (0.016407)\n",
      "14. feature 13 [tempo_entre_conclusao_ingresso] (0.016069)\n",
      "15. feature 42 [pessoa_fisica__sexo_M] (0.010519)\n",
      "16. feature 20 [descricao_companhia_domiciliar_Pais] (0.009808)\n",
      "17. feature 23 [descricao_imovel_Próprio] (0.009724)\n",
      "18. feature 6 [acompanhamento] (0.009416)\n",
      "19. feature 43 [sigla_MC] (0.008812)\n",
      "20. feature 33 [descricao_responsavel_escolaridade_Ensino fundamental incompleto] (0.008534)\n",
      "21. feature 37 [descricao_responsavel_financeiro_Pai] (0.008426)\n",
      "22. feature 26 [descricao_mae_escolaridade_Ensino médio completo] (0.008178)\n",
      "23. feature 30 [descricao_raca_Branca] (0.008132)\n",
      "24. feature 18 [descricao_area_residencial_Urbana] (0.008112)\n",
      "25. feature 9 [possui_necessidade_especial] (0.008009)\n",
      "26. feature 22 [descricao_historico_Técnico de Nível Médio em Edificações] (0.007967)\n",
      "27. feature 29 [descricao_pai_escolaridade_Ensino médio incompleto] (0.007930)\n",
      "28. feature 17 [conceito_freq_R] (0.007877)\n",
      "29. feature 7 [aluno_exclusivo_rede_publica] (0.007868)\n",
      "30. feature 36 [descricao_responsavel_financeiro_Mãe] (0.007428)\n",
      "31. feature 28 [descricao_pai_escolaridade_Ensino médio completo] (0.007390)\n",
      "32. feature 27 [descricao_pai_escolaridade_Ensino fundamental incompleto] (0.007318)\n",
      "33. feature 31 [descricao_raca_Parda] (0.007309)\n",
      "34. feature 40 [descricao_trabalho_Nunca trabalhou] (0.006994)\n",
      "35. feature 19 [descricao_companhia_domiciliar_Mãe] (0.006869)\n",
      "36. feature 25 [descricao_mae_escolaridade_Ensino fundamental incompleto] (0.006561)\n",
      "37. feature 32 [descricao_raca_Preta] (0.006328)\n",
      "38. feature 34 [descricao_responsavel_escolaridade_Ensino médio completo] (0.006183)\n",
      "39. feature 41 [descricao_trabalho_Não está trabalhando] (0.006098)\n",
      "40. feature 35 [descricao_responsavel_escolaridade_Ensino médio incompleto] (0.005894)\n",
      "41. feature 21 [descricao_historico_Técnico de Nivel Médio em Informática] (0.005831)\n",
      "42. feature 24 [descricao_mae_escolaridade_Ensino fundamental completo] (0.002847)\n",
      "43. feature 38 [descricao_trabalho_Autônomo] (0.002183)\n",
      "44. feature 44 [sigla_SGA] (0.001890)\n",
      "45. feature 39 [descricao_trabalho_Empresa privada] (0.000481)\n"
     ]
    },
    {
     "data": {
      "image/png": "[encoded data removed]",
      "text/plain": [
       "<matplotlib.figure.Figure at 0x7f612762cdd8>"
      ]
     },
     "metadata": {},
     "output_type": "display_data"
    }
   ],
   "source": [
    "#avaliacao do modelo\n",
    "evaluating(model_forest_red, ytest, ypred_forest, Xtest_red)\n",
    "\n",
    "feature_ranking(Xtest_red, model_forest_red)"
   ]
  },
  {
   "cell_type": "code",
   "execution_count": 54,
   "metadata": {
    "collapsed": true
   },
   "outputs": [],
   "source": [
    "Xtrain_red = Xtrain[atributos_01]\n",
    "Xtest_red  = Xtest[atributos_01]"
   ]
  },
  {
   "cell_type": "code",
   "execution_count": 55,
   "metadata": {},
   "outputs": [
    {
     "name": "stdout",
     "output_type": "stream",
     "text": [
      "{'criterion': 'gini', 'max_depth': None, 'max_features': 'auto', 'n_estimators': 100}\n",
      "RandomForestClassifier(bootstrap=True, class_weight=None, criterion='gini',\n",
      "            max_depth=None, max_features='auto', max_leaf_nodes=None,\n",
      "            min_impurity_decrease=0.0, min_impurity_split=None,\n",
      "            min_samples_leaf=1, min_samples_split=2,\n",
      "            min_weight_fraction_leaf=0.0, n_estimators=100, n_jobs=-1,\n",
      "            oob_score=False, random_state=None, verbose=0,\n",
      "            warm_start=False)\n",
      "Model with rank: 1\n",
      "Mean validation score: 0.789 (std: 0.077)\n",
      "Parameters: {'criterion': 'gini', 'max_depth': None, 'max_features': 'auto', 'n_estimators': 100}\n",
      "\n",
      "Model with rank: 2\n",
      "Mean validation score: 0.789 (std: 0.065)\n",
      "Parameters: {'criterion': 'entropy', 'max_depth': None, 'max_features': 'auto', 'n_estimators': 200}\n",
      "\n",
      "Model with rank: 3\n",
      "Mean validation score: 0.789 (std: 0.052)\n",
      "Parameters: {'criterion': 'entropy', 'max_depth': None, 'max_features': 'log2', 'n_estimators': 60}\n",
      "\n",
      "Model with rank: 4\n",
      "Mean validation score: 0.789 (std: 0.070)\n",
      "Parameters: {'criterion': 'gini', 'max_depth': None, 'max_features': 'sqrt', 'n_estimators': 200}\n",
      "\n",
      "Model with rank: 5\n",
      "Mean validation score: 0.789 (std: 0.065)\n",
      "Parameters: {'criterion': 'entropy', 'max_depth': None, 'max_features': 'log2', 'n_estimators': 100}\n",
      "\n",
      "Valor de falso positivo:0.08433734939759036\n",
      "Cálculo de índices de avaliação:\n",
      "Precisão: 0.887097; Recall: 0.774648, F1: 0.827068\n",
      "Precisão CV:\n"
     ]
    },
    {
     "name": "stderr",
     "output_type": "stream",
     "text": [
      "/home/ubuntu/anaconda3/lib/python3.6/site-packages/matplotlib/font_manager.py:1297: UserWarning: findfont: Font family ['sans-serif'] not found. Falling back to DejaVu Sans\n",
      "  (prop.get_family(), self.defaultFamily[fontext]))\n"
     ]
    },
    {
     "name": "stdout",
     "output_type": "stream",
     "text": [
      "[0.88235294 1.         0.75       0.73333333 1.         0.6\n",
      " 0.8        0.73333333 0.93333333 0.86666667]\n",
      "0.8299019607843137\n"
     ]
    },
    {
     "name": "stderr",
     "output_type": "stream",
     "text": [
      "/home/ubuntu/anaconda3/lib/python3.6/site-packages/matplotlib/font_manager.py:1297: UserWarning: findfont: Font family ['sans-serif'] not found. Falling back to DejaVu Sans\n",
      "  (prop.get_family(), self.defaultFamily[fontext]))\n"
     ]
    },
    {
     "data": {
      "image/png": "[encoded data removed]",
      "text/plain": [
       "<matplotlib.figure.Figure at 0x7f61276ac908>"
      ]
     },
     "metadata": {},
     "output_type": "display_data"
    },
    {
     "data": {
      "image/png": "[encoded data removed]",
      "text/plain": [
       "<matplotlib.figure.Figure at 0x7f6127572588>"
      ]
     },
     "metadata": {},
     "output_type": "display_data"
    },
    {
     "name": "stdout",
     "output_type": "stream",
     "text": [
      "0.8937722721873409\n",
      "Feature ranking:\n",
      "1. feature 3 [MatemticaI120H] (0.232028)\n",
      "2. feature 0 [LnguaPortuguesaeLiteraturaI90H] (0.195793)\n",
      "3. feature 15 [conceito_R] (0.137646)\n",
      "4. feature 5 [MatemticaI120H_freq] (0.066893)\n",
      "5. feature 13 [conceito_I] (0.059757)\n",
      "6. feature 2 [LnguaPortuguesaeLiteraturaI90H_freq] (0.042428)\n",
      "7. feature 7 [idade] (0.032188)\n",
      "8. feature 9 [qnt_pc] (0.024833)\n",
      "9. feature 11 [qtd_pessoas_domicilio] (0.024475)\n",
      "10. feature 10 [qnt_salarios] (0.020621)\n",
      "11. feature 1 [LnguaPortuguesaeLiteraturaI90H_dependencia] (0.020466)\n",
      "12. feature 12 [tempo_entre_conclusao_ingresso] (0.018974)\n",
      "13. feature 20 [sigla_CNAT] (0.018239)\n",
      "14. feature 14 [conceito_O] (0.017570)\n",
      "15. feature 4 [MatemticaI120H_dependencia] (0.016644)\n",
      "16. feature 19 [pessoa_fisica__sexo_M] (0.011632)\n",
      "17. feature 8 [possui_necessidade_especial] (0.011437)\n",
      "18. feature 16 [descricao_companhia_domiciliar_Pais] (0.011055)\n",
      "19. feature 18 [descricao_responsavel_financeiro_Mãe] (0.010518)\n",
      "20. feature 6 [acompanhamento] (0.009368)\n",
      "21. feature 21 [sigla_MC] (0.009251)\n",
      "22. feature 17 [descricao_pai_escolaridade_Ensino médio incompleto] (0.008183)\n"
     ]
    },
    {
     "data": {
      "image/png": "[encoded data removed]",
      "text/plain": [
       "<matplotlib.figure.Figure at 0x7f61270912e8>"
      ]
     },
     "metadata": {},
     "output_type": "display_data"
    }
   ],
   "source": [
    "#seleciona o melhor modelo\n",
    "model_forest_red = make_RF(Xtrain_red, ytrain)\n",
    "ypred_forest = model_forest_red.predict(Xtest_red)\n",
    "\n",
    "#avaliacao do modelo\n",
    "evaluating(model_forest_red, ytest, ypred_forest, Xtest_red)\n",
    "\n",
    "feature_ranking(Xtest_red, model_forest_red)"
   ]
  },
  {
   "cell_type": "markdown",
   "metadata": {},
   "source": [
    "# Modelo 05: comparandos várias ML"
   ]
  },
  {
   "cell_type": "code",
   "execution_count": 73,
   "metadata": {},
   "outputs": [
    {
     "name": "stderr",
     "output_type": "stream",
     "text": [
      "/home/ubuntu/anaconda3/lib/python3.6/site-packages/sklearn/linear_model/stochastic_gradient.py:128: FutureWarning: max_iter and tol parameters have been added in <class 'sklearn.linear_model.stochastic_gradient.SGDClassifier'> in 0.19. If both are left unset, they default to max_iter=5 and tol=None. If tol is not None, max_iter defaults to max_iter=1000. From 0.21, default max_iter will be 1000, and default tol will be 1e-3.\n",
      "  \"and default tol will be 1e-3.\" % type(self), FutureWarning)\n",
      "/home/ubuntu/anaconda3/lib/python3.6/site-packages/sklearn/linear_model/stochastic_gradient.py:128: FutureWarning: max_iter and tol parameters have been added in <class 'sklearn.linear_model.stochastic_gradient.SGDClassifier'> in 0.19. If both are left unset, they default to max_iter=5 and tol=None. If tol is not None, max_iter defaults to max_iter=1000. From 0.21, default max_iter will be 1000, and default tol will be 1e-3.\n",
      "  \"and default tol will be 1e-3.\" % type(self), FutureWarning)\n",
      "/home/ubuntu/anaconda3/lib/python3.6/site-packages/sklearn/linear_model/stochastic_gradient.py:128: FutureWarning: max_iter and tol parameters have been added in <class 'sklearn.linear_model.stochastic_gradient.SGDClassifier'> in 0.19. If both are left unset, they default to max_iter=5 and tol=None. If tol is not None, max_iter defaults to max_iter=1000. From 0.21, default max_iter will be 1000, and default tol will be 1e-3.\n",
      "  \"and default tol will be 1e-3.\" % type(self), FutureWarning)\n",
      "/home/ubuntu/anaconda3/lib/python3.6/site-packages/sklearn/linear_model/stochastic_gradient.py:128: FutureWarning: max_iter and tol parameters have been added in <class 'sklearn.linear_model.stochastic_gradient.SGDClassifier'> in 0.19. If both are left unset, they default to max_iter=5 and tol=None. If tol is not None, max_iter defaults to max_iter=1000. From 0.21, default max_iter will be 1000, and default tol will be 1e-3.\n",
      "  \"and default tol will be 1e-3.\" % type(self), FutureWarning)\n",
      "/home/ubuntu/anaconda3/lib/python3.6/site-packages/sklearn/linear_model/stochastic_gradient.py:128: FutureWarning: max_iter and tol parameters have been added in <class 'sklearn.linear_model.stochastic_gradient.SGDClassifier'> in 0.19. If both are left unset, they default to max_iter=5 and tol=None. If tol is not None, max_iter defaults to max_iter=1000. From 0.21, default max_iter will be 1000, and default tol will be 1e-3.\n",
      "  \"and default tol will be 1e-3.\" % type(self), FutureWarning)\n",
      "/home/ubuntu/anaconda3/lib/python3.6/site-packages/sklearn/linear_model/stochastic_gradient.py:128: FutureWarning: max_iter and tol parameters have been added in <class 'sklearn.linear_model.stochastic_gradient.SGDClassifier'> in 0.19. If both are left unset, they default to max_iter=5 and tol=None. If tol is not None, max_iter defaults to max_iter=1000. From 0.21, default max_iter will be 1000, and default tol will be 1e-3.\n",
      "  \"and default tol will be 1e-3.\" % type(self), FutureWarning)\n",
      "/home/ubuntu/anaconda3/lib/python3.6/site-packages/sklearn/linear_model/stochastic_gradient.py:128: FutureWarning: max_iter and tol parameters have been added in <class 'sklearn.linear_model.stochastic_gradient.SGDClassifier'> in 0.19. If both are left unset, they default to max_iter=5 and tol=None. If tol is not None, max_iter defaults to max_iter=1000. From 0.21, default max_iter will be 1000, and default tol will be 1e-3.\n",
      "  \"and default tol will be 1e-3.\" % type(self), FutureWarning)\n",
      "/home/ubuntu/anaconda3/lib/python3.6/site-packages/sklearn/linear_model/stochastic_gradient.py:128: FutureWarning: max_iter and tol parameters have been added in <class 'sklearn.linear_model.stochastic_gradient.SGDClassifier'> in 0.19. If both are left unset, they default to max_iter=5 and tol=None. If tol is not None, max_iter defaults to max_iter=1000. From 0.21, default max_iter will be 1000, and default tol will be 1e-3.\n",
      "  \"and default tol will be 1e-3.\" % type(self), FutureWarning)\n",
      "/home/ubuntu/anaconda3/lib/python3.6/site-packages/sklearn/linear_model/stochastic_gradient.py:128: FutureWarning: max_iter and tol parameters have been added in <class 'sklearn.linear_model.stochastic_gradient.SGDClassifier'> in 0.19. If both are left unset, they default to max_iter=5 and tol=None. If tol is not None, max_iter defaults to max_iter=1000. From 0.21, default max_iter will be 1000, and default tol will be 1e-3.\n",
      "  \"and default tol will be 1e-3.\" % type(self), FutureWarning)\n",
      "/home/ubuntu/anaconda3/lib/python3.6/site-packages/sklearn/linear_model/stochastic_gradient.py:128: FutureWarning: max_iter and tol parameters have been added in <class 'sklearn.linear_model.stochastic_gradient.SGDClassifier'> in 0.19. If both are left unset, they default to max_iter=5 and tol=None. If tol is not None, max_iter defaults to max_iter=1000. From 0.21, default max_iter will be 1000, and default tol will be 1e-3.\n",
      "  \"and default tol will be 1e-3.\" % type(self), FutureWarning)\n"
     ]
    },
    {
     "name": "stdout",
     "output_type": "stream",
     "text": [
      "SGD: 0.942362 (0.011911)\n",
      "Valor de falso positivo:0.6385542168674698\n",
      "0.963773069036227\n",
      "0.9737569060773481\n",
      "0.963773069036227\n",
      "0.9737569060773481\n",
      "0.9687392648574373\n",
      "Precisao\n"
     ]
    },
    {
     "name": "stderr",
     "output_type": "stream",
     "text": [
      "/home/ubuntu/anaconda3/lib/python3.6/site-packages/matplotlib/font_manager.py:1297: UserWarning: findfont: Font family ['sans-serif'] not found. Falling back to DejaVu Sans\n",
      "  (prop.get_family(), self.defaultFamily[fontext]))\n",
      "/home/ubuntu/anaconda3/lib/python3.6/site-packages/sklearn/linear_model/stochastic_gradient.py:128: FutureWarning: max_iter and tol parameters have been added in <class 'sklearn.linear_model.stochastic_gradient.SGDClassifier'> in 0.19. If both are left unset, they default to max_iter=5 and tol=None. If tol is not None, max_iter defaults to max_iter=1000. From 0.21, default max_iter will be 1000, and default tol will be 1e-3.\n",
      "  \"and default tol will be 1e-3.\" % type(self), FutureWarning)\n",
      "/home/ubuntu/anaconda3/lib/python3.6/site-packages/sklearn/linear_model/stochastic_gradient.py:128: FutureWarning: max_iter and tol parameters have been added in <class 'sklearn.linear_model.stochastic_gradient.SGDClassifier'> in 0.19. If both are left unset, they default to max_iter=5 and tol=None. If tol is not None, max_iter defaults to max_iter=1000. From 0.21, default max_iter will be 1000, and default tol will be 1e-3.\n",
      "  \"and default tol will be 1e-3.\" % type(self), FutureWarning)\n",
      "/home/ubuntu/anaconda3/lib/python3.6/site-packages/sklearn/linear_model/stochastic_gradient.py:128: FutureWarning: max_iter and tol parameters have been added in <class 'sklearn.linear_model.stochastic_gradient.SGDClassifier'> in 0.19. If both are left unset, they default to max_iter=5 and tol=None. If tol is not None, max_iter defaults to max_iter=1000. From 0.21, default max_iter will be 1000, and default tol will be 1e-3.\n",
      "  \"and default tol will be 1e-3.\" % type(self), FutureWarning)\n",
      "/home/ubuntu/anaconda3/lib/python3.6/site-packages/sklearn/linear_model/stochastic_gradient.py:128: FutureWarning: max_iter and tol parameters have been added in <class 'sklearn.linear_model.stochastic_gradient.SGDClassifier'> in 0.19. If both are left unset, they default to max_iter=5 and tol=None. If tol is not None, max_iter defaults to max_iter=1000. From 0.21, default max_iter will be 1000, and default tol will be 1e-3.\n",
      "  \"and default tol will be 1e-3.\" % type(self), FutureWarning)\n",
      "/home/ubuntu/anaconda3/lib/python3.6/site-packages/sklearn/linear_model/stochastic_gradient.py:128: FutureWarning: max_iter and tol parameters have been added in <class 'sklearn.linear_model.stochastic_gradient.SGDClassifier'> in 0.19. If both are left unset, they default to max_iter=5 and tol=None. If tol is not None, max_iter defaults to max_iter=1000. From 0.21, default max_iter will be 1000, and default tol will be 1e-3.\n",
      "  \"and default tol will be 1e-3.\" % type(self), FutureWarning)\n",
      "/home/ubuntu/anaconda3/lib/python3.6/site-packages/sklearn/linear_model/stochastic_gradient.py:128: FutureWarning: max_iter and tol parameters have been added in <class 'sklearn.linear_model.stochastic_gradient.SGDClassifier'> in 0.19. If both are left unset, they default to max_iter=5 and tol=None. If tol is not None, max_iter defaults to max_iter=1000. From 0.21, default max_iter will be 1000, and default tol will be 1e-3.\n",
      "  \"and default tol will be 1e-3.\" % type(self), FutureWarning)\n",
      "/home/ubuntu/anaconda3/lib/python3.6/site-packages/sklearn/linear_model/stochastic_gradient.py:128: FutureWarning: max_iter and tol parameters have been added in <class 'sklearn.linear_model.stochastic_gradient.SGDClassifier'> in 0.19. If both are left unset, they default to max_iter=5 and tol=None. If tol is not None, max_iter defaults to max_iter=1000. From 0.21, default max_iter will be 1000, and default tol will be 1e-3.\n",
      "  \"and default tol will be 1e-3.\" % type(self), FutureWarning)\n",
      "/home/ubuntu/anaconda3/lib/python3.6/site-packages/sklearn/linear_model/stochastic_gradient.py:128: FutureWarning: max_iter and tol parameters have been added in <class 'sklearn.linear_model.stochastic_gradient.SGDClassifier'> in 0.19. If both are left unset, they default to max_iter=5 and tol=None. If tol is not None, max_iter defaults to max_iter=1000. From 0.21, default max_iter will be 1000, and default tol will be 1e-3.\n",
      "  \"and default tol will be 1e-3.\" % type(self), FutureWarning)\n",
      "/home/ubuntu/anaconda3/lib/python3.6/site-packages/sklearn/linear_model/stochastic_gradient.py:128: FutureWarning: max_iter and tol parameters have been added in <class 'sklearn.linear_model.stochastic_gradient.SGDClassifier'> in 0.19. If both are left unset, they default to max_iter=5 and tol=None. If tol is not None, max_iter defaults to max_iter=1000. From 0.21, default max_iter will be 1000, and default tol will be 1e-3.\n",
      "  \"and default tol will be 1e-3.\" % type(self), FutureWarning)\n"
     ]
    },
    {
     "name": "stdout",
     "output_type": "stream",
     "text": [
      "[0.05537459 0.80944625 0.94444444 0.9248366  0.95261438 0.94607843\n",
      " 0.94444444 0.94934641 0.94281046 0.94934641]\n",
      "0.8418742415532989\n"
     ]
    },
    {
     "name": "stderr",
     "output_type": "stream",
     "text": [
      "/home/ubuntu/anaconda3/lib/python3.6/site-packages/sklearn/linear_model/stochastic_gradient.py:128: FutureWarning: max_iter and tol parameters have been added in <class 'sklearn.linear_model.stochastic_gradient.SGDClassifier'> in 0.19. If both are left unset, they default to max_iter=5 and tol=None. If tol is not None, max_iter defaults to max_iter=1000. From 0.21, default max_iter will be 1000, and default tol will be 1e-3.\n",
      "  \"and default tol will be 1e-3.\" % type(self), FutureWarning)\n",
      "/home/ubuntu/anaconda3/lib/python3.6/site-packages/matplotlib/font_manager.py:1297: UserWarning: findfont: Font family ['sans-serif'] not found. Falling back to DejaVu Sans\n",
      "  (prop.get_family(), self.defaultFamily[fontext]))\n"
     ]
    },
    {
     "data": {
      "image/png": "[encoded data removed]",
      "text/plain": [
       "<matplotlib.figure.Figure at 0x7f17e636b240>"
      ]
     },
     "metadata": {},
     "output_type": "display_data"
    },
    {
     "data": {
      "image/png": "[encoded data removed]",
      "text/plain": [
       "<matplotlib.figure.Figure at 0x7f17d95348d0>"
      ]
     },
     "metadata": {},
     "output_type": "display_data"
    }
   ],
   "source": [
    "import matplotlib.pyplot as plt\n",
    "from sklearn import model_selection\n",
    "from sklearn.linear_model import LogisticRegression\n",
    "from sklearn.tree import DecisionTreeClassifier\n",
    "from sklearn.neighbors import KNeighborsClassifier\n",
    "from sklearn.discriminant_analysis import LinearDiscriminantAnalysis\n",
    "from sklearn.naive_bayes import GaussianNB\n",
    "from sklearn.svm import SVC\n",
    "\n",
    "from sklearn.linear_model import SGDClassifier\n",
    "\n",
    "models = []\n",
    "#models.append(('LR', LogisticRegression()))\n",
    "#models.append(('LDA', LinearDiscriminantAnalysis()))\n",
    "#models.append(('KNN', KNeighborsClassifier()))\n",
    "#models.append(('CART', DecisionTreeClassifier()))\n",
    "#models.append(('NB', GaussianNB()))\n",
    "#models.append(('SVM', SVC()))\n",
    "\n",
    "models.append(('SGD', SGDClassifier(random_state=42)))\n",
    "#{1:.9, 2:.5, 3:.01}\n",
    "\n",
    "#models.append(('RF', RandomForestClassifier(bootstrap=True, class_weight=None, criterion='entropy',\n",
    "#            max_depth=None, max_features='auto', max_leaf_nodes=None,\n",
    "#            min_impurity_decrease=0.0, min_impurity_split=None,\n",
    "#            min_samples_leaf=1, min_samples_split=2,\n",
    "#            min_weight_fraction_leaf=0.0, n_estimators=100, n_jobs=-1,\n",
    "#            oob_score=False, random_state=None, verbose=0,\n",
    "#            warm_start=False) ))\n",
    "\n",
    "# evaluate each model in turn\n",
    "results = []\n",
    "names = []\n",
    "scoring = 'accuracy'\n",
    "for name, model in models:\n",
    "    kfold = model_selection.KFold(n_splits=10, random_state=0)\n",
    "    cv_results = model_selection.cross_val_score(model, X, y, cv=kfold, scoring=scoring)\n",
    "    results.append(cv_results)\n",
    "    names.append(name)\n",
    "    msg = \"%s: %f (%f)\" % (name, cv_results.mean(), cv_results.std())\n",
    "    print(msg)\n",
    "    \n",
    "    model.fit(Xtrain, ytrain)\n",
    "    ypred = model.predict(Xtest)\n",
    "    evaluating_2(model, ytest, ypred, X, y, Xtest)\n",
    "    \n",
    "# boxplot algorithm comparison\n",
    "fig = plt.figure()\n",
    "fig.suptitle('Algorithm Comparison')\n",
    "ax = fig.add_subplot(111)\n",
    "plt.boxplot(results)\n",
    "ax.set_xticklabels(names)\n",
    "plt.show()"
   ]
  },
  {
   "cell_type": "markdown",
   "metadata": {},
   "source": [
    "# Comparando os modelos"
   ]
  },
  {
   "cell_type": "code",
   "execution_count": null,
   "metadata": {
    "collapsed": true
   },
   "outputs": [],
   "source": [
    "modelos_fp = [0.6330935251798561, 0.7266187050359713, 0.6385542168674698, 0.6385542168674698]"
   ]
  }
 ],
 "metadata": {
  "kernelspec": {
   "display_name": "Python 3",
   "language": "python",
   "name": "python3"
  },
  "language_info": {
   "codemirror_mode": {
    "name": "ipython",
    "version": 3
   },
   "file_extension": ".py",
   "mimetype": "text/x-python",
   "name": "python",
   "nbconvert_exporter": "python",
   "pygments_lexer": "ipython3",
   "version": "3.6.1"
  }
 },
 "nbformat": 4,
 "nbformat_minor": 2
}
