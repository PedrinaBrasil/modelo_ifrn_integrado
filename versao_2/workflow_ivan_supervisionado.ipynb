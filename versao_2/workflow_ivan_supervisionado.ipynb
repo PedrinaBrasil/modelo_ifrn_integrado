{
 "cells": [
  {
   "cell_type": "markdown",
   "metadata": {},
   "source": [
    "# Teste supervisionado com dados tunados"
   ]
  },
  {
   "cell_type": "code",
   "execution_count": 20,
   "metadata": {},
   "outputs": [],
   "source": [
    "#import os pacotes utilizados\n",
    "import numpy as np\n",
    "import pandas as pd\n",
    "import matplotlib.pyplot as plt\n",
    "import matplotlib\n",
    "\n",
    "#selecionando atributos \n",
    "from sklearn.feature_selection import RFECV\n",
    "\n",
    "#ESCALONAMENTO DE DADOS\n",
    "from sklearn.preprocessing import StandardScaler\n",
    "from sklearn.preprocessing import MinMaxScaler\n",
    "from sklearn.preprocessing import MaxAbsScaler\n",
    "from sklearn.preprocessing import RobustScaler\n",
    "\n",
    "#SELECIONANDO MELHOR MODELO\n",
    "from sklearn.model_selection import GridSearchCV\n",
    "from sklearn.ensemble import RandomForestClassifier\n",
    "from sklearn.tree import DecisionTreeClassifier\n",
    "from sklearn.datasets import make_classification\n",
    "from scipy.stats import randint as sp_randint\n",
    "from sklearn.cross_validation import train_test_split\n",
    "from sklearn.model_selection import cross_val_score\n",
    "\n",
    "#Evaluating\n",
    "import seaborn as sns; sns.set()\n",
    "\n",
    "from sklearn.metrics import confusion_matrix\n",
    "from sklearn.metrics import precision_score, recall_score \n",
    "from sklearn.metrics import precision_score, recall_score \n",
    "from sklearn.metrics import f1_score\n",
    "\n",
    "#EXPORTAR ARVORE\n",
    "from sklearn.tree import export_graphviz\n",
    "import os\n",
    "\n",
    "#CURVA ROC\n",
    "%matplotlib inline\n",
    "from sklearn.metrics import roc_curve\n",
    "from sklearn.model_selection import cross_val_predict \n",
    "from sklearn.metrics import roc_auc_score\n",
    "\n",
    "#REDUÇÃO DE DIMENSIONALIDADE\n",
    "from sklearn.decomposition import PCA\n",
    "\n",
    "#exibindo todas as colunas\n",
    "pd.set_option('display.max_columns', None)\n",
    "\n",
    "#definicao de funcoes que serao utilizadas\n",
    "# Utility function to report best scores\n",
    "def report(results, n_top=3):\n",
    "    for i in range(1, n_top + 1):\n",
    "        candidates = np.flatnonzero(results['rank_test_score'] == i)\n",
    "        for candidate in candidates:\n",
    "            print(\"Model with rank: {0}\".format(i))\n",
    "            print(\"Mean validation score: {0:.3f} (std: {1:.3f})\".format(\n",
    "                  results['mean_test_score'][candidate],\n",
    "                  results['std_test_score'][candidate]))\n",
    "            print(\"Parameters: {0}\".format(results['params'][candidate]))\n",
    "            print(\"\")\n",
    "            \n",
    "def plot_roc_curve(fpr, tpr, label=None):    \n",
    "    plt.plot(fpr, tpr, linewidth=2, label=label)    \n",
    "    plt.plot([0, 1], [0, 1], 'k--')    \n",
    "    plt.axis([0, 1, 0, 1])   \n",
    "    plt.xlabel('False Positive Rate')    \n",
    "    plt.ylabel('True Positive Rate')\n",
    "    \n",
    "#definindo score\n",
    "from sklearn.metrics import make_scorer\n",
    "from sklearn.metrics import cohen_kappa_score\n",
    "\n",
    "def score_evasao(y_true, y_pred): \n",
    "    tp = confusion_matrix(y_true, y_pred)[0, 0]\n",
    "    fn = confusion_matrix(y_true, y_pred)[0, 1]\n",
    "    \n",
    "    return tp/(tp+fn)\n",
    "   \n",
    "#SELECIONANDO MELHOR MODEL RF\n",
    "def make_RF(Xtrain, ytrain):\n",
    "    #cria a randomforest \n",
    "    #forest_clf = RandomForestClassifier(oob_score=True, n_jobs=-1) \n",
    "    forest_clf = RandomForestClassifier(n_jobs=-1) \n",
    "\n",
    "    param_grid_forest = {'max_depth': [3, 5, None],\n",
    "                  'max_features': ['auto', 'sqrt', 'log2'],\n",
    "                  'n_estimators': [10, 30, 60, 100, 200],\n",
    "                  'criterion': [\"gini\", \"entropy\"], \n",
    "                   'class_weight': [{0:10, 1:.1}, 'balanced']}\n",
    "\n",
    "    #seleciona o melhor modelo de acordo com os parâmetros\n",
    "    #grid_search_forest = GridSearchCV(estimator=forest_clf, param_grid=param_grid_forest, scoring = 'f1_weighted', cv=10)\n",
    "    \n",
    "    #utilizando o score definido de acordo com a evasao\n",
    "    #print(score_evasao(ytest, ypred_forest))\n",
    "    #se = make_scorer(score_evasao)\n",
    "    \n",
    "    #grid_search_forest = GridSearchCV(estimator=forest_clf, param_grid=param_grid_forest, scoring = 'f1')\n",
    "    #grid_search_forest = GridSearchCV(estimator=forest_clf, param_grid=param_grid_forest, scoring = 'roc_auc')\n",
    "    \n",
    "    kappa_scorer = make_scorer(cohen_kappa_score)\n",
    "    grid_search_forest = GridSearchCV(estimator=forest_clf, param_grid=param_grid_forest, scoring = kappa_scorer)\n",
    "    \n",
    "    grid_search_forest.fit(Xtrain, ytrain)\n",
    "    print(grid_search_forest.best_params_)\n",
    "    print(grid_search_forest.best_estimator_)\n",
    "    \n",
    "    #mostra os 5 melhores modelos\n",
    "    report(grid_search_forest.cv_results_, 5)    \n",
    "    \n",
    "    return grid_search_forest.best_estimator_\n",
    "\n",
    "def evaluating(model, ytest, ypred, X, y, Xtest):\n",
    "    #Evaluating\n",
    "    mat = confusion_matrix(ytest, ypred)\n",
    "    sns.heatmap(mat.T, square=True, annot=True, fmt='d', cbar=False)\n",
    "    plt.xlabel('true label')\n",
    "    plt.ylabel('predicted label');\n",
    "    \n",
    "    s = mat[0][1]/(mat[0][0]+mat[0][1])\n",
    "    print(\"Valor de falso positivo:\"+str(s))\n",
    "    \n",
    "    #evaluating\n",
    "    print(precision_score(ytest, ypred))\n",
    "    print(recall_score(ytest, ypred))\n",
    "\n",
    "    #evaluating\n",
    "    print(precision_score(ytest, ypred))\n",
    "    print(recall_score(ytest, ypred))\n",
    "    print(f1_score(ytest, ypred))\n",
    "\n",
    "    #qnt de evadidos \n",
    "    print(sum(ytest==0))\n",
    "\n",
    "    #precisao\n",
    "    print('Precisao')\n",
    "    scores = cross_val_score(model, X, y, cv=10)\n",
    "    accuracy = np.mean(scores)\n",
    "    print(scores)\n",
    "    print(accuracy)\n",
    "\n",
    "    #CURVA ROC\n",
    "    fig = plt.figure()\n",
    "    y_probas = cross_val_predict(model, Xtest, ytest, cv=10, method=\"predict_proba\") \n",
    "\n",
    "    y_scores = y_probas[:, 1]   # score = proba of positive class \n",
    "    fpr, tpr, thresholds = roc_curve(ytest, y_scores)\n",
    "\n",
    "    plot_roc_curve(fpr, tpr) \n",
    "    plt.show()\n",
    "    print(roc_auc_score(ytest, y_scores))\n",
    "\n",
    "    #exibe os atributos mais importantes\n",
    "    importances = model.feature_importances_\n",
    "    std = np.std([tree.feature_importances_ for tree in model.estimators_], axis=0)\n",
    "    indices = np.argsort(importances)[::-1]\n",
    "\n",
    "    # Print the feature ranking\n",
    "    print(\"Feature ranking:\")\n",
    "\n",
    "    for f in range(Xtest.shape[1]):\n",
    "        print(\"%d. feature %d [%s] (%f)\" % (f + 1, indices[f], X.columns[indices[f]],importances[indices[f]]))\n",
    "\n",
    "    # Plot the feature importances of the forest\n",
    "    plt.figure()\n",
    "    plt.title(\"Feature importances\")\n",
    "    plt.bar(range(Xtest.shape[1]), importances[indices], color=\"r\", yerr=std[indices], align=\"center\")\n",
    "    plt.xticks(range(Xtest.shape[1]), indices)\n",
    "    plt.xlim([-1, Xtest.shape[1]])\n",
    "    plt.show()    \n",
    "    \n",
    "def evaluating_2(model, ytest, ypred, X, y, Xtest):\n",
    "    #Evaluating\n",
    "    plt.figure()\n",
    "    mat = confusion_matrix(ytest, ypred)\n",
    "    sns.heatmap(mat.T, square=True, annot=True, fmt='d', cbar=False)\n",
    "    plt.xlabel('true label')\n",
    "    plt.ylabel('predicted label');\n",
    "    \n",
    "    s = mat[0][1]/(mat[0][0]+mat[0][1])\n",
    "    print(\"Valor de falso positivo:\"+str(s))\n",
    "    \n",
    "    #evaluating\n",
    "    print(precision_score(ytest, ypred))\n",
    "    print(recall_score(ytest, ypred))\n",
    "\n",
    "    #evaluating\n",
    "    print(precision_score(ytest, ypred))\n",
    "    print(recall_score(ytest, ypred))\n",
    "    print(f1_score(ytest, ypred))\n",
    "\n",
    "    #precisao\n",
    "    print('Precisao')\n",
    "    scores = cross_val_score(model, X, y, cv=10)\n",
    "    accuracy = np.mean(scores)\n",
    "    print(scores)\n",
    "    print(accuracy)\n",
    "\n",
    "#limpando os NaN devido ao RF\n",
    "def preparing_data(dados):\n",
    "    print(dados.shape)\n",
    "    dados = dados.dropna()\n",
    "    print(dados.shape)\n",
    "    \n",
    "    #configura os dados de entrada e saída\n",
    "    y = dados.classe\n",
    "    X = dados\n",
    "\n",
    "    del X['classe']\n",
    "    X.shape    \n",
    "    \n",
    "    #binazira os dados devido aos atributos categoricos \n",
    "    dados_dummies = pd.get_dummies(X, drop_first=True)\n",
    "    dados_dummies.shape\n",
    "\n",
    "    #remove atributos inconistentes\n",
    "    dados_clean = dados_dummies.replace([np.inf, -np.inf], np.nan)\n",
    "    dados_clean = dados_clean.dropna(axis=1, how='all')\n",
    "    print(dados_clean.info())\n",
    "    \n",
    "    return (dados_clean, y)"
   ]
  },
  {
   "cell_type": "code",
   "execution_count": 2,
   "metadata": {},
   "outputs": [
    {
     "data": {
      "text/html": [
       "<div>\n",
       "<style>\n",
       "    .dataframe thead tr:only-child th {\n",
       "        text-align: right;\n",
       "    }\n",
       "\n",
       "    .dataframe thead th {\n",
       "        text-align: left;\n",
       "    }\n",
       "\n",
       "    .dataframe tbody tr th {\n",
       "        vertical-align: top;\n",
       "    }\n",
       "</style>\n",
       "<table border=\"1\" class=\"dataframe\">\n",
       "  <thead>\n",
       "    <tr style=\"text-align: right;\">\n",
       "      <th></th>\n",
       "      <th>LnguaPortuguesaeLiteraturaI90H</th>\n",
       "      <th>LnguaPortuguesaeLiteraturaI90H_dependencia</th>\n",
       "      <th>LnguaPortuguesaeLiteraturaI90H_freq</th>\n",
       "      <th>MatemticaI120H</th>\n",
       "      <th>MatemticaI120H_dependencia</th>\n",
       "      <th>MatemticaI120H_freq</th>\n",
       "      <th>acompanhamento</th>\n",
       "      <th>aluno_exclusivo_rede_publica</th>\n",
       "      <th>artificial</th>\n",
       "      <th>classe</th>\n",
       "      <th>conceito</th>\n",
       "      <th>conceito_freq</th>\n",
       "      <th>descricao</th>\n",
       "      <th>descricao_area_residencial</th>\n",
       "      <th>descricao_companhia_domiciliar</th>\n",
       "      <th>descricao_estado_civil</th>\n",
       "      <th>descricao_historico</th>\n",
       "      <th>descricao_imovel</th>\n",
       "      <th>descricao_mae_escolaridade</th>\n",
       "      <th>descricao_pai_escolaridade</th>\n",
       "      <th>descricao_raca</th>\n",
       "      <th>descricao_responsavel_escolaridade</th>\n",
       "      <th>descricao_responsavel_financeiro</th>\n",
       "      <th>descricao_trabalho</th>\n",
       "      <th>id</th>\n",
       "      <th>idade</th>\n",
       "      <th>pessoa_fisica__sexo</th>\n",
       "      <th>possui_necessidade_especial</th>\n",
       "      <th>qnt_pc</th>\n",
       "      <th>qnt_salarios</th>\n",
       "      <th>qtd_pessoas_domicilio</th>\n",
       "      <th>sigla</th>\n",
       "      <th>tempo_entre_conclusao_ingresso</th>\n",
       "    </tr>\n",
       "  </thead>\n",
       "  <tbody>\n",
       "    <tr>\n",
       "      <th>0</th>\n",
       "      <td>68.0</td>\n",
       "      <td>0</td>\n",
       "      <td>100.0</td>\n",
       "      <td>66.0</td>\n",
       "      <td>0</td>\n",
       "      <td>100.0</td>\n",
       "      <td>0</td>\n",
       "      <td>False</td>\n",
       "      <td>0</td>\n",
       "      <td>1</td>\n",
       "      <td>B</td>\n",
       "      <td>A</td>\n",
       "      <td>Matriculado</td>\n",
       "      <td>Urbana</td>\n",
       "      <td>Mãe</td>\n",
       "      <td>Solteiro(a)</td>\n",
       "      <td>Técnico de Nivel Médio em Informática</td>\n",
       "      <td>Alugado</td>\n",
       "      <td>Ensino fundamental incompleto</td>\n",
       "      <td>Ensino fundamental incompleto</td>\n",
       "      <td>Branca</td>\n",
       "      <td>Ensino fundamental incompleto</td>\n",
       "      <td>Mãe</td>\n",
       "      <td>Não informado</td>\n",
       "      <td>457884597605</td>\n",
       "      <td>15</td>\n",
       "      <td>F</td>\n",
       "      <td>False</td>\n",
       "      <td>0</td>\n",
       "      <td>1</td>\n",
       "      <td>2</td>\n",
       "      <td>LAJ</td>\n",
       "      <td>1</td>\n",
       "    </tr>\n",
       "    <tr>\n",
       "      <th>1</th>\n",
       "      <td>73.0</td>\n",
       "      <td>1</td>\n",
       "      <td>100.0</td>\n",
       "      <td>36.0</td>\n",
       "      <td>1</td>\n",
       "      <td>91.0</td>\n",
       "      <td>0</td>\n",
       "      <td>False</td>\n",
       "      <td>1</td>\n",
       "      <td>0</td>\n",
       "      <td>R</td>\n",
       "      <td>R</td>\n",
       "      <td>Cancelado</td>\n",
       "      <td>Urbana</td>\n",
       "      <td>Mãe</td>\n",
       "      <td>Solteiro(a)</td>\n",
       "      <td>Técnico de Nível Médio em Meio Ambiente</td>\n",
       "      <td>Alugado</td>\n",
       "      <td>Ensino fundamental incompleto</td>\n",
       "      <td>Ensino fundamental incompleto</td>\n",
       "      <td>Parda</td>\n",
       "      <td>Ensino fundamental incompleto</td>\n",
       "      <td>Mãe</td>\n",
       "      <td>Não informado</td>\n",
       "      <td>458436647741</td>\n",
       "      <td>17</td>\n",
       "      <td>M</td>\n",
       "      <td>False</td>\n",
       "      <td>1</td>\n",
       "      <td>1</td>\n",
       "      <td>2</td>\n",
       "      <td>SPP</td>\n",
       "      <td>2</td>\n",
       "    </tr>\n",
       "  </tbody>\n",
       "</table>\n",
       "</div>"
      ],
      "text/plain": [
       "   LnguaPortuguesaeLiteraturaI90H  LnguaPortuguesaeLiteraturaI90H_dependencia  \\\n",
       "0                            68.0                                           0   \n",
       "1                            73.0                                           1   \n",
       "\n",
       "   LnguaPortuguesaeLiteraturaI90H_freq  MatemticaI120H  \\\n",
       "0                                100.0            66.0   \n",
       "1                                100.0            36.0   \n",
       "\n",
       "   MatemticaI120H_dependencia  MatemticaI120H_freq  acompanhamento  \\\n",
       "0                           0                100.0               0   \n",
       "1                           1                 91.0               0   \n",
       "\n",
       "   aluno_exclusivo_rede_publica  artificial  classe conceito conceito_freq  \\\n",
       "0                         False           0       1        B             A   \n",
       "1                         False           1       0        R             R   \n",
       "\n",
       "     descricao descricao_area_residencial descricao_companhia_domiciliar  \\\n",
       "0  Matriculado                     Urbana                            Mãe   \n",
       "1    Cancelado                     Urbana                            Mãe   \n",
       "\n",
       "  descricao_estado_civil                      descricao_historico  \\\n",
       "0            Solteiro(a)    Técnico de Nivel Médio em Informática   \n",
       "1            Solteiro(a)  Técnico de Nível Médio em Meio Ambiente   \n",
       "\n",
       "  descricao_imovel     descricao_mae_escolaridade  \\\n",
       "0          Alugado  Ensino fundamental incompleto   \n",
       "1          Alugado  Ensino fundamental incompleto   \n",
       "\n",
       "      descricao_pai_escolaridade descricao_raca  \\\n",
       "0  Ensino fundamental incompleto         Branca   \n",
       "1  Ensino fundamental incompleto          Parda   \n",
       "\n",
       "  descricao_responsavel_escolaridade descricao_responsavel_financeiro  \\\n",
       "0      Ensino fundamental incompleto                              Mãe   \n",
       "1      Ensino fundamental incompleto                              Mãe   \n",
       "\n",
       "  descricao_trabalho            id  idade pessoa_fisica__sexo  \\\n",
       "0      Não informado  457884597605     15                   F   \n",
       "1      Não informado  458436647741     17                   M   \n",
       "\n",
       "   possui_necessidade_especial  qnt_pc  qnt_salarios  qtd_pessoas_domicilio  \\\n",
       "0                        False       0             1                      2   \n",
       "1                        False       1             1                      2   \n",
       "\n",
       "  sigla  tempo_entre_conclusao_ingresso  \n",
       "0   LAJ                               1  \n",
       "1   SPP                               2  "
      ]
     },
     "execution_count": 2,
     "metadata": {},
     "output_type": "execute_result"
    }
   ],
   "source": [
    "dados_tunning = pd.read_json('dados/dados_workflow_ivan.json')\n",
    "dados = dados_tunning.copy()\n",
    "dados.head(2)"
   ]
  },
  {
   "cell_type": "code",
   "execution_count": 3,
   "metadata": {
    "collapsed": true
   },
   "outputs": [],
   "source": [
    "dados = dados[[\n",
    "       'LnguaPortuguesaeLiteraturaI90H',\n",
    "       'LnguaPortuguesaeLiteraturaI90H_dependencia',\n",
    "       'LnguaPortuguesaeLiteraturaI90H_freq', 'MatemticaI120H',\n",
    "       'MatemticaI120H_dependencia', 'MatemticaI120H_freq', 'acompanhamento',\n",
    "       'aluno_exclusivo_rede_publica', 'artificial', 'classe', 'conceito',\n",
    "       'conceito_freq', 'descricao_area_residencial',\n",
    "       'descricao_companhia_domiciliar', 'descricao_estado_civil',\n",
    "       'descricao_historico', 'descricao_imovel', 'descricao_mae_escolaridade',\n",
    "       'descricao_pai_escolaridade', 'descricao_raca',\n",
    "       'descricao_responsavel_escolaridade',\n",
    "       'descricao_responsavel_financeiro', 'descricao_trabalho', 'idade',\n",
    "       'pessoa_fisica__sexo', 'possui_necessidade_especial', 'qnt_pc',\n",
    "       'qnt_salarios', 'qtd_pessoas_domicilio', 'sigla',\n",
    "       'tempo_entre_conclusao_ingresso'    \n",
    "]] "
   ]
  },
  {
   "cell_type": "markdown",
   "metadata": {},
   "source": [
    "# Modelo 01: utilizando todos os dados"
   ]
  },
  {
   "cell_type": "code",
   "execution_count": 7,
   "metadata": {
    "collapsed": true
   },
   "outputs": [],
   "source": [
    "#convertendo os NaN das notas em -1 para usar o RF \n",
    "dados['LnguaPortuguesaeLiteraturaI90H'].fillna(-1, inplace=True)\n",
    "dados['LnguaPortuguesaeLiteraturaI90H_dependencia'].fillna(-1, inplace=True)\n",
    "dados['LnguaPortuguesaeLiteraturaI90H_freq'].fillna(-1, inplace=True)\n",
    "\n",
    "dados['MatemticaI120H'].fillna(-1, inplace=True)\n",
    "dados['MatemticaI120H_dependencia'].fillna(-1, inplace=True)\n",
    "dados['MatemticaI120H_freq'].fillna(-1, inplace=True)"
   ]
  },
  {
   "cell_type": "code",
   "execution_count": 4,
   "metadata": {},
   "outputs": [
    {
     "name": "stdout",
     "output_type": "stream",
     "text": [
      "(8908, 31)\n",
      "(7207, 31)\n",
      "<class 'pandas.core.frame.DataFrame'>\n",
      "Int64Index: 7207 entries, 0 to 998\n",
      "Columns: 149 entries, LnguaPortuguesaeLiteraturaI90H to sigla_ZN\n",
      "dtypes: bool(2), float64(4), int64(9), uint8(134)\n",
      "memory usage: 1.7 MB\n",
      "None\n"
     ]
    },
    {
     "data": {
      "text/plain": [
       "<matplotlib.axes._subplots.AxesSubplot at 0x7fbb1bba1400>"
      ]
     },
     "execution_count": 4,
     "metadata": {},
     "output_type": "execute_result"
    },
    {
     "name": "stderr",
     "output_type": "stream",
     "text": [
      "/home/ubuntu/anaconda3/lib/python3.6/site-packages/matplotlib/font_manager.py:1297: UserWarning: findfont: Font family ['sans-serif'] not found. Falling back to DejaVu Sans\n",
      "  (prop.get_family(), self.defaultFamily[fontext]))\n"
     ]
    },
    {
     "data": {
      "image/png": "[encoded data removed]",
      "text/plain": [
       "<matplotlib.figure.Figure at 0x7fbb1bba6780>"
      ]
     },
     "metadata": {},
     "output_type": "display_data"
    }
   ],
   "source": [
    "X, y = preparing_data(dados)\n",
    "y.plot.hist()"
   ]
  },
  {
   "cell_type": "code",
   "execution_count": 5,
   "metadata": {
    "collapsed": true
   },
   "outputs": [],
   "source": [
    "#dividir os dados para treino e teste. default é 25% p teste\n",
    "Xtrain, Xtest, ytrain, ytest = train_test_split(X, y, random_state=0, stratify = y)"
   ]
  },
  {
   "cell_type": "code",
   "execution_count": 21,
   "metadata": {},
   "outputs": [
    {
     "name": "stdout",
     "output_type": "stream",
     "text": [
      "{'class_weight': 'balanced', 'criterion': 'entropy', 'max_depth': None, 'max_features': 'auto', 'n_estimators': 30}\n",
      "RandomForestClassifier(bootstrap=True, class_weight='balanced',\n",
      "            criterion='entropy', max_depth=None, max_features='auto',\n",
      "            max_leaf_nodes=None, min_impurity_decrease=0.0,\n",
      "            min_impurity_split=None, min_samples_leaf=1,\n",
      "            min_samples_split=2, min_weight_fraction_leaf=0.0,\n",
      "            n_estimators=30, n_jobs=-1, oob_score=False, random_state=None,\n",
      "            verbose=0, warm_start=False)\n",
      "Model with rank: 1\n",
      "Mean validation score: 0.598 (std: 0.013)\n",
      "Parameters: {'class_weight': 'balanced', 'criterion': 'entropy', 'max_depth': None, 'max_features': 'auto', 'n_estimators': 30}\n",
      "\n",
      "Model with rank: 2\n",
      "Mean validation score: 0.594 (std: 0.032)\n",
      "Parameters: {'class_weight': 'balanced', 'criterion': 'entropy', 'max_depth': None, 'max_features': 'sqrt', 'n_estimators': 10}\n",
      "\n",
      "Model with rank: 3\n",
      "Mean validation score: 0.591 (std: 0.037)\n",
      "Parameters: {'class_weight': 'balanced', 'criterion': 'gini', 'max_depth': None, 'max_features': 'auto', 'n_estimators': 10}\n",
      "\n",
      "Model with rank: 4\n",
      "Mean validation score: 0.580 (std: 0.016)\n",
      "Parameters: {'class_weight': {0: 10, 1: 0.1}, 'criterion': 'entropy', 'max_depth': None, 'max_features': 'auto', 'n_estimators': 30}\n",
      "\n",
      "Model with rank: 5\n",
      "Mean validation score: 0.578 (std: 0.024)\n",
      "Parameters: {'class_weight': {0: 10, 1: 0.1}, 'criterion': 'entropy', 'max_depth': None, 'max_features': 'auto', 'n_estimators': 100}\n",
      "\n"
     ]
    }
   ],
   "source": [
    "#seleciona o melhor modelo\n",
    "model_forest = make_RF(Xtrain, ytrain)\n",
    "ypred_forest = model_forest.predict(Xtest)"
   ]
  },
  {
   "cell_type": "code",
   "execution_count": 22,
   "metadata": {},
   "outputs": [
    {
     "name": "stderr",
     "output_type": "stream",
     "text": [
      "/home/ubuntu/anaconda3/lib/python3.6/site-packages/matplotlib/font_manager.py:1297: UserWarning: findfont: Font family ['sans-serif'] not found. Falling back to DejaVu Sans\n",
      "  (prop.get_family(), self.defaultFamily[fontext]))\n"
     ]
    },
    {
     "name": "stdout",
     "output_type": "stream",
     "text": [
      "Valor de falso positivo:0.5298507462686567\n",
      "0.9586969168121\n",
      "0.988009592326139\n",
      "0.9586969168121\n",
      "0.988009592326139\n",
      "0.9731325656923532\n",
      "134\n",
      "Precisao\n",
      "[0.94459834 0.95152355 0.94875346 0.95006935 0.95694444 0.95416667\n",
      " 0.96111111 0.95555556 0.94444444 0.96111111]\n",
      "0.9528278027721321\n"
     ]
    },
    {
     "name": "stderr",
     "output_type": "stream",
     "text": [
      "/home/ubuntu/anaconda3/lib/python3.6/site-packages/matplotlib/font_manager.py:1297: UserWarning: findfont: Font family ['sans-serif'] not found. Falling back to DejaVu Sans\n",
      "  (prop.get_family(), self.defaultFamily[fontext]))\n"
     ]
    },
    {
     "data": {
      "image/png": "[encoded data removed]",
      "text/plain": [
       "<matplotlib.figure.Figure at 0x7fbb1f29ce80>"
      ]
     },
     "metadata": {},
     "output_type": "display_data"
    },
    {
     "data": {
      "image/png": "[encoded data removed]",
      "text/plain": [
       "<matplotlib.figure.Figure at 0x7fbb1c3bbc50>"
      ]
     },
     "metadata": {},
     "output_type": "display_data"
    },
    {
     "name": "stdout",
     "output_type": "stream",
     "text": [
      "0.9217536418626294\n",
      "Feature ranking:\n",
      "1. feature 0 [LnguaPortuguesaeLiteraturaI90H] (0.130806)\n",
      "2. feature 3 [MatemticaI120H] (0.114270)\n",
      "3. feature 17 [conceito_R] (0.071989)\n",
      "4. feature 5 [MatemticaI120H_freq] (0.065652)\n",
      "5. feature 15 [conceito_I] (0.061728)\n",
      "6. feature 2 [LnguaPortuguesaeLiteraturaI90H_freq] (0.041900)\n",
      "7. feature 9 [idade] (0.032271)\n",
      "8. feature 13 [qtd_pessoas_domicilio] (0.015680)\n",
      "9. feature 14 [tempo_entre_conclusao_ingresso] (0.015662)\n",
      "10. feature 1 [LnguaPortuguesaeLiteraturaI90H_dependencia] (0.015172)\n",
      "11. feature 16 [conceito_O] (0.014294)\n",
      "12. feature 8 [artificial] (0.013777)\n",
      "13. feature 12 [qnt_salarios] (0.013752)\n",
      "14. feature 21 [descricao_area_residencial_Não informado] (0.013360)\n",
      "15. feature 11 [qnt_pc] (0.013256)\n",
      "16. feature 33 [descricao_estado_civil_Solteiro(a)] (0.012826)\n",
      "17. feature 31 [descricao_estado_civil_Divorciado(a)] (0.012649)\n",
      "18. feature 6 [acompanhamento] (0.011603)\n",
      "19. feature 19 [conceito_freq_R] (0.011259)\n",
      "20. feature 4 [MatemticaI120H_dependencia] (0.011073)\n",
      "21. feature 10 [possui_necessidade_especial] (0.009388)\n",
      "22. feature 23 [descricao_area_residencial_Urbana] (0.008508)\n",
      "23. feature 129 [pessoa_fisica__sexo_M] (0.007652)\n",
      "24. feature 76 [descricao_mae_escolaridade_Ensino médio completo] (0.007394)\n",
      "25. feature 7 [aluno_exclusivo_rede_publica] (0.006829)\n",
      "26. feature 122 [descricao_trabalho_Nunca trabalhou] (0.006694)\n",
      "27. feature 94 [descricao_raca_Branca] (0.006632)\n",
      "28. feature 97 [descricao_raca_Parda] (0.006616)\n",
      "29. feature 139 [sigla_MC] (0.006602)\n",
      "30. feature 86 [descricao_pai_escolaridade_Ensino médio completo] (0.006041)\n",
      "31. feature 135 [sigla_CNAT] (0.005981)\n",
      "32. feature 73 [descricao_imovel_Próprio] (0.005961)\n",
      "33. feature 124 [descricao_trabalho_Não informado] (0.005828)\n",
      "34. feature 38 [descricao_historico_Técnico de Nivel Médio em Informática] (0.005633)\n",
      "35. feature 28 [descricao_companhia_domiciliar_Pais] (0.005623)\n",
      "36. feature 115 [descricao_responsavel_financeiro_Pai] (0.005510)\n",
      "37. feature 130 [sigla_CA] (0.005328)\n",
      "38. feature 24 [descricao_companhia_domiciliar_Mãe] (0.005223)\n",
      "39. feature 101 [descricao_responsavel_escolaridade_Ensino médio completo] (0.005127)\n",
      "40. feature 18 [conceito_freq_I] (0.005036)\n",
      "41. feature 85 [descricao_pai_escolaridade_Ensino fundamental incompleto] (0.005021)\n",
      "42. feature 63 [descricao_historico_Técnico de Nível Médio em Recursos Pesqueiros] (0.004950)\n",
      "43. feature 77 [descricao_mae_escolaridade_Ensino médio incompleto] (0.004913)\n",
      "44. feature 100 [descricao_responsavel_escolaridade_Ensino fundamental incompleto] (0.004541)\n",
      "45. feature 111 [descricao_responsavel_financeiro_Mãe] (0.004392)\n",
      "46. feature 75 [descricao_mae_escolaridade_Ensino fundamental incompleto] (0.004235)\n",
      "47. feature 98 [descricao_raca_Preta] (0.003978)\n",
      "48. feature 29 [descricao_companhia_domiciliar_Parente(s) ou amigo(s)] (0.003970)\n",
      "49. feature 45 [descricao_historico_Técnico de Nível Médio em Edificações] (0.003931)\n",
      "50. feature 79 [descricao_mae_escolaridade_Ensino superior incompleto] (0.003654)\n",
      "51. feature 141 [sigla_NC] (0.003497)\n",
      "52. feature 67 [descricao_historico_Técnico em Programação de Jogos Digitais] (0.003471)\n",
      "53. feature 47 [descricao_historico_Técnico de Nível Médio em Eletrotécnica] (0.003376)\n",
      "54. feature 145 [sigla_SC] (0.003302)\n",
      "55. feature 123 [descricao_trabalho_Não está trabalhando] (0.003272)\n",
      "56. feature 27 [descricao_companhia_domiciliar_Pai] (0.003144)\n",
      "57. feature 22 [descricao_area_residencial_Rural] (0.003107)\n",
      "58. feature 88 [descricao_pai_escolaridade_Ensino superior completo] (0.003053)\n",
      "59. feature 102 [descricao_responsavel_escolaridade_Ensino médio incompleto] (0.002992)\n",
      "60. feature 147 [sigla_SPP] (0.002870)\n",
      "61. feature 104 [descricao_responsavel_escolaridade_Ensino superior incompleto] (0.002835)\n",
      "62. feature 74 [descricao_mae_escolaridade_Ensino fundamental completo] (0.002793)\n",
      "63. feature 138 [sigla_LAJ] (0.002786)\n",
      "64. feature 82 [descricao_mae_escolaridade_Pós graduação completo] (0.002719)\n",
      "65. feature 134 [sigla_CN] (0.002715)\n",
      "66. feature 103 [descricao_responsavel_escolaridade_Ensino superior completo] (0.002627)\n",
      "67. feature 51 [descricao_historico_Técnico de Nível Médio em Informática] (0.002605)\n",
      "68. feature 148 [sigla_ZN] (0.002560)\n",
      "69. feature 39 [descricao_historico_Técnico de Nível Médio em Administração] (0.002547)\n",
      "70. feature 78 [descricao_mae_escolaridade_Ensino superior completo] (0.002482)\n",
      "71. feature 84 [descricao_pai_escolaridade_Ensino fundamental completo] (0.002475)\n",
      "72. feature 92 [descricao_pai_escolaridade_Pós graduação completo] (0.002464)\n",
      "73. feature 133 [sigla_CM] (0.002335)\n",
      "74. feature 118 [descricao_trabalho_Autônomo] (0.002262)\n",
      "75. feature 120 [descricao_trabalho_Empresa privada] (0.002226)\n",
      "76. feature 106 [descricao_responsavel_escolaridade_Não estudou] (0.002141)\n",
      "77. feature 26 [descricao_companhia_domiciliar_Outros] (0.002134)\n",
      "78. feature 35 [descricao_historico_Técnico de Nivel Médio em Agropecuária, na Forma Integrada] (0.002082)\n",
      "79. feature 99 [descricao_responsavel_escolaridade_Ensino fundamental completo] (0.002077)\n",
      "80. feature 57 [descricao_historico_Técnico de Nível Médio em Mecânica] (0.002045)\n",
      "81. feature 87 [descricao_pai_escolaridade_Ensino médio incompleto] (0.002037)\n",
      "82. feature 65 [descricao_historico_Técnico de Nível Médio em Têxtil] (0.001932)\n",
      "83. feature 69 [descricao_imovel_Financiado] (0.001916)\n",
      "84. feature 68 [descricao_imovel_Cedido ou Emprestado] (0.001883)\n",
      "85. feature 136 [sigla_IP] (0.001882)\n",
      "86. feature 55 [descricao_historico_Técnico de Nível Médio em Manutenção e Suporte em Informática] (0.001705)\n",
      "87. feature 107 [descricao_responsavel_escolaridade_Pós graduação completo] (0.001647)\n",
      "88. feature 52 [descricao_historico_Técnico de Nível Médio em Informática para Internet] (0.001642)\n",
      "89. feature 144 [sigla_PF] (0.001584)\n",
      "90. feature 127 [descricao_trabalho_Trabalha com vínculo empregatício] (0.001580)\n",
      "91. feature 146 [sigla_SGA] (0.001530)\n",
      "92. feature 142 [sigla_PAAS] (0.001529)\n",
      "93. feature 58 [descricao_historico_Técnico de Nível Médio em Meio Ambiente] (0.001527)\n",
      "94. feature 90 [descricao_pai_escolaridade_Não conhece] (0.001460)\n",
      "95. feature 41 [descricao_historico_Técnico de Nível Médio em Alimentos] (0.001445)\n",
      "96. feature 50 [descricao_historico_Técnico de Nível Médio em Geologia] (0.001434)\n",
      "97. feature 91 [descricao_pai_escolaridade_Não estudou] (0.001413)\n",
      "98. feature 137 [sigla_JC] (0.001368)\n",
      "99. feature 49 [descricao_historico_Técnico de Nível Médio em Eventos] (0.001265)\n",
      "100. feature 143 [sigla_PAR] (0.001228)\n",
      "101. feature 81 [descricao_mae_escolaridade_Não estudou] (0.001216)\n",
      "102. feature 71 [descricao_imovel_Outro] (0.001214)\n",
      "103. feature 89 [descricao_pai_escolaridade_Ensino superior incompleto] (0.001201)\n",
      "104. feature 140 [sigla_MO] (0.001176)\n",
      "105. feature 48 [descricao_historico_Técnico de Nível Médio em Eletrônica] (0.001160)\n",
      "106. feature 110 [descricao_responsavel_financeiro_Irmão(ã)] (0.001158)\n",
      "107. feature 44 [descricao_historico_Técnico de Nível Médio em Controle Ambiental] (0.001157)\n",
      "108. feature 61 [descricao_historico_Técnico de Nível Médio em Química] (0.001063)\n",
      "109. feature 59 [descricao_historico_Técnico de Nível Médio em Mineração] (0.001044)\n",
      "110. feature 43 [descricao_historico_Técnico de Nível Médio em Comércio] (0.000911)\n",
      "111. feature 126 [descricao_trabalho_Serviço público] (0.000858)\n",
      "112. feature 96 [descricao_raca_Não declarado] (0.000793)\n",
      "113. feature 66 [descricao_historico_Técnico de Nível Médio em Vestuário] (0.000781)\n",
      "114. feature 132 [sigla_CANG] (0.000723)\n",
      "115. feature 56 [descricao_historico_Técnico de Nível Médio em Mecatrônica] (0.000691)\n",
      "116. feature 131 [sigla_CAL] (0.000620)\n",
      "117. feature 46 [descricao_historico_Técnico de Nível Médio em Eletromecânica] (0.000544)\n",
      "118. feature 70 [descricao_imovel_Não informado] (0.000446)\n",
      "119. feature 42 [descricao_historico_Técnico de Nível Médio em Apicultura] (0.000422)\n",
      "120. feature 119 [descricao_trabalho_Beneficiário ou Pensionista do INSS] (0.000416)\n",
      "121. feature 60 [descricao_historico_Técnico de Nível Médio em Multimídia] (0.000414)\n",
      "122. feature 128 [descricao_trabalho_Trabalhador rural/Agricultor] (0.000407)\n",
      "123. feature 109 [descricao_responsavel_financeiro_Cônjuge] (0.000377)\n",
      "124. feature 37 [descricao_historico_Técnico de Nivel Médio em Equipamentos Biomédicos] (0.000366)\n",
      "125. feature 62 [descricao_historico_Técnico de Nível Médio em Química, na Forma Integrado] (0.000332)\n",
      "126. feature 36 [descricao_historico_Técnico de Nivel Médio em Biocombustíveis] (0.000323)\n",
      "127. feature 114 [descricao_responsavel_financeiro_Outros] (0.000300)\n",
      "128. feature 117 [descricao_responsavel_financeiro_Tio(a)] (0.000297)\n",
      "129. feature 54 [descricao_historico_Técnico de Nível Médio em Logística] (0.000295)\n",
      "130. feature 116 [descricao_responsavel_financeiro_Parentes] (0.000252)\n",
      "131. feature 40 [descricao_historico_Técnico de Nível Médio em Agroecologia] (0.000208)\n",
      "132. feature 53 [descricao_historico_Técnico de Nível Médio em Lazer] (0.000198)\n",
      "133. feature 83 [descricao_mae_escolaridade_Pós graduação incompleto] (0.000188)\n",
      "134. feature 95 [descricao_raca_Indígena] (0.000181)\n",
      "135. feature 112 [descricao_responsavel_financeiro_Não informado] (0.000168)\n",
      "136. feature 125 [descricao_trabalho_Pescador] (0.000164)\n",
      "137. feature 34 [descricao_estado_civil_União Estável] (0.000162)\n",
      "138. feature 108 [descricao_responsavel_escolaridade_Pós graduação incompleto] (0.000134)\n",
      "139. feature 64 [descricao_historico_Técnico de Nível Médio em Refrigeração e Climatização] (0.000118)\n",
      "140. feature 80 [descricao_mae_escolaridade_Não conhece] (0.000100)\n",
      "141. feature 25 [descricao_companhia_domiciliar_Não informado] (0.000081)\n",
      "142. feature 121 [descricao_trabalho_Estágio ou bolsa] (0.000081)\n",
      "143. feature 93 [descricao_pai_escolaridade_Pós graduação incompleto] (0.000066)\n",
      "144. feature 113 [descricao_responsavel_financeiro_O próprio aluno] (0.000012)\n",
      "145. feature 30 [descricao_companhia_domiciliar_Sozinho(a)] (0.000011)\n",
      "146. feature 32 [descricao_estado_civil_Não declarado] (0.000000)\n",
      "147. feature 105 [descricao_responsavel_escolaridade_Não conhece] (0.000000)\n",
      "148. feature 72 [descricao_imovel_Pensionato ou Alojamento] (0.000000)\n",
      "149. feature 20 [descricao_area_residencial_Comunidade Quilombola] (0.000000)\n"
     ]
    },
    {
     "data": {
      "image/png": "[encoded data removed]",
      "text/plain": [
       "<matplotlib.figure.Figure at 0x7fbb1c1589e8>"
      ]
     },
     "metadata": {},
     "output_type": "display_data"
    }
   ],
   "source": [
    "#avaliacao do modelo\n",
    "evaluating(model_forest, ytest, ypred_forest, X, y, Xtest)"
   ]
  },
  {
   "cell_type": "markdown",
   "metadata": {},
   "source": [
    "# Modelo 02: sem dados artificiais e NaN"
   ]
  },
  {
   "cell_type": "code",
   "execution_count": 14,
   "metadata": {},
   "outputs": [
    {
     "name": "stdout",
     "output_type": "stream",
     "text": [
      "(7718, 31)\n",
      "(6124, 31)\n",
      "<class 'pandas.core.frame.DataFrame'>\n",
      "Int64Index: 6124 entries, 0 to 998\n",
      "Columns: 149 entries, LnguaPortuguesaeLiteraturaI90H to sigla_ZN\n",
      "dtypes: bool(2), float64(4), int64(9), uint8(134)\n",
      "memory usage: 1.4 MB\n",
      "None\n"
     ]
    }
   ],
   "source": [
    "dados = dados_tunning.copy()\n",
    "dados = dados[dados.artificial == 0]\n",
    "\n",
    "dados = dados[[       \n",
    "       'LnguaPortuguesaeLiteraturaI90H',\n",
    "       'LnguaPortuguesaeLiteraturaI90H_dependencia',\n",
    "       'LnguaPortuguesaeLiteraturaI90H_freq', \n",
    "       'MatemticaI120H',\n",
    "       'MatemticaI120H_dependencia', \n",
    "       'MatemticaI120H_freq',\n",
    "       'acompanhamento',\n",
    "       'aluno_exclusivo_rede_publica', 'artificial', 'classe', 'conceito',\n",
    "       'conceito_freq', 'descricao_area_residencial',\n",
    "       'descricao_companhia_domiciliar', 'descricao_estado_civil',\n",
    "       'descricao_historico', 'descricao_imovel', 'descricao_mae_escolaridade',\n",
    "       'descricao_pai_escolaridade', 'descricao_raca',\n",
    "       'descricao_responsavel_escolaridade',\n",
    "       'descricao_responsavel_financeiro', 'descricao_trabalho', 'idade',\n",
    "       'pessoa_fisica__sexo', 'possui_necessidade_especial', 'qnt_pc',\n",
    "       'qnt_salarios', 'qtd_pessoas_domicilio', 'sigla',\n",
    "       'tempo_entre_conclusao_ingresso'    \n",
    "]] \n",
    "\n",
    "X, y = preparing_data(dados)\n",
    "\n",
    "#dividir os dados para treino e teste. default é 25% p teste\n",
    "Xtrain, Xtest, ytrain, ytest = train_test_split(X, y, random_state=0, stratify = y)"
   ]
  },
  {
   "cell_type": "code",
   "execution_count": null,
   "metadata": {},
   "outputs": [
    {
     "name": "stderr",
     "output_type": "stream",
     "text": [
      "/home/ubuntu/anaconda3/lib/python3.6/site-packages/sklearn/metrics/classification.py:1135: UndefinedMetricWarning: F-score is ill-defined and being set to 0.0 in labels with no predicted samples.\n",
      "  'precision', 'predicted', average, warn_for)\n",
      "/home/ubuntu/anaconda3/lib/python3.6/site-packages/sklearn/metrics/classification.py:1135: UndefinedMetricWarning: F-score is ill-defined and being set to 0.0 in labels with no predicted samples.\n",
      "  'precision', 'predicted', average, warn_for)\n",
      "/home/ubuntu/anaconda3/lib/python3.6/site-packages/sklearn/metrics/classification.py:1135: UndefinedMetricWarning: F-score is ill-defined and being set to 0.0 in labels with no predicted samples.\n",
      "  'precision', 'predicted', average, warn_for)\n",
      "/home/ubuntu/anaconda3/lib/python3.6/site-packages/sklearn/metrics/classification.py:1135: UndefinedMetricWarning: F-score is ill-defined and being set to 0.0 in labels with no predicted samples.\n",
      "  'precision', 'predicted', average, warn_for)\n",
      "/home/ubuntu/anaconda3/lib/python3.6/site-packages/sklearn/metrics/classification.py:1135: UndefinedMetricWarning: F-score is ill-defined and being set to 0.0 in labels with no predicted samples.\n",
      "  'precision', 'predicted', average, warn_for)\n",
      "/home/ubuntu/anaconda3/lib/python3.6/site-packages/sklearn/metrics/classification.py:1135: UndefinedMetricWarning: F-score is ill-defined and being set to 0.0 in labels with no predicted samples.\n",
      "  'precision', 'predicted', average, warn_for)\n",
      "/home/ubuntu/anaconda3/lib/python3.6/site-packages/sklearn/metrics/classification.py:1135: UndefinedMetricWarning: F-score is ill-defined and being set to 0.0 in labels with no predicted samples.\n",
      "  'precision', 'predicted', average, warn_for)\n",
      "/home/ubuntu/anaconda3/lib/python3.6/site-packages/sklearn/metrics/classification.py:1135: UndefinedMetricWarning: F-score is ill-defined and being set to 0.0 in labels with no predicted samples.\n",
      "  'precision', 'predicted', average, warn_for)\n",
      "/home/ubuntu/anaconda3/lib/python3.6/site-packages/sklearn/metrics/classification.py:1135: UndefinedMetricWarning: F-score is ill-defined and being set to 0.0 in labels with no predicted samples.\n",
      "  'precision', 'predicted', average, warn_for)\n",
      "/home/ubuntu/anaconda3/lib/python3.6/site-packages/sklearn/metrics/classification.py:1135: UndefinedMetricWarning: F-score is ill-defined and being set to 0.0 in labels with no predicted samples.\n",
      "  'precision', 'predicted', average, warn_for)\n",
      "/home/ubuntu/anaconda3/lib/python3.6/site-packages/sklearn/metrics/classification.py:1135: UndefinedMetricWarning: F-score is ill-defined and being set to 0.0 in labels with no predicted samples.\n",
      "  'precision', 'predicted', average, warn_for)\n",
      "/home/ubuntu/anaconda3/lib/python3.6/site-packages/sklearn/metrics/classification.py:1135: UndefinedMetricWarning: F-score is ill-defined and being set to 0.0 in labels with no predicted samples.\n",
      "  'precision', 'predicted', average, warn_for)\n"
     ]
    }
   ],
   "source": [
    "#seleciona o melhor modelo\n",
    "model_forest = make_RF(Xtrain, ytrain)\n",
    "ypred_forest = model_forest.predict(Xtest)"
   ]
  },
  {
   "cell_type": "code",
   "execution_count": null,
   "metadata": {
    "collapsed": true
   },
   "outputs": [],
   "source": [
    "def tp(y_true, y_pred): return confusion_matrix(y_true, y_pred)[0, 0]\n",
    "def tn(y_true, y_pred): return confusion_matrix(y_true, y_pred)[0, 0]\n",
    "def fp(y_true, y_pred): return confusion_matrix(y_true, y_pred)[1, 0]\n",
    "def fn(y_true, y_pred): return confusion_matrix(y_true, y_pred)[0, 1]\n",
    "\n",
    "scoring = {'tp' : make_scorer(tp), 'tn' : make_scorer(tn),\n",
    "            'fp' : make_scorer(fp), 'fn' : make_scorer(fn)}\n",
    "\n",
    "print(tp(ytest, ypred_forest))\n",
    "print(tn(ytest, ypred_forest))\n",
    "print(fp(ytest, ypred_forest))\n",
    "print(fn(ytest, ypred_forest))"
   ]
  },
  {
   "cell_type": "code",
   "execution_count": null,
   "metadata": {
    "collapsed": true
   },
   "outputs": [],
   "source": [
    "#avaliacao do modelo\n",
    "evaluating(model_forest, ytest, ypred_forest, X, y, Xtest)"
   ]
  },
  {
   "cell_type": "markdown",
   "metadata": {},
   "source": [
    "# Modelo 02: sem notas contínuas"
   ]
  },
  {
   "cell_type": "code",
   "execution_count": 31,
   "metadata": {},
   "outputs": [
    {
     "name": "stdout",
     "output_type": "stream",
     "text": [
      "(8908, 27)\n",
      "(8908, 27)\n",
      "<class 'pandas.core.frame.DataFrame'>\n",
      "Int64Index: 8908 entries, 0 to 998\n",
      "Columns: 147 entries, LnguaPortuguesaeLiteraturaI90H_dependencia to sigla_ZN\n",
      "dtypes: bool(2), int64(9), uint8(136)\n",
      "memory usage: 1.9 MB\n",
      "None\n"
     ]
    }
   ],
   "source": [
    "dados = dados_tunning.copy()\n",
    "dados = dados[[       \n",
    "       'LnguaPortuguesaeLiteraturaI90H_dependencia',\n",
    "       'MatemticaI120H_dependencia', \n",
    "       'acompanhamento',\n",
    "       'aluno_exclusivo_rede_publica', 'artificial', 'classe', 'conceito',\n",
    "       'conceito_freq', 'descricao_area_residencial',\n",
    "       'descricao_companhia_domiciliar', 'descricao_estado_civil',\n",
    "       'descricao_historico', 'descricao_imovel', 'descricao_mae_escolaridade',\n",
    "       'descricao_pai_escolaridade', 'descricao_raca',\n",
    "       'descricao_responsavel_escolaridade',\n",
    "       'descricao_responsavel_financeiro', 'descricao_trabalho', 'idade',\n",
    "       'pessoa_fisica__sexo', 'possui_necessidade_especial', 'qnt_pc',\n",
    "       'qnt_salarios', 'qtd_pessoas_domicilio', 'sigla',\n",
    "       'tempo_entre_conclusao_ingresso'    \n",
    "]] \n",
    "\n",
    "dados['LnguaPortuguesaeLiteraturaI90H_dependencia'].fillna(-1, inplace=True)\n",
    "dados['MatemticaI120H_dependencia'].fillna(-1, inplace=True)\n",
    "\n",
    "X, y = preparing_data(dados)\n",
    "\n",
    "#dividir os dados para treino e teste. default é 25% p teste\n",
    "Xtrain, Xtest, ytrain, ytest = train_test_split(X, y, random_state=0, stratify = y)"
   ]
  },
  {
   "cell_type": "code",
   "execution_count": 32,
   "metadata": {},
   "outputs": [
    {
     "name": "stdout",
     "output_type": "stream",
     "text": [
      "{'criterion': 'entropy', 'max_depth': None, 'max_features': 'sqrt', 'n_estimators': 60}\n",
      "RandomForestClassifier(bootstrap=True, class_weight=None, criterion='entropy',\n",
      "            max_depth=None, max_features='sqrt', max_leaf_nodes=None,\n",
      "            min_impurity_decrease=0.0, min_impurity_split=None,\n",
      "            min_samples_leaf=1, min_samples_split=2,\n",
      "            min_weight_fraction_leaf=0.0, n_estimators=60, n_jobs=-1,\n",
      "            oob_score=False, random_state=None, verbose=0,\n",
      "            warm_start=False)\n",
      "Model with rank: 1\n",
      "Mean validation score: 0.955 (std: 0.001)\n",
      "Parameters: {'criterion': 'entropy', 'max_depth': None, 'max_features': 'sqrt', 'n_estimators': 60}\n",
      "\n",
      "Model with rank: 2\n",
      "Mean validation score: 0.955 (std: 0.001)\n",
      "Parameters: {'criterion': 'entropy', 'max_depth': None, 'max_features': 'auto', 'n_estimators': 30}\n",
      "\n",
      "Model with rank: 3\n",
      "Mean validation score: 0.954 (std: 0.001)\n",
      "Parameters: {'criterion': 'gini', 'max_depth': None, 'max_features': 'auto', 'n_estimators': 60}\n",
      "\n",
      "Model with rank: 3\n",
      "Mean validation score: 0.954 (std: 0.001)\n",
      "Parameters: {'criterion': 'gini', 'max_depth': None, 'max_features': 'sqrt', 'n_estimators': 100}\n",
      "\n",
      "Model with rank: 3\n",
      "Mean validation score: 0.954 (std: 0.001)\n",
      "Parameters: {'criterion': 'entropy', 'max_depth': None, 'max_features': 'auto', 'n_estimators': 60}\n",
      "\n"
     ]
    }
   ],
   "source": [
    "#seleciona o melhor modelo\n",
    "model_forest = make_RF(Xtrain, ytrain)\n",
    "ypred_forest = model_forest.predict(Xtest)"
   ]
  },
  {
   "cell_type": "code",
   "execution_count": 33,
   "metadata": {},
   "outputs": [
    {
     "name": "stderr",
     "output_type": "stream",
     "text": [
      "/home/ubuntu/anaconda3/lib/python3.6/site-packages/matplotlib/font_manager.py:1297: UserWarning: findfont: Font family ['sans-serif'] not found. Falling back to DejaVu Sans\n",
      "  (prop.get_family(), self.defaultFamily[fontext]))\n"
     ]
    },
    {
     "name": "stdout",
     "output_type": "stream",
     "text": [
      "Valor de falso positivo:0.7266187050359713\n",
      "0.9536271808999082\n",
      "0.9947318007662835\n",
      "0.9536271808999082\n",
      "0.9947318007662835\n",
      "0.9737458977965308\n",
      "139\n",
      "Precisao\n",
      "[0.94730942 0.95627803 0.94837262 0.95622896 0.96071829 0.95173962\n",
      " 0.96516854 0.95505618 0.94831461 0.95280899]\n",
      "0.9541995242279082\n"
     ]
    },
    {
     "name": "stderr",
     "output_type": "stream",
     "text": [
      "/home/ubuntu/anaconda3/lib/python3.6/site-packages/matplotlib/font_manager.py:1297: UserWarning: findfont: Font family ['sans-serif'] not found. Falling back to DejaVu Sans\n",
      "  (prop.get_family(), self.defaultFamily[fontext]))\n"
     ]
    },
    {
     "data": {
      "image/png": "[encoded data removed]",
      "text/plain": [
       "<matplotlib.figure.Figure at 0x7f17e6b7b7f0>"
      ]
     },
     "metadata": {},
     "output_type": "display_data"
    },
    {
     "data": {
      "image/png": "[encoded data removed]",
      "text/plain": [
       "<matplotlib.figure.Figure at 0x7f17e6339ba8>"
      ]
     },
     "metadata": {},
     "output_type": "display_data"
    },
    {
     "name": "stdout",
     "output_type": "stream",
     "text": [
      "0.9115604068469362\n",
      "Feature ranking:\n",
      "1. feature 11 [conceito_I] (0.104026)\n",
      "2. feature 13 [conceito_R] (0.094299)\n",
      "3. feature 5 [idade] (0.042247)\n",
      "4. feature 16 [conceito_freq_R] (0.034736)\n",
      "5. feature 9 [qtd_pessoas_domicilio] (0.029659)\n",
      "6. feature 8 [qnt_salarios] (0.022881)\n",
      "7. feature 10 [tempo_entre_conclusao_ingresso] (0.021355)\n",
      "8. feature 7 [qnt_pc] (0.021061)\n",
      "9. feature 15 [conceito_freq_I] (0.020093)\n",
      "10. feature 19 [descricao_area_residencial_Não informado] (0.019609)\n",
      "11. feature 1 [MatemticaI120H_dependencia] (0.019136)\n",
      "12. feature 0 [LnguaPortuguesaeLiteraturaI90H_dependencia] (0.018398)\n",
      "13. feature 29 [descricao_estado_civil_Divorciado(a)] (0.016949)\n",
      "14. feature 2 [acompanhamento] (0.015213)\n",
      "15. feature 95 [descricao_raca_Parda] (0.012774)\n",
      "16. feature 12 [conceito_O] (0.012496)\n",
      "17. feature 4 [artificial] (0.012067)\n",
      "18. feature 127 [pessoa_fisica__sexo_M] (0.011862)\n",
      "19. feature 21 [descricao_area_residencial_Urbana] (0.011105)\n",
      "20. feature 120 [descricao_trabalho_Nunca trabalhou] (0.010733)\n",
      "21. feature 137 [sigla_MC] (0.010485)\n",
      "22. feature 92 [descricao_raca_Branca] (0.010403)\n",
      "23. feature 122 [descricao_trabalho_Não informado] (0.010401)\n",
      "24. feature 71 [descricao_imovel_Próprio] (0.009817)\n",
      "25. feature 26 [descricao_companhia_domiciliar_Pais] (0.009665)\n",
      "26. feature 73 [descricao_mae_escolaridade_Ensino fundamental incompleto] (0.009517)\n",
      "27. feature 31 [descricao_estado_civil_Solteiro(a)] (0.009506)\n",
      "28. feature 36 [descricao_historico_Técnico de Nivel Médio em Informática] (0.009417)\n",
      "29. feature 109 [descricao_responsavel_financeiro_Mãe] (0.009348)\n",
      "30. feature 6 [possui_necessidade_especial] (0.009243)\n",
      "31. feature 83 [descricao_pai_escolaridade_Ensino fundamental incompleto] (0.009061)\n",
      "32. feature 22 [descricao_companhia_domiciliar_Mãe] (0.008934)\n",
      "33. feature 74 [descricao_mae_escolaridade_Ensino médio completo] (0.008889)\n",
      "34. feature 113 [descricao_responsavel_financeiro_Pai] (0.008725)\n",
      "35. feature 99 [descricao_responsavel_escolaridade_Ensino médio completo] (0.008508)\n",
      "36. feature 84 [descricao_pai_escolaridade_Ensino médio completo] (0.008473)\n",
      "37. feature 98 [descricao_responsavel_escolaridade_Ensino fundamental incompleto] (0.008166)\n",
      "38. feature 133 [sigla_CNAT] (0.008046)\n",
      "39. feature 3 [aluno_exclusivo_rede_publica] (0.007370)\n",
      "40. feature 75 [descricao_mae_escolaridade_Ensino médio incompleto] (0.007012)\n",
      "41. feature 121 [descricao_trabalho_Não está trabalhando] (0.006854)\n",
      "42. feature 128 [sigla_CA] (0.006847)\n",
      "43. feature 43 [descricao_historico_Técnico de Nível Médio em Edificações] (0.006072)\n",
      "44. feature 132 [sigla_CN] (0.005843)\n",
      "45. feature 20 [descricao_area_residencial_Rural] (0.005748)\n",
      "46. feature 131 [sigla_CM] (0.005736)\n",
      "47. feature 27 [descricao_companhia_domiciliar_Parente(s) ou amigo(s)] (0.005586)\n",
      "48. feature 145 [sigla_SPP] (0.005347)\n",
      "49. feature 139 [sigla_NC] (0.005237)\n",
      "50. feature 135 [sigla_JC] (0.005150)\n",
      "51. feature 63 [descricao_historico_Técnico de Nível Médio em Têxtil] (0.005144)\n",
      "52. feature 86 [descricao_pai_escolaridade_Ensino superior completo] (0.005126)\n",
      "53. feature 45 [descricao_historico_Técnico de Nível Médio em Eletrotécnica] (0.005059)\n",
      "54. feature 96 [descricao_raca_Preta] (0.005041)\n",
      "55. feature 76 [descricao_mae_escolaridade_Ensino superior completo] (0.004913)\n",
      "56. feature 85 [descricao_pai_escolaridade_Ensino médio incompleto] (0.004906)\n",
      "57. feature 101 [descricao_responsavel_escolaridade_Ensino superior completo] (0.004819)\n",
      "58. feature 61 [descricao_historico_Técnico de Nível Médio em Recursos Pesqueiros] (0.004785)\n",
      "59. feature 100 [descricao_responsavel_escolaridade_Ensino médio incompleto] (0.004688)\n",
      "60. feature 49 [descricao_historico_Técnico de Nível Médio em Informática] (0.004669)\n",
      "61. feature 143 [sigla_SC] (0.004659)\n",
      "62. feature 82 [descricao_pai_escolaridade_Ensino fundamental completo] (0.004360)\n",
      "63. feature 65 [descricao_historico_Técnico em Programação de Jogos Digitais] (0.004318)\n",
      "64. feature 77 [descricao_mae_escolaridade_Ensino superior incompleto] (0.004263)\n",
      "65. feature 14 [conceito_S] (0.004209)\n",
      "66. feature 89 [descricao_pai_escolaridade_Não estudou] (0.003835)\n",
      "67. feature 24 [descricao_companhia_domiciliar_Outros] (0.003806)\n",
      "68. feature 37 [descricao_historico_Técnico de Nível Médio em Administração] (0.003615)\n",
      "69. feature 80 [descricao_mae_escolaridade_Pós graduação completo] (0.003594)\n",
      "70. feature 17 [conceito_freq_S] (0.003571)\n",
      "71. feature 56 [descricao_historico_Técnico de Nível Médio em Meio Ambiente] (0.003552)\n",
      "72. feature 33 [descricao_historico_Técnico de Nivel Médio em Agropecuária, na Forma Integrada] (0.003459)\n",
      "73. feature 72 [descricao_mae_escolaridade_Ensino fundamental completo] (0.003395)\n",
      "74. feature 136 [sigla_LAJ] (0.003368)\n",
      "75. feature 104 [descricao_responsavel_escolaridade_Não estudou] (0.003202)\n",
      "76. feature 67 [descricao_imovel_Financiado] (0.003103)\n",
      "77. feature 88 [descricao_pai_escolaridade_Não conhece] (0.003093)\n",
      "78. feature 25 [descricao_companhia_domiciliar_Pai] (0.003090)\n",
      "79. feature 97 [descricao_responsavel_escolaridade_Ensino fundamental completo] (0.003071)\n",
      "80. feature 146 [sigla_ZN] (0.003068)\n",
      "81. feature 69 [descricao_imovel_Outro] (0.002891)\n",
      "82. feature 105 [descricao_responsavel_escolaridade_Pós graduação completo] (0.002826)\n",
      "83. feature 129 [sigla_CAL] (0.002724)\n",
      "84. feature 90 [descricao_pai_escolaridade_Pós graduação completo] (0.002682)\n",
      "85. feature 142 [sigla_PF] (0.002611)\n",
      "86. feature 102 [descricao_responsavel_escolaridade_Ensino superior incompleto] (0.002565)\n",
      "87. feature 130 [sigla_CANG] (0.002564)\n",
      "88. feature 116 [descricao_trabalho_Autônomo] (0.002552)\n",
      "89. feature 55 [descricao_historico_Técnico de Nível Médio em Mecânica] (0.002536)\n",
      "90. feature 144 [sigla_SGA] (0.002473)\n",
      "91. feature 39 [descricao_historico_Técnico de Nível Médio em Alimentos] (0.002464)\n",
      "92. feature 141 [sigla_PAR] (0.002382)\n",
      "93. feature 118 [descricao_trabalho_Empresa privada] (0.002292)\n",
      "94. feature 79 [descricao_mae_escolaridade_Não estudou] (0.002289)\n",
      "95. feature 50 [descricao_historico_Técnico de Nível Médio em Informática para Internet] (0.002220)\n",
      "96. feature 41 [descricao_historico_Técnico de Nível Médio em Comércio] (0.002104)\n",
      "97. feature 138 [sigla_MO] (0.002056)\n",
      "98. feature 40 [descricao_historico_Técnico de Nível Médio em Apicultura] (0.002015)\n",
      "99. feature 66 [descricao_imovel_Cedido ou Emprestado] (0.001989)\n",
      "100. feature 87 [descricao_pai_escolaridade_Ensino superior incompleto] (0.001953)\n",
      "101. feature 57 [descricao_historico_Técnico de Nível Médio em Mineração] (0.001942)\n",
      "102. feature 58 [descricao_historico_Técnico de Nível Médio em Multimídia] (0.001924)\n",
      "103. feature 68 [descricao_imovel_Não informado] (0.001870)\n",
      "104. feature 53 [descricao_historico_Técnico de Nível Médio em Manutenção e Suporte em Informática] (0.001848)\n",
      "105. feature 64 [descricao_historico_Técnico de Nível Médio em Vestuário] (0.001829)\n",
      "106. feature 46 [descricao_historico_Técnico de Nível Médio em Eletrônica] (0.001781)\n",
      "107. feature 134 [sigla_IP] (0.001721)\n",
      "108. feature 115 [descricao_responsavel_financeiro_Tio(a)] (0.001642)\n",
      "109. feature 107 [descricao_responsavel_financeiro_Cônjuge] (0.001590)\n",
      "110. feature 124 [descricao_trabalho_Serviço público] (0.001477)\n",
      "111. feature 140 [sigla_PAAS] (0.001472)\n",
      "112. feature 112 [descricao_responsavel_financeiro_Outros] (0.001339)\n",
      "113. feature 42 [descricao_historico_Técnico de Nível Médio em Controle Ambiental] (0.001309)\n",
      "114. feature 59 [descricao_historico_Técnico de Nível Médio em Química] (0.001129)\n",
      "115. feature 47 [descricao_historico_Técnico de Nível Médio em Eventos] (0.001089)\n",
      "116. feature 54 [descricao_historico_Técnico de Nível Médio em Mecatrônica] (0.001088)\n",
      "117. feature 51 [descricao_historico_Técnico de Nível Médio em Lazer] (0.001076)\n",
      "118. feature 125 [descricao_trabalho_Trabalha com vínculo empregatício] (0.001036)\n",
      "119. feature 60 [descricao_historico_Técnico de Nível Médio em Química, na Forma Integrado] (0.000978)\n",
      "120. feature 111 [descricao_responsavel_financeiro_O próprio aluno] (0.000965)\n",
      "121. feature 35 [descricao_historico_Técnico de Nivel Médio em Equipamentos Biomédicos] (0.000951)\n",
      "122. feature 110 [descricao_responsavel_financeiro_Não informado] (0.000933)\n",
      "123. feature 126 [descricao_trabalho_Trabalhador rural/Agricultor] (0.000922)\n",
      "124. feature 38 [descricao_historico_Técnico de Nível Médio em Agroecologia] (0.000847)\n",
      "125. feature 117 [descricao_trabalho_Beneficiário ou Pensionista do INSS] (0.000727)\n",
      "126. feature 52 [descricao_historico_Técnico de Nível Médio em Logística] (0.000667)\n",
      "127. feature 44 [descricao_historico_Técnico de Nível Médio em Eletromecânica] (0.000663)\n",
      "128. feature 94 [descricao_raca_Não declarado] (0.000578)\n",
      "129. feature 108 [descricao_responsavel_financeiro_Irmão(ã)] (0.000556)\n",
      "130. feature 81 [descricao_mae_escolaridade_Pós graduação incompleto] (0.000519)\n",
      "131. feature 48 [descricao_historico_Técnico de Nível Médio em Geologia] (0.000502)\n",
      "132. feature 106 [descricao_responsavel_escolaridade_Pós graduação incompleto] (0.000480)\n",
      "133. feature 114 [descricao_responsavel_financeiro_Parentes] (0.000461)\n",
      "134. feature 119 [descricao_trabalho_Estágio ou bolsa] (0.000452)\n",
      "135. feature 23 [descricao_companhia_domiciliar_Não informado] (0.000397)\n",
      "136. feature 62 [descricao_historico_Técnico de Nível Médio em Refrigeração e Climatização] (0.000386)\n",
      "137. feature 34 [descricao_historico_Técnico de Nivel Médio em Biocombustíveis] (0.000360)\n",
      "138. feature 91 [descricao_pai_escolaridade_Pós graduação incompleto] (0.000195)\n",
      "139. feature 78 [descricao_mae_escolaridade_Não conhece] (0.000104)\n",
      "140. feature 123 [descricao_trabalho_Pescador] (0.000049)\n",
      "141. feature 93 [descricao_raca_Indígena] (0.000049)\n",
      "142. feature 30 [descricao_estado_civil_Não declarado] (0.000018)\n",
      "143. feature 28 [descricao_companhia_domiciliar_Sozinho(a)] (0.000008)\n",
      "144. feature 18 [descricao_area_residencial_Comunidade Quilombola] (0.000000)\n",
      "145. feature 32 [descricao_estado_civil_União Estável] (0.000000)\n",
      "146. feature 103 [descricao_responsavel_escolaridade_Não conhece] (0.000000)\n",
      "147. feature 70 [descricao_imovel_Pensionato ou Alojamento] (0.000000)\n"
     ]
    },
    {
     "data": {
      "image/png": "[encoded data removed]",
      "text/plain": [
       "<matplotlib.figure.Figure at 0x7f17e6a48828>"
      ]
     },
     "metadata": {},
     "output_type": "display_data"
    }
   ],
   "source": [
    "#avaliacao do modelo\n",
    "evaluating(model_forest, ytest, ypred_forest, X, y, Xtest)"
   ]
  },
  {
   "cell_type": "markdown",
   "metadata": {},
   "source": [
    "# Modelo 03: sem dados artificiais "
   ]
  },
  {
   "cell_type": "code",
   "execution_count": 43,
   "metadata": {},
   "outputs": [
    {
     "name": "stdout",
     "output_type": "stream",
     "text": [
      "(7718, 31)\n",
      "(6124, 31)\n",
      "<class 'pandas.core.frame.DataFrame'>\n",
      "Int64Index: 6124 entries, 0 to 998\n",
      "Columns: 149 entries, LnguaPortuguesaeLiteraturaI90H to sigla_ZN\n",
      "dtypes: bool(2), float64(4), int64(9), uint8(134)\n",
      "memory usage: 1.4 MB\n",
      "None\n"
     ]
    }
   ],
   "source": [
    "dados = dados_tunning.copy()\n",
    "dados = dados[dados.artificial == 0]\n",
    "\n",
    "dados = dados[[       \n",
    "       'LnguaPortuguesaeLiteraturaI90H',\n",
    "       'LnguaPortuguesaeLiteraturaI90H_dependencia',\n",
    "       'LnguaPortuguesaeLiteraturaI90H_freq', \n",
    "       'MatemticaI120H',\n",
    "       'MatemticaI120H_dependencia', \n",
    "       'MatemticaI120H_freq',\n",
    "       'acompanhamento',\n",
    "       'aluno_exclusivo_rede_publica', 'artificial', 'classe', 'conceito',\n",
    "       'conceito_freq', 'descricao_area_residencial',\n",
    "       'descricao_companhia_domiciliar', 'descricao_estado_civil',\n",
    "       'descricao_historico', 'descricao_imovel', 'descricao_mae_escolaridade',\n",
    "       'descricao_pai_escolaridade', 'descricao_raca',\n",
    "       'descricao_responsavel_escolaridade',\n",
    "       'descricao_responsavel_financeiro', 'descricao_trabalho', 'idade',\n",
    "       'pessoa_fisica__sexo', 'possui_necessidade_especial', 'qnt_pc',\n",
    "       'qnt_salarios', 'qtd_pessoas_domicilio', 'sigla',\n",
    "       'tempo_entre_conclusao_ingresso'    \n",
    "]] \n",
    "\n",
    "X, y = preparing_data(dados)\n",
    "\n",
    "#dividir os dados para treino e teste. default é 25% p teste\n",
    "Xtrain, Xtest, ytrain, ytest = train_test_split(X, y, random_state=0, stratify = y)"
   ]
  },
  {
   "cell_type": "code",
   "execution_count": 44,
   "metadata": {},
   "outputs": [
    {
     "name": "stdout",
     "output_type": "stream",
     "text": [
      "{'criterion': 'entropy', 'max_depth': None, 'max_features': 'auto', 'n_estimators': 200}\n",
      "RandomForestClassifier(bootstrap=True, class_weight=None, criterion='entropy',\n",
      "            max_depth=None, max_features='auto', max_leaf_nodes=None,\n",
      "            min_impurity_decrease=0.0, min_impurity_split=None,\n",
      "            min_samples_leaf=1, min_samples_split=2,\n",
      "            min_weight_fraction_leaf=0.0, n_estimators=200, n_jobs=-1,\n",
      "            oob_score=False, random_state=None, verbose=0,\n",
      "            warm_start=False)\n",
      "Model with rank: 1\n",
      "Mean validation score: 0.959 (std: 0.001)\n",
      "Parameters: {'criterion': 'entropy', 'max_depth': None, 'max_features': 'auto', 'n_estimators': 200}\n",
      "\n",
      "Model with rank: 2\n",
      "Mean validation score: 0.959 (std: 0.002)\n",
      "Parameters: {'criterion': 'gini', 'max_depth': None, 'max_features': 'auto', 'n_estimators': 10}\n",
      "\n",
      "Model with rank: 3\n",
      "Mean validation score: 0.958 (std: 0.003)\n",
      "Parameters: {'criterion': 'entropy', 'max_depth': None, 'max_features': 'auto', 'n_estimators': 10}\n",
      "\n",
      "Model with rank: 4\n",
      "Mean validation score: 0.958 (std: 0.002)\n",
      "Parameters: {'criterion': 'gini', 'max_depth': None, 'max_features': 'auto', 'n_estimators': 100}\n",
      "\n",
      "Model with rank: 4\n",
      "Mean validation score: 0.958 (std: 0.003)\n",
      "Parameters: {'criterion': 'gini', 'max_depth': None, 'max_features': 'auto', 'n_estimators': 200}\n",
      "\n",
      "Model with rank: 4\n",
      "Mean validation score: 0.958 (std: 0.001)\n",
      "Parameters: {'criterion': 'gini', 'max_depth': None, 'max_features': 'sqrt', 'n_estimators': 30}\n",
      "\n",
      "Model with rank: 4\n",
      "Mean validation score: 0.958 (std: 0.001)\n",
      "Parameters: {'criterion': 'gini', 'max_depth': None, 'max_features': 'sqrt', 'n_estimators': 100}\n",
      "\n"
     ]
    }
   ],
   "source": [
    "#seleciona o melhor modelo\n",
    "model_forest = make_RF(Xtrain, ytrain)\n",
    "ypred_forest = model_forest.predict(Xtest)"
   ]
  },
  {
   "cell_type": "code",
   "execution_count": 45,
   "metadata": {},
   "outputs": [
    {
     "name": "stderr",
     "output_type": "stream",
     "text": [
      "/home/ubuntu/anaconda3/lib/python3.6/site-packages/matplotlib/font_manager.py:1297: UserWarning: findfont: Font family ['sans-serif'] not found. Falling back to DejaVu Sans\n",
      "  (prop.get_family(), self.defaultFamily[fontext]))\n"
     ]
    },
    {
     "name": "stdout",
     "output_type": "stream",
     "text": [
      "Valor de falso positivo:0.6385542168674698\n",
      "0.9644295302013423\n",
      "0.9924033149171271\n",
      "0.9644295302013423\n",
      "0.9924033149171271\n",
      "0.9782164737916951\n",
      "83\n",
      "Precisao\n",
      "[0.95439739 0.95765472 0.96078431 0.96405229 0.95915033 0.95915033\n",
      " 0.96568627 0.96895425 0.95424837 0.96078431]\n",
      "0.9604862574780183\n"
     ]
    },
    {
     "name": "stderr",
     "output_type": "stream",
     "text": [
      "/home/ubuntu/anaconda3/lib/python3.6/site-packages/matplotlib/font_manager.py:1297: UserWarning: findfont: Font family ['sans-serif'] not found. Falling back to DejaVu Sans\n",
      "  (prop.get_family(), self.defaultFamily[fontext]))\n"
     ]
    },
    {
     "data": {
      "image/png": "[encoded data removed]",
      "text/plain": [
       "<matplotlib.figure.Figure at 0x7f17e6a612e8>"
      ]
     },
     "metadata": {},
     "output_type": "display_data"
    },
    {
     "data": {
      "image/png": "[encoded data removed]",
      "text/plain": [
       "<matplotlib.figure.Figure at 0x7f17d9553780>"
      ]
     },
     "metadata": {},
     "output_type": "display_data"
    },
    {
     "name": "stdout",
     "output_type": "stream",
     "text": [
      "0.9361770285562138\n",
      "Feature ranking:\n",
      "1. feature 0 [LnguaPortuguesaeLiteraturaI90H] (0.135988)\n",
      "2. feature 3 [MatemticaI120H] (0.109682)\n",
      "3. feature 17 [conceito_R] (0.063846)\n",
      "4. feature 5 [MatemticaI120H_freq] (0.055027)\n",
      "5. feature 15 [conceito_I] (0.048605)\n",
      "6. feature 2 [LnguaPortuguesaeLiteraturaI90H_freq] (0.040380)\n",
      "7. feature 9 [idade] (0.028614)\n",
      "8. feature 13 [qtd_pessoas_domicilio] (0.020993)\n",
      "9. feature 14 [tempo_entre_conclusao_ingresso] (0.017975)\n",
      "10. feature 12 [qnt_salarios] (0.017286)\n",
      "11. feature 11 [qnt_pc] (0.016870)\n",
      "12. feature 19 [conceito_freq_R] (0.014133)\n",
      "13. feature 4 [MatemticaI120H_dependencia] (0.013855)\n",
      "14. feature 139 [sigla_MC] (0.013406)\n",
      "15. feature 6 [acompanhamento] (0.012830)\n",
      "16. feature 1 [LnguaPortuguesaeLiteraturaI90H_dependencia] (0.012590)\n",
      "17. feature 130 [sigla_CA] (0.010051)\n",
      "18. feature 129 [pessoa_fisica__sexo_M] (0.009064)\n",
      "19. feature 135 [sigla_CNAT] (0.008971)\n",
      "20. feature 16 [conceito_O] (0.008382)\n",
      "21. feature 94 [descricao_raca_Branca] (0.007868)\n",
      "22. feature 97 [descricao_raca_Parda] (0.007509)\n",
      "23. feature 73 [descricao_imovel_Próprio] (0.007475)\n",
      "24. feature 28 [descricao_companhia_domiciliar_Pais] (0.007355)\n",
      "25. feature 115 [descricao_responsavel_financeiro_Pai] (0.007273)\n",
      "26. feature 7 [aluno_exclusivo_rede_publica] (0.007258)\n",
      "27. feature 111 [descricao_responsavel_financeiro_Mãe] (0.007059)\n",
      "28. feature 85 [descricao_pai_escolaridade_Ensino fundamental incompleto] (0.007037)\n",
      "29. feature 10 [possui_necessidade_especial] (0.006886)\n",
      "30. feature 38 [descricao_historico_Técnico de Nivel Médio em Informática] (0.006826)\n",
      "31. feature 123 [descricao_trabalho_Não está trabalhando] (0.006800)\n",
      "32. feature 122 [descricao_trabalho_Nunca trabalhou] (0.006697)\n",
      "33. feature 100 [descricao_responsavel_escolaridade_Ensino fundamental incompleto] (0.006650)\n",
      "34. feature 63 [descricao_historico_Técnico de Nível Médio em Recursos Pesqueiros] (0.006635)\n",
      "35. feature 45 [descricao_historico_Técnico de Nível Médio em Edificações] (0.006548)\n",
      "36. feature 101 [descricao_responsavel_escolaridade_Ensino médio completo] (0.006538)\n",
      "37. feature 86 [descricao_pai_escolaridade_Ensino médio completo] (0.006473)\n",
      "38. feature 24 [descricao_companhia_domiciliar_Mãe] (0.006384)\n",
      "39. feature 75 [descricao_mae_escolaridade_Ensino fundamental incompleto] (0.006377)\n",
      "40. feature 76 [descricao_mae_escolaridade_Ensino médio completo] (0.006330)\n",
      "41. feature 23 [descricao_area_residencial_Urbana] (0.006304)\n",
      "42. feature 67 [descricao_historico_Técnico em Programação de Jogos Digitais] (0.006241)\n",
      "43. feature 22 [descricao_area_residencial_Rural] (0.005869)\n",
      "44. feature 51 [descricao_historico_Técnico de Nível Médio em Informática] (0.005600)\n",
      "45. feature 47 [descricao_historico_Técnico de Nível Médio em Eletrotécnica] (0.005316)\n",
      "46. feature 77 [descricao_mae_escolaridade_Ensino médio incompleto] (0.005231)\n",
      "47. feature 133 [sigla_CM] (0.004756)\n",
      "48. feature 141 [sigla_NC] (0.004520)\n",
      "49. feature 78 [descricao_mae_escolaridade_Ensino superior completo] (0.004499)\n",
      "50. feature 29 [descricao_companhia_domiciliar_Parente(s) ou amigo(s)] (0.004490)\n",
      "51. feature 87 [descricao_pai_escolaridade_Ensino médio incompleto] (0.004404)\n",
      "52. feature 102 [descricao_responsavel_escolaridade_Ensino médio incompleto] (0.004139)\n",
      "53. feature 18 [conceito_freq_I] (0.004025)\n",
      "54. feature 69 [descricao_imovel_Financiado] (0.003992)\n",
      "55. feature 145 [sigla_SC] (0.003983)\n",
      "56. feature 88 [descricao_pai_escolaridade_Ensino superior completo] (0.003753)\n",
      "57. feature 79 [descricao_mae_escolaridade_Ensino superior incompleto] (0.003753)\n",
      "58. feature 103 [descricao_responsavel_escolaridade_Ensino superior completo] (0.003748)\n",
      "59. feature 39 [descricao_historico_Técnico de Nível Médio em Administração] (0.003664)\n",
      "60. feature 147 [sigla_SPP] (0.003602)\n",
      "61. feature 98 [descricao_raca_Preta] (0.003438)\n",
      "62. feature 142 [sigla_PAAS] (0.003385)\n",
      "63. feature 84 [descricao_pai_escolaridade_Ensino fundamental completo] (0.003254)\n",
      "64. feature 137 [sigla_JC] (0.003060)\n",
      "65. feature 58 [descricao_historico_Técnico de Nível Médio em Meio Ambiente] (0.002978)\n",
      "66. feature 35 [descricao_historico_Técnico de Nivel Médio em Agropecuária, na Forma Integrada] (0.002966)\n",
      "67. feature 26 [descricao_companhia_domiciliar_Outros] (0.002953)\n",
      "68. feature 65 [descricao_historico_Técnico de Nível Médio em Têxtil] (0.002771)\n",
      "69. feature 104 [descricao_responsavel_escolaridade_Ensino superior incompleto] (0.002715)\n",
      "70. feature 99 [descricao_responsavel_escolaridade_Ensino fundamental completo] (0.002637)\n",
      "71. feature 148 [sigla_ZN] (0.002608)\n",
      "72. feature 21 [descricao_area_residencial_Não informado] (0.002557)\n",
      "73. feature 74 [descricao_mae_escolaridade_Ensino fundamental completo] (0.002477)\n",
      "74. feature 144 [sigla_PF] (0.002369)\n",
      "75. feature 138 [sigla_LAJ] (0.002324)\n",
      "76. feature 71 [descricao_imovel_Outro] (0.002270)\n",
      "77. feature 90 [descricao_pai_escolaridade_Não conhece] (0.002128)\n",
      "78. feature 146 [sigla_SGA] (0.002068)\n",
      "79. feature 82 [descricao_mae_escolaridade_Pós graduação completo] (0.002028)\n",
      "80. feature 143 [sigla_PAR] (0.002018)\n",
      "81. feature 106 [descricao_responsavel_escolaridade_Não estudou] (0.002006)\n",
      "82. feature 91 [descricao_pai_escolaridade_Não estudou] (0.001957)\n",
      "83. feature 128 [descricao_trabalho_Trabalhador rural/Agricultor] (0.001956)\n",
      "84. feature 52 [descricao_historico_Técnico de Nível Médio em Informática para Internet] (0.001928)\n",
      "85. feature 124 [descricao_trabalho_Não informado] (0.001890)\n",
      "86. feature 27 [descricao_companhia_domiciliar_Pai] (0.001880)\n",
      "87. feature 59 [descricao_historico_Técnico de Nível Médio em Mineração] (0.001852)\n",
      "88. feature 68 [descricao_imovel_Cedido ou Emprestado] (0.001835)\n",
      "89. feature 114 [descricao_responsavel_financeiro_Outros] (0.001686)\n",
      "90. feature 136 [sigla_IP] (0.001663)\n",
      "91. feature 134 [sigla_CN] (0.001612)\n",
      "92. feature 131 [sigla_CAL] (0.001555)\n",
      "93. feature 57 [descricao_historico_Técnico de Nível Médio em Mecânica] (0.001534)\n",
      "94. feature 55 [descricao_historico_Técnico de Nível Médio em Manutenção e Suporte em Informática] (0.001524)\n",
      "95. feature 117 [descricao_responsavel_financeiro_Tio(a)] (0.001494)\n",
      "96. feature 118 [descricao_trabalho_Autônomo] (0.001482)\n",
      "97. feature 81 [descricao_mae_escolaridade_Não estudou] (0.001478)\n",
      "98. feature 42 [descricao_historico_Técnico de Nível Médio em Apicultura] (0.001475)\n",
      "99. feature 107 [descricao_responsavel_escolaridade_Pós graduação completo] (0.001471)\n",
      "100. feature 132 [sigla_CANG] (0.001459)\n",
      "101. feature 140 [sigla_MO] (0.001403)\n",
      "102. feature 89 [descricao_pai_escolaridade_Ensino superior incompleto] (0.001342)\n",
      "103. feature 44 [descricao_historico_Técnico de Nível Médio em Controle Ambiental] (0.001257)\n",
      "104. feature 60 [descricao_historico_Técnico de Nível Médio em Multimídia] (0.001106)\n",
      "105. feature 62 [descricao_historico_Técnico de Nível Médio em Química, na Forma Integrado] (0.001096)\n",
      "106. feature 126 [descricao_trabalho_Serviço público] (0.001094)\n",
      "107. feature 96 [descricao_raca_Não declarado] (0.001053)\n",
      "108. feature 66 [descricao_historico_Técnico de Nível Médio em Vestuário] (0.001032)\n",
      "109. feature 41 [descricao_historico_Técnico de Nível Médio em Alimentos] (0.001029)\n",
      "110. feature 33 [descricao_estado_civil_Solteiro(a)] (0.000944)\n",
      "111. feature 110 [descricao_responsavel_financeiro_Irmão(ã)] (0.000894)\n",
      "112. feature 43 [descricao_historico_Técnico de Nível Médio em Comércio] (0.000891)\n",
      "113. feature 56 [descricao_historico_Técnico de Nível Médio em Mecatrônica] (0.000869)\n",
      "114. feature 48 [descricao_historico_Técnico de Nível Médio em Eletrônica] (0.000843)\n",
      "115. feature 119 [descricao_trabalho_Beneficiário ou Pensionista do INSS] (0.000834)\n",
      "116. feature 61 [descricao_historico_Técnico de Nível Médio em Química] (0.000795)\n",
      "117. feature 92 [descricao_pai_escolaridade_Pós graduação completo] (0.000737)\n",
      "118. feature 113 [descricao_responsavel_financeiro_O próprio aluno] (0.000687)\n",
      "119. feature 31 [descricao_estado_civil_Divorciado(a)] (0.000650)\n",
      "120. feature 49 [descricao_historico_Técnico de Nível Médio em Eventos] (0.000632)\n",
      "121. feature 120 [descricao_trabalho_Empresa privada] (0.000559)\n",
      "122. feature 109 [descricao_responsavel_financeiro_Cônjuge] (0.000558)\n",
      "123. feature 53 [descricao_historico_Técnico de Nível Médio em Lazer] (0.000473)\n",
      "124. feature 121 [descricao_trabalho_Estágio ou bolsa] (0.000456)\n",
      "125. feature 70 [descricao_imovel_Não informado] (0.000453)\n",
      "126. feature 50 [descricao_historico_Técnico de Nível Médio em Geologia] (0.000436)\n",
      "127. feature 64 [descricao_historico_Técnico de Nível Médio em Refrigeração e Climatização] (0.000403)\n",
      "128. feature 25 [descricao_companhia_domiciliar_Não informado] (0.000359)\n",
      "129. feature 46 [descricao_historico_Técnico de Nível Médio em Eletromecânica] (0.000311)\n",
      "130. feature 37 [descricao_historico_Técnico de Nivel Médio em Equipamentos Biomédicos] (0.000264)\n",
      "131. feature 105 [descricao_responsavel_escolaridade_Não conhece] (0.000235)\n",
      "132. feature 54 [descricao_historico_Técnico de Nível Médio em Logística] (0.000217)\n",
      "133. feature 36 [descricao_historico_Técnico de Nivel Médio em Biocombustíveis] (0.000206)\n",
      "134. feature 116 [descricao_responsavel_financeiro_Parentes] (0.000164)\n",
      "135. feature 80 [descricao_mae_escolaridade_Não conhece] (0.000142)\n",
      "136. feature 125 [descricao_trabalho_Pescador] (0.000096)\n",
      "137. feature 127 [descricao_trabalho_Trabalha com vínculo empregatício] (0.000080)\n",
      "138. feature 108 [descricao_responsavel_escolaridade_Pós graduação incompleto] (0.000065)\n",
      "139. feature 40 [descricao_historico_Técnico de Nível Médio em Agroecologia] (0.000049)\n",
      "140. feature 95 [descricao_raca_Indígena] (0.000029)\n",
      "141. feature 112 [descricao_responsavel_financeiro_Não informado] (0.000028)\n",
      "142. feature 83 [descricao_mae_escolaridade_Pós graduação incompleto] (0.000026)\n",
      "143. feature 34 [descricao_estado_civil_União Estável] (0.000025)\n",
      "144. feature 32 [descricao_estado_civil_Não declarado] (0.000010)\n",
      "145. feature 93 [descricao_pai_escolaridade_Pós graduação incompleto] (0.000009)\n",
      "146. feature 30 [descricao_companhia_domiciliar_Sozinho(a)] (0.000001)\n",
      "147. feature 20 [descricao_area_residencial_Comunidade Quilombola] (0.000000)\n",
      "148. feature 8 [artificial] (0.000000)\n",
      "149. feature 72 [descricao_imovel_Pensionato ou Alojamento] (0.000000)\n"
     ]
    },
    {
     "data": {
      "image/png": "[encoded data removed]",
      "text/plain": [
       "<matplotlib.figure.Figure at 0x7f17d9509c18>"
      ]
     },
     "metadata": {},
     "output_type": "display_data"
    }
   ],
   "source": [
    "#avaliacao do modelo\n",
    "evaluating(model_forest, ytest, ypred_forest, X, y, Xtest)"
   ]
  },
  {
   "cell_type": "markdown",
   "metadata": {},
   "source": [
    "# Modelo 04: removendo atributos com correlação"
   ]
  },
  {
   "cell_type": "code",
   "execution_count": 48,
   "metadata": {},
   "outputs": [
    {
     "name": "stdout",
     "output_type": "stream",
     "text": [
      "Best Columns \n",
      "------------\n",
      "['LnguaPortuguesaeLiteraturaI90H', 'LnguaPortuguesaeLiteraturaI90H_dependencia', 'LnguaPortuguesaeLiteraturaI90H_freq', 'MatemticaI120H', 'MatemticaI120H_dependencia', 'MatemticaI120H_freq', 'acompanhamento', 'idade', 'possui_necessidade_especial', 'qnt_pc', 'qnt_salarios', 'qtd_pessoas_domicilio', 'tempo_entre_conclusao_ingresso', 'conceito_I', 'conceito_R', 'conceito_freq_R', 'descricao_area_residencial_Urbana', 'descricao_companhia_domiciliar_Mãe', 'descricao_companhia_domiciliar_Pais', 'descricao_historico_Técnico de Nivel Médio em Informática', 'descricao_historico_Técnico de Nível Médio em Recursos Pesqueiros', 'descricao_historico_Técnico em Programação de Jogos Digitais', 'descricao_imovel_Próprio', 'descricao_mae_escolaridade_Ensino fundamental incompleto', 'descricao_mae_escolaridade_Ensino médio completo', 'descricao_pai_escolaridade_Ensino fundamental incompleto', 'descricao_raca_Branca', 'descricao_raca_Parda', 'descricao_responsavel_escolaridade_Ensino fundamental incompleto', 'descricao_responsavel_escolaridade_Ensino médio completo', 'descricao_responsavel_financeiro_Mãe', 'descricao_responsavel_financeiro_Pai', 'descricao_trabalho_Nunca trabalhou', 'pessoa_fisica__sexo_M', 'sigla_CA', 'sigla_CNAT', 'sigla_MC']\n",
      "\n"
     ]
    }
   ],
   "source": [
    "from sklearn.feature_selection import RFECV\n",
    "\n",
    "#O X foi definido no Modelo 03\n",
    "\n",
    "selector = RFECV(model_forest, cv=10, n_jobs=-1)\n",
    "selector.fit(X, y)\n",
    "\n",
    "best_columns = list(X.columns[selector.support_])\n",
    "print(\"Best Columns \\n\"+\"-\"*12+\"\\n{}\\n\".format(best_columns))"
   ]
  },
  {
   "cell_type": "code",
   "execution_count": 53,
   "metadata": {},
   "outputs": [
    {
     "name": "stdout",
     "output_type": "stream",
     "text": [
      "(6124, 149)\n"
     ]
    },
    {
     "data": {
      "text/plain": [
       "37"
      ]
     },
     "execution_count": 53,
     "metadata": {},
     "output_type": "execute_result"
    }
   ],
   "source": [
    "atributos = ['LnguaPortuguesaeLiteraturaI90H', \n",
    "             'LnguaPortuguesaeLiteraturaI90H_dependencia', \n",
    "             'LnguaPortuguesaeLiteraturaI90H_freq', \n",
    "             'MatemticaI120H', \n",
    "             'MatemticaI120H_dependencia', \n",
    "             'MatemticaI120H_freq', \n",
    "             'acompanhamento', \n",
    "             'idade', \n",
    "             'possui_necessidade_especial', \n",
    "             'qnt_pc', \n",
    "             'qnt_salarios', \n",
    "             'qtd_pessoas_domicilio', \n",
    "             'tempo_entre_conclusao_ingresso', \n",
    "             'conceito_I', \n",
    "             'conceito_R', \n",
    "             'conceito_freq_R', \n",
    "             'descricao_area_residencial_Urbana', \n",
    "             'descricao_companhia_domiciliar_Mãe', \n",
    "             'descricao_companhia_domiciliar_Pais', \n",
    "             'descricao_historico_Técnico de Nivel Médio em Informática', \n",
    "             'descricao_historico_Técnico de Nível Médio em Recursos Pesqueiros', \n",
    "             'descricao_historico_Técnico em Programação de Jogos Digitais', \n",
    "             'descricao_imovel_Próprio', \n",
    "             'descricao_mae_escolaridade_Ensino fundamental incompleto', \n",
    "             'descricao_mae_escolaridade_Ensino médio completo', \n",
    "             'descricao_pai_escolaridade_Ensino fundamental incompleto',\n",
    "             'descricao_raca_Branca', \n",
    "             'descricao_raca_Parda', \n",
    "             'descricao_responsavel_escolaridade_Ensino fundamental incompleto', \n",
    "             'descricao_responsavel_escolaridade_Ensino médio completo', \n",
    "             'descricao_responsavel_financeiro_Mãe', \n",
    "             'descricao_responsavel_financeiro_Pai', \n",
    "             'descricao_trabalho_Nunca trabalhou', \n",
    "             'pessoa_fisica__sexo_M', \n",
    "             'sigla_CA', \n",
    "             'sigla_CNAT', \n",
    "             'sigla_MC']\n",
    "\n",
    "print(X.shape)\n",
    "len(atributos)"
   ]
  },
  {
   "cell_type": "code",
   "execution_count": 75,
   "metadata": {
    "collapsed": true
   },
   "outputs": [],
   "source": [
    "X = X[atributos]\n",
    "#dividir os dados para treino e teste. default é 25% p teste\n",
    "Xtrain, Xtest, ytrain, ytest = train_test_split(X, y, random_state=0, stratify = y)"
   ]
  },
  {
   "cell_type": "code",
   "execution_count": 76,
   "metadata": {},
   "outputs": [
    {
     "name": "stdout",
     "output_type": "stream",
     "text": [
      "{'class_weight': {0: 0.7, 1: 0.3}, 'criterion': 'entropy', 'max_depth': None, 'max_features': 'sqrt', 'n_estimators': 30}\n",
      "RandomForestClassifier(bootstrap=True, class_weight={0: 0.7, 1: 0.3},\n",
      "            criterion='entropy', max_depth=None, max_features='sqrt',\n",
      "            max_leaf_nodes=None, min_impurity_decrease=0.0,\n",
      "            min_impurity_split=None, min_samples_leaf=1,\n",
      "            min_samples_split=2, min_weight_fraction_leaf=0.0,\n",
      "            n_estimators=30, n_jobs=-1, oob_score=False, random_state=None,\n",
      "            verbose=0, warm_start=False)\n",
      "Model with rank: 1\n",
      "Mean validation score: 0.961 (std: 0.001)\n",
      "Parameters: {'class_weight': {0: 0.7, 1: 0.3}, 'criterion': 'entropy', 'max_depth': None, 'max_features': 'sqrt', 'n_estimators': 30}\n",
      "\n",
      "Model with rank: 2\n",
      "Mean validation score: 0.961 (std: 0.001)\n",
      "Parameters: {'class_weight': {0: 0.5, 1: 0.5}, 'criterion': 'entropy', 'max_depth': None, 'max_features': 'sqrt', 'n_estimators': 100}\n",
      "\n",
      "Model with rank: 3\n",
      "Mean validation score: 0.961 (std: 0.002)\n",
      "Parameters: {'class_weight': {0: 0.5, 1: 0.5}, 'criterion': 'entropy', 'max_depth': None, 'max_features': 'sqrt', 'n_estimators': 60}\n",
      "\n",
      "Model with rank: 3\n",
      "Mean validation score: 0.961 (std: 0.001)\n",
      "Parameters: {'class_weight': {0: 0.7, 1: 0.3}, 'criterion': 'gini', 'max_depth': None, 'max_features': 'auto', 'n_estimators': 60}\n",
      "\n",
      "Model with rank: 3\n",
      "Mean validation score: 0.961 (std: 0.001)\n",
      "Parameters: {'class_weight': {0: 0.7, 1: 0.3}, 'criterion': 'entropy', 'max_depth': None, 'max_features': 'auto', 'n_estimators': 200}\n",
      "\n"
     ]
    }
   ],
   "source": [
    "#seleciona o melhor modelo\n",
    "model_forest = make_RF(Xtrain, ytrain)\n",
    "ypred_forest = model_forest.predict(Xtest)"
   ]
  },
  {
   "cell_type": "markdown",
   "metadata": {},
   "source": [
    "# COLOCAR O GRIDSEARCH EM FAVOR DO FP "
   ]
  },
  {
   "cell_type": "code",
   "execution_count": 77,
   "metadata": {},
   "outputs": [
    {
     "name": "stderr",
     "output_type": "stream",
     "text": [
      "/home/ubuntu/anaconda3/lib/python3.6/site-packages/matplotlib/font_manager.py:1297: UserWarning: findfont: Font family ['sans-serif'] not found. Falling back to DejaVu Sans\n",
      "  (prop.get_family(), self.defaultFamily[fontext]))\n"
     ]
    },
    {
     "name": "stdout",
     "output_type": "stream",
     "text": [
      "Valor de falso positivo:0.6385542168674698\n",
      "0.9644533869885983\n",
      "0.9930939226519337\n",
      "0.9644533869885983\n",
      "0.9930939226519337\n",
      "0.9785641374617217\n",
      "83\n",
      "Precisao\n",
      "[0.95602606 0.95765472 0.95915033 0.9624183  0.9624183  0.96732026\n",
      " 0.96568627 0.97222222 0.95261438 0.9624183 ]\n",
      "0.9617929147772027\n"
     ]
    },
    {
     "name": "stderr",
     "output_type": "stream",
     "text": [
      "/home/ubuntu/anaconda3/lib/python3.6/site-packages/matplotlib/font_manager.py:1297: UserWarning: findfont: Font family ['sans-serif'] not found. Falling back to DejaVu Sans\n",
      "  (prop.get_family(), self.defaultFamily[fontext]))\n"
     ]
    },
    {
     "data": {
      "image/png": "[encoded data removed]",
      "text/plain": [
       "<matplotlib.figure.Figure at 0x7f17e6b264a8>"
      ]
     },
     "metadata": {},
     "output_type": "display_data"
    },
    {
     "data": {
      "image/png": "[encoded data removed]",
      "text/plain": [
       "<matplotlib.figure.Figure at 0x7f17e63558d0>"
      ]
     },
     "metadata": {},
     "output_type": "display_data"
    },
    {
     "name": "stdout",
     "output_type": "stream",
     "text": [
      "0.9154421553617786\n",
      "Feature ranking:\n",
      "1. feature 3 [MatemticaI120H] (0.182743)\n",
      "2. feature 0 [LnguaPortuguesaeLiteraturaI90H] (0.139885)\n",
      "3. feature 14 [conceito_R] (0.095957)\n",
      "4. feature 13 [conceito_I] (0.073079)\n",
      "5. feature 5 [MatemticaI120H_freq] (0.054535)\n",
      "6. feature 2 [LnguaPortuguesaeLiteraturaI90H_freq] (0.045531)\n",
      "7. feature 7 [idade] (0.030626)\n",
      "8. feature 9 [qnt_pc] (0.028619)\n",
      "9. feature 11 [qtd_pessoas_domicilio] (0.023666)\n",
      "10. feature 12 [tempo_entre_conclusao_ingresso] (0.023635)\n",
      "11. feature 10 [qnt_salarios] (0.020814)\n",
      "12. feature 15 [conceito_freq_R] (0.017680)\n",
      "13. feature 36 [sigla_MC] (0.016949)\n",
      "14. feature 1 [LnguaPortuguesaeLiteraturaI90H_dependencia] (0.015802)\n",
      "15. feature 6 [acompanhamento] (0.015144)\n",
      "16. feature 34 [sigla_CA] (0.014215)\n",
      "17. feature 4 [MatemticaI120H_dependencia] (0.013197)\n",
      "18. feature 35 [sigla_CNAT] (0.012452)\n",
      "19. feature 20 [descricao_historico_Técnico de Nível Médio em Recursos Pesqueiros] (0.011839)\n",
      "20. feature 8 [possui_necessidade_especial] (0.011531)\n",
      "21. feature 26 [descricao_raca_Branca] (0.010978)\n",
      "22. feature 25 [descricao_pai_escolaridade_Ensino fundamental incompleto] (0.010577)\n",
      "23. feature 33 [pessoa_fisica__sexo_M] (0.010541)\n",
      "24. feature 21 [descricao_historico_Técnico em Programação de Jogos Digitais] (0.010534)\n",
      "25. feature 32 [descricao_trabalho_Nunca trabalhou] (0.009824)\n",
      "26. feature 30 [descricao_responsavel_financeiro_Mãe] (0.009180)\n",
      "27. feature 22 [descricao_imovel_Próprio] (0.009074)\n",
      "28. feature 16 [descricao_area_residencial_Urbana] (0.008948)\n",
      "29. feature 24 [descricao_mae_escolaridade_Ensino médio completo] (0.008859)\n",
      "30. feature 19 [descricao_historico_Técnico de Nivel Médio em Informática] (0.008792)\n",
      "31. feature 18 [descricao_companhia_domiciliar_Pais] (0.008718)\n",
      "32. feature 17 [descricao_companhia_domiciliar_Mãe] (0.008562)\n",
      "33. feature 27 [descricao_raca_Parda] (0.008348)\n",
      "34. feature 31 [descricao_responsavel_financeiro_Pai] (0.007798)\n",
      "35. feature 23 [descricao_mae_escolaridade_Ensino fundamental incompleto] (0.007675)\n",
      "36. feature 29 [descricao_responsavel_escolaridade_Ensino médio completo] (0.007245)\n",
      "37. feature 28 [descricao_responsavel_escolaridade_Ensino fundamental incompleto] (0.006445)\n"
     ]
    },
    {
     "data": {
      "image/png": "[encoded data removed]",
      "text/plain": [
       "<matplotlib.figure.Figure at 0x7f17e6a9a8d0>"
      ]
     },
     "metadata": {},
     "output_type": "display_data"
    }
   ],
   "source": [
    "#avaliacao do modelo\n",
    "evaluating(model_forest, ytest, ypred_forest, X, y, Xtest)"
   ]
  },
  {
   "cell_type": "markdown",
   "metadata": {},
   "source": [
    "# Modelo 05: comparandos várias ML"
   ]
  },
  {
   "cell_type": "code",
   "execution_count": 73,
   "metadata": {},
   "outputs": [
    {
     "name": "stderr",
     "output_type": "stream",
     "text": [
      "/home/ubuntu/anaconda3/lib/python3.6/site-packages/sklearn/linear_model/stochastic_gradient.py:128: FutureWarning: max_iter and tol parameters have been added in <class 'sklearn.linear_model.stochastic_gradient.SGDClassifier'> in 0.19. If both are left unset, they default to max_iter=5 and tol=None. If tol is not None, max_iter defaults to max_iter=1000. From 0.21, default max_iter will be 1000, and default tol will be 1e-3.\n",
      "  \"and default tol will be 1e-3.\" % type(self), FutureWarning)\n",
      "/home/ubuntu/anaconda3/lib/python3.6/site-packages/sklearn/linear_model/stochastic_gradient.py:128: FutureWarning: max_iter and tol parameters have been added in <class 'sklearn.linear_model.stochastic_gradient.SGDClassifier'> in 0.19. If both are left unset, they default to max_iter=5 and tol=None. If tol is not None, max_iter defaults to max_iter=1000. From 0.21, default max_iter will be 1000, and default tol will be 1e-3.\n",
      "  \"and default tol will be 1e-3.\" % type(self), FutureWarning)\n",
      "/home/ubuntu/anaconda3/lib/python3.6/site-packages/sklearn/linear_model/stochastic_gradient.py:128: FutureWarning: max_iter and tol parameters have been added in <class 'sklearn.linear_model.stochastic_gradient.SGDClassifier'> in 0.19. If both are left unset, they default to max_iter=5 and tol=None. If tol is not None, max_iter defaults to max_iter=1000. From 0.21, default max_iter will be 1000, and default tol will be 1e-3.\n",
      "  \"and default tol will be 1e-3.\" % type(self), FutureWarning)\n",
      "/home/ubuntu/anaconda3/lib/python3.6/site-packages/sklearn/linear_model/stochastic_gradient.py:128: FutureWarning: max_iter and tol parameters have been added in <class 'sklearn.linear_model.stochastic_gradient.SGDClassifier'> in 0.19. If both are left unset, they default to max_iter=5 and tol=None. If tol is not None, max_iter defaults to max_iter=1000. From 0.21, default max_iter will be 1000, and default tol will be 1e-3.\n",
      "  \"and default tol will be 1e-3.\" % type(self), FutureWarning)\n",
      "/home/ubuntu/anaconda3/lib/python3.6/site-packages/sklearn/linear_model/stochastic_gradient.py:128: FutureWarning: max_iter and tol parameters have been added in <class 'sklearn.linear_model.stochastic_gradient.SGDClassifier'> in 0.19. If both are left unset, they default to max_iter=5 and tol=None. If tol is not None, max_iter defaults to max_iter=1000. From 0.21, default max_iter will be 1000, and default tol will be 1e-3.\n",
      "  \"and default tol will be 1e-3.\" % type(self), FutureWarning)\n",
      "/home/ubuntu/anaconda3/lib/python3.6/site-packages/sklearn/linear_model/stochastic_gradient.py:128: FutureWarning: max_iter and tol parameters have been added in <class 'sklearn.linear_model.stochastic_gradient.SGDClassifier'> in 0.19. If both are left unset, they default to max_iter=5 and tol=None. If tol is not None, max_iter defaults to max_iter=1000. From 0.21, default max_iter will be 1000, and default tol will be 1e-3.\n",
      "  \"and default tol will be 1e-3.\" % type(self), FutureWarning)\n",
      "/home/ubuntu/anaconda3/lib/python3.6/site-packages/sklearn/linear_model/stochastic_gradient.py:128: FutureWarning: max_iter and tol parameters have been added in <class 'sklearn.linear_model.stochastic_gradient.SGDClassifier'> in 0.19. If both are left unset, they default to max_iter=5 and tol=None. If tol is not None, max_iter defaults to max_iter=1000. From 0.21, default max_iter will be 1000, and default tol will be 1e-3.\n",
      "  \"and default tol will be 1e-3.\" % type(self), FutureWarning)\n",
      "/home/ubuntu/anaconda3/lib/python3.6/site-packages/sklearn/linear_model/stochastic_gradient.py:128: FutureWarning: max_iter and tol parameters have been added in <class 'sklearn.linear_model.stochastic_gradient.SGDClassifier'> in 0.19. If both are left unset, they default to max_iter=5 and tol=None. If tol is not None, max_iter defaults to max_iter=1000. From 0.21, default max_iter will be 1000, and default tol will be 1e-3.\n",
      "  \"and default tol will be 1e-3.\" % type(self), FutureWarning)\n",
      "/home/ubuntu/anaconda3/lib/python3.6/site-packages/sklearn/linear_model/stochastic_gradient.py:128: FutureWarning: max_iter and tol parameters have been added in <class 'sklearn.linear_model.stochastic_gradient.SGDClassifier'> in 0.19. If both are left unset, they default to max_iter=5 and tol=None. If tol is not None, max_iter defaults to max_iter=1000. From 0.21, default max_iter will be 1000, and default tol will be 1e-3.\n",
      "  \"and default tol will be 1e-3.\" % type(self), FutureWarning)\n",
      "/home/ubuntu/anaconda3/lib/python3.6/site-packages/sklearn/linear_model/stochastic_gradient.py:128: FutureWarning: max_iter and tol parameters have been added in <class 'sklearn.linear_model.stochastic_gradient.SGDClassifier'> in 0.19. If both are left unset, they default to max_iter=5 and tol=None. If tol is not None, max_iter defaults to max_iter=1000. From 0.21, default max_iter will be 1000, and default tol will be 1e-3.\n",
      "  \"and default tol will be 1e-3.\" % type(self), FutureWarning)\n"
     ]
    },
    {
     "name": "stdout",
     "output_type": "stream",
     "text": [
      "SGD: 0.942362 (0.011911)\n",
      "Valor de falso positivo:0.6385542168674698\n",
      "0.963773069036227\n",
      "0.9737569060773481\n",
      "0.963773069036227\n",
      "0.9737569060773481\n",
      "0.9687392648574373\n",
      "Precisao\n"
     ]
    },
    {
     "name": "stderr",
     "output_type": "stream",
     "text": [
      "/home/ubuntu/anaconda3/lib/python3.6/site-packages/matplotlib/font_manager.py:1297: UserWarning: findfont: Font family ['sans-serif'] not found. Falling back to DejaVu Sans\n",
      "  (prop.get_family(), self.defaultFamily[fontext]))\n",
      "/home/ubuntu/anaconda3/lib/python3.6/site-packages/sklearn/linear_model/stochastic_gradient.py:128: FutureWarning: max_iter and tol parameters have been added in <class 'sklearn.linear_model.stochastic_gradient.SGDClassifier'> in 0.19. If both are left unset, they default to max_iter=5 and tol=None. If tol is not None, max_iter defaults to max_iter=1000. From 0.21, default max_iter will be 1000, and default tol will be 1e-3.\n",
      "  \"and default tol will be 1e-3.\" % type(self), FutureWarning)\n",
      "/home/ubuntu/anaconda3/lib/python3.6/site-packages/sklearn/linear_model/stochastic_gradient.py:128: FutureWarning: max_iter and tol parameters have been added in <class 'sklearn.linear_model.stochastic_gradient.SGDClassifier'> in 0.19. If both are left unset, they default to max_iter=5 and tol=None. If tol is not None, max_iter defaults to max_iter=1000. From 0.21, default max_iter will be 1000, and default tol will be 1e-3.\n",
      "  \"and default tol will be 1e-3.\" % type(self), FutureWarning)\n",
      "/home/ubuntu/anaconda3/lib/python3.6/site-packages/sklearn/linear_model/stochastic_gradient.py:128: FutureWarning: max_iter and tol parameters have been added in <class 'sklearn.linear_model.stochastic_gradient.SGDClassifier'> in 0.19. If both are left unset, they default to max_iter=5 and tol=None. If tol is not None, max_iter defaults to max_iter=1000. From 0.21, default max_iter will be 1000, and default tol will be 1e-3.\n",
      "  \"and default tol will be 1e-3.\" % type(self), FutureWarning)\n",
      "/home/ubuntu/anaconda3/lib/python3.6/site-packages/sklearn/linear_model/stochastic_gradient.py:128: FutureWarning: max_iter and tol parameters have been added in <class 'sklearn.linear_model.stochastic_gradient.SGDClassifier'> in 0.19. If both are left unset, they default to max_iter=5 and tol=None. If tol is not None, max_iter defaults to max_iter=1000. From 0.21, default max_iter will be 1000, and default tol will be 1e-3.\n",
      "  \"and default tol will be 1e-3.\" % type(self), FutureWarning)\n",
      "/home/ubuntu/anaconda3/lib/python3.6/site-packages/sklearn/linear_model/stochastic_gradient.py:128: FutureWarning: max_iter and tol parameters have been added in <class 'sklearn.linear_model.stochastic_gradient.SGDClassifier'> in 0.19. If both are left unset, they default to max_iter=5 and tol=None. If tol is not None, max_iter defaults to max_iter=1000. From 0.21, default max_iter will be 1000, and default tol will be 1e-3.\n",
      "  \"and default tol will be 1e-3.\" % type(self), FutureWarning)\n",
      "/home/ubuntu/anaconda3/lib/python3.6/site-packages/sklearn/linear_model/stochastic_gradient.py:128: FutureWarning: max_iter and tol parameters have been added in <class 'sklearn.linear_model.stochastic_gradient.SGDClassifier'> in 0.19. If both are left unset, they default to max_iter=5 and tol=None. If tol is not None, max_iter defaults to max_iter=1000. From 0.21, default max_iter will be 1000, and default tol will be 1e-3.\n",
      "  \"and default tol will be 1e-3.\" % type(self), FutureWarning)\n",
      "/home/ubuntu/anaconda3/lib/python3.6/site-packages/sklearn/linear_model/stochastic_gradient.py:128: FutureWarning: max_iter and tol parameters have been added in <class 'sklearn.linear_model.stochastic_gradient.SGDClassifier'> in 0.19. If both are left unset, they default to max_iter=5 and tol=None. If tol is not None, max_iter defaults to max_iter=1000. From 0.21, default max_iter will be 1000, and default tol will be 1e-3.\n",
      "  \"and default tol will be 1e-3.\" % type(self), FutureWarning)\n",
      "/home/ubuntu/anaconda3/lib/python3.6/site-packages/sklearn/linear_model/stochastic_gradient.py:128: FutureWarning: max_iter and tol parameters have been added in <class 'sklearn.linear_model.stochastic_gradient.SGDClassifier'> in 0.19. If both are left unset, they default to max_iter=5 and tol=None. If tol is not None, max_iter defaults to max_iter=1000. From 0.21, default max_iter will be 1000, and default tol will be 1e-3.\n",
      "  \"and default tol will be 1e-3.\" % type(self), FutureWarning)\n",
      "/home/ubuntu/anaconda3/lib/python3.6/site-packages/sklearn/linear_model/stochastic_gradient.py:128: FutureWarning: max_iter and tol parameters have been added in <class 'sklearn.linear_model.stochastic_gradient.SGDClassifier'> in 0.19. If both are left unset, they default to max_iter=5 and tol=None. If tol is not None, max_iter defaults to max_iter=1000. From 0.21, default max_iter will be 1000, and default tol will be 1e-3.\n",
      "  \"and default tol will be 1e-3.\" % type(self), FutureWarning)\n"
     ]
    },
    {
     "name": "stdout",
     "output_type": "stream",
     "text": [
      "[0.05537459 0.80944625 0.94444444 0.9248366  0.95261438 0.94607843\n",
      " 0.94444444 0.94934641 0.94281046 0.94934641]\n",
      "0.8418742415532989\n"
     ]
    },
    {
     "name": "stderr",
     "output_type": "stream",
     "text": [
      "/home/ubuntu/anaconda3/lib/python3.6/site-packages/sklearn/linear_model/stochastic_gradient.py:128: FutureWarning: max_iter and tol parameters have been added in <class 'sklearn.linear_model.stochastic_gradient.SGDClassifier'> in 0.19. If both are left unset, they default to max_iter=5 and tol=None. If tol is not None, max_iter defaults to max_iter=1000. From 0.21, default max_iter will be 1000, and default tol will be 1e-3.\n",
      "  \"and default tol will be 1e-3.\" % type(self), FutureWarning)\n",
      "/home/ubuntu/anaconda3/lib/python3.6/site-packages/matplotlib/font_manager.py:1297: UserWarning: findfont: Font family ['sans-serif'] not found. Falling back to DejaVu Sans\n",
      "  (prop.get_family(), self.defaultFamily[fontext]))\n"
     ]
    },
    {
     "data": {
      "image/png": "[encoded data removed]",
      "text/plain": [
       "<matplotlib.figure.Figure at 0x7f17e636b240>"
      ]
     },
     "metadata": {},
     "output_type": "display_data"
    },
    {
     "data": {
      "image/png": "[encoded data removed]",
      "text/plain": [
       "<matplotlib.figure.Figure at 0x7f17d95348d0>"
      ]
     },
     "metadata": {},
     "output_type": "display_data"
    }
   ],
   "source": [
    "import matplotlib.pyplot as plt\n",
    "from sklearn import model_selection\n",
    "from sklearn.linear_model import LogisticRegression\n",
    "from sklearn.tree import DecisionTreeClassifier\n",
    "from sklearn.neighbors import KNeighborsClassifier\n",
    "from sklearn.discriminant_analysis import LinearDiscriminantAnalysis\n",
    "from sklearn.naive_bayes import GaussianNB\n",
    "from sklearn.svm import SVC\n",
    "\n",
    "from sklearn.linear_model import SGDClassifier\n",
    "\n",
    "models = []\n",
    "#models.append(('LR', LogisticRegression()))\n",
    "#models.append(('LDA', LinearDiscriminantAnalysis()))\n",
    "#models.append(('KNN', KNeighborsClassifier()))\n",
    "#models.append(('CART', DecisionTreeClassifier()))\n",
    "#models.append(('NB', GaussianNB()))\n",
    "#models.append(('SVM', SVC()))\n",
    "\n",
    "models.append(('SGD', SGDClassifier(random_state=42)))\n",
    "#{1:.9, 2:.5, 3:.01}\n",
    "\n",
    "#models.append(('RF', RandomForestClassifier(bootstrap=True, class_weight=None, criterion='entropy',\n",
    "#            max_depth=None, max_features='auto', max_leaf_nodes=None,\n",
    "#            min_impurity_decrease=0.0, min_impurity_split=None,\n",
    "#            min_samples_leaf=1, min_samples_split=2,\n",
    "#            min_weight_fraction_leaf=0.0, n_estimators=100, n_jobs=-1,\n",
    "#            oob_score=False, random_state=None, verbose=0,\n",
    "#            warm_start=False) ))\n",
    "\n",
    "# evaluate each model in turn\n",
    "results = []\n",
    "names = []\n",
    "scoring = 'accuracy'\n",
    "for name, model in models:\n",
    "    kfold = model_selection.KFold(n_splits=10, random_state=0)\n",
    "    cv_results = model_selection.cross_val_score(model, X, y, cv=kfold, scoring=scoring)\n",
    "    results.append(cv_results)\n",
    "    names.append(name)\n",
    "    msg = \"%s: %f (%f)\" % (name, cv_results.mean(), cv_results.std())\n",
    "    print(msg)\n",
    "    \n",
    "    model.fit(Xtrain, ytrain)\n",
    "    ypred = model.predict(Xtest)\n",
    "    evaluating_2(model, ytest, ypred, X, y, Xtest)\n",
    "    \n",
    "# boxplot algorithm comparison\n",
    "fig = plt.figure()\n",
    "fig.suptitle('Algorithm Comparison')\n",
    "ax = fig.add_subplot(111)\n",
    "plt.boxplot(results)\n",
    "ax.set_xticklabels(names)\n",
    "plt.show()"
   ]
  },
  {
   "cell_type": "markdown",
   "metadata": {},
   "source": [
    "# Comparando os modelos"
   ]
  },
  {
   "cell_type": "code",
   "execution_count": null,
   "metadata": {
    "collapsed": true
   },
   "outputs": [],
   "source": [
    "modelos_fp = [0.6330935251798561, 0.7266187050359713, 0.6385542168674698, 0.6385542168674698]"
   ]
  }
 ],
 "metadata": {
  "kernelspec": {
   "display_name": "Python 3",
   "language": "python",
   "name": "python3"
  },
  "language_info": {
   "codemirror_mode": {
    "name": "ipython",
    "version": 3
   },
   "file_extension": ".py",
   "mimetype": "text/x-python",
   "name": "python",
   "nbconvert_exporter": "python",
   "pygments_lexer": "ipython3",
   "version": "3.6.1"
  }
 },
 "nbformat": 4,
 "nbformat_minor": 2
}
